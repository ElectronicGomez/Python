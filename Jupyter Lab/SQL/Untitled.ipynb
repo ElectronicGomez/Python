{
 "cells": [
  {
   "cell_type": "code",
   "execution_count": 10,
   "metadata": {},
   "outputs": [],
   "source": [
    "\n",
    "#se crea una conexion (Archivo db será la base de datos)\n",
    "conn = sqlite3.connect(\"database2.db\")\n",
    "personas = [(\"Elsa Payo\", 54, 1.65),\n",
    "            (\"Armando Paredes\", 88, 1.75),\n",
    "            (\"Susana Oria\", 48, 1.60),\n",
    "            (\"Esbteban Dido\", 110, 1.68)]\n",
    "\n",
    "#Se crea un cursor sobre la conexion\n",
    "cur = conn.cursor()\n",
    "try:\n",
    "    cur.execute(\"DROP TABLE pacientes\")\n",
    "    conn.commit()\n",
    "except:\n",
    "    pass\n",
    "#Ejecutar una sentencia SQL\n",
    "\n",
    "sql = \"\"\"CREATE TABLE IF NOT EXISTS pacientes\n",
    "                    (id INTEGER NOT NULL PRIMARY KEY,\n",
    "                     nombre TEXT NOT NULL,\n",
    "                     peso INTEGER NOT NULL,\n",
    "                     altura REAL NOT NULL)\"\"\" \n",
    "cur.execute(sql)\n",
    "conn.commit()\n",
    "sql = \"\"\"INSERT INTO pacientes \n",
    "                (nombre, \n",
    "                 peso,\n",
    "                 altura)\n",
    "         VALUES\n",
    "                (?, ?, ?)\"\"\"\n",
    "cur.execute(sql, (\"Elvio Lado\", 80, 1.72))\n",
    "#Se confirma la accion\n",
    "conn.commit()\n",
    "\n",
    "sql = \"\"\"INSERT INTO pacientes \n",
    "                (nombre, \n",
    "                 peso,\n",
    "                 altura)\n",
    "         VALUES\n",
    "                (?, ?, ?)\"\"\"\n",
    "cur.executemany(sql, personas)\n",
    "conn.commit()\n",
    "\n",
    "#Se cierra la conexioncon la db\n",
    "conn.close()\n",
    "\n"
   ]
  },
  {
   "cell_type": "code",
   "execution_count": 20,
   "metadata": {},
   "outputs": [
    {
     "name": "stdout",
     "output_type": "stream",
     "text": [
      "(1, 'Elvio Lado', 80, 1.72)\n",
      "(2, 'Elsa Payo', 54, 1.65)\n",
      "(3, 'Armando Paredes', 88, 1.75)\n",
      "(4, 'Susana Oria', 48, 1.6)\n"
     ]
    }
   ],
   "source": [
    "#%%\n",
    "import sqlite3\n",
    "\n",
    "conn = sqlite3.connect(\"database2.db\")\n",
    "cur = conn.cursor()\n",
    "\n",
    "sql = \"DELETE FROM pacientes WHERE id = ?\"\n",
    "cur.execute(sql, (5,))\n",
    "conn.commit()\n",
    "\n",
    "sql = \"\"\"SELECT * FROM pacientes\"\"\"\n",
    "cur.execute(sql)\n",
    "for data in cur:\n",
    "    print(data)\n",
    "conn.close()"
   ]
  },
  {
   "cell_type": "code",
   "execution_count": 23,
   "metadata": {},
   "outputs": [
    {
     "name": "stdout",
     "output_type": "stream",
     "text": [
      "ERROR: El 'id' ya existe. No se registralos cambios\n"
     ]
    }
   ],
   "source": [
    "#%%\n",
    "try:\n",
    "    conn = sqlite3.connect(\"database.db\")\n",
    "    cur = conn.cursor()\n",
    "    \n",
    "    sql = \"\"\"INSERT INTO pacientes (id, nombre, peso, altura)\n",
    "            VALUES (?, ?, ?, ?)\"\"\"\n",
    "    cur.execute(sql, (4,\"Dina Mita\", 90, 1.56))\n",
    "    conn.commit()\n",
    "except:\n",
    "    conn.rollback() #Retroceder, volver para atrás\n",
    "    print(\"ERROR: El 'id' ya existe. No se registralos cambios\")\n",
    "\n",
    "finally:\n",
    "    conn.close()\n",
    "    "
   ]
  },
  {
   "cell_type": "code",
   "execution_count": 24,
   "metadata": {},
   "outputs": [],
   "source": [
    "#%%\n",
    "conn = sqlite3.connect(\"database.db\")\n",
    "\n",
    "with conn: #Auto commit\n",
    "    cur = conn.cursor()\n",
    "    \n",
    "    \n",
    "conn.close()"
   ]
  },
  {
   "cell_type": "code",
   "execution_count": 48,
   "metadata": {},
   "outputs": [],
   "source": [
    "#%%\n",
    "class Database:\n",
    "    def __init__(self, datafile):\n",
    "        self.conn = sqlite3.connect(datafile)\n",
    "        self.cur = self.conn.cursor()\n",
    "        \n",
    "    def __dele__(self):\n",
    "        self.conn.close()\n",
    "        \n",
    "    def lista_pacientes(self):\n",
    "        sql = \"SELECT nombre FROM pacientes ORDER BY nombre\"\n",
    "#         return self.cur.execute(sql).fetchall()\n",
    "        self.cur.execute(sql)\n",
    "        return [item[0] for item in self.cur]\n",
    "            \n",
    "        \n",
    "        "
   ]
  },
  {
   "cell_type": "code",
   "execution_count": 50,
   "metadata": {},
   "outputs": [
    {
     "name": "stdout",
     "output_type": "stream",
     "text": [
      "LISTA DE PACIENTES\n",
      "==============\n",
      "\n",
      "1 - Armando Paredes\n",
      "2 - Elsa Payo\n",
      "3 - Elvio Lado\n",
      "4 - Susana Oria\n"
     ]
    }
   ],
   "source": [
    "#\n",
    "db = Database(\"database2.db\")\n",
    "\n",
    "print(\"LISTA DE PACIENTES\")\n",
    "print(\"==============\")\n",
    "print()\n",
    "\n",
    "for idx, info in enumerate(db.lista_pacientes(), start = 1):\n",
    "    print(f\"{idx} - {info}\")\n",
    "#     print(f\"{idx} - {info[0]}\")\n",
    "    \n",
    "\n",
    "del(db)\n",
    "    \n"
   ]
  },
  {
   "cell_type": "code",
   "execution_count": 69,
   "metadata": {},
   "outputs": [],
   "source": [
    "#%%\n",
    "class Database:\n",
    "    def __init__(self, datafile):\n",
    "        self.conn = sqlite3.connect(datafile)\n",
    "        self.cur = self.conn.cursor()\n",
    "        \n",
    "    def __dele__(self):\n",
    "        self.conn.close()\n",
    "        \n",
    "    def lista_pacientes(self, reverse=False):\n",
    "        if reverse:\n",
    "            sql = \"SELECT nombre FROM pacientes ORDER BY nombre DESC\"\n",
    "        else:\n",
    "            sql = \"SELECT nombre FROM pacientes ORDER BY nombre\"\n",
    "            \n",
    "#         return self.cur.execute(sql).fetchall()\n",
    "        self.cur.execute(sql)\n",
    "        return [item[0] for item in self.cur]\n",
    "            \n",
    "        \n",
    "        "
   ]
  },
  {
   "cell_type": "code",
   "execution_count": 70,
   "metadata": {},
   "outputs": [
    {
     "name": "stdout",
     "output_type": "stream",
     "text": [
      "LISTA DE PACIENTES\n",
      "==============\n",
      "\n",
      "1 - Susana Oria\n",
      "2 - Elvio Lado\n",
      "3 - Elsa Payo\n",
      "4 - Armando Paredes\n"
     ]
    }
   ],
   "source": [
    "#\n",
    "db = Database(\"database2.db\")\n",
    "\n",
    "print(\"LISTA DE PACIENTES\")\n",
    "print(\"==============\")\n",
    "print()\n",
    "\n",
    "for idx, info in enumerate(db.lista_pacientes(reverse=True), start = 1):\n",
    "    print(f\"{idx} - {info}\")\n",
    "#     print(f\"{idx} - {info[0]}\")\n",
    "    \n",
    "\n",
    "del(db)\n",
    "    "
   ]
  },
  {
   "cell_type": "code",
   "execution_count": 71,
   "metadata": {},
   "outputs": [],
   "source": [
    "#\n",
    "import tkinter as tk\n",
    "import tkinter.ttk as ttk\n",
    "\n",
    "class App:\n",
    "    def __init__(self, master):\n",
    "        self.master = master\n",
    "        self.db = Database(\"database2.db\")\n",
    "        self.cboNombres = ttk.Combobox(self.master,\n",
    "                                      values = self.db.lista_pacientes(reverse=True))\n",
    "        self.cboNombres.pack()\n",
    "\n",
    "        \n",
    "root = tk.Tk()\n",
    "app = App(root)\n",
    "root.mainloop()\n",
    "\n",
    "\n"
   ]
  }
 ],
 "metadata": {
  "kernelspec": {
   "display_name": "Python 3",
   "language": "python",
   "name": "python3"
  },
  "language_info": {
   "codemirror_mode": {
    "name": "ipython",
    "version": 3
   },
   "file_extension": ".py",
   "mimetype": "text/x-python",
   "name": "python",
   "nbconvert_exporter": "python",
   "pygments_lexer": "ipython3",
   "version": "3.6.8"
  }
 },
 "nbformat": 4,
 "nbformat_minor": 2
}
