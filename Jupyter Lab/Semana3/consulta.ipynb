{
 "cells": [
  {
   "cell_type": "code",
   "execution_count": 3,
   "metadata": {},
   "outputs": [
    {
     "name": "stdout",
     "output_type": "stream",
     "text": [
      "Requirement already satisfied: win10toast in c:\\users\\asus\\anaconda3\\lib\\site-packages (0.9)\n",
      "Requirement already satisfied: pypiwin32 in c:\\users\\asus\\anaconda3\\lib\\site-packages (from win10toast) (223)\n",
      "Requirement already satisfied: setuptools in c:\\users\\asus\\anaconda3\\lib\\site-packages (from win10toast) (41.0.1)\n",
      "Requirement already satisfied: pywin32>=223 in c:\\users\\asus\\anaconda3\\lib\\site-packages (from pypiwin32->win10toast) (223)\n",
      "Note: you may need to restart the kernel to use updated packages.\n"
     ]
    }
   ],
   "source": [
    "pip install win10toast"
   ]
  },
  {
   "cell_type": "code",
   "execution_count": null,
   "metadata": {},
   "outputs": [],
   "source": [
    "from win10toast import ToastNotifier\n",
    "import requests\n",
    "import time\n",
    "\n",
    "while True:\n",
    "    r = requests.get(\"https://matricula.upc.edu.pe\")\n",
    "\n",
    "    if r.status_code == requests.codes.ok:\n",
    "        break\n",
    "    else:\n",
    "        print(\"matricula.upc.edu.pe No disponible...\")\n",
    "        time.sleep(15)\n",
    "\n",
    "# Envia una notificacion en Windows\n",
    "toaster = ToastNotifier()\n",
    "toaster.show_toast(\"Notificacion\", \"La intranet ya esta disponible\")\n",
    "        "
   ]
  },
  {
   "cell_type": "code",
   "execution_count": null,
   "metadata": {},
   "outputs": [],
   "source": []
  }
 ],
 "metadata": {
  "kernelspec": {
   "display_name": "Python 3",
   "language": "python",
   "name": "python3"
  },
  "language_info": {
   "codemirror_mode": {
    "name": "ipython",
    "version": 3
   },
   "file_extension": ".py",
   "mimetype": "text/x-python",
   "name": "python",
   "nbconvert_exporter": "python",
   "pygments_lexer": "ipython3",
   "version": "3.6.8"
  }
 },
 "nbformat": 4,
 "nbformat_minor": 2
}
