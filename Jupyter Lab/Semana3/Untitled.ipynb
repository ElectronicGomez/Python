{
 "cells": [
  {
   "cell_type": "code",
   "execution_count": 1,
   "metadata": {},
   "outputs": [],
   "source": [
    "import tkinter as tk\n",
    "import tkinter.ttk as ttk"
   ]
  },
  {
   "cell_type": "code",
   "execution_count": null,
   "metadata": {},
   "outputs": [],
   "source": [
    "class App:\n",
    "    def __init__(self, master):\n",
    "        self.master = master\n",
    "root = tk.Tk()\n",
    "app = App(root)\n",
    "root.mainloop()\n"
   ]
  },
  {
   "cell_type": "code",
   "execution_count": null,
   "metadata": {},
   "outputs": [],
   "source": [
    "class Calculadora:\n",
    "    def __init__(self, master):\n",
    "        self.master = master\n",
    "        self.master.title(\"Calculadora\")\n",
    "        self.master.geometry(\"300x400+100+100\")\n",
    "        self.master.resizable(0, 0)\n",
    "#         self.master.iconbitmap('icon_calc.ico')\n",
    "        self.master.config(bg='#0A122A')\n",
    "        \n",
    "        # Status de ingreso del primer numero previo a la operacion\n",
    "        self.first_num = None\n",
    "        # Status del resultado (presionar tecla \"=\")\n",
    "        self.result = False\n",
    "        \n",
    "        self.var_num = tk.StringVar()\n",
    "        self.var_op = None\n",
    "        self.var_num.set('0')\n",
    "        \n",
    "        frm = tk.Frame(self.master, bg='#0A122A')\n",
    "        frm.pack(padx=10, pady=10)\n",
    "        # Widgets en la calculadora\n",
    "        self.entDisplay = tk.Entry(frm, width=15, font='\"Digital-7 Mono\" 20', justify='right',\n",
    "                                   fg='#808080', bg='#ECF6CE', textvariable=self.var_num, bd=3)\n",
    "        \n",
    "    \n",
    "        \n",
    "root = tk.Tk()\n",
    "app = Calculadora(root)\n",
    "root.mainloop()\n"
   ]
  },
  {
   "cell_type": "code",
   "execution_count": null,
   "metadata": {},
   "outputs": [],
   "source": [
    "import tkinter as tk\n",
    "import requests\n",
    "\n",
    "url = \"https://deperu.com/api/rest/cotizaciondolar.json\"\n",
    "r = requests.get(url)\n",
    "data = r.json()\n",
    "tipo_compra = data['Cotizacion'][0]['Compra']\n",
    "print(tipo_compra)"
   ]
  },
  {
   "cell_type": "code",
   "execution_count": null,
   "metadata": {},
   "outputs": [],
   "source": [
    "print(\"hola\")"
   ]
  }
 ],
 "metadata": {
  "kernelspec": {
   "display_name": "Python 3",
   "language": "python",
   "name": "python3"
  },
  "language_info": {
   "codemirror_mode": {
    "name": "ipython",
    "version": 3
   },
   "file_extension": ".py",
   "mimetype": "text/x-python",
   "name": "python",
   "nbconvert_exporter": "python",
   "pygments_lexer": "ipython3",
   "version": "3.6.8"
  }
 },
 "nbformat": 4,
 "nbformat_minor": 2
}
