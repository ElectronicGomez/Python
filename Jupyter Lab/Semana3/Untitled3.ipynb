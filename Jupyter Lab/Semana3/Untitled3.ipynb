{
 "cells": [
  {
   "cell_type": "code",
   "execution_count": 121,
   "metadata": {},
   "outputs": [
    {
     "name": "stdout",
     "output_type": "stream",
     "text": [
      "2\n",
      "6\n"
     ]
    }
   ],
   "source": [
    "#from tkinter import *\n",
    "import tkinter as tk\n",
    "import tkinter.ttk as ttk\n",
    "\n",
    "class Calculadora:\n",
    "    \n",
    "    def __init__(self,master):\n",
    "        self.master = master\n",
    "        self.master.title(\"Calculadora\")\n",
    "        self.master.geometry(\"500x500+300+150\")\n",
    "        self.master.resizable(0,0)\n",
    "        \n",
    "        #FRAMES \n",
    "        frm1 = tk.Frame(self.master)\n",
    "        frm1.pack(padx=5, pady=5)\n",
    "        \n",
    "        #variables\n",
    "        self.var = tk.StringVar()\n",
    "        self.var.set('0')\n",
    "        self.aux = tk.StringVar()\n",
    "        self.aux2 = tk.StringVar()\n",
    "        self.ope = tk.IntVar()\n",
    "        self.comp = False\n",
    "        self.signo = None\n",
    "        \n",
    "        \n",
    "        \n",
    "        \n",
    "        \n",
    "        #Crear los WIDGETS\n",
    "        \n",
    "        self.btn1 = tk.Button(frm1, text=\"1\", width = 8, height = 5, command = lambda: self.imprime('1'))\n",
    "        self.btn2 = tk.Button(frm1, text=\"2\", width = 8, height = 5, command = lambda: self.imprime('2'))\n",
    "        self.btn3 = tk.Button(frm1, text=\"3\", width = 8, height = 5, command = lambda: self.imprime('3'))\n",
    "        self.btn4 = tk.Button(frm1, text=\"4\", width = 8, height = 5, command = lambda: self.imprime('4'))\n",
    "        self.btn5 = tk.Button(frm1, text=\"5\", width = 8, height = 5, command = lambda: self.imprime('5'))\n",
    "        self.btn6 = tk.Button(frm1, text=\"6\", width = 8, height = 5, command = lambda: self.imprime('6'))\n",
    "        self.btn7 = tk.Button(frm1, text=\"7\", width = 8, height = 5, command = lambda: self.imprime('7'))\n",
    "        self.btn8 = tk.Button(frm1, text=\"8\", width = 8, height = 5, command = lambda: self.imprime('8'))\n",
    "        self.btn9 = tk.Button(frm1, text=\"9\", width = 8, height = 5, command = lambda: self.imprime('9'))\n",
    "        self.btn0 = tk.Button(frm1, text=\"0\", width = 8, height = 5, command = lambda: self.imprime('0'))\n",
    "        self.btnpnto = tk.Button(frm1, text=\".\", width = 8, height = 5, command = lambda: self.imprime('.'))\n",
    "        self.btnI = tk.Button(frm1, text=\"=\", width = 8, height = 5, command = self.resultado)\n",
    "        self.btnM = tk.Button(frm1, text=\"+\", width = 8, height = 5 , command = lambda: self.signo('+'))\n",
    "        self.btnMe = tk.Button(frm1, text=\"-\", width = 8, height = 5)\n",
    "        self.btnPor = tk.Button(frm1, text=\"*\", width = 8, height = 5)\n",
    "        self.btnEntre = tk.Button(frm1, text=\"/\", width = 8, height = 5)\n",
    "        self.btnCE = tk.Button(frm1, text=\"CE\", width = 8, height = 5, command = self.clear_p)\n",
    "        self.Ent = tk.Entry(frm1, width = 20,font='\"Digital-7 Mono\" 20', justify='right',fg='#808080', bg='#ECF6CE', textvariable = self.var,bd = 3)\n",
    "        \n",
    "        \n",
    "        #Colocar los WIDGETS\n",
    "        self.btn1.grid(row = 4 ,column = 1,padx = 5, pady = 5)\n",
    "        self.btn2.grid(row = 4 ,column = 2,padx = 5, pady = 5)\n",
    "        self.btn3.grid(row = 4 ,column = 3,padx = 5, pady = 5)\n",
    "        self.btn4.grid(row = 3 ,column = 1,padx = 5, pady = 5)\n",
    "        self.btn5.grid(row = 3 ,column = 2,padx = 5, pady = 5)\n",
    "        self.btn6.grid(row = 3 ,column = 3,padx = 5, pady = 5)\n",
    "        self.btn7.grid(row = 2 ,column = 1,padx = 5, pady = 5)\n",
    "        self.btn8.grid(row = 2 ,column = 2,padx = 5, pady = 5)\n",
    "        self.btn9.grid(row = 2 ,column = 3,padx = 5, pady = 5)\n",
    "        self.btn0.grid(row = 5 ,column = 1,padx = 5, pady = 5)\n",
    "        self.btnpnto.grid(row = 5 ,column = 2,padx = 5, pady = 5)\n",
    "        self.btnI.grid(row = 5 ,column = 3,padx = 5, pady = 5)\n",
    "        self.btnM.grid(row = 2 ,column = 4,padx = 5, pady = 5)\n",
    "        self.btnMe.grid(row = 3 ,column = 4,padx = 5, pady = 5)\n",
    "        self.btnEntre.grid(row = 4 ,column = 4,padx = 5, pady = 5)\n",
    "        self.btnPor.grid(row = 5 ,column = 4,padx = 5, pady = 5)\n",
    "        self.btnCE.grid(row = 1 ,column = 1,padx = 5, pady = 5)\n",
    "        self.Ent.grid(row = 1, column =2,columnspan = 3)\n",
    "        \n",
    "    def clear_p(self):\n",
    "        self.var.set('0')\n",
    "        \n",
    "    def imprime(self, num):\n",
    "        if (self.comp == True):\n",
    "            self.clear_p()\n",
    "            self.comp = False\n",
    "            self.var.set(num)\n",
    "        elif (self.var.get() == '0'):\n",
    "            self.var.set(num)\n",
    "        elif(int(self.var.get()) > 0):\n",
    "            self.var.set(self.var.get() + num)\n",
    "            \n",
    "    def signo(self, signo):\n",
    "        self.signo = signo\n",
    "        self.aux.set(self.var.get())\n",
    "        print(self.aux.get())\n",
    "        self.clear_p()\n",
    "        \n",
    "            \n",
    "    def resultado(self):\n",
    "        self.aux2.set(self.var.get())  \n",
    "        self.ope.set(int(self.aux.get())+ int(self.aux2.get()))\n",
    "        self.var.set(self.ope.get())\n",
    "        self.comp = True\n",
    "\n",
    "root = tk.Tk()\n",
    "app = Calculadora(root)\n",
    "root.mainloop()\n",
    "\n",
    "        \n",
    "        \n",
    "    \n",
    "\n"
   ]
  },
  {
   "cell_type": "code",
   "execution_count": 87,
   "metadata": {},
   "outputs": [
    {
     "ename": "ValueError",
     "evalue": "invalid literal for int() with base 10: '1j'",
     "output_type": "error",
     "traceback": [
      "\u001b[1;31m---------------------------------------------------------------------------\u001b[0m",
      "\u001b[1;31mValueError\u001b[0m                                Traceback (most recent call last)",
      "\u001b[1;32m<ipython-input-87-45a9d3a3baef>\u001b[0m in \u001b[0;36m<module>\u001b[1;34m\u001b[0m\n\u001b[0;32m      1\u001b[0m \u001b[0mx\u001b[0m \u001b[1;33m=\u001b[0m \u001b[1;34m\"1j\"\u001b[0m\u001b[1;33m\u001b[0m\u001b[1;33m\u001b[0m\u001b[0m\n\u001b[0;32m      2\u001b[0m \u001b[1;33m\u001b[0m\u001b[0m\n\u001b[1;32m----> 3\u001b[1;33m \u001b[0mprint\u001b[0m\u001b[1;33m(\u001b[0m\u001b[0mint\u001b[0m\u001b[1;33m(\u001b[0m\u001b[0mx\u001b[0m\u001b[1;33m)\u001b[0m\u001b[1;33m)\u001b[0m\u001b[1;33m\u001b[0m\u001b[1;33m\u001b[0m\u001b[0m\n\u001b[0m",
      "\u001b[1;31mValueError\u001b[0m: invalid literal for int() with base 10: '1j'"
     ]
    }
   ],
   "source": [
    "\n",
    "\n"
   ]
  }
 ],
 "metadata": {
  "kernelspec": {
   "display_name": "Python 3",
   "language": "python",
   "name": "python3"
  },
  "language_info": {
   "codemirror_mode": {
    "name": "ipython",
    "version": 3
   },
   "file_extension": ".py",
   "mimetype": "text/x-python",
   "name": "python",
   "nbconvert_exporter": "python",
   "pygments_lexer": "ipython3",
   "version": "3.6.8"
  }
 },
 "nbformat": 4,
 "nbformat_minor": 2
}
