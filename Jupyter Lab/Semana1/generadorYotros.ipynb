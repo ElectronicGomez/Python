{
 "cells": [
  {
   "cell_type": "code",
   "execution_count": 29,
   "metadata": {},
   "outputs": [],
   "source": [
    "def factores_primos(n):\n",
    "    if n<1 or not isinstance(n,int):\n",
    "        print(\"El valon ingresado no tiene factore primos positivos\")\n",
    "        return \n",
    "    factores = []\n",
    "    div = 2\n",
    "    for i in range(2,n):\n",
    "        if n % div == 0:\n",
    "            factores.append(div)\n",
    "            n = n/div\n",
    "        else:\n",
    "            div+=1\n",
    "        \n",
    "    return factores\n",
    "    "
   ]
  },
  {
   "cell_type": "code",
   "execution_count": 31,
   "metadata": {},
   "outputs": [
    {
     "data": {
      "text/plain": [
       "[2, 5]"
      ]
     },
     "execution_count": 31,
     "metadata": {},
     "output_type": "execute_result"
    }
   ],
   "source": [
    "factores_primos(10)"
   ]
  },
  {
   "cell_type": "code",
   "execution_count": 18,
   "metadata": {},
   "outputs": [],
   "source": [
    "def factorial(n):\n",
    "    \n",
    "    if not isinstance(n,int):\n",
    "        raise TypeError(\"El valor ingresado debe ser un int\")\n",
    "    if n < 0:\n",
    "        raise ValueError(\"El valor 'n' debe ser un valor int \")\n",
    "    if n == 0:\n",
    "        return 1\n",
    "    else:\n",
    "        return n*factorial(n-1)\n",
    "        "
   ]
  },
  {
   "cell_type": "code",
   "execution_count": 22,
   "metadata": {},
   "outputs": [
    {
     "data": {
      "text/plain": [
       "24"
      ]
     },
     "execution_count": 22,
     "metadata": {},
     "output_type": "execute_result"
    }
   ],
   "source": [
    "factorial(4)"
   ]
  },
  {
   "cell_type": "code",
   "execution_count": 27,
   "metadata": {},
   "outputs": [
    {
     "name": "stdout",
     "output_type": "stream",
     "text": [
      "Error: 'num' debe ser mayor o igual a 0\n"
     ]
    }
   ],
   "source": [
    "num = -2\n",
    "try:\n",
    "    factorial(num)\n",
    "except TypeError:\n",
    "    print(\"Error: 'num' debe ser un numero int \")\n",
    "except ValueError:\n",
    "    print(\"Error: 'num' debe ser mayor o igual a 0\")\n",
    "except:\n",
    "    print(\"Error: Error general\")\n",
    "    \n",
    "    \n",
    "    "
   ]
  },
  {
   "cell_type": "code",
   "execution_count": 69,
   "metadata": {},
   "outputs": [],
   "source": [
    "def foo(*args,**kwargs):\n",
    "    print(args)\n",
    "    print(kwargs)\n",
    "    dic = {'que':1, 'tal':2, 'Amigo':3}\n",
    "    tup = ('hello', 'mundo')\n",
    "    lis = ['hi','world']\n",
    "    for i in args:\n",
    "        print(i)\n",
    "    for k,v in kwargs.items():\n",
    "        print(k,'->',v)\n",
    "    for i, j in dic.items():\n",
    "        print(i,'->',j)\n",
    "    for m in tup:\n",
    "        print(m)\n",
    "    for i in lis:\n",
    "        print(i)\n",
    "    \n",
    "    \n",
    "    \n"
   ]
  },
  {
   "cell_type": "code",
   "execution_count": 71,
   "metadata": {},
   "outputs": [
    {
     "name": "stdout",
     "output_type": "stream",
     "text": [
      "('hola', 'como', 'estas')\n",
      "{'a': 2, 'b': 4}\n",
      "hola\n",
      "como\n",
      "estas\n",
      "a -> 2\n",
      "b -> 4\n",
      "que -> 1\n",
      "tal -> 2\n",
      "Amigo -> 3\n",
      "hello\n",
      "mundo\n",
      "hi\n",
      "world\n"
     ]
    }
   ],
   "source": [
    "foo('hola','como','estas',a=2,b=4)"
   ]
  },
  {
   "cell_type": "code",
   "execution_count": 75,
   "metadata": {},
   "outputs": [],
   "source": [
    "def range_letters(ini='A', end='Z', case='upper', reverse=False):\n",
    "    if not isinstance(ini, str) or not isinstance(end, str):\n",
    "        raise TypeError\n",
    "    \n",
    "    if all([ini.isalpha(), end.isalpha()]):     # all: True si [True, True]\n",
    "        if ini.upper() < end.upper():\n",
    "            if not reverse:\n",
    "                letter = ord(ini.upper()) - 1\n",
    "                while letter < ord(end.upper()):\n",
    "                    letter += 1\n",
    "                    if case == 'upper':\n",
    "                        yield chr(letter).upper()\n",
    "                    elif case == 'lower':\n",
    "                        yield chr(letter).lower()\n",
    "                    else:\n",
    "                        raise AttributeError\n",
    "            else:\n",
    "                letter = ord(end.upper()) + 1\n",
    "                while letter > ord(ini.upper()):\n",
    "                    letter -= 1\n",
    "                    if case == 'upper':\n",
    "                        yield chr(letter).upper()\n",
    "                    elif case == 'lower':\n",
    "                        yield chr(letter).lower()\n",
    "                    else:\n",
    "                        raise AttributeError\n",
    "        else:\n",
    "            raise ValueError\n",
    "    else:\n",
    "        raise ValueError"
   ]
  },
  {
   "cell_type": "code",
   "execution_count": 114,
   "metadata": {},
   "outputs": [
    {
     "name": "stdout",
     "output_type": "stream",
     "text": [
      "A\n",
      "D\n",
      "E\n",
      "F\n",
      "\n",
      "G\n",
      "F\n",
      "\n",
      "a\n",
      "\n",
      "A\n",
      "B\n",
      "C\n",
      "D\n"
     ]
    }
   ],
   "source": [
    "a = range_letters('A','f')\n",
    "print(next(a))\n",
    "b=next(a)\n",
    "c=next(a)\n",
    "#print(b)\n",
    "print(next(a))\n",
    "print(next(a))\n",
    "print(next(a))\n",
    "otro = range_letters('A','G', reverse = True)\n",
    "print(\"\")\n",
    "print(next(otro))\n",
    "print(next(otro))\n",
    "other = range_letters('a','H', case='lower',reverse = False)\n",
    "print(\"\")\n",
    "print(next(other))\n",
    "print(\"\")\n",
    "\n",
    "for i in range_letters('a','d'):\n",
    "    print(i)\n",
    "    \n"
   ]
  },
  {
   "cell_type": "code",
   "execution_count": null,
   "metadata": {},
   "outputs": [],
   "source": []
  }
 ],
 "metadata": {
  "kernelspec": {
   "display_name": "Python 3",
   "language": "python",
   "name": "python3"
  },
  "language_info": {
   "codemirror_mode": {
    "name": "ipython",
    "version": 3
   },
   "file_extension": ".py",
   "mimetype": "text/x-python",
   "name": "python",
   "nbconvert_exporter": "python",
   "pygments_lexer": "ipython3",
   "version": "3.6.8"
  }
 },
 "nbformat": 4,
 "nbformat_minor": 2
}
