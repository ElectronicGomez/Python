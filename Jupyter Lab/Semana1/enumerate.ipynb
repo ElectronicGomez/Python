{
 "cells": [
  {
   "cell_type": "code",
   "execution_count": 241,
   "metadata": {},
   "outputs": [
    {
     "name": "stdout",
     "output_type": "stream",
     "text": [
      "0 : 0\n",
      "1 : 1\n"
     ]
    }
   ],
   "source": [
    "for i, j in enumerate(range(2)):\n",
    "    print(i,':',j)\n"
   ]
  },
  {
   "cell_type": "code",
   "execution_count": 223,
   "metadata": {},
   "outputs": [],
   "source": [
    "def range_letters(ini='A', end='Z', case='upper', reverse=False):\n",
    "    if not isinstance(ini, str) or not isinstance(end, str):\n",
    "        raise TypeError\n",
    "    \n",
    "    if all([ini.isalpha(), end.isalpha()]):     # all: True si [True, True]\n",
    "        if ini.upper() < end.upper():\n",
    "            if not reverse:\n",
    "                letter = ord(ini.upper()) - 1\n",
    "                while letter < ord(end.upper()):\n",
    "                    letter += 1\n",
    "                    if case == 'upper':\n",
    "                        yield chr(letter).upper()\n",
    "                    elif case == 'lower':\n",
    "                        yield chr(letter).lower()\n",
    "                    else:\n",
    "                        raise AttributeError\n",
    "            else:\n",
    "                letter = ord(end.upper()) + 1\n",
    "                while letter > ord(ini.upper()):\n",
    "                    letter -= 1\n",
    "                    if case == 'upper':\n",
    "                        yield chr(letter).upper()\n",
    "                    elif case == 'lower':\n",
    "                        yield chr(letter).lower()\n",
    "                    else:\n",
    "                        raise AttributeError\n",
    "        else:\n",
    "            raise ValueError\n",
    "    else:\n",
    "        raise ValueError"
   ]
  },
  {
   "cell_type": "code",
   "execution_count": 221,
   "metadata": {},
   "outputs": [
    {
     "name": "stdout",
     "output_type": "stream",
     "text": [
      "1 : A\n",
      "2 : B\n",
      "3 : C\n",
      "4 : D\n",
      "-------------------------------\n",
      "a : A\n",
      "b : B\n",
      "c : C\n",
      "d : D\n",
      "e : E\n",
      "f : F\n",
      "g : G\n"
     ]
    }
   ],
   "source": [
    "for idx, letter in enumerate(range_letters('a','d'), start = 1):\n",
    "    print(idx,':',letter)\n",
    "print(\"-------------------------------\")\n",
    "mayusculas = range_letters('a','g', case = 'upper')\n",
    "minusculas = range_letters('a','g', case = 'lower')\n",
    "for idx_, letter in zip(minusculas,mayusculas):\n",
    "    print(idx_,':',letter)\n"
   ]
  },
  {
   "cell_type": "code",
   "execution_count": 41,
   "metadata": {},
   "outputs": [
    {
     "ename": "ValueError",
     "evalue": "",
     "output_type": "error",
     "traceback": [
      "\u001b[1;31m---------------------------------------------------------------------------\u001b[0m",
      "\u001b[1;31mValueError\u001b[0m                                Traceback (most recent call last)",
      "\u001b[1;32m<ipython-input-41-b56472b1c95f>\u001b[0m in \u001b[0;36m<module>\u001b[1;34m\u001b[0m\n\u001b[0;32m      1\u001b[0m \u001b[0mm\u001b[0m \u001b[1;33m=\u001b[0m \u001b[0mrange_letters\u001b[0m\u001b[1;33m(\u001b[0m\u001b[1;34m'c'\u001b[0m\u001b[1;33m,\u001b[0m\u001b[1;34m'a'\u001b[0m\u001b[1;33m,\u001b[0m \u001b[0mcase\u001b[0m \u001b[1;33m=\u001b[0m \u001b[1;34m'upper'\u001b[0m\u001b[1;33m)\u001b[0m\u001b[1;33m\u001b[0m\u001b[1;33m\u001b[0m\u001b[0m\n\u001b[1;32m----> 2\u001b[1;33m \u001b[0mprint\u001b[0m\u001b[1;33m(\u001b[0m\u001b[0mnext\u001b[0m\u001b[1;33m(\u001b[0m\u001b[0mm\u001b[0m\u001b[1;33m)\u001b[0m\u001b[1;33m)\u001b[0m\u001b[1;33m\u001b[0m\u001b[1;33m\u001b[0m\u001b[0m\n\u001b[0m\u001b[0;32m      3\u001b[0m \u001b[1;33m\u001b[0m\u001b[0m\n",
      "\u001b[1;32m<ipython-input-32-5509c99692c4>\u001b[0m in \u001b[0;36mrange_letters\u001b[1;34m(ini, end, case, reverse)\u001b[0m\n\u001b[0;32m     26\u001b[0m                         \u001b[1;32mraise\u001b[0m \u001b[0mAttributeError\u001b[0m\u001b[1;33m\u001b[0m\u001b[1;33m\u001b[0m\u001b[0m\n\u001b[0;32m     27\u001b[0m         \u001b[1;32melse\u001b[0m\u001b[1;33m:\u001b[0m\u001b[1;33m\u001b[0m\u001b[1;33m\u001b[0m\u001b[0m\n\u001b[1;32m---> 28\u001b[1;33m             \u001b[1;32mraise\u001b[0m \u001b[0mValueError\u001b[0m\u001b[1;33m\u001b[0m\u001b[1;33m\u001b[0m\u001b[0m\n\u001b[0m\u001b[0;32m     29\u001b[0m     \u001b[1;32melse\u001b[0m\u001b[1;33m:\u001b[0m\u001b[1;33m\u001b[0m\u001b[1;33m\u001b[0m\u001b[0m\n\u001b[0;32m     30\u001b[0m         \u001b[1;32mraise\u001b[0m \u001b[0mValueError\u001b[0m\u001b[1;33m\u001b[0m\u001b[1;33m\u001b[0m\u001b[0m\n",
      "\u001b[1;31mValueError\u001b[0m: "
     ]
    }
   ],
   "source": [
    "m = range_letters('c','a', case = 'upper')\n",
    "print(next(m))\n",
    "    "
   ]
  },
  {
   "cell_type": "code",
   "execution_count": 242,
   "metadata": {},
   "outputs": [],
   "source": [
    "def sec_pares(num1,num2):\n",
    "    if (num1 < 0 or num2 < 0) or not isinstance(num1,int) or not isinstance(num2,int):\n",
    "        raise TypeError('Debe ingresar valores positivos enteros en formato sec_pares(int1, int2)')\n",
    "    #print(\"correcto\")\n",
    "    num = num1 -1\n",
    "    while num <= num2:\n",
    "        num += 1\n",
    "        #print(\"num = \",num)\n",
    "        if num % 2 == 0:\n",
    "            #print(\"num1 = \", num)\n",
    "            yield num\n",
    "            num += 1    \n",
    "            "
   ]
  },
  {
   "cell_type": "code",
   "execution_count": 245,
   "metadata": {},
   "outputs": [
    {
     "name": "stdout",
     "output_type": "stream",
     "text": [
      "0\n",
      "2\n",
      "4\n",
      "6\n",
      "8\n",
      "10\n",
      "12\n"
     ]
    }
   ],
   "source": [
    "b=sec_pares(0,18)\n",
    "print(next(b))\n",
    "print(next(b))\n",
    "print(next(b))\n",
    "print(next(b))\n",
    "print(next(b))\n",
    "print(next(b))\n",
    "print(next(b))"
   ]
  },
  {
   "cell_type": "code",
   "execution_count": 296,
   "metadata": {},
   "outputs": [],
   "source": [
    "def sec_pares2(num1,num2):\n",
    "    if (num1 < 0 or num2 < 0) or not isinstance(num1,int) or not isinstance(num2,int):\n",
    "        raise TypeError('Debe ingresar valores positivos enteros en formato sec_pares(int1, int2)')\n",
    "    #print(\"correcto\")\n",
    "    while num1 <= num2:\n",
    "        #print(\"num = \",num)\n",
    "        if num1 % 2 == 0:\n",
    "            #print(\"num1 = \", num)\n",
    "            yield num1\n",
    "            num1 += 2  \n",
    "        else:\n",
    "            num1 += 1"
   ]
  },
  {
   "cell_type": "code",
   "execution_count": 301,
   "metadata": {},
   "outputs": [
    {
     "name": "stdout",
     "output_type": "stream",
     "text": [
      "6\n",
      "8\n",
      "10\n",
      "12\n"
     ]
    }
   ],
   "source": [
    "k = sec_pares2(5,20)\n",
    "print(next(k))\n",
    "print(next(k))\n",
    "print(next(k))\n",
    "print(next(k))\n",
    "\n"
   ]
  },
  {
   "cell_type": "code",
   "execution_count": 303,
   "metadata": {},
   "outputs": [
    {
     "name": "stdout",
     "output_type": "stream",
     "text": [
      "2\n",
      "4\n",
      "6\n",
      "8\n",
      "10\n",
      "12\n",
      "14\n",
      "16\n",
      "18\n",
      "20\n"
     ]
    }
   ],
   "source": [
    "for pares in sec_pares2(1,20):\n",
    "    print(pares)\n",
    "    "
   ]
  },
  {
   "cell_type": "code",
   "execution_count": 307,
   "metadata": {},
   "outputs": [
    {
     "name": "stdout",
     "output_type": "stream",
     "text": [
      "<list_iterator object at 0x000001F290D45908>\n",
      "[1, 2, 3, 4, 5]\n"
     ]
    }
   ],
   "source": [
    "lista = [1, 2, 3, 4, 5]\n",
    "a = iter(lista) #iterador\n",
    "print(a)\n",
    "b= list(a)\n",
    "print(b)"
   ]
  },
  {
   "cell_type": "code",
   "execution_count": 501,
   "metadata": {},
   "outputs": [
    {
     "name": "stdout",
     "output_type": "stream",
     "text": [
      "1 : 2\n",
      "2 : 4\n",
      "3 : 6\n",
      "4 : 8\n",
      "5 : 10\n",
      "6 : 12\n",
      "7 : 14\n",
      "8 : 16\n",
      "9 : 18\n",
      "10 : 20\n",
      "11 : 22\n",
      "12 : 24\n",
      "----\n",
      " 1 : 2.00\n",
      " 2 : 4.00\n",
      " 3 : 6.00\n",
      " 4 : 8.00\n",
      " 5 : 10.00\n",
      " 6 : 12.00\n",
      " 7 : 14.00\n",
      " 8 : 16.00\n",
      " 9 : 18.00\n",
      "10 : 20.00\n",
      "11 : 22.00\n",
      "12 : 24.00\n",
      "----\n",
      " 2 : 1\n",
      " 4 : 2\n",
      " 6 : 3\n",
      " 8 : 4\n",
      "10 : 5\n",
      "12 : 6\n",
      "14 : 7\n",
      "16 : 8\n",
      "18 : 9\n",
      "20 : 10\n",
      "22 : 11\n",
      "24 : 12\n"
     ]
    }
   ],
   "source": [
    "for idx, par in enumerate(sec_pares2(1,25), start = 1):\n",
    "    print('{} : {}'.format(idx,par))\n",
    "print(\"----\")\n",
    "for idx, par in enumerate(sec_pares2(1,25), start = 1):\n",
    "    print('{:2} : {:.2f}'.format(idx,par))\n",
    "print(\"----\")\n",
    "for idx, par in enumerate(sec_pares2(1,25), start = 1):\n",
    "    print('{1:2} : {0}'.format(idx,par)) \n",
    "    #idx del format es posicion 0\n",
    "    #par del format es posicion 1\n",
    "    # {1} paranetro posicion 1\n",
    "    #{0:2} parametro posicion 0"
   ]
  },
  {
   "cell_type": "code",
   "execution_count": 337,
   "metadata": {},
   "outputs": [
    {
     "name": "stdout",
     "output_type": "stream",
     "text": [
      " 1 : 2.0\n",
      " 2 : 4.0\n",
      " 3 : 6.0\n",
      " 4 : 8.0\n",
      " 5 : 10.0\n",
      " 6 : 12.0\n",
      " 7 : 14.0\n",
      " 8 : 16.0\n",
      " 9 : 18.0\n",
      "10 : 20.0\n",
      "11 : 22.0\n",
      "12 : 24.0\n",
      "--------\n",
      " 1 :   2.0\n",
      " 2 :   4.0\n",
      " 3 :   6.0\n",
      " 4 :   8.0\n",
      " 5 :  10.0\n",
      " 6 :  12.0\n",
      " 7 :  14.0\n",
      " 8 :  16.0\n",
      " 9 :  18.0\n",
      "10 :  20.0\n",
      "11 :  22.0\n",
      "12 :  24.0\n"
     ]
    }
   ],
   "source": [
    "for idx, par in enumerate(sec_pares2(1,25), start = 1):\n",
    "    print(f'{idx:2} : {par:.1f}') # .1f que se muestre con 1 decimal\n",
    "print(\"--------\")\n",
    "for idx, par in enumerate(sec_pares2(1,25), start = 1):\n",
    "    print(f'{idx:2} : {par:5.1f}') # f-string"
   ]
  },
  {
   "cell_type": "code",
   "execution_count": 362,
   "metadata": {},
   "outputs": [
    {
     "name": "stdout",
     "output_type": "stream",
     "text": [
      "C:\\windows\\system32\n",
      "otepad.exe\n",
      "C:\\windows\\system32\\notepad.exe\n",
      "C:\\windows\\system32\\notepad.exe\n",
      "------------\n",
      "<map object at 0x000001F290D59E48>\n",
      "[2, 4, 6, 8, 10, 12, 14, 16, 18]\n",
      "---------\n",
      "[2, 4, 6, 8]\n"
     ]
    }
   ],
   "source": [
    "print(\"C:\\windows\\system32\\notepad.exe\")  # \\n es salto de linea por eso existe row string\n",
    "print(\"C:\\\\windows\\\\system32\\\\notepad.exe\")  # raw string\n",
    "print(r\"C:\\windows\\system32\\notepad.exe\")\n",
    "print(\"------------\")\n",
    "numeros = [1, 2, 3, 4, 5, 6, 7, 8, 9] \n",
    "#map(funcion, numeros)\n",
    "num_por_2 = map(lambda x: 2*x, numeros)\n",
    "print(num_por_2)\n",
    "# para que sea visible se convierte a lista\n",
    "print(list(num_por_2))\n",
    "print(\"---------\")\n",
    "#lo mismo que map ahora usamos filter que retorna TRUE o FALSE\n",
    "num_pares = list(filter(lambda x : x % 2 == 0, numeros))\n",
    "print(num_pares)"
   ]
  },
  {
   "cell_type": "code",
   "execution_count": 407,
   "metadata": {},
   "outputs": [
    {
     "name": "stdout",
     "output_type": "stream",
     "text": [
      "<map object at 0x000001F290D59E48>\n"
     ]
    }
   ],
   "source": [
    "# Listas por comprehension\n",
    "numeros = [1, 2, 3, 4, 5, 6, 7, 8, 9] \n",
    "numeros_por_2 = [2* x for x in numeros]\n",
    "print(num_por_2)\n"
   ]
  },
  {
   "cell_type": "code",
   "execution_count": 367,
   "metadata": {},
   "outputs": [
    {
     "name": "stdout",
     "output_type": "stream",
     "text": [
      "[2, 4, 6, 8]\n"
     ]
    }
   ],
   "source": [
    "num_pares = [x for x in numeros if x % 2 == 0]\n",
    "print(num_pares)\n"
   ]
  },
  {
   "cell_type": "code",
   "execution_count": 369,
   "metadata": {},
   "outputs": [
    {
     "name": "stdout",
     "output_type": "stream",
     "text": [
      "[(1, 'A'), (1, 'B'), (1, 'C'), (2, 'A'), (2, 'B'), (2, 'C'), (3, 'A'), (3, 'B'), (3, 'C'), (4, 'A'), (4, 'B'), (4, 'C')]\n"
     ]
    }
   ],
   "source": [
    "#Combinaciones con for anidado\n",
    "comb = [(a, chr(b)) for a in range(1,5)\n",
    "                    for b in range(ord('A'),ord('D'))]\n",
    "print(comb)\n"
   ]
  },
  {
   "cell_type": "code",
   "execution_count": 400,
   "metadata": {},
   "outputs": [
    {
     "data": {
      "text/plain": [
       "[1, 2, 3, 4, 5, 6, 7, 8, 9]"
      ]
     },
     "execution_count": 400,
     "metadata": {},
     "output_type": "execute_result"
    }
   ],
   "source": [
    "numeros"
   ]
  },
  {
   "cell_type": "code",
   "execution_count": 399,
   "metadata": {},
   "outputs": [
    {
     "data": {
      "text/plain": [
       "[2, 4, 6, 8, 10, 12, 14, 16, 18]"
      ]
     },
     "execution_count": 399,
     "metadata": {},
     "output_type": "execute_result"
    }
   ],
   "source": [
    "numeros_por_2"
   ]
  },
  {
   "cell_type": "code",
   "execution_count": 402,
   "metadata": {},
   "outputs": [
    {
     "name": "stdout",
     "output_type": "stream",
     "text": [
      "1 x 2 = 2\n",
      "2 x 2 = 4\n",
      "3 x 2 = 6\n",
      "4 x 2 = 8\n",
      "5 x 2 = 10\n",
      "6 x 2 = 12\n",
      "7 x 2 = 14\n",
      "8 x 2 = 16\n",
      "9 x 2 = 18\n"
     ]
    }
   ],
   "source": [
    "for n, m in zip(numeros, numeros_por_2):\n",
    "    print(f\"{n} x 2 = {m}\")"
   ]
  },
  {
   "cell_type": "code",
   "execution_count": 406,
   "metadata": {},
   "outputs": [
    {
     "name": "stdout",
     "output_type": "stream",
     "text": [
      "1: 1 x 2 = 2\n",
      "2: 2 x 2 = 4\n",
      "3: 3 x 2 = 6\n",
      "4: 4 x 2 = 8\n",
      "5: 5 x 2 = 10\n",
      "6: 6 x 2 = 12\n",
      "7: 7 x 2 = 14\n",
      "8: 8 x 2 = 16\n",
      "9: 9 x 2 = 18\n"
     ]
    }
   ],
   "source": [
    "#ZIP con ENUMERATE\n",
    "for idx, (n, m) in enumerate(zip(numeros, numeros_por_2), start=1):\n",
    "    print(f\"{idx}: {n} x 2 = {m}\")"
   ]
  },
  {
   "cell_type": "code",
   "execution_count": 417,
   "metadata": {},
   "outputs": [
    {
     "name": "stdout",
     "output_type": "stream",
     "text": [
      "Conjunto =  {1, 2, 3, 4, 5}\n",
      "Diccionario =  {'A': 'a', 'B': 'b', 'C': 'c'}\n",
      "Diccionario2 =  {'A': '1', 'B': '2', 'C': '3'}\n"
     ]
    }
   ],
   "source": [
    "#Conjuntos y diccionarios por comprehension\n",
    "conj = {n for n in range(1,6)}\n",
    "dicc = {x : y for x, y in zip(['A','B','C'],['a','b','c'])}\n",
    "print('Conjunto = ', conj)\n",
    "print(\"Diccionario = \", dicc)\n",
    "print(\"Diccionario2 = \", dict(zip(['A','B','C'],['1','2','3'])))\n"
   ]
  },
  {
   "cell_type": "code",
   "execution_count": 419,
   "metadata": {},
   "outputs": [],
   "source": [
    "meses = {'1':'ene', '2':'feb','3':'mar'}"
   ]
  },
  {
   "cell_type": "code",
   "execution_count": 421,
   "metadata": {},
   "outputs": [
    {
     "data": {
      "text/plain": [
       "'ene'"
      ]
     },
     "execution_count": 421,
     "metadata": {},
     "output_type": "execute_result"
    }
   ],
   "source": [
    "meses['1']"
   ]
  },
  {
   "cell_type": "code",
   "execution_count": 423,
   "metadata": {},
   "outputs": [
    {
     "ename": "KeyError",
     "evalue": "'4'",
     "output_type": "error",
     "traceback": [
      "\u001b[1;31m---------------------------------------------------------------------------\u001b[0m",
      "\u001b[1;31mKeyError\u001b[0m                                  Traceback (most recent call last)",
      "\u001b[1;32m<ipython-input-423-b212531f1e61>\u001b[0m in \u001b[0;36m<module>\u001b[1;34m\u001b[0m\n\u001b[1;32m----> 1\u001b[1;33m \u001b[0mmeses\u001b[0m\u001b[1;33m[\u001b[0m\u001b[1;34m'4'\u001b[0m\u001b[1;33m]\u001b[0m\u001b[1;33m\u001b[0m\u001b[1;33m\u001b[0m\u001b[0m\n\u001b[0m",
      "\u001b[1;31mKeyError\u001b[0m: '4'"
     ]
    }
   ],
   "source": [
    "meses['4']"
   ]
  },
  {
   "cell_type": "code",
   "execution_count": 439,
   "metadata": {},
   "outputs": [
    {
     "name": "stdin",
     "output_type": "stream",
     "text": [
      "Ingrese el mes:  4\n"
     ]
    },
    {
     "name": "stdout",
     "output_type": "stream",
     "text": [
      "Mes invalido\n"
     ]
    }
   ],
   "source": [
    "mes = input(\"Ingrese el mes: \")\n",
    "try:\n",
    "    print(f\"Mes: {meses[mes]}\")\n",
    "except KeyError:\n",
    "    print(\"Mes invalido\")\n",
    "    "
   ]
  },
  {
   "cell_type": "code",
   "execution_count": 489,
   "metadata": {},
   "outputs": [
    {
     "name": "stdin",
     "output_type": "stream",
     "text": [
      "Ingrese el mes:  5\n"
     ]
    },
    {
     "name": "stdout",
     "output_type": "stream",
     "text": [
      "Mes: Mes invalido\n"
     ]
    }
   ],
   "source": [
    "mes = input(\"Ingrese el mes: \")\n",
    "print(f\"Mes: {meses.get(mes, 'Mes invalido')}\")"
   ]
  },
  {
   "cell_type": "code",
   "execution_count": 491,
   "metadata": {},
   "outputs": [
    {
     "name": "stdout",
     "output_type": "stream",
     "text": [
      "5\n",
      "mes incorrecto\n"
     ]
    }
   ],
   "source": [
    "if meses.get(mes, False):\n",
    "    print(\"pasa\")\n",
    "    print(mes)\n",
    "else:\n",
    "    print(mes)\n",
    "    print(\"mes incorrecto\")"
   ]
  },
  {
   "cell_type": "code",
   "execution_count": 487,
   "metadata": {},
   "outputs": [
    {
     "name": "stdout",
     "output_type": "stream",
     "text": [
      "mar\n"
     ]
    }
   ],
   "source": [
    "print(meses.get('3'))\n"
   ]
  }
 ],
 "metadata": {
  "kernelspec": {
   "display_name": "Python 3",
   "language": "python",
   "name": "python3"
  },
  "language_info": {
   "codemirror_mode": {
    "name": "ipython",
    "version": 3
   },
   "file_extension": ".py",
   "mimetype": "text/x-python",
   "name": "python",
   "nbconvert_exporter": "python",
   "pygments_lexer": "ipython3",
   "version": "3.6.8"
  }
 },
 "nbformat": 4,
 "nbformat_minor": 2
}
