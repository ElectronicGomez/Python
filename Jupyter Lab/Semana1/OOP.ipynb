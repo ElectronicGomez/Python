{
 "cells": [
  {
   "cell_type": "code",
   "execution_count": 2,
   "metadata": {},
   "outputs": [],
   "source": [
    "class Perro:\n",
    "    def __init__(self, nombre=\"Bobby\"):\n",
    "        self.nombre = nombre\n",
    "    @property\n",
    "    def nombre(self):\n",
    "        return self.__nombre\n",
    "    @nombre.setter\n",
    "    def nombre(self, val):\n",
    "        self.__nombre = val\n",
    "        "
   ]
  },
  {
   "cell_type": "code",
   "execution_count": 3,
   "metadata": {},
   "outputs": [],
   "source": [
    "mi_perro = Perro('sac') "
   ]
  },
  {
   "cell_type": "code",
   "execution_count": 4,
   "metadata": {},
   "outputs": [
    {
     "data": {
      "text/plain": [
       "'sac'"
      ]
     },
     "execution_count": 4,
     "metadata": {},
     "output_type": "execute_result"
    }
   ],
   "source": [
    "mi_perro.nombre"
   ]
  },
  {
   "cell_type": "code",
   "execution_count": 5,
   "metadata": {},
   "outputs": [
    {
     "data": {
      "text/plain": [
       "['_Perro__nombre',\n",
       " '__class__',\n",
       " '__delattr__',\n",
       " '__dict__',\n",
       " '__dir__',\n",
       " '__doc__',\n",
       " '__eq__',\n",
       " '__format__',\n",
       " '__ge__',\n",
       " '__getattribute__',\n",
       " '__gt__',\n",
       " '__hash__',\n",
       " '__init__',\n",
       " '__init_subclass__',\n",
       " '__le__',\n",
       " '__lt__',\n",
       " '__module__',\n",
       " '__ne__',\n",
       " '__new__',\n",
       " '__reduce__',\n",
       " '__reduce_ex__',\n",
       " '__repr__',\n",
       " '__setattr__',\n",
       " '__sizeof__',\n",
       " '__str__',\n",
       " '__subclasshook__',\n",
       " '__weakref__',\n",
       " 'nombre']"
      ]
     },
     "execution_count": 5,
     "metadata": {},
     "output_type": "execute_result"
    }
   ],
   "source": [
    "dir(mi_perro)"
   ]
  },
  {
   "cell_type": "code",
   "execution_count": 78,
   "metadata": {},
   "outputs": [
    {
     "name": "stdout",
     "output_type": "stream",
     "text": [
      "[1 2 3 4 5]\n"
     ]
    }
   ],
   "source": [
    "import numpy as np\n",
    "a = np.array([1,2,3,4,5])\n",
    "print(a)\n"
   ]
  },
  {
   "cell_type": "code",
   "execution_count": 82,
   "metadata": {},
   "outputs": [
    {
     "name": "stdout",
     "output_type": "stream",
     "text": [
      "[1 2 3 4 5 6 6 6]\n"
     ]
    }
   ],
   "source": [
    "a = np.append(a,6)\n",
    "print(a)"
   ]
  },
  {
   "cell_type": "code",
   "execution_count": 26,
   "metadata": {},
   "outputs": [],
   "source": [
    "class Alumno: \n",
    "    \n",
    "    def __init__(self,nombre='',apellido='',codigo=''):\n",
    "        self.nombre = nombre\n",
    "        self.apellido = apellido\n",
    "        self.codigo = codigo\n",
    "        self.matricula = False\n",
    "    @property\n",
    "    def nombre(self):\n",
    "        return self.__nombre\n",
    "    @property\n",
    "    def apellido(self):\n",
    "        return self.__apellido\n",
    "    @property\n",
    "    def codigo(self):\n",
    "        return self.__codigo\n",
    "    \n",
    "    @nombre.setter\n",
    "    def nombre(self,val):\n",
    "        if isinstance(val,str):\n",
    "            self.__nombre = val\n",
    "        else:\n",
    "            raise TypeError(\"El campo 'nombre' debe ser tipo 'str'\")\n",
    "    @nombre.setter\n",
    "    def apellido(self,val):\n",
    "        if isinstance(val,str):\n",
    "            self.__apellido = val\n",
    "        else:\n",
    "            raise TypeError(\"El campo 'apellido' debe ser tipo 'str'\")\n",
    "    @nombre.setter\n",
    "    def codigo(self,val):\n",
    "        if isinstance(val,str):\n",
    "            self.__codigo = val\n",
    "        else:\n",
    "            raise TypeError(\"El campo 'codigo' debe ser tipo 'str'\")\n",
    "    \n",
    "    def esta_matriculado(self):\n",
    "        return self.matricula\n",
    "    \n",
    "    def __repr__(self):\n",
    "        return f\"Alumno(nombre={self.nombre}, apellido={self.apellido}, codigo={self.codigo})\"\n",
    "    \n",
    "            \n",
    "            \n",
    "       "
   ]
  },
  {
   "cell_type": "code",
   "execution_count": 30,
   "metadata": {},
   "outputs": [
    {
     "name": "stdout",
     "output_type": "stream",
     "text": [
      "Alumno(nombre=Elvio, apellido=Elvio, codigo=Elvio)\n",
      "False\n",
      "False\n",
      "True\n",
      "True\n"
     ]
    }
   ],
   "source": [
    "alumno1 = Alumno('Elvio', 'Lado', 'u201416172')\n",
    "print(alumno1)\n",
    "print(alumno1.esta_matriculado())\n",
    "print(alumno1.matricula)\n",
    "alumno1.matricula = True\n",
    "print(alumno1.esta_matriculado())\n",
    "print(alumno1.matricula)\n"
   ]
  },
  {
   "cell_type": "code",
   "execution_count": 38,
   "metadata": {},
   "outputs": [],
   "source": [
    "# HERENCIA\n",
    "class Delegado(Alumno):\n",
    "    def __init__(self,nombre, apellido, codigo, curso):\n",
    "        super().__init__(nombre, apellido, codigo)\n",
    "        self.curso = curso\n",
    "        \n",
    "    def __repr__(self):\n",
    "        return f\"Delegado(nombre={self.nombre}, apellido={self.apellido}, codigo={self.codigo}, curso={self.curso})\"\n",
    "                \n"
   ]
  },
  {
   "cell_type": "code",
   "execution_count": 39,
   "metadata": {},
   "outputs": [
    {
     "name": "stdout",
     "output_type": "stream",
     "text": [
      "Delegado(nombre=Dina, apellido=Dina, codigo=Dina, curso=Programación)\n",
      "False\n",
      "False\n",
      "True\n"
     ]
    }
   ],
   "source": [
    "delegada = Delegado('Dina','Mita','u201416253','Programación')\n",
    "print(delegada)\n",
    "print(delegada.esta_matriculado())\n",
    "print(delegada.matricula)\n",
    "delegada.matricula = True\n",
    "print(delegada.esta_matriculado())"
   ]
  },
  {
   "cell_type": "code",
   "execution_count": 44,
   "metadata": {},
   "outputs": [],
   "source": [
    "# classmethod\n",
    "class Alumno:\n",
    "    matriculado = False\n",
    "    \n",
    "    def __init__(self, nombre='',apellido='', codigo=''):\n",
    "        self.nombre = nombre\n",
    "        self.apellido = apellido\n",
    "        self.codigo = codigo\n",
    "        \n",
    "    def esta_matriculado(self):\n",
    "        return matriculado # return cls.matriculado tambien puede ser\n",
    "    \n",
    "    def __repr__(self):\n",
    "        return f\"Alumno(nombre={self.nombre}, apellido={self.apellido}, codigo={self.codigo})\"\n",
    "    \n",
    "        \n",
    "    "
   ]
  },
  {
   "cell_type": "code",
   "execution_count": 51,
   "metadata": {},
   "outputs": [
    {
     "name": "stdout",
     "output_type": "stream",
     "text": [
      "Alumno(nombre=Elvio, apellido=Lado, codigo=u201417164)\n",
      "True\n",
      "Alumno(nombre=Elsa, apellido=Pallo, codigo=u201618362)\n",
      "True\n",
      "True\n",
      "True\n"
     ]
    }
   ],
   "source": [
    "alumno1= Alumno('Elvio','Lado','u201417164')\n",
    "alumno2=Alumno('Elsa','Pallo','u201618362')\n",
    "print(alumno1)\n",
    "print(alumno1.matriculado)\n",
    "print(alumno2)\n",
    "print(alumno2.matriculado)\n",
    "Alumno.matriculado = True # A la clase completa la matriculo\n",
    "print(alumno1.matriculado)\n",
    "print(alumno2.matriculado)\n",
    "\n"
   ]
  },
  {
   "cell_type": "code",
   "execution_count": 74,
   "metadata": {},
   "outputs": [],
   "source": [
    "class Alumno:\n",
    "    matriculado = False\n",
    "    \n",
    "    def __init__(self, nombre='', apellido='', codigo=''):\n",
    "        self.nombre = nombre\n",
    "        self.apellido = apellido\n",
    "        self.codigo = codigo\n",
    "    \n",
    "    def esta_matriculado(self):\n",
    "        return matriculado\n",
    "    \n",
    "    @classmethod\n",
    "    def from_string(cls, string):\n",
    "        nombre, apellido, codigo = string.split()\n",
    "        return cls(nombre, apellido, codigo) # cls: Equivalente a Alumno(nombre, apellido, codigo)\n",
    "    \n",
    "    def __repr__(self):\n",
    "        return f\"Alumno(nombre={self.nombre}, apellido={self.apellido}, codigo={self.codigo})\"\n",
    "    \n",
    "    \n",
    "        \n",
    "    "
   ]
  },
  {
   "cell_type": "code",
   "execution_count": 79,
   "metadata": {},
   "outputs": [
    {
     "name": "stdout",
     "output_type": "stream",
     "text": [
      "Alumno(nombre=Elvio, apellido=Lado, codigo=u201317234)\n"
     ]
    }
   ],
   "source": [
    "alumno_str = \"Elvio Lado u201317234\"\n",
    "alumno1 = Alumno.from_string(alumno_str)\n",
    "print(alumno1)"
   ]
  },
  {
   "cell_type": "code",
   "execution_count": 88,
   "metadata": {},
   "outputs": [
    {
     "name": "stdout",
     "output_type": "stream",
     "text": [
      "[[1 2]\n",
      " [3 4]]\n",
      "[[1 2]\n",
      " [3 4]]\n"
     ]
    }
   ],
   "source": [
    "mat = np.matrix(\"[[1,2]; [3,4]]\")\n",
    "mat1 = np.matrix(\"1, 2; 3, 4\")\n",
    "print(mat)\n",
    "print(mat1)\n"
   ]
  },
  {
   "cell_type": "code",
   "execution_count": 90,
   "metadata": {},
   "outputs": [
    {
     "ename": "SyntaxError",
     "evalue": "invalid syntax (<ipython-input-90-e540395ec655>, line 7)",
     "output_type": "error",
     "traceback": [
      "\u001b[1;36m  File \u001b[1;32m\"<ipython-input-90-e540395ec655>\"\u001b[1;36m, line \u001b[1;32m7\u001b[0m\n\u001b[1;33m    pendulo = pendulo(masa, long, osc1, .....)\u001b[0m\n\u001b[1;37m                                            ^\u001b[0m\n\u001b[1;31mSyntaxError\u001b[0m\u001b[1;31m:\u001b[0m invalid syntax\n"
     ]
    }
   ],
   "source": [
    "# NAMEDTUPLES\n",
    "vel_pendulo = 15.4\n",
    "peso_pendulo = 50\n",
    "long_cuerd_pend = 10\n",
    "#Esto no me conviene\n",
    "#Entonces\n",
    "pendulo = pendulo(masa, long, osc1, .....)\n",
    "pendulo.osc\n",
    "pendulo.masa\n",
    "\n",
    "pendulo.oscila()\n",
    "\n"
   ]
  },
  {
   "cell_type": "code",
   "execution_count": 98,
   "metadata": {},
   "outputs": [],
   "source": [
    "from collections import namedtuple\n",
    "# namedtuple(clase, propiedades)\n",
    "Alum = namedtuple('Alum', ['nombre','apellido','codigo','matriculado']) # Tiene su propio __repr__"
   ]
  },
  {
   "cell_type": "code",
   "execution_count": 100,
   "metadata": {},
   "outputs": [
    {
     "name": "stdout",
     "output_type": "stream",
     "text": [
      "Elvio\n",
      "Alum(nombre='Elvio', apellido='Lado', codigo='u201416834', matriculado=False)\n"
     ]
    }
   ],
   "source": [
    "alum1 = Alum('Elvio','Lado','u201416834', False)\n",
    "print(alum1.nombre)\n",
    "print(alum1)"
   ]
  },
  {
   "cell_type": "code",
   "execution_count": 157,
   "metadata": {},
   "outputs": [],
   "source": [
    "# Metodos magicos\n",
    "class Resistencia:\n",
    "    def __init__(self, val=1000):\n",
    "        self.val = val\n",
    "    \n",
    "    def __add__(self, other):\n",
    "        return Resistencia(self.val + other.val)\n",
    "    def __floordiv__(self,other): # Division entera, entra aquí cuando ejecuten a // b\n",
    "        return 1 / (1/self.val + 1/other.val)\n",
    "    def __repr__(self):\n",
    "        return f\"Resistencia(val={self.val})\"\n",
    "    \n",
    "\n"
   ]
  },
  {
   "cell_type": "code",
   "execution_count": 162,
   "metadata": {},
   "outputs": [
    {
     "name": "stdout",
     "output_type": "stream",
     "text": [
      "Resistencia(val=4000)\n",
      "500.0\n"
     ]
    }
   ],
   "source": [
    "R1 = Resistencia(1000)\n",
    "R2 = Resistencia(1000)\n",
    "# En ves de hacer R1.en_serie(R2), se hace\n",
    "#resul = R1 + R2\n",
    "#print(resul)\n",
    "print(R1 + R2+R2+R2)\n",
    "print(R1 // R2)"
   ]
  },
  {
   "cell_type": "code",
   "execution_count": 163,
   "metadata": {},
   "outputs": [
    {
     "name": "stdout",
     "output_type": "stream",
     "text": [
      "2.6666666666666665\n",
      "2\n"
     ]
    }
   ],
   "source": [
    "print(8/3)\n",
    "print(8//3)\n"
   ]
  },
  {
   "cell_type": "code",
   "execution_count": 190,
   "metadata": {},
   "outputs": [],
   "source": [
    "a = ['hola','b','c']\n",
    "len(a)\n",
    "b=[[2,3],[4,5],[2,5],[4,8],[3,9]]"
   ]
  },
  {
   "cell_type": "code",
   "execution_count": 198,
   "metadata": {},
   "outputs": [
    {
     "name": "stdout",
     "output_type": "stream",
     "text": [
      "[[2, 3], [2, 5], [3, 9]]\n",
      "[[4, 8], [3, 9]]\n"
     ]
    }
   ],
   "source": [
    "k =b[::2] #Imprime desde el inicio luego de 2 en 2\n",
    "k1 = b[3::] # Imprime desde la posicion 2 hasta el final\n",
    "print(k)\n",
    "print(k1)"
   ]
  },
  {
   "cell_type": "code",
   "execution_count": 1,
   "metadata": {},
   "outputs": [
    {
     "name": "stdout",
     "output_type": "stream",
     "text": [
      "1\n"
     ]
    }
   ],
   "source": [
    "from random import choice\n",
    "a=[1,2,3,4]\n",
    "b=choice(a)\n",
    "print(b)"
   ]
  },
  {
   "cell_type": "code",
   "execution_count": 3,
   "metadata": {},
   "outputs": [
    {
     "name": "stdout",
     "output_type": "stream",
     "text": [
      "[2, 2, 'a']\n",
      "[1, 9, 'b']\n",
      "[1, 8, 'r']\n",
      "[2, 2, 's']\n",
      "[3, 2, 'x']\n",
      "[1, 7, 'z']\n"
     ]
    }
   ],
   "source": [
    "# EJEMPLO sorten con KEY\n",
    "a = [\n",
    "      [1,7,'z'],\n",
    "      [3,2,'x'],\n",
    "      [1,8,'r'],\n",
    "      [2,2,'s'],\n",
    "      [1,9,'b'],\n",
    "      [2,2,'a']\n",
    "    ]\n",
    "for a in sorted(a, key=lambda x:x[2]):\n",
    "    print(a) \n"
   ]
  }
 ],
 "metadata": {
  "kernelspec": {
   "display_name": "Python 3",
   "language": "python",
   "name": "python3"
  },
  "language_info": {
   "codemirror_mode": {
    "name": "ipython",
    "version": 3
   },
   "file_extension": ".py",
   "mimetype": "text/x-python",
   "name": "python",
   "nbconvert_exporter": "python",
   "pygments_lexer": "ipython3",
   "version": "3.6.8"
  }
 },
 "nbformat": 4,
 "nbformat_minor": 2
}
