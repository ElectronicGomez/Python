{
 "cells": [
  {
   "cell_type": "code",
   "execution_count": 5,
   "metadata": {},
   "outputs": [
    {
     "name": "stdout",
     "output_type": "stream",
     "text": [
      "[2, 2, 'a']\n",
      "[1, 9, 'b']\n",
      "[1, 8, 'r']\n",
      "[2, 2, 's']\n",
      "[3, 2, 'x']\n",
      "[1, 7, 'z']\n"
     ]
    }
   ],
   "source": [
    "a = [\n",
    "      [1,7,'z'],\n",
    "      [3,2,'x'],\n",
    "      [1,8,'r'],\n",
    "      [2,2,'s'],\n",
    "      [1,9,'b'],\n",
    "      [2,2,'a']\n",
    "    ]\n",
    "for a in sorted(a, key=lambda x:x[2]):\n",
    "    print(a)\n",
    "    \n",
    " \n",
    "\n",
    "    \n",
    "   \n",
    "    "
   ]
  }
 ],
 "metadata": {
  "kernelspec": {
   "display_name": "Python 3",
   "language": "python",
   "name": "python3"
  },
  "language_info": {
   "name": ""
  }
 },
 "nbformat": 4,
 "nbformat_minor": 2
}
