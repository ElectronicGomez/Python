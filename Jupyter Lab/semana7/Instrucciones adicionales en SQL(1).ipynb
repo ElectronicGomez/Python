{
 "cells": [
  {
   "cell_type": "markdown",
   "metadata": {},
   "source": [
    "# Instrucciones adicionales en SQL\n",
    "Existen instrucciones adicionales en SQL que permitirán no solo escribir un código más legible, sino uno que permita extraer información de una o más tablas, siempre y cuando estas esten relacionadas de alguna forma (sistema de información relacional)"
   ]
  },
  {
   "cell_type": "markdown",
   "metadata": {},
   "source": [
    "## Creacion de una tabla en memoria RAM\n",
    "Un posible recurso en SQLite es el uso de la memoria RAM para crear una tabla temporal. Esta tabla existirá en la memoria mientras el programa este en ejecución y no se halla cerrado la conexión.\n",
    "\n",
    "En este ejemplo, la tabla Clientes tendrá un campos especificado como PRIMARY KEY. Al momento de insertar los datos, si no se especifica información para esta campo, este se rellenará con un valor incremental."
   ]
  },
  {
   "cell_type": "code",
   "execution_count": 17,
   "metadata": {},
   "outputs": [],
   "source": [
    "import sqlite3\n",
    "\n",
    "# Datos a cargar en las tablas\n",
    "data_clientes = [('Odontologia Pesquera', 'Dina Mita', 'Surco'),\n",
    "                 ('Cebicheria Mar y Machas', 'Elvio Lado', 'La Victoria'),\n",
    "                 ('La Pasta Basica', 'Susana Oria', 'Barranco'),\n",
    "                 ('EC Sistemas', 'Enrique Cido', 'San Isidro'),\n",
    "                 ('Veterinaria El Gato Felix', 'Estela Gartija', 'Barranco'),]\n",
    "\n",
    "data_ordenes = [('101922', 2, '02-11-2018', 1200),\n",
    "                ('101911', 4, '04-04-2019', 800),\n",
    "                ('100111', 3, '11-05-2019', 540),\n",
    "                ('101921', 2, '31-04-2019', 450),\n",
    "                ('110192', 6, '06-07-2019', 810),\n",
    "                ('110181', 1, '01-11-2019', 1110),\n",
    "                ('111911', 3, '25-10-2019', 282),\n",
    "                ('110019', 6, '22-07-2019', 740),\n",
    "                ('112211', 5, '30-04-2019', 1200),\n",
    "                ('102822', 3, '17-07-2019', 570),\n",
    "                ('102823', 2, '22-12-2019', 980)]\n"
   ]
  },
  {
   "cell_type": "markdown",
   "metadata": {},
   "source": [
    "Una vez creada la conexión con la base de datos en RAM y establecido el cursor, ejecutaremos instrucciones sobre el cursor (no utilizaremos un bloque with para evitar que se cierren ciertas instancias en la base de datos y asi mantener la tabla temporal en memoria). Se crearán tablas y se insertarán datos en estas para realizar las operaciones."
   ]
  },
  {
   "cell_type": "code",
   "execution_count": 20,
   "metadata": {},
   "outputs": [
    {
     "name": "stdout",
     "output_type": "stream",
     "text": [
      "----------------------------------------------------------------\n",
      "                       TABLAS DE DATOS\n",
      "----------------------------------------------------------------\n",
      "TABLA Clientes:\n",
      "==============\n",
      "(1, 'Odontologia Pesquera', 'Dina Mita', 'Surco')\n",
      "(2, 'Cebicheria Mar y Machas', 'Elvio Lado', 'La Victoria')\n",
      "(3, 'La Pasta Basica', 'Susana Oria', 'Barranco')\n",
      "(4, 'EC Sistemas', 'Enrique Cido', 'San Isidro')\n",
      "(5, 'Veterinaria El Gato Felix', 'Estela Gartija', 'Barranco')\n",
      "\n",
      "TABLA Ordenes:\n",
      "=============\n",
      "(100111, 3, '11-05-2019', 540.0)\n",
      "(101911, 4, '04-04-2019', 800.0)\n",
      "(101921, 2, '31-04-2019', 450.0)\n",
      "(101922, 2, '02-11-2018', 1200.0)\n",
      "(102822, 3, '17-07-2019', 570.0)\n",
      "(102823, 2, '22-12-2019', 980.0)\n",
      "(110019, 6, '22-07-2019', 740.0)\n",
      "(110181, 1, '01-11-2019', 1110.0)\n",
      "(110192, 6, '06-07-2019', 810.0)\n",
      "(111911, 3, '25-10-2019', 282.0)\n",
      "(112211, 5, '30-04-2019', 1200.0)\n",
      "----------------------------------------------------------------\n",
      "\n"
     ]
    }
   ],
   "source": [
    "# Se crea la base de datos temporal en memoria\n",
    "conn = sqlite3.connect(\":memory:\")\n",
    "cur = conn.cursor()\n",
    "\n",
    "# Se crea la tabla Clientes\n",
    "cur.execute(\"\"\"CREATE TABLE IF NOT EXISTS Clientes (\n",
    "                            clienteId INTEGER PRIMARY KEY, \n",
    "                            nombre TEXT, \n",
    "                            contacto TEXT, \n",
    "                            direccion TEXT)\"\"\")\n",
    "\n",
    "\n",
    "# Se crea la tabla Ordenes\n",
    "cur.execute(\"\"\"CREATE TABLE IF NOT EXISTS Ordenes (\n",
    "                            ordenId INTEGER PRIMARY KEY, \n",
    "                            clienteId INTEGER, \n",
    "                            fecha TEXT, \n",
    "                            monto REAL, \n",
    "                            FOREIGN KEY (clienteId) REFERENCES Clientes(clienteId))\"\"\")\n",
    "\n",
    "# Se insertan valores en las tablas\n",
    "cur.executemany(\"\"\"INSERT INTO Clientes (\n",
    "                            nombre, \n",
    "                            contacto, \n",
    "                            direccion) \n",
    "                   VALUES (?, ?, ?)\"\"\", data_clientes)\n",
    "\n",
    "cur.executemany(\"\"\"INSERT INTO Ordenes (\n",
    "                            ordenId, \n",
    "                            clienteId, \n",
    "                            fecha, \n",
    "                            monto) \n",
    "                    VALUES (?, ?, ?, ?)\"\"\", data_ordenes)\n",
    "\n",
    "# Se muestra el contenido de las tablas Clientes y Ordenes\n",
    "print(\"----------------------------------------------------------------\")\n",
    "print(\"                       TABLAS DE DATOS\")\n",
    "print(\"----------------------------------------------------------------\")\n",
    "select_data_clientes = cur.execute(\"SELECT * FROM Clientes\").fetchall()   # Concluye con la busqueda\n",
    "select_data_ordenes = cur.execute(\"SELECT * FROM Ordenes\").fetchall()    # Concluye con la busqueda\n",
    "\n",
    "print(\"TABLA Clientes:\")\n",
    "print(\"==============\")\n",
    "for data_query in select_data_clientes:\n",
    "    print(data_query)\n",
    "\n",
    "print()\n",
    "\n",
    "print(\"TABLA Ordenes:\")\n",
    "print(\"=============\")\n",
    "for data_query in select_data_ordenes:\n",
    "    print(data_query)\n",
    "\n",
    "print(\"----------------------------------------------------------------\\n\")"
   ]
  },
  {
   "cell_type": "markdown",
   "metadata": {},
   "source": [
    "## ORDER BY\n",
    "Permite ordenar los resultados obtenidos por medio de un query en función de una columna. El orden puede ser ascendente (ASC, por defecto) o descencdente (DESC)"
   ]
  },
  {
   "cell_type": "code",
   "execution_count": 10,
   "metadata": {},
   "outputs": [
    {
     "name": "stdout",
     "output_type": "stream",
     "text": [
      "\n",
      ">> SELECT * FROM Clientes ORDER BY nombre\n",
      "['CLIENTEID', 'NOMBRE', 'CONTACTO', 'DIRECCION']\n",
      "(2, 'Cebicheria Mar y Machas', 'Elvio Lado', 'La Victoria')\n",
      "(4, 'EC Sistemas', 'Enrique Cido', 'San Isidro')\n",
      "(3, 'La Pasta Basica', 'Susana Oria', 'Barranco')\n",
      "(1, 'Odontologia Pesquera', 'Dina Mita', 'Surco')\n",
      "(5, 'Veterinaria El Gato Felix', 'Estela Gartija', 'Barranco')\n"
     ]
    }
   ],
   "source": [
    "# Ejempo de ORDER BY\n",
    "query = \"SELECT * FROM Clientes ORDER BY nombre\"   # ASC | DESC\n",
    "query_res = cur.execute(query)\n",
    "\n",
    "print(\"\\n>>\", query)\n",
    "print([description[0].upper() for description in query_res.description])   # Esta linea retorna los nombres de los campos\n",
    "for data_query in query_res:\n",
    "    print(data_query)"
   ]
  },
  {
   "cell_type": "markdown",
   "metadata": {},
   "source": [
    "## BETWEEN\n",
    "Permite construir una instrucción más legible, reemplazando los multiples AND"
   ]
  },
  {
   "cell_type": "code",
   "execution_count": 9,
   "metadata": {},
   "outputs": [
    {
     "name": "stdout",
     "output_type": "stream",
     "text": [
      "\n",
      ">> SELECT * FROM Ordenes WHERE monto BETWEEN 500 AND 800 ORDER BY ordenId\n",
      "['ORDENID', 'CLIENTEID', 'FECHA', 'MONTO']\n",
      "('100111', 3, '11-05-2019', 540.0)\n",
      "('101911', 4, '04-04-2019', 800.0)\n",
      "('102822', 3, '17-07-2019', 570.0)\n",
      "('110019', 6, '22-07-2019', 740.0)\n"
     ]
    }
   ],
   "source": [
    "# Ejemplo de BETWEEN (equivalente a multiples AND)\n",
    "query = \"SELECT * FROM Ordenes WHERE monto BETWEEN 500 AND 800 ORDER BY ordenId\"\n",
    "query_res = cur.execute(query)\n",
    "\n",
    "print(\"\\n>>\", query)\n",
    "print([description[0].upper() for description in query_res.description])\n",
    "for data_query in query_res:\n",
    "    print(data_query)"
   ]
  },
  {
   "cell_type": "markdown",
   "metadata": {},
   "source": [
    "## IN\n",
    "Permite construir una instrucción más legible, reemplazando los multiples OR"
   ]
  },
  {
   "cell_type": "code",
   "execution_count": 11,
   "metadata": {},
   "outputs": [
    {
     "name": "stdout",
     "output_type": "stream",
     "text": [
      "\n",
      ">> SELECT * FROM Clientes WHERE direccion IN ('Barranco', 'Surco') ORDER BY ClienteId\n",
      "['CLIENTEID', 'NOMBRE', 'CONTACTO', 'DIRECCION']\n",
      "(1, 'Odontologia Pesquera', 'Dina Mita', 'Surco')\n",
      "(3, 'La Pasta Basica', 'Susana Oria', 'Barranco')\n",
      "(5, 'Veterinaria El Gato Felix', 'Estela Gartija', 'Barranco')\n"
     ]
    }
   ],
   "source": [
    "# Ejempo con IN (equivalente a multiples OR)\n",
    "query = \"SELECT * FROM Clientes WHERE direccion IN ('Barranco', 'Surco') ORDER BY ClienteId\"\n",
    "query_res = cur.execute(query)\n",
    "\n",
    "print(\"\\n>>\", query)\n",
    "print([description[0].upper() for description in query_res.description])\n",
    "for data_query in query_res:\n",
    "    print(data_query)"
   ]
  },
  {
   "cell_type": "markdown",
   "metadata": {},
   "source": [
    "## NOT\n",
    "Todas las instrucciones SQL pueden contener la palabra reservada NOT para negar la lógica de la consulta"
   ]
  },
  {
   "cell_type": "code",
   "execution_count": 12,
   "metadata": {},
   "outputs": [
    {
     "name": "stdout",
     "output_type": "stream",
     "text": [
      "\n",
      ">> SELECT * FROM Clientes WHERE direccion NOT IN ('Barranco', 'Surco') ORDER BY ClienteId\n",
      "['CLIENTEID', 'NOMBRE', 'CONTACTO', 'DIRECCION']\n",
      "(2, 'Cebicheria Mar y Machas', 'Elvio Lado', 'La Victoria')\n",
      "(4, 'EC Sistemas', 'Enrique Cido', 'San Isidro')\n"
     ]
    }
   ],
   "source": [
    "query = \"SELECT * FROM Clientes WHERE direccion NOT IN ('Barranco', 'Surco') ORDER BY ClienteId\"\n",
    "query_res = cur.execute(query)\n",
    "\n",
    "print(\"\\n>>\", query)\n",
    "print([description[0].upper() for description in query_res.description])\n",
    "for data_query in query_res:\n",
    "    print(data_query)"
   ]
  },
  {
   "cell_type": "markdown",
   "metadata": {},
   "source": [
    "## JOIN\n",
    "La instrucción JOIN permite obtener diferentes campos de diferentes tablas que estan relacionadas a traves de un campo (PRIMARY KEY contra FOREIGN KEY)."
   ]
  },
  {
   "cell_type": "code",
   "execution_count": 12,
   "metadata": {},
   "outputs": [
    {
     "name": "stdout",
     "output_type": "stream",
     "text": [
      "\n",
      ">> SELECT Ordenes.ordenId, Clientes.nombre, Ordenes.fecha FROM Ordenes JOIN Clientes ON Ordenes.clienteId = Clientes.clienteId ORDER BY Ordenes.ordenId\n",
      "['ORDENID', 'NOMBRE', 'FECHA']\n",
      "('100111', 'La Pasta Basica', '11-05-2019')\n",
      "('101911', 'EC Sistemas', '04-04-2019')\n",
      "('101921', 'Cebicheria Mar y Machas', '31-04-2019')\n",
      "('101922', 'Cebicheria Mar y Machas', '02-11-2018')\n",
      "('102822', 'La Pasta Basica', '17-07-2019')\n",
      "('102822', 'Cebicheria Mar y Machas', '22-12-2019')\n",
      "('110181', 'Odontologia Pesquera', '01-11-2019')\n",
      "('111911', 'La Pasta Basica', '25-10-2019')\n",
      "('112211', 'Veterinaria El Gato Felix', '30-04-2019')\n"
     ]
    }
   ],
   "source": [
    "# Ejemplo de JOIN\n",
    "query = \"SELECT Ordenes.ordenId, Clientes.nombre, Ordenes.fecha \\\n",
    "FROM Ordenes JOIN Clientes \\\n",
    "ON Ordenes.clienteId = Clientes.clienteId ORDER BY Ordenes.ordenId\"\n",
    "query_res = cur.execute(query)\n",
    "\n",
    "print(\"\\n>>\", query)\n",
    "print([description[0].upper() for description in query_res.description])\n",
    "for data_query in query_res:\n",
    "    print(data_query)"
   ]
  },
  {
   "cell_type": "markdown",
   "metadata": {},
   "source": [
    "Se muestran ejemplos que utilizan JOIN combinado con las demás instrucciones"
   ]
  },
  {
   "cell_type": "code",
   "execution_count": 13,
   "metadata": {},
   "outputs": [
    {
     "name": "stdout",
     "output_type": "stream",
     "text": [
      "\n",
      ">> SELECT Clientes.nombre, Ordenes.monto FROM Clientes JOIN Ordenes ON Clientes.clienteId = Ordenes.clienteId WHERE Ordenes.monto BETWEEN 500 AND 800\n",
      "['NOMBRE', 'MONTO']\n",
      "('EC Sistemas', 800.0)\n",
      "('La Pasta Basica', 540.0)\n",
      "('La Pasta Basica', 570.0)\n"
     ]
    }
   ],
   "source": [
    "# Que clientes tiene OC por montos entre 500 y 800 soles?\n",
    "query = \"SELECT Clientes.nombre, Ordenes.monto \\\n",
    "FROM Clientes JOIN Ordenes \\\n",
    "ON Clientes.clienteId = Ordenes.clienteId \\\n",
    "WHERE Ordenes.monto BETWEEN 500 AND 800\"\n",
    "query_res = cur.execute(query)\n",
    "\n",
    "print(\"\\n>>\", query)\n",
    "print([description[0].upper() for description in query_res.description])\n",
    "for data_query in query_res:\n",
    "    print(data_query)"
   ]
  },
  {
   "cell_type": "code",
   "execution_count": 14,
   "metadata": {},
   "outputs": [
    {
     "name": "stdout",
     "output_type": "stream",
     "text": [
      "\n",
      ">> SELECT Ordenes.ordenId, Clientes.nombre, Ordenes.fecha, Ordenes.monto FROM Clientes JOIN Ordenes ON Clientes.clienteId = Ordenes.clienteId WHERE fecha LIKE '%-04-%' AND Ordenes.monto > 500\n",
      "['ORDENID', 'NOMBRE', 'FECHA', 'MONTO']\n",
      "('101911', 'EC Sistemas', '04-04-2019', 800.0)\n",
      "('112211', 'Veterinaria El Gato Felix', '30-04-2019', 1200.0)\n"
     ]
    }
   ],
   "source": [
    "# Que clientes han puesto OC en Abril del 2019 por montos mayores a 500 soles?\n",
    "query = \"SELECT Ordenes.ordenId, Clientes.nombre, Ordenes.fecha, Ordenes.monto \\\n",
    "FROM Clientes JOIN Ordenes \\\n",
    "ON Clientes.clienteId = Ordenes.clienteId \\\n",
    "WHERE fecha LIKE '%-04-%' AND Ordenes.monto > 500\"\n",
    "query_res = cur.execute(query)\n",
    "\n",
    "print(\"\\n>>\", query)\n",
    "print([description[0].upper() for description in query_res.description])\n",
    "for data_query in query_res:\n",
    "    print(data_query) "
   ]
  },
  {
   "cell_type": "code",
   "execution_count": 15,
   "metadata": {},
   "outputs": [
    {
     "name": "stdout",
     "output_type": "stream",
     "text": [
      "\n",
      ">> SELECT Ordenes.ordenId, Clientes.nombre, Clientes.direccion FROM Clientes JOIN Ordenes ON Clientes.clienteId = Ordenes.clienteId WHERE Clientes.direccion = 'Barranco'\n",
      "['ORDENID', 'NOMBRE', 'DIRECCION']\n",
      "('100111', 'La Pasta Basica', 'Barranco')\n",
      "('111911', 'La Pasta Basica', 'Barranco')\n",
      "('112211', 'Veterinaria El Gato Felix', 'Barranco')\n",
      "('102822', 'La Pasta Basica', 'Barranco')\n"
     ]
    }
   ],
   "source": [
    "# Cuales son las OC de los clientes ubicados en el distrito de Barranco? \n",
    "query = \"SELECT Ordenes.ordenId, Clientes.nombre, Clientes.direccion \\\n",
    "FROM Clientes JOIN Ordenes \\\n",
    "ON Clientes.clienteId = Ordenes.clienteId \\\n",
    "WHERE Clientes.direccion = 'Barranco'\"\n",
    "query_res = cur.execute(query)\n",
    "\n",
    "print(\"\\n>>\", query)\n",
    "print([description[0].upper() for description in query_res.description])\n",
    "for data_query in query_res:\n",
    "    print(data_query)"
   ]
  },
  {
   "cell_type": "markdown",
   "metadata": {},
   "source": [
    "## SUM, AVG\n",
    "Tanto SUM como AVG permite obtener resultados de una columna. Si la consulta retorna una lista de valores (como en el ejemplo, los montos de unas ordenes de compra), las operaciones anteriores retornarán la suma o el promedio de estos valores, respectivamente."
   ]
  },
  {
   "cell_type": "code",
   "execution_count": 16,
   "metadata": {},
   "outputs": [
    {
     "name": "stdout",
     "output_type": "stream",
     "text": [
      "\n",
      ">> SELECT SUM (Ordenes.monto) FROM Clientes JOIN Ordenes ON Clientes.clienteId = Ordenes.clienteId WHERE Ordenes.fecha LIKE '%04-2019%'\n",
      "['SUM (ORDENES.MONTO)']\n",
      "(2450.0,)\n"
     ]
    }
   ],
   "source": [
    "# Cuanto se facturo en el Mes de Abril de 2019? (SUM)\n",
    "query = \"SELECT SUM (Ordenes.monto) \\\n",
    "FROM Clientes JOIN Ordenes \\\n",
    "ON Clientes.clienteId = Ordenes.clienteId \\\n",
    "WHERE Ordenes.fecha LIKE '%04-2019%'\"\n",
    "query_res = cur.execute(query)\n",
    "\n",
    "print(\"\\n>>\", query)\n",
    "print([description[0].upper() for description in query_res.description])\n",
    "for data_query in query_res:\n",
    "    print(data_query) "
   ]
  },
  {
   "cell_type": "code",
   "execution_count": 17,
   "metadata": {},
   "outputs": [
    {
     "name": "stdout",
     "output_type": "stream",
     "text": [
      "\n",
      ">> SELECT AVG (Ordenes.monto) FROM Clientes JOIN Ordenes ON Clientes.clienteId = Ordenes.clienteId WHERE fecha LIKE '%-2019%'\n",
      "['AVG (ORDENES.MONTO)']\n",
      "(741.5,)\n"
     ]
    }
   ],
   "source": [
    "# Cual fue la facturacion promedio del año 2019? (AVG)\n",
    "query = \"SELECT AVG (Ordenes.monto) \\\n",
    "FROM Clientes JOIN Ordenes \\\n",
    "ON Clientes.clienteId = Ordenes.clienteId \\\n",
    "WHERE fecha LIKE '%-2019%'\"\n",
    "query_res = cur.execute(query)\n",
    "\n",
    "print(\"\\n>>\", query)\n",
    "print([description[0].upper() for description in query_res.description])\n",
    "for data_query in query_res:\n",
    "    print(data_query)"
   ]
  },
  {
   "cell_type": "markdown",
   "metadata": {},
   "source": [
    "## ORDER BY, LIMIT\n",
    "Cuando se retornan un conjunto de registros de una consulta, estos pueden agruparse alrededor de un campo, de forma tal que los demás campos se resumen de acuerdo a unas reglas internas de SQL. En el ejemplo, se otienen la lista de clientes y montos comprados. Al apgrupar con GROUP BY los resultados por los nombres de los clientes, los montos se suman. El resultado de una búsqueda también pueden limitarse con la instrucción LIMIT N."
   ]
  },
  {
   "cell_type": "code",
   "execution_count": 18,
   "metadata": {},
   "outputs": [
    {
     "name": "stdout",
     "output_type": "stream",
     "text": [
      "\n",
      ">> SELECT Clientes.nombre, Ordenes.monto FROM Clientes JOIN Ordenes ON Clientes.clienteId = Ordenes.clienteId GROUP BY Clientes.nombre ORDER BY Ordenes.monto DESC LIMIT 3\n",
      "['NOMBRE', 'MONTO']\n",
      "('Veterinaria El Gato Felix', 1200.0)\n",
      "('Odontologia Pesquera', 1110.0)\n",
      "('Cebicheria Mar y Machas', 980.0)\n"
     ]
    }
   ],
   "source": [
    "# Cuales son nuestos clientes TOP 3\n",
    "query = \"SELECT Clientes.nombre, Ordenes.monto \\\n",
    "FROM Clientes JOIN Ordenes \\\n",
    "ON Clientes.clienteId = Ordenes.clienteId \\\n",
    "GROUP BY Clientes.nombre \\\n",
    "ORDER BY Ordenes.monto DESC \\\n",
    "LIMIT 3\"\n",
    "query_res = cur.execute(query)\n",
    "\n",
    "print(\"\\n>>\", query)\n",
    "print([description[0].upper() for description in query_res.description])\n",
    "for data_query in query_res:\n",
    "    print(data_query) "
   ]
  },
  {
   "cell_type": "code",
   "execution_count": null,
   "metadata": {},
   "outputs": [],
   "source": []
  }
 ],
 "metadata": {
  "kernelspec": {
   "display_name": "Python 3",
   "language": "python",
   "name": "python3"
  },
  "language_info": {
   "codemirror_mode": {
    "name": "ipython",
    "version": 3
   },
   "file_extension": ".py",
   "mimetype": "text/x-python",
   "name": "python",
   "nbconvert_exporter": "python",
   "pygments_lexer": "ipython3",
   "version": "3.6.8"
  }
 },
 "nbformat": 4,
 "nbformat_minor": 4
}
