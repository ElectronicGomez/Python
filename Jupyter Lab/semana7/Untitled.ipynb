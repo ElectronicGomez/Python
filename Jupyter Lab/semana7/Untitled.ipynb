{
 "cells": [
  {
   "cell_type": "code",
   "execution_count": null,
   "metadata": {},
   "outputs": [],
   "source": [
    "#%%\n",
    "class Database:\n",
    "    def __init__(self, datafile):\n",
    "        self.conn = sqlite3.connect(datafile)\n",
    "        self.cur = self.conn.cursor()\n",
    "        \n",
    "    def __dele__(self):\n",
    "        self.conn.close()\n",
    "        \n",
    "    def lista_pacientes(self, reverse=False):\n",
    "        if reverse:\n",
    "            sql = \"SELECT nombre FROM pacientes ORDER BY nombre DESC\"\n",
    "        else:\n",
    "            sql = \"SELECT nombre FROM pacientes ORDER BY nombre\"\n",
    "            \n",
    "#         return self.cur.execute(sql).fetchall()\n",
    "        self.cur.execute(sql)\n",
    "        return [item[0] for item in self.cur]"
   ]
  }
 ],
 "metadata": {
  "kernelspec": {
   "display_name": "Python 3",
   "language": "python",
   "name": "python3"
  },
  "language_info": {
   "codemirror_mode": {
    "name": "ipython",
    "version": 3
   },
   "file_extension": ".py",
   "mimetype": "text/x-python",
   "name": "python",
   "nbconvert_exporter": "python",
   "pygments_lexer": "ipython3",
   "version": "3.6.8"
  }
 },
 "nbformat": 4,
 "nbformat_minor": 2
}
