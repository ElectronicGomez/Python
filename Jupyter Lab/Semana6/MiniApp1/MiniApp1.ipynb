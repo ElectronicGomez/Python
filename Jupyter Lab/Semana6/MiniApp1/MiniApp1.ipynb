{
 "cells": [
  {
   "cell_type": "markdown",
   "metadata": {},
   "source": [
    "# Mini Proyecto 1 - Reportes de actividades Bb Ultra\n",
    "## Tareas Preliminares\n",
    "- Lectura de archivo con información de los alumnos\n",
    "- Creación de la tabla `alumnos` y carga de datos\n",
    "- Generación del archivo consolidado asistencias\n",
    "- Creacion de la tabla `asistencias` y carga de datos"
   ]
  },
  {
   "cell_type": "code",
   "execution_count": 2,
   "metadata": {},
   "outputs": [],
   "source": [
    "import csv\n",
    "import sqlite3\n",
    "import os\n",
    "from datetime import datetime\n",
    "import matplotlib.pyplot as plt"
   ]
  },
  {
   "cell_type": "markdown",
   "metadata": {},
   "source": [
    "## Lectura de archivo con informacion de los alumnos"
   ]
  },
  {
   "cell_type": "code",
   "execution_count": 3,
   "metadata": {},
   "outputs": [
    {
     "name": "stdout",
     "output_type": "stream",
     "text": [
      "[' u201510905 Menú Opciones: Nombre de usuario', 'Cesar Augusto', 'Bardales Loarte', 'u201510905@upc.edu.pe', 'Estudiante', '', 'Sí']\n",
      "===================\n",
      "[' u201513319 Menú Opciones: Nombre de usuario', 'Jesus', 'Bernuy Ramirez', 'u201513319@upc.edu.pe', 'Estudiante', '', 'Sí']\n",
      "===================\n",
      "[('u201621990', 'Bobadilla Chancafe', 'José Edison', 'u201621990@upc.edu.pe'), ('u201610674', 'Cachique Agreda', 'Kevin Poll Jharson', 'u201610674@upc.edu.pe'), ('u201620163', 'Cerda Flores', 'Bryan Harold', 'u201620163@upc.edu.pe'), ('u201425507', 'Garcia Guerra', 'Sebastian Elias', 'u201425507@upc.edu.pe'), ('u201719264', 'Gil Alvarado', 'Yorman Manuel', 'u201719264@upc.edu.pe'), ('u201713638', 'Koochoy Wong', 'Cecilia Sucyen', 'u201713638@upc.edu.pe'), ('u201421391', 'Ludeña Sevilla', 'Jose Luis', 'u201421391@upc.edu.pe'), ('u20151c262', 'Marquez Zapata', 'Sara Milagros', 'u20151c262@upc.edu.pe'), ('u20181e444', 'Miranda Durand', 'Fabricio Jose', 'u20181e444@upc.edu.pe'), ('u201523291', 'Molina Diaz', 'Anthony Frank', 'u201523291@upc.edu.pe'), ('u201614986', 'Nuñez Cabrera', 'Victor Alonso', 'u201614986@upc.edu.pe'), ('u201623405', 'Rebaza Bartra', 'Jorge Marcelo', 'u201623405@upc.edu.pe'), ('u201811680', 'Rodriguez Peralta', 'Kevin Elmer', 'u201811680@upc.edu.pe'), ('u201517193', 'Sanchez Gomez', 'Maikol Brandon', 'u201517193@upc.edu.pe'), ('u201710871', 'Sotomayor Anco', 'Tathyana Leyla', 'u201710871@upc.edu.pe'), ('u201617457', 'Torres Santos', 'Yerson Walter', 'u201617457@upc.edu.pe'), ('u201515612', 'Tuesta Ocampo', 'Gian Carlo', 'u201515612@upc.edu.pe'), ('u201622015', 'Uyejara Bustamante', 'Julio Tokujiro', 'u201622015@upc.edu.pe'), ('u201516659', 'Vasquez Levano', 'Cristian Andres', 'u201516659@upc.edu.pe')]\n"
     ]
    }
   ],
   "source": [
    "data_list = []\n",
    "\n",
    "filename = \"lista_alumnos.txt\"\n",
    "with open(filename, encoding='utf-8') as file: \n",
    "    reader = csv.reader(file, delimiter=\"\\t\")\n",
    "    print(next(reader))\n",
    "    print(\"===================\")\n",
    "    print(next(reader))\n",
    "    print(\"===================\")\n",
    "    for data in reader:\n",
    "        data_list.append((data[0][1:11], \n",
    "                          data[2], \n",
    "                          data[1], \n",
    "                          data[3]))       \n",
    "print(data_list)\n"
   ]
  },
  {
   "cell_type": "markdown",
   "metadata": {},
   "source": [
    "## Creacion de la tabla `alumnos` y carga de datos"
   ]
  },
  {
   "cell_type": "code",
   "execution_count": 28,
   "metadata": {},
   "outputs": [],
   "source": [
    "conn = sqlite3.connect(\"database.db\")\n",
    "cur = conn.cursor()\n",
    "\n",
    "# Creacion de la tabla \"alumnos\"\n",
    "try:\n",
    "    cur.execute(\"DROP TABLE alumnos\")\n",
    "    conn.commit()\n",
    "except:\n",
    "    pass\n",
    "   \n",
    "sql = \"\"\"CREATE TABLE IF NOT EXISTS alumnos \n",
    "                    (alumno_id TEXT NOT NULL PRIMARY KEY, \n",
    "                     apellido TEXT NOT NULL,\n",
    "                     nombre TEXT NOT NULL, \n",
    "                     email TEXT NOT NULL)\"\"\"\n",
    "\n",
    "cur.execute(sql)\n",
    "conn.commit()\n",
    "\n",
    "# Carga de datos a partir de la información del archivo lista_alumnos\n",
    "sql = \"\"\"INSERT INTO alumnos \n",
    "                (alumno_id, apellido, nombre, email) \n",
    "        VALUES  (?, ?, ?, ?)\"\"\"\n",
    "\n",
    "cur.executemany(sql, data_list)\n",
    "\n",
    "conn.commit()\n",
    "conn.close()"
   ]
  },
  {
   "cell_type": "markdown",
   "metadata": {},
   "source": [
    "## Generacion del archivo consolidado `asistencias`"
   ]
  },
  {
   "cell_type": "code",
   "execution_count": 4,
   "metadata": {},
   "outputs": [],
   "source": [
    "data_asistencia = []\n",
    "\n",
    "PATH = \".\\CSV_Files\"\n",
    "# for items in os.listdir(PATH):\n",
    "#     print(items)\n",
    "    \n",
    "for item in os.listdir(PATH): #Leer todos los archivos de esa ruta PATH\n",
    "    if item.endswith(\".csv\"):\n",
    "        # Lazo de lectura de todos los archivos CSV\n",
    "        with open(PATH + '\\\\' + item, encoding='utf-8') as csv_file:\n",
    "            reader = csv.reader(csv_file)\n",
    "            next(reader)\n",
    "\n",
    "            for row in reader:\n",
    "                fecha = f\"{row[4][6:10]}/{row[4][0:2]}/{row[4][3:5]}\"\n",
    "#                 print(fecha)\n",
    "                row_data = (row[1], fecha, row[4][-8:], row[5][-8:], row[6], row[7])\n",
    "                data_asistencia.append(row_data)\n",
    "# print(data_asistencia)"
   ]
  },
  {
   "cell_type": "code",
   "execution_count": 44,
   "metadata": {},
   "outputs": [],
   "source": [
    "# data_asistencia"
   ]
  },
  {
   "cell_type": "markdown",
   "metadata": {},
   "source": [
    "## Creación de la tabla `asistencias` y carga de datos"
   ]
  },
  {
   "cell_type": "code",
   "execution_count": 78,
   "metadata": {},
   "outputs": [],
   "source": [
    "conn = sqlite3.connect(\"database.db\")\n",
    "cur = conn.cursor()\n",
    "\n",
    "# Creacion de la tabla \"alumnos\"\n",
    "try:\n",
    "    cur.execute(\"DROP TABLE asistencias\")\n",
    "    conn.commit()\n",
    "except:\n",
    "    pass\n",
    "   \n",
    "sql = \"\"\"CREATE TABLE IF NOT EXISTS asistencias \n",
    "                    (id_registro INTEGER NOT NULL PRIMARY KEY,\n",
    "                     alumno_id TEXT NOT NULL, \n",
    "                     fecha TEXT NOT NULL,\n",
    "                     hora_ini TEXT NOT NULL,\n",
    "                     hora_fin TEXT NOT NULL,\n",
    "                     tiempo_tot TEXT NOT NULL,\n",
    "                     num_conexiones INTEGER NOT NULL,\n",
    "                     FOREIGN KEY (alumno_id) REFERENCES alumnos(alumno_id))\"\"\"\n",
    "\n",
    "cur.execute(sql)\n",
    "conn.commit()\n",
    "\n",
    "# Carga de datos a partir de la información del archivo lista_alumnos\n",
    "sql = \"\"\"INSERT INTO asistencias \n",
    "                (alumno_id, fecha, hora_ini, hora_fin, tiempo_tot, num_conexiones) \n",
    "        VALUES  (?, ?, ?, ?, ?, ?)\"\"\"\n",
    "\n",
    "cur.executemany(sql, data_asistencia)\n",
    "\n",
    "sql = \"DELETE FROM asistencias WHERE alumno_id = ?\"\n",
    "cur.execute(sql, ('pcellmun',))\n",
    "\n",
    "conn.commit()\n",
    "conn.close()"
   ]
  },
  {
   "cell_type": "markdown",
   "metadata": {},
   "source": [
    "## Creacion de la clase `Database`"
   ]
  },
  {
   "cell_type": "code",
   "execution_count": 152,
   "metadata": {},
   "outputs": [],
   "source": [
    "class Database:\n",
    "    def __init__(self, datafile):\n",
    "        self.conn = sqlite3.connect(datafile)\n",
    "        self.cur = self.conn.cursor()\n",
    "        \n",
    "    def __del__(self):\n",
    "        self.conn.close()\n",
    "        \n",
    "    def date_list(self, set_datetime=False):\n",
    "        sql = \"SELECT DISTINCT fecha FROM asistencias ORDER BY fecha\"\n",
    "        self.cur.execute(sql)\n",
    "\n",
    "        fechas =  [items[0] for items in self.cur]\n",
    "        \n",
    "        if set_datetime:\n",
    "            fechas = [datetime.strptime(fecha, \"%Y/%m/%d\") for fecha in fechas]\n",
    "            \n",
    "        return fechas\n",
    "       \n",
    "    def list_assistants_total(self):\n",
    "        sql = \"SELECT apellido FROM alumnos ORDER BY apellido\"\n",
    "        return [item[0] for item in self.cur.execute(sql).fetchall()]\n",
    "        \n",
    "    def list_assistants(self, date):\n",
    "        sql = \"\"\"SELECT apellido\n",
    "                 FROM asistencias \n",
    "                 JOIN alumnos \n",
    "                 ON alumnos.alumno_id = asistencias.alumno_id\n",
    "                 WHERE fecha = ? \n",
    "                 ORDER BY apellido\n",
    "                 \"\"\"\n",
    "        return self.cur.execute(sql, (date,)).fetchall()        \n",
    "        \n",
    "    def total_assistants_date(self, date):\n",
    "        sql = \"SELECT COUNT(*) FROM asistencias WHERE fecha = ?\"\n",
    "        return self.cur.execute(sql, (date,)).fetchone()[0]\n",
    "        \n",
    "    \n",
    "    def hours_per_student_date(self, apellido, date):\n",
    "        sql = \"\"\"SELECT tiempo_tot\n",
    "                 FROM asistencias\n",
    "                 JOIN alumnos\n",
    "                 ON asistencias.alumno_id = alumnos.alumno_id\n",
    "                 WHERE alumnos.apellido = ? AND asistencias.fecha = ?\n",
    "        \"\"\"\n",
    "        time_resp = self.cur.execute(sql, (apellido, date)).fetchone()\n",
    "        \n",
    "        if time_resp == None:\n",
    "            return 0\n",
    "        else:\n",
    "            hh, mm, ss = time_resp[0].split(\":\")\n",
    "            return int(hh) * 60 + int(mm) + 1\n",
    "        \n",
    "    "
   ]
  },
  {
   "cell_type": "code",
   "execution_count": 151,
   "metadata": {},
   "outputs": [
    {
     "name": "stdout",
     "output_type": "stream",
     "text": [
      "[('01:55:29',)]\n"
     ]
    }
   ],
   "source": [
    "dB=Database(\"database.db\")\n",
    "print(dB.hours_per_student_date(\"Bernuy Ramirez\",'2020/08/18'))\n",
    "del(dB)"
   ]
  },
  {
   "cell_type": "markdown",
   "metadata": {},
   "source": [
    "## Pruebas de la clase Database"
   ]
  },
  {
   "cell_type": "code",
   "execution_count": 112,
   "metadata": {},
   "outputs": [
    {
     "data": {
      "image/png": "[encoded data removed]",
      "text/plain": [
       "<Figure size 432x288 with 1 Axes>"
      ]
     },
     "metadata": {
      "needs_background": "light"
     },
     "output_type": "display_data"
    }
   ],
   "source": [
    "dB = Database(\"database.db\")\n",
    "time_vars = dB.date_list()\n",
    "\n",
    "# print(dB.total_assistants_date(\"2020/08/18\"))\n",
    "# for date in time_vars:\n",
    "#     print(date)\n",
    "#     print(dB.total_assistants_date(date))\n",
    "numbers = [dB.total_assistants_date(date) for date in time_vars]\n",
    "time_vars = dB.date_list(set_datetime=True)\n",
    "\n",
    "plt.plot(time_vars, numbers, '-o', color='orange')\n",
    "plt.xticks(rotation=45)\n",
    "plt.ylim(0, 25)\n",
    "plt.grid()\n",
    "plt.show()\n",
    "\n",
    "del(dB)"
   ]
  },
  {
   "cell_type": "code",
   "execution_count": 119,
   "metadata": {},
   "outputs": [
    {
     "data": {
      "image/png": "[encoded data removed]",
      "text/plain": [
       "<Figure size 432x288 with 1 Axes>"
      ]
     },
     "metadata": {
      "needs_background": "light"
     },
     "output_type": "display_data"
    }
   ],
   "source": [
    "dB = Database(\"database.db\")\n",
    "\n",
    "alumno_apellido = dB.list_assistants_total()[0]\n",
    "\n",
    "time_vars = dB.date_list()\n",
    "numbers = [dB.hours_per_student_date(alumno_apellido, date) for date in time_vars]\n",
    "time_vars = dB.date_list(set_datetime=True)\n",
    "\n",
    "plt.bar(time_vars, numbers)\n",
    "plt.xticks(rotation=45)\n",
    "plt.ylim(0, 220)\n",
    "plt.show()\n",
    "\n",
    "del(dB)"
   ]
  },
  {
   "cell_type": "markdown",
   "metadata": {},
   "source": [
    "## App tkinter"
   ]
  },
  {
   "cell_type": "code",
   "execution_count": 153,
   "metadata": {},
   "outputs": [
    {
     "data": {
      "image/png": "[encoded data removed]",
      "text/plain": [
       "<Figure size 568x432 with 1 Axes>"
      ]
     },
     "metadata": {},
     "output_type": "display_data"
    }
   ],
   "source": [
    "import tkinter as tk\n",
    "import tkinter.ttk as ttk\n",
    "from matplotlib.backends.backend_tkagg import FigureCanvasTkAgg\n",
    "from tkinter.messagebox import askokcancel\n",
    "\n",
    "class App:\n",
    "    def __init__(self, master):\n",
    "        self.master = master\n",
    "        self.master.resizable(0, 0)\n",
    "        self.master.geometry(\"800x500+100+100\")\n",
    "        self.master.title(\"Reporte Asistencia Bb\")\n",
    "        \n",
    "        # Se intercepta el boton \"X\" del TopLevel para permitir un cierre controlado\n",
    "        # de la aplicacion\n",
    "        self.master.protocol(\"WM_DELETE_WINDOW\", self.close_app)\n",
    "        \n",
    "        self.dB = Database(\"database.db\")\n",
    "        \n",
    "        self.var_opcion = tk.IntVar()\n",
    "        \n",
    "        frm = tk.Frame(self.master)\n",
    "        frm.pack(padx=10, pady=10)\n",
    "        \n",
    "        frm1= tk.LabelFrame(frm, text=\"Reportes\")\n",
    "        frm2= tk.Frame(frm)\n",
    "        \n",
    "        frm1.pack(side=tk.LEFT, padx=10, pady=10)\n",
    "        frm2.pack(side=tk.LEFT, padx=10, pady=10)\n",
    "        \n",
    "        frm1_1 = tk.Frame(frm1)\n",
    "        frm1_2 = tk.Frame(frm1)\n",
    "        \n",
    "        frm1_1.pack(padx=5, pady=5)\n",
    "        frm1_2.pack(padx=5, pady=5)\n",
    "        \n",
    "        # ------------------------------------------------ frm1 -----------------------------------------------\n",
    "        self.rdoOpcion1 = tk.Radiobutton(frm1_1, text=\"Asistencia Total\", \n",
    "                                         variable=self.var_opcion, value=1, command=self.graph_opcion1)\n",
    "        self.rdoOpcion2 = tk.Radiobutton(frm1_1, text=\"Asistencia por Alumno\", \n",
    "                                         variable=self.var_opcion, value=2, command=self.graph_opcion2)\n",
    "        \n",
    "        self.rdoOpcion1.grid(row=0, column=0, padx=5, pady=5, sticky=tk.W)\n",
    "        self.rdoOpcion2.grid(row=1, column=0, padx=5, pady=5, sticky=tk.W)\n",
    "        \n",
    "        self.scrY = tk.Scrollbar(frm1_2, orient='vertical')\n",
    "        self.lstAlumnos = tk.Listbox(frm1_2, height=16, yscrollcommand=self.scrY.set)\n",
    "        self.scrY.config(command=self.lstAlumnos.yview)\n",
    "        \n",
    "        self.lstAlumnos.pack(side=tk.LEFT)\n",
    "        self.scrY.pack(side=tk.LEFT, expand=True, fill=tk.Y)\n",
    "    \n",
    "        for apellido in self.dB.list_assistants_total():\n",
    "            self.lstAlumnos.insert(tk.END, apellido)\n",
    "    \n",
    "        self.lstAlumnos.bind(\"<<ListboxSelect>>\", self.update_graph_opcion2)\n",
    "        \n",
    "        # ------------------------------------------------ frm2 -----------------------------------------------\n",
    "        \n",
    "        self.fig, self.ax = plt.subplots(figsize=(8, 6))\n",
    "        self.fig.set_facecolor('#F0F0F0')\n",
    "        \n",
    "        self.graph = FigureCanvasTkAgg(self.fig, master=frm2)\n",
    "        self.graph.get_tk_widget().pack()\n",
    "        \n",
    "        # Se definen los parametros del grafico base\n",
    "        self.ax.set_xticks([])\n",
    "        self.ax.set_yticks([])\n",
    "        self.ax.set_title(\"Reportes\")\n",
    "        \n",
    "        \n",
    "    def graph_opcion1(self):\n",
    "        # Se leen los datos de la dB\n",
    "        time_vars = self.dB.date_list()\n",
    "        numbers = [self.dB.total_assistants_date(date) for date in time_vars]\n",
    "        time_vars = self.dB.date_list(set_datetime=True)\n",
    "\n",
    "        # Se limpia el grafico\n",
    "        self.ax.cla()\n",
    "        \n",
    "        # Se actualiza el grafico\n",
    "        self.ax.plot(time_vars, numbers, '-o', color='orange')\n",
    "        self.ax.set_title(\"Asistencia Total por Fecha\")\n",
    "        self.ax.set_ylim(0, 25)\n",
    "        self.ax.xaxis.set_tick_params(rotation=45)\n",
    "        self.ax.grid()\n",
    "        \n",
    "        self.graph.draw()\n",
    "    \n",
    "    \n",
    "    def graph_opcion2(self):\n",
    "        self.ax.cla()\n",
    "        \n",
    "        # Si se hace click en Opcion2, que llame a la grafica por Alumno\n",
    "        # y se requiere pasar un evento, asi que le pasamos None\n",
    "        self.update_graph_opcion2(None)\n",
    "        \n",
    "        \n",
    "    def update_graph_opcion2(self, event):\n",
    "        if self.var_opcion.get() == 2:\n",
    "            apellido = self.lstAlumnos.get(self.lstAlumnos.curselection())\n",
    "\n",
    "            # Se leen los datos de la dB\n",
    "            time_vars = self.dB.date_list()\n",
    "            numbers = [self.dB.hours_per_student_date(apellido, date) for date in time_vars]\n",
    "            time_vars = self.dB.date_list(set_datetime=True)\n",
    "\n",
    "            # Se limpia el gráfico\n",
    "            self.ax.cla()\n",
    "\n",
    "            # Se actualiza el grafico\n",
    "            self.ax.bar(time_vars, numbers)\n",
    "            self.ax.set_title(\"Asistencia Total por Fecha\")\n",
    "            self.ax.set_ylim(0, 220)\n",
    "            self.ax.xaxis.set_tick_params(rotation=45)\n",
    "            \n",
    "            # Linea horizontal de referencia de 2h de clase\n",
    "            self.ax.axhline(y=100, linestyle='--', color='green')\n",
    "            \n",
    "            self.graph.draw()\n",
    "        \n",
    "        \n",
    "    def close_app(self):\n",
    "        # Se muestre una ventana emergente que pregunta si desea salir o no (bool)\n",
    "        if askokcancel(\"Salir\", \"Desea salir de la aplicacion\"):\n",
    "            # Se dese salir se desconecta la dB y se cierra la ventana TopLevel\n",
    "            del(self.dB)\n",
    "            self.master.destroy()\n",
    "            \n",
    "        \n",
    "root = tk.Tk()\n",
    "app = App(root)\n",
    "root.mainloop()"
   ]
  },
  {
   "cell_type": "code",
   "execution_count": null,
   "metadata": {},
   "outputs": [],
   "source": []
  }
 ],
 "metadata": {
  "kernelspec": {
   "display_name": "Python 3",
   "language": "python",
   "name": "python3"
  },
  "language_info": {
   "codemirror_mode": {
    "name": "ipython",
    "version": 3
   },
   "file_extension": ".py",
   "mimetype": "text/x-python",
   "name": "python",
   "nbconvert_exporter": "python",
   "pygments_lexer": "ipython3",
   "version": "3.6.8"
  }
 },
 "nbformat": 4,
 "nbformat_minor": 4
}
