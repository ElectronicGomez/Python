{
 "cells": [
  {
   "cell_type": "markdown",
   "metadata": {},
   "source": [
    "# Tkinter con clases\n",
    "Una forma bastante eficiente, a nivel de codigo, para crear aplicacion en tkinter es concibiendola como un objeto gráfico utilizando clases.\n",
    "\n",
    "De esta forma, una ventana gráfica se transformará en un objeto que posteriormente podrá ser exportado.\n",
    "\n",
    "Hay algunas reglas sencillas a considerar para migrar un script de tkinter a clases:\n",
    "\n",
    "1. La ventana que hemos llamado \"root\" se llamará \"master\" dentro de la definción de la clase\n",
    "1. Todos los atributos del ambiente gráfico (GUI) será definidos dentro del método contructor `__init__`\n",
    "1. Todas las propiedades y variables ahora son parte de una clase, por lo que serán precedidas por `self`"
   ]
  },
  {
   "cell_type": "markdown",
   "metadata": {},
   "source": [
    "## App tkinter: Script"
   ]
  },
  {
   "cell_type": "code",
   "execution_count": null,
   "metadata": {},
   "outputs": [],
   "source": [
    "from tkinter import *\n",
    "import tkinter.ttk as ttk\n",
    "import datetime\n",
    "\n",
    "root = Tk()\n",
    "\n",
    "root.title(\"Reloj\")\n",
    "root.geometry(\"200x120+100+100\")\n",
    "root.resizable(0, 0)\n",
    "\n",
    "# Se extrae la hora del sistema y se le da un formato para almacenarlo\n",
    "# en una cadena tipo StringVar para asiganrsela a un Label en el GUI\n",
    "sys_time = StringVar()\n",
    "sys_time.set(datetime.datetime.now().strftime(\"%H:%M:%S\"))\n",
    "\n",
    "# Funciones que modifican en tiempo real la hora\n",
    "# utilizando un mecanismo similar al llamado encadenado de funciones\n",
    "# para animar un plot, utilizando root.after(ms, func)\n",
    "def update_time():\n",
    "    change_time()\n",
    "\n",
    "def change_time():\n",
    "    sys_time.set(datetime.datetime.now().strftime(\"%H:%M:%S\"))\n",
    "    root.after(10, update_time)\n",
    "\n",
    "frm = Frame(root, padx=10, pady=10)\n",
    "frm.pack()\n",
    "\n",
    "# Vamos a utilizar un Frame Espacial llamado ttk.Labelframe que va a agregar un Frame\n",
    "# que tiene una etiqueta en forma de texto para encerrar un conjunto de Widgets\n",
    "lblFrame = ttk.Labelframe(frm, text=\"Hora\")\n",
    "lblFrame.pack(padx=10, pady=10)\n",
    "\n",
    "# Colocamos un Label dentro del Labelframe como si lo hicieramos sobre un Frame normal\n",
    "lblHora = Label(lblFrame, textvariable=sys_time, font='Arial 26 italic')\n",
    "lblHora.pack(padx=10, pady=10)\n",
    "\n",
    "root.after(10, update_time)\n",
    "    \n",
    "root.mainloop()"
   ]
  },
  {
   "cell_type": "markdown",
   "metadata": {},
   "source": [
    "## App tkinter: Clases"
   ]
  },
  {
   "cell_type": "code",
   "execution_count": null,
   "metadata": {},
   "outputs": [],
   "source": [
    "from tkinter import *\n",
    "import tkinter.ttk as ttk\n",
    "import datetime\n",
    "\n",
    "class Reloj:\n",
    "    def __init__(self, master):\n",
    "        self.master = master\n",
    "        self.master.title(\"Reloj\")\n",
    "        self.master.geometry(\"200x120+100+100\")\n",
    "        self.master.resizable(0, 0)\n",
    "\n",
    "        self.sys_time = StringVar()\n",
    "        self.sys_time.set(datetime.datetime.now().strftime(\"%H:%M:%S\"))\n",
    "\n",
    "        frm = Frame(self.master, padx=10, pady=10)\n",
    "        frm.pack()\n",
    "\n",
    "        lblFrame = ttk.Labelframe(frm, text=\"Hora\")\n",
    "        lblFrame.pack(padx=10, pady=10)\n",
    "\n",
    "        self.lblHora = Label(lblFrame, textvariable=self.sys_time, font='Arial 26 italic')\n",
    "        self.lblHora.pack(padx=10, pady=10)\n",
    "\n",
    "        master.after(10, self.update_time)\n",
    "    \n",
    "    def update_time(self):\n",
    "        self.change_time()\n",
    "\n",
    "    def change_time(self):\n",
    "        self.sys_time.set(datetime.datetime.now().strftime(\"%H:%M:%S\"))\n",
    "        self.master.after(10, self.update_time)\n",
    "\n",
    "        \n",
    "root = Tk()\n",
    "app = Reloj(root)\n",
    "root.mainloop()"
   ]
  },
  {
   "cell_type": "markdown",
   "metadata": {},
   "source": [
    "Hay que notar varios detalles:\n",
    "\n",
    "- Es necesario definir `self.master = master` para que la funcion `change_time(self)` pueda utilizar el método `after` (es necesario que la función pueda acceder la propiedad master. Es equivalente a hacer una variable global).\n",
    "\n",
    "- Los propiedades `frm` y `lblFrame` no requieren necesariamente un `self` para establecerlas como propiedad de una clase (aunque se puede estandarizar que todos los elementos le pertenezcan a una clase) porque su control se mantiene dentro del metodo constructor `__init__` y no serán modificados por otros métodos\n",
    "\n",
    "- Los métodos (que en el ejemplo tipo Script eran funciones) pueden ir en cualquier sección dentro de la definición de la clase y no requieren estar \"antes\" de que sean llamados."
   ]
  }
 ],
 "metadata": {
  "kernelspec": {
   "display_name": "Python 3",
   "language": "python",
   "name": "python3"
  },
  "language_info": {
   "codemirror_mode": {
    "name": "ipython",
    "version": 3
   },
   "file_extension": ".py",
   "mimetype": "text/x-python",
   "name": "python",
   "nbconvert_exporter": "python",
   "pygments_lexer": "ipython3",
   "version": "3.6.8"
  }
 },
 "nbformat": 4,
 "nbformat_minor": 2
}
