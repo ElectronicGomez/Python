{
 "cells": [
  {
   "cell_type": "code",
   "execution_count": 14,
   "metadata": {},
   "outputs": [
    {
     "data": {
      "text/plain": [
       "-1"
      ]
     },
     "execution_count": 14,
     "metadata": {},
     "output_type": "execute_result"
    }
   ],
   "source": [
    "from hikvisionapi import Client\n",
    "import cv2\n",
    "import time\n",
    "\n",
    "cam = Client('http://192.168.1.130', 'admin', 'mariagomeZ17#', timeout=30)\n",
    "cam.count_events = 2 # The number of events we want to retrieve (default = 1)\n",
    "response = cam.Streaming.channels[102].picture(method='get', type='opaque_data')\n",
    "with open('imagen.jpg', 'wb') as f:\n",
    "    for chunk in response.iter_content(chunk_size=1024):\n",
    "        if chunk:\n",
    "            f.write(chunk)\n",
    "\n",
    "time.sleep(1)\n",
    "img = cv2.imread('imagen.jpg')\n",
    "cv2.imshow(\"show\", img)\n",
    "cv2.waitKey(0)"
   ]
  }
 ],
 "metadata": {
  "kernelspec": {
   "display_name": "Python 3",
   "language": "python",
   "name": "python3"
  },
  "language_info": {
   "codemirror_mode": {
    "name": "ipython",
    "version": 3
   },
   "file_extension": ".py",
   "mimetype": "text/x-python",
   "name": "python",
   "nbconvert_exporter": "python",
   "pygments_lexer": "ipython3",
   "version": "3.6.8"
  }
 },
 "nbformat": 4,
 "nbformat_minor": 2
}
