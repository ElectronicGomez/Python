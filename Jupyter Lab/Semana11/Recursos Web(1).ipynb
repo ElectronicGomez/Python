{
 "cells": [
  {
   "cell_type": "markdown",
   "metadata": {},
   "source": [
    "# Recursos Web\n",
    "![](https://assets.grepsr.com/grepsr-homepage-v2/wp-content/uploads/2013/12/web.png)\n",
    "\n",
    "Hasta ahora hemos recurrido a muchas fuentes de información: entrada de usuarios, archivos de diferentes formatos, bases de datos y tablas web. Pero el gran reporitorio de información actualmente es la World Wide Web. Actualmente todo esta en el web y tenemos dos formas de sacarle provecho: utilizando servicios de consultas abiertos basados en APIs, o recorriendo las páginas web desde el código HTML para extraer lo que requerimos utilizando una técnica llamada webscrapping.\n",
    "\n",
    "Luis A. Muñoz"
   ]
  },
  {
   "cell_type": "markdown",
   "metadata": {},
   "source": [
    "# API REST\n",
    "Igual que una interfaz de usuario permite la interacción y comunicación entre un software y una persona, una API (acrónimo de Application Programming Interface) facilita la relación entre dos aplicaciones para el intercambio de mensajes o datos. Un conjunto de funciones y procedimientos que ofrece una biblioteca para que otro software la utilice como capa de abstracción, un espacio de acceso e intercambio de información adicional en la parte superior. Así una se sirve de la información de la otra sin dejar de ser independientes. \n",
    "\n",
    "REST es un estilo de arquitectura de software que se utiliza para describir cualquier interfaz entre diferentes sistemas que utilice HTTP para comunicarse. Este término significa REpresentational State Transfer (transferencia de estado representacional), lo que quiere decir que entre dos llamadas cualquiera, el servicio no guarda los datos. Por ejemplo, podemos autenticar a un usuario con su email y contraseña en una llamada, pero la siguiente que hagamos ya se habrá olvidado de la anterior petición de autenticación.\n",
    "\n",
    "Una API REST es un backend capaz de contestar a las llamadas a una serie de URLs en formato JSON. Es utilizado por muchas empresas gracias a su versatilidad y eficiencia.\n",
    "\n",
    "La principal ventaja de las API REST es que podemos desarrollar una API en el backend y utilizarla en cualquier dispositivo, ahorrando así mucho tiempo de desarrollo. En el caso de Twitter, la misma API se consume desde Android, iOS y el navegador web.\n",
    "\n",
    "<img src=\"https://phpenthusiast.com/theme/assets/images/blog/what_is_rest_api.png\" alt=\"drawing\" width=\"500\"/>"
   ]
  },
  {
   "cell_type": "markdown",
   "metadata": {},
   "source": [
    "## API REST con request\n",
    "Para utilizar las facilidades de un API REST, es necesario contar con el URI (Uniform Resource Identifier) del recurso y un método de obtener las respuestas ante las peticiones de recursos o acciones sobre el servicio.\n",
    "\n",
    "![](https://avaldes.com/wp-content/uploads/2017/08/REST_URL_structure.png)\n",
    "\n",
    "Para manipular los recursos, HTTP nos dota de los siguientes métodos con los cuales debemos operar:\n",
    "\n",
    "* GET: Para consultar y leer recursos\n",
    "* POST: Para crear recursos\n",
    "* PUT: Para editar recursos\n",
    "* DELETE: Para eliminar recursos.\n",
    "* PATCH: Para editar partes concretas de un recurso.\n",
    "\n",
    "Los métodos de uso más común son GET y POST. Por ejemplo, se puede utilizar GET para saber las ultimas actualizaciones de una cuenta de Twitter, o utilizar POST para enviar un Twitter bajo una cuenta de usuario."
   ]
  },
  {
   "cell_type": "code",
   "execution_count": 1,
   "metadata": {},
   "outputs": [],
   "source": [
    "import requests\n",
    "import json"
   ]
  },
  {
   "cell_type": "markdown",
   "metadata": {},
   "source": [
    "### Public API REST\n",
    "Existen API REST públicas, es decír de libre consulta para obtener información sobre algunos recursos disponibles de dominio público. Por ejemplo, se puede obtener información libre de la Estación Espacial Internacional (IIS) en el proyecto de fuente abierta [Open Notify](http://open-notify.org/). Aquí podemos obtener algunos datos sobre la Estación Espacial y sus tripulantes."
   ]
  },
  {
   "cell_type": "code",
   "execution_count": 2,
   "metadata": {},
   "outputs": [],
   "source": [
    "URL = \"http://api.open-notify.org/iss-now.json\"\n",
    "r = requests.get(URL)"
   ]
  },
  {
   "cell_type": "code",
   "execution_count": 3,
   "metadata": {},
   "outputs": [
    {
     "data": {
      "text/plain": [
       "True"
      ]
     },
     "execution_count": 3,
     "metadata": {},
     "output_type": "execute_result"
    }
   ],
   "source": [
    "r.status_code == requests.codes.ok"
   ]
  },
  {
   "cell_type": "code",
   "execution_count": 4,
   "metadata": {},
   "outputs": [
    {
     "name": "stdout",
     "output_type": "stream",
     "text": [
      "{\n",
      "    \"message\": \"success\",\n",
      "    \"timestamp\": 1604270773,\n",
      "    \"iss_position\": {\n",
      "        \"latitude\": \"51.1751\",\n",
      "        \"longitude\": \"83.3245\"\n",
      "    }\n",
      "}\n"
     ]
    }
   ],
   "source": [
    "URL = \"http://api.open-notify.org/iss-now.json\"\n",
    "r = requests.get(URL)\n",
    "\n",
    "if r.status_code == requests.codes.ok:\n",
    "    data = r.json()\n",
    "    \n",
    "    print(json.dumps(data, indent=4))\n",
    "else:\n",
    "    print(f\"ERROR: Reponse: {r.status_code}\")"
   ]
  },
  {
   "cell_type": "code",
   "execution_count": 5,
   "metadata": {},
   "outputs": [
    {
     "name": "stdout",
     "output_type": "stream",
     "text": [
      "Date & Time: 2020-11-01 17:46:13\n",
      "Lat: 51.1751, Lon:83.3245\n"
     ]
    }
   ],
   "source": [
    "from datetime import datetime\n",
    "\n",
    "print(f\"Date & Time: {datetime.fromtimestamp(int(data['timestamp']))}\")\n",
    "print(f\"Lat: {data['iss_position']['latitude']}, Lon:{data['iss_position']['longitude']}\")"
   ]
  },
  {
   "cell_type": "markdown",
   "metadata": {},
   "source": [
    "### API REST con parametros\n",
    "La librería `request` tiene como principal utilidad la conformación de un URI a partir de un URL; esto quiere decir, agregarle los parametros requeridos por un GET para obtener la información necesaria.\n",
    "\n",
    "Por ejemplo, para obtener los momentos en los que se puede tener visibilidad de la Estacion Espacial, se puede hacer una consulta sobre el servicio, agregandole la locación de observación."
   ]
  },
  {
   "cell_type": "code",
   "execution_count": 6,
   "metadata": {},
   "outputs": [
    {
     "name": "stdout",
     "output_type": "stream",
     "text": [
      "GET http://api.open-notify.org/iss-pass.json?lat=-12.0500&lon=-77.0500\n",
      "{\n",
      "    \"message\": \"success\",\n",
      "    \"request\": {\n",
      "        \"altitude\": 100,\n",
      "        \"datetime\": 1604270778,\n",
      "        \"latitude\": -12.05,\n",
      "        \"longitude\": -77.05,\n",
      "        \"passes\": 5\n",
      "    },\n",
      "    \"response\": [\n",
      "        {\n",
      "            \"duration\": 635,\n",
      "            \"risetime\": 1604285579\n",
      "        },\n",
      "        {\n",
      "            \"duration\": 486,\n",
      "            \"risetime\": 1604291444\n",
      "        },\n",
      "        {\n",
      "            \"duration\": 647,\n",
      "            \"risetime\": 1604333449\n",
      "        },\n",
      "        {\n",
      "            \"duration\": 440,\n",
      "            \"risetime\": 1604339363\n",
      "        },\n",
      "        {\n",
      "            \"duration\": 581,\n",
      "            \"risetime\": 1604369138\n",
      "        }\n",
      "    ]\n",
      "}\n"
     ]
    }
   ],
   "source": [
    "# URI: \"http://api.open-notify.org/iss-pass.json?lat=LAT&lon=LON\"\n",
    "URL = \"http://api.open-notify.org/iss-pass.json\"\n",
    "payload={'lat': '-12.0500',\n",
    "         'lon': '-77.0500'}\n",
    "r = requests.get(URL, params=payload)\n",
    "print(f\"GET {r.url}\")\n",
    "\n",
    "if r.status_code == requests.codes.ok:\n",
    "    data = r.json()\n",
    "    \n",
    "    print(json.dumps(data, indent=4))\n",
    "\n",
    "    # Guardar en un archivo\n",
    "    with open(\"temp.json\", mode='w') as file:\n",
    "        json.dump(data, file)\n",
    "else:\n",
    "    print(r.status_code)"
   ]
  },
  {
   "cell_type": "markdown",
   "metadata": {},
   "source": [
    "### Ejercicio\n",
    "Escriba un programa en Python que pida al usuario una coordenada y retorne las próximas 5 vistas posibles de la Estación (fecha-hora inicial/final)    "
   ]
  },
  {
   "cell_type": "code",
   "execution_count": 7,
   "metadata": {},
   "outputs": [
    {
     "name": "stdin",
     "output_type": "stream",
     "text": [
      "Ingrese coordenadas [NS EO]: -12 -15\n"
     ]
    },
    {
     "name": "stdout",
     "output_type": "stream",
     "text": [
      "1. INI: 2020-11-01 18:49:41 - FIN: 2020-11-01 18:59:59\n",
      "2. INI: 2020-11-02 06:31:26 - FIN: 2020-11-02 06:41:02\n",
      "3. INI: 2020-11-02 08:07:54 - FIN: 2020-11-02 08:17:47\n",
      "4. INI: 2020-11-02 16:26:51 - FIN: 2020-11-02 16:33:40\n",
      "5. INI: 2020-11-02 18:01:43 - FIN: 2020-11-02 18:12:34\n"
     ]
    }
   ],
   "source": [
    "import requests\n",
    "from datetime import datetime\n",
    "\n",
    "URL = \"http://api.open-notify.org/iss-pass.json\"\n",
    "lat, lon = input(\"Ingrese coordenadas [NS EO]:\").split()\n",
    "\n",
    "payload={'lat': lat,\n",
    "         'lon': lon}\n",
    "r = requests.get(URL, params=payload)\n",
    "\n",
    "if r.status_code == requests.codes.ok:\n",
    "    data = r.json()\n",
    "    \n",
    "    for idx, item in enumerate(data['response'], start=1):\n",
    "        print(f\"{idx}. INI: {datetime.fromtimestamp(int(item['risetime']))} - FIN: {datetime.fromtimestamp(int(item['risetime'] + item['duration']))}\")\n",
    "        \n",
    "else:\n",
    "    print(\"ERROR:\", r.status_code)"
   ]
  },
  {
   "cell_type": "markdown",
   "metadata": {},
   "source": [
    "### Ejercicio\n",
    "Escriba una aplicación en tkinter que muestre en tiempo real la ubicación en forma de coordenadas de la Estación Espacial Internacional"
   ]
  },
  {
   "cell_type": "code",
   "execution_count": 2,
   "metadata": {},
   "outputs": [],
   "source": [
    "import tkinter as tk\n",
    "import requests\n",
    "from time import sleep\n",
    "import threading\n",
    "\n",
    "class App:\n",
    "    def __init__(self, master):\n",
    "        self.master = master\n",
    "        self.master.geometry(\"240x100+100+100\")\n",
    "        self.master.resizable(0, 0)\n",
    "        \n",
    "        self.URL = \"http://api.open-notify.org/iss-now.json\"\n",
    "        \n",
    "        self.lblNS = tk.Label(self.master, font='Arial 12 bold')\n",
    "        self.lblWE = tk.Label(self.master, font='Arial 12 bold')\n",
    "        \n",
    "        self.lblNS.pack(padx=10, pady=10)\n",
    "        self.lblWE.pack(padx=10, pady=10)\n",
    "        \n",
    "        self.query_iss()\n",
    "        \n",
    "\n",
    "    def query_iis(self):\n",
    "        while True:\n",
    "            r = requests.get(self.URL)\n",
    "\n",
    "            if r.status_code == requests.codes.ok:\n",
    "                data = r.json()\n",
    "                loc_NS = data['iss_position']['latitude']\n",
    "                loc_WE = data['iss_position']['longitude']\n",
    "\n",
    "                self.lblNS.config(text=f\"{loc_NS} °N\")\n",
    "                self.lblWE.config(text=f\"{loc_WE} °W\")\n",
    "            \n",
    "            self.master.after(1000, self.query_iss)\n",
    "\n",
    "        \n",
    "root = tk.Tk()\n",
    "app = App(root)\n",
    "root.mainloop()"
   ]
  },
  {
   "cell_type": "markdown",
   "metadata": {},
   "source": [
    "### Public Key API REST\n",
    "Existen API REST que requieren de un tipo de authenticación por parte del usuario simple, en forma de una código alfanumérico llamado llave (ya sea privada, de consumo, etc.) que debe ser generada como parte de un proceso de creación de cuenta de desarrollador. Por ejemplo, el API REST de [MapQuest](https://developer.mapquest.com/) permite obtener muchos servicios geográficos, pero requiere el uso de una llave de autenticación, por lo que será necesario abrir una cuenta y utilizar la llave para utilizar los recursos.\n",
    "\n",
    "### TIP: Secretos y Variables de Ambiente\n",
    "Esta llave de autenticación se debe de enviar cada vez que se hace una consulta sobre el API, y es una buena práctica mantenerla secreta y lejos del código. Hay algunas formas de mantener las cosas secretas en Python, y una de ellas es utilizar las *variables de ambiente* y a librería `doyenv`. Será necesario instalar:\n",
    "\n",
    "    pip install -U python-dotenv\n",
    "    \n",
    "Una vez hecho esto, debemos crear un archivo `.env` con un editor de texto en la misma ruta de trabajo con la siguiente informacion (la llave mostrada es ficticia, tendrá que colocar la suya):\n",
    "\n",
    "    MAPQUEST_KEY = 8sHGh5hHGH69JHJjkiusljsijss\n",
    "    \n",
    "Para utilizar la llave utilizaremos el siguiente código:"
   ]
  },
  {
   "cell_type": "code",
   "execution_count": 1,
   "metadata": {},
   "outputs": [],
   "source": [
    "import os\n",
    "from dotenv import load_dotenv, find_dotenv\n",
    "\n",
    "load_dotenv(find_dotenv())\n",
    "\n",
    "API_KEY = os.environ.get(\"MAPQUEST_KEY\")\n",
    "#print(API_KEY)"
   ]
  },
  {
   "cell_type": "markdown",
   "metadata": {},
   "source": [
    "Ahora con la clave en un lugar seguro, podemos llmar al API REST Geocoding. Este permite obtener las coordenadas geográficas a partir de una dirección."
   ]
  },
  {
   "cell_type": "code",
   "execution_count": 2,
   "metadata": {},
   "outputs": [
    {
     "name": "stdout",
     "output_type": "stream",
     "text": [
      "GET http://open.mapquestapi.com/geocoding/v1/address?key=VSHBijCtLwMxAAzMeITIGuOcdnGPc5O9&location=Av.+La+Marina+2810%2C+San+Miguel%2C+Lima\n",
      "{\n",
      "    \"info\": {\n",
      "        \"statuscode\": 0,\n",
      "        \"copyright\": {\n",
      "            \"text\": \"\\u00a9 2020 MapQuest, Inc.\",\n",
      "            \"imageUrl\": \"http://api.mqcdn.com/res/mqlogo.gif\",\n",
      "            \"imageAltText\": \"\\u00a9 2020 MapQuest, Inc.\"\n",
      "        },\n",
      "        \"messages\": []\n",
      "    },\n",
      "    \"options\": {\n",
      "        \"maxResults\": -1,\n",
      "        \"thumbMaps\": true,\n",
      "        \"ignoreLatLngInput\": false\n",
      "    },\n",
      "    \"results\": [\n",
      "        {\n",
      "            \"providedLocation\": {\n",
      "                \"location\": \"Av. La Marina 2810, San Miguel, Lima\"\n",
      "            },\n",
      "            \"locations\": [\n",
      "                {\n",
      "                    \"street\": \"Avenida La Marina\",\n",
      "                    \"adminArea6\": \"San Miguel\",\n",
      "                    \"adminArea6Type\": \"Neighborhood\",\n",
      "                    \"adminArea5\": \"San Miguel\",\n",
      "                    \"adminArea5Type\": \"City\",\n",
      "                    \"adminArea4\": \"Lima\",\n",
      "                    \"adminArea4Type\": \"County\",\n",
      "                    \"adminArea3\": \"Lima\",\n",
      "                    \"adminArea3Type\": \"State\",\n",
      "                    \"adminArea1\": \"PE\",\n",
      "                    \"adminArea1Type\": \"Country\",\n",
      "                    \"postalCode\": \"L32\",\n",
      "                    \"geocodeQualityCode\": \"B1XAX\",\n",
      "                    \"geocodeQuality\": \"STREET\",\n",
      "                    \"dragPoint\": false,\n",
      "                    \"sideOfStreet\": \"N\",\n",
      "                    \"linkId\": \"0\",\n",
      "                    \"unknownInput\": \"\",\n",
      "                    \"type\": \"s\",\n",
      "                    \"latLng\": {\n",
      "                        \"lat\": -12.074545,\n",
      "                        \"lng\": -77.099525\n",
      "                    },\n",
      "                    \"displayLatLng\": {\n",
      "                        \"lat\": -12.074545,\n",
      "                        \"lng\": -77.099525\n",
      "                    },\n",
      "                    \"mapUrl\": \"http://open.mapquestapi.com/staticmap/v5/map?key=VSHBijCtLwMxAAzMeITIGuOcdnGPc5O9&type=map&size=225,160&locations=-12.0745454,-77.0995255|marker-sm-50318A-1&scalebar=true&zoom=15&rand=1345367316\"\n",
      "                },\n",
      "                {\n",
      "                    \"street\": \"Avenida La Marina\",\n",
      "                    \"adminArea6\": \"San Miguel\",\n",
      "                    \"adminArea6Type\": \"Neighborhood\",\n",
      "                    \"adminArea5\": \"San Miguel\",\n",
      "                    \"adminArea5Type\": \"City\",\n",
      "                    \"adminArea4\": \"Provincia de Santiago\",\n",
      "                    \"adminArea4Type\": \"County\",\n",
      "                    \"adminArea3\": \"Regi\\u00f3n Metropolitana de Santiago\",\n",
      "                    \"adminArea3Type\": \"State\",\n",
      "                    \"adminArea1\": \"CL\",\n",
      "                    \"adminArea1Type\": \"Country\",\n",
      "                    \"postalCode\": \"8490319\",\n",
      "                    \"geocodeQualityCode\": \"B1XAX\",\n",
      "                    \"geocodeQuality\": \"STREET\",\n",
      "                    \"dragPoint\": false,\n",
      "                    \"sideOfStreet\": \"N\",\n",
      "                    \"linkId\": \"0\",\n",
      "                    \"unknownInput\": \"\",\n",
      "                    \"type\": \"s\",\n",
      "                    \"latLng\": {\n",
      "                        \"lat\": -33.496389,\n",
      "                        \"lng\": -70.659122\n",
      "                    },\n",
      "                    \"displayLatLng\": {\n",
      "                        \"lat\": -33.496389,\n",
      "                        \"lng\": -70.659122\n",
      "                    },\n",
      "                    \"mapUrl\": \"http://open.mapquestapi.com/staticmap/v5/map?key=VSHBijCtLwMxAAzMeITIGuOcdnGPc5O9&type=map&size=225,160&locations=-33.4963889,-70.6591217|marker-sm-50318A-2&scalebar=true&zoom=15&rand=-1374086917\"\n",
      "                },\n",
      "                {\n",
      "                    \"street\": \"Avenida La Marina\",\n",
      "                    \"adminArea6\": \"La Perla\",\n",
      "                    \"adminArea6Type\": \"Neighborhood\",\n",
      "                    \"adminArea5\": \"La Perla\",\n",
      "                    \"adminArea5Type\": \"City\",\n",
      "                    \"adminArea4\": \"Callao\",\n",
      "                    \"adminArea4Type\": \"County\",\n",
      "                    \"adminArea3\": \"Constitutional Province of Callao\",\n",
      "                    \"adminArea3Type\": \"State\",\n",
      "                    \"adminArea1\": \"PE\",\n",
      "                    \"adminArea1Type\": \"Country\",\n",
      "                    \"postalCode\": \"LIMA 32\",\n",
      "                    \"geocodeQualityCode\": \"B1XXX\",\n",
      "                    \"geocodeQuality\": \"STREET\",\n",
      "                    \"dragPoint\": false,\n",
      "                    \"sideOfStreet\": \"N\",\n",
      "                    \"linkId\": \"0\",\n",
      "                    \"unknownInput\": \"\",\n",
      "                    \"type\": \"s\",\n",
      "                    \"latLng\": {\n",
      "                        \"lat\": -12.07248,\n",
      "                        \"lng\": -77.103499\n",
      "                    },\n",
      "                    \"displayLatLng\": {\n",
      "                        \"lat\": -12.07248,\n",
      "                        \"lng\": -77.103499\n",
      "                    },\n",
      "                    \"mapUrl\": \"http://open.mapquestapi.com/staticmap/v5/map?key=VSHBijCtLwMxAAzMeITIGuOcdnGPc5O9&type=map&size=225,160&locations=-12.0724799,-77.1034988|marker-sm-50318A-3&scalebar=true&zoom=15&rand=286071598\"\n",
      "                },\n",
      "                {\n",
      "                    \"street\": \"Avenida La Marina\",\n",
      "                    \"adminArea6\": \"Pedro Aguirre Cerda\",\n",
      "                    \"adminArea6Type\": \"Neighborhood\",\n",
      "                    \"adminArea5\": \"Pedro Aguirre Cerda\",\n",
      "                    \"adminArea5Type\": \"City\",\n",
      "                    \"adminArea4\": \"Provincia de Santiago\",\n",
      "                    \"adminArea4Type\": \"County\",\n",
      "                    \"adminArea3\": \"Regi\\u00f3n Metropolitana de Santiago\",\n",
      "                    \"adminArea3Type\": \"State\",\n",
      "                    \"adminArea1\": \"CL\",\n",
      "                    \"adminArea1Type\": \"Country\",\n",
      "                    \"postalCode\": \"8490319\",\n",
      "                    \"geocodeQualityCode\": \"B1XXX\",\n",
      "                    \"geocodeQuality\": \"STREET\",\n",
      "                    \"dragPoint\": false,\n",
      "                    \"sideOfStreet\": \"N\",\n",
      "                    \"linkId\": \"0\",\n",
      "                    \"unknownInput\": \"\",\n",
      "                    \"type\": \"s\",\n",
      "                    \"latLng\": {\n",
      "                        \"lat\": -33.494914,\n",
      "                        \"lng\": -70.663785\n",
      "                    },\n",
      "                    \"displayLatLng\": {\n",
      "                        \"lat\": -33.494914,\n",
      "                        \"lng\": -70.663785\n",
      "                    },\n",
      "                    \"mapUrl\": \"http://open.mapquestapi.com/staticmap/v5/map?key=VSHBijCtLwMxAAzMeITIGuOcdnGPc5O9&type=map&size=225,160&locations=-33.494914,-70.6637852|marker-sm-50318A-4&scalebar=true&zoom=15&rand=-1639172701\"\n",
      "                }\n",
      "            ]\n",
      "        }\n",
      "    ]\n",
      "}\n"
     ]
    }
   ],
   "source": [
    "import requests\n",
    "import json\n",
    "\n",
    "API_KEY = os.environ.get(\"MAPQUEST_KEY\")\n",
    "URL = \"http://open.mapquestapi.com/geocoding/v1/address\"\n",
    "payload = {'key': API_KEY, \n",
    "           'location': 'Av. La Marina 2810, San Miguel, Lima'}   # Av. La Marina 2810, San Miguel, Lima\n",
    "r = requests.get(URL, params=payload)\n",
    "print(f\"GET {r.url}\")\n",
    "\n",
    "if r.status_code == requests.codes.ok:\n",
    "    data = r.json()\n",
    "    \n",
    "    print(json.dumps(data, indent=4))\n",
    "    \n",
    "    # Guardar en un archivo\n",
    "    with open(\"temp.json\", mode='w') as file:\n",
    "        json.dump(data, file)\n",
    "else:\n",
    "    print(r.status_code)"
   ]
  },
  {
   "cell_type": "markdown",
   "metadata": {},
   "source": [
    "### Ejercicio\n",
    "Escriba un programa en Python que pida al usuario una direccion y retorne las próximas 5 vistas posibles de la Estación (fecha-hora inicial/final)\n",
    "\n",
    "    Ingrese la direccion:\n",
    " "
   ]
  },
  {
   "cell_type": "code",
   "execution_count": 3,
   "metadata": {},
   "outputs": [
    {
     "name": "stdin",
     "output_type": "stream",
     "text": [
      "Ingrese una ubicacion de observacion:  Av. Primavera 2122, Santiago de Surco\n"
     ]
    },
    {
     "name": "stdout",
     "output_type": "stream",
     "text": [
      "1. INI: 2020-08-04 22:13:24 - FIN: 2020-08-04 22:23:38\n",
      "2. INI: 2020-08-04 23:50:38 - FIN: 2020-08-04 23:59:48\n",
      "3. INI: 2020-08-05 08:08:35 - FIN: 2020-08-05 08:16:50\n",
      "4. INI: 2020-08-05 09:44:11 - FIN: 2020-08-05 09:54:47\n",
      "5. INI: 2020-08-05 21:26:34 - FIN: 2020-08-05 21:35:29\n"
     ]
    }
   ],
   "source": [
    "import requests\n",
    "from datetime import datetime\n",
    "\n",
    "URL = \"http://open.mapquestapi.com/geocoding/v1/address\"\n",
    "location = input(\"Ingrese una ubicacion de observacion: \")\n",
    "\n",
    "payload = {'key': API_KEY, \n",
    "           'location': location}\n",
    "r = requests.get(URL, params=payload)\n",
    "\n",
    "if r.status_code == requests.codes.ok:\n",
    "    data = r.json()\n",
    "    payload={'lat': data['results'][0]['locations'][0]['latLng']['lat'],\n",
    "             'lon': data['results'][0]['locations'][0]['latLng']['lng']}\n",
    "    \n",
    "    URL = \"http://api.open-notify.org/iss-pass.json\"\n",
    "\n",
    "    r = requests.get(URL, params=payload)\n",
    "\n",
    "    if r.status_code == requests.codes.ok:\n",
    "        data = r.json()\n",
    "\n",
    "        for idx, item in enumerate(data['response'], start=1):\n",
    "            print(f\"{idx}. INI: {datetime.fromtimestamp(int(item['risetime']))} - FIN: {datetime.fromtimestamp(int(item['risetime'] + item['duration']))}\")\n",
    "    else:\n",
    "        print(\"ERROR:\", r.status_code)\n",
    "else:\n",
    "    print(\"ERROR:\", r.status_code)"
   ]
  },
  {
   "cell_type": "markdown",
   "metadata": {},
   "source": [
    "El API REST Directions permite obtener las direcciones a seguir para llegar desde un punto a otro, utilizando geolocalización."
   ]
  },
  {
   "cell_type": "code",
   "execution_count": 5,
   "metadata": {},
   "outputs": [
    {
     "name": "stdout",
     "output_type": "stream",
     "text": [
      "GET http://www.mapquestapi.com/directions/v2/route?key=VSHBijCtLwMxAAzMeITIGuOcdnGPc5O9&from=Av.+Primavera+2310%2C+Santiago+de+Surco%2C+Lima&to=La+Marina+2810%2C+San+Miguel%2C+Lima&unit=k\n"
     ]
    }
   ],
   "source": [
    "URL = \"http://www.mapquestapi.com/directions/v2/route\"\n",
    "payload = {'key': API_KEY, \n",
    "           'from': 'Av. Primavera 2310, Santiago de Surco, Lima', \n",
    "           'to': 'La Marina 2810, San Miguel, Lima', \n",
    "           'unit': 'k'}\n",
    "r = requests.get(URL, params=payload)\n",
    "print(f\"GET {r.url}\")\n",
    "\n",
    "if r.status_code == requests.codes.ok:\n",
    "    data = r.json()\n",
    "    \n",
    "    # Guardar en un archivo\n",
    "    with open(\"temp.json\", mode='w') as file:\n",
    "        json.dump(data, file)\n",
    "else:\n",
    "    print(r.status_code)"
   ]
  },
  {
   "cell_type": "markdown",
   "metadata": {},
   "source": [
    "## Ejercicio\n",
    "Escriba un script que pida dos direcciones (inicio y fin) y muestre un listado informativo de la ruta."
   ]
  },
  {
   "cell_type": "code",
   "execution_count": 14,
   "metadata": {},
   "outputs": [
    {
     "name": "stdin",
     "output_type": "stream",
     "text": [
      "Ingrese origen:  -12 -12\n",
      "Ingrese destino:  12\n"
     ]
    },
    {
     "ename": "NameError",
     "evalue": "name 'API_KEY' is not defined",
     "output_type": "error",
     "traceback": [
      "\u001b[1;31m---------------------------------------------------------------------------\u001b[0m",
      "\u001b[1;31mNameError\u001b[0m                                 Traceback (most recent call last)",
      "\u001b[1;32m<ipython-input-14-e332d78c5de4>\u001b[0m in \u001b[0;36m<module>\u001b[1;34m\u001b[0m\n\u001b[0;32m      4\u001b[0m \u001b[0m_to\u001b[0m \u001b[1;33m=\u001b[0m \u001b[0minput\u001b[0m\u001b[1;33m(\u001b[0m\u001b[1;34m\"Ingrese destino: \"\u001b[0m\u001b[1;33m)\u001b[0m\u001b[1;33m\u001b[0m\u001b[1;33m\u001b[0m\u001b[0m\n\u001b[0;32m      5\u001b[0m \u001b[1;33m\u001b[0m\u001b[0m\n\u001b[1;32m----> 6\u001b[1;33m payload = {'key': API_KEY, \n\u001b[0m\u001b[0;32m      7\u001b[0m            \u001b[1;34m'from'\u001b[0m\u001b[1;33m:\u001b[0m \u001b[0m_from\u001b[0m\u001b[1;33m,\u001b[0m\u001b[1;33m\u001b[0m\u001b[1;33m\u001b[0m\u001b[0m\n\u001b[0;32m      8\u001b[0m            \u001b[1;34m'to'\u001b[0m\u001b[1;33m:\u001b[0m \u001b[0m_to\u001b[0m\u001b[1;33m,\u001b[0m\u001b[1;33m\u001b[0m\u001b[1;33m\u001b[0m\u001b[0m\n",
      "\u001b[1;31mNameError\u001b[0m: name 'API_KEY' is not defined"
     ]
    }
   ],
   "source": [
    "URL = \"http://www.mapquestapi.com/directions/v2/route\"\n",
    "\n",
    "_from = input(\"Ingrese origen: \") \n",
    "_to = input(\"Ingrese destino: \")\n",
    "\n",
    "payload = {'key': API_KEY, \n",
    "           'from': _from, \n",
    "           'to': _to, \n",
    "           'unit': 'k'}\n",
    "\n",
    "r = requests.get(URL, params=payload)\n",
    "\n",
    "if r.status_code == requests.codes.ok:\n",
    "    data = r.json()\n",
    "    \n",
    "    # Muestra la ruta del viaje\n",
    "    for idx, item in enumerate(data['route']['legs'][0]['maneuvers'], start=1):\n",
    "        print(f\"[{idx}]. {item['narrative']}\")\n",
    "else:\n",
    "    print(\"ERROR:\", r.status_code)"
   ]
  },
  {
   "cell_type": "markdown",
   "metadata": {},
   "source": [
    "## Clientes API a servicios (SDK)\n",
    "Existen clientes que pueden ser importados como modulos en Python que se encargan de gestionar todas las llamadas a los diferentes servicios, sin tener que recurrir a llamadas directas. Estos se conocen como DSK (Software Development Kit). Algunos ejemplos de estos son:\n",
    "\n",
    "* geopy\n",
    "* folium"
   ]
  },
  {
   "cell_type": "code",
   "execution_count": 19,
   "metadata": {},
   "outputs": [
    {
     "ename": "ModuleNotFoundError",
     "evalue": "No module named 'geopy'",
     "output_type": "error",
     "traceback": [
      "\u001b[1;31m---------------------------------------------------------------------------\u001b[0m",
      "\u001b[1;31mModuleNotFoundError\u001b[0m                       Traceback (most recent call last)",
      "\u001b[1;32m<ipython-input-19-3bccc48c66bf>\u001b[0m in \u001b[0;36m<module>\u001b[1;34m\u001b[0m\n\u001b[0;32m      1\u001b[0m \u001b[1;31m#pip install geopy\u001b[0m\u001b[1;33m\u001b[0m\u001b[1;33m\u001b[0m\u001b[1;33m\u001b[0m\u001b[0m\n\u001b[1;32m----> 2\u001b[1;33m \u001b[1;32mfrom\u001b[0m \u001b[0mgeopy\u001b[0m\u001b[1;33m.\u001b[0m\u001b[0mgeocoders\u001b[0m \u001b[1;32mimport\u001b[0m \u001b[0mNominatim\u001b[0m\u001b[1;33m\u001b[0m\u001b[1;33m\u001b[0m\u001b[0m\n\u001b[0m\u001b[0;32m      3\u001b[0m \u001b[1;33m\u001b[0m\u001b[0m\n\u001b[0;32m      4\u001b[0m \u001b[1;31m# geolocator = Nominatim(user_agent=\"my_app\")\u001b[0m\u001b[1;33m\u001b[0m\u001b[1;33m\u001b[0m\u001b[1;33m\u001b[0m\u001b[0m\n\u001b[0;32m      5\u001b[0m \u001b[1;31m# location = geolocator.geocode(\"UPC Campus San Miguel\")\u001b[0m\u001b[1;33m\u001b[0m\u001b[1;33m\u001b[0m\u001b[1;33m\u001b[0m\u001b[0m\n",
      "\u001b[1;31mModuleNotFoundError\u001b[0m: No module named 'geopy'"
     ]
    }
   ],
   "source": [
    "#pip install geopy\n",
    "from geopy.geocoders import Nominatim\n",
    "\n",
    "# geolocator = Nominatim(user_agent=\"my_app\")\n",
    "# location = geolocator.geocode(\"UPC Campus San Miguel\")"
   ]
  },
  {
   "cell_type": "code",
   "execution_count": 7,
   "metadata": {},
   "outputs": [
    {
     "data": {
      "text/plain": [
       "'UPC - Campus San Miguel, 2810, Avenida La Marina, Virgen de Fatima, San Miguel, Lima, 15087, Peru'"
      ]
     },
     "execution_count": 7,
     "metadata": {},
     "output_type": "execute_result"
    }
   ],
   "source": [
    "location.address"
   ]
  },
  {
   "cell_type": "code",
   "execution_count": 8,
   "metadata": {},
   "outputs": [
    {
     "data": {
      "text/plain": [
       "{'place_id': 181653896,\n",
       " 'licence': 'Data © OpenStreetMap contributors, ODbL 1.0. https://osm.org/copyright',\n",
       " 'osm_type': 'way',\n",
       " 'osm_id': 418674556,\n",
       " 'boundingbox': ['-12.0770408', '-12.0758134', '-77.0942605', '-77.0929534'],\n",
       " 'lat': '-12.076417849999999',\n",
       " 'lon': '-77.09360681318614',\n",
       " 'display_name': 'UPC - Campus San Miguel, 2810, Avenida La Marina, Virgen de Fatima, San Miguel, Lima, 15087, Peru',\n",
       " 'class': 'amenity',\n",
       " 'type': 'university',\n",
       " 'importance': 0.401,\n",
       " 'icon': 'https://nominatim.openstreetmap.org/images/mapicons/education_university.p.20.png'}"
      ]
     },
     "execution_count": 8,
     "metadata": {},
     "output_type": "execute_result"
    }
   ],
   "source": [
    "location.raw"
   ]
  },
  {
   "cell_type": "code",
   "execution_count": 9,
   "metadata": {},
   "outputs": [],
   "source": [
    "# pip install folium\n",
    "import folium"
   ]
  },
  {
   "cell_type": "code",
   "execution_count": 8,
   "metadata": {},
   "outputs": [
    {
     "ename": "NameError",
     "evalue": "name 'folium' is not defined",
     "output_type": "error",
     "traceback": [
      "\u001b[1;31m---------------------------------------------------------------------------\u001b[0m",
      "\u001b[1;31mNameError\u001b[0m                                 Traceback (most recent call last)",
      "\u001b[1;32m<ipython-input-8-2d98181fe45c>\u001b[0m in \u001b[0;36m<module>\u001b[1;34m\u001b[0m\n\u001b[1;32m----> 1\u001b[1;33m m = folium.Map(location=[location.latitude, location.longitude],\n\u001b[0m\u001b[0;32m      2\u001b[0m                zoom_start=18)\n",
      "\u001b[1;31mNameError\u001b[0m: name 'folium' is not defined"
     ]
    }
   ],
   "source": [
    "m = folium.Map(location=[location.latitude, location.longitude],\n",
    "               zoom_start=18)"
   ]
  },
  {
   "cell_type": "code",
   "execution_count": 11,
   "metadata": {},
   "outputs": [
    {
     "data": {
      "text/plain": [
       "<folium.map.Marker at 0x1c40f0339c8>"
      ]
     },
     "execution_count": 11,
     "metadata": {},
     "output_type": "execute_result"
    }
   ],
   "source": [
    "folium.Marker(location=[location.latitude, location.longitude], popup='UPC San Miguel', icon=folium.Icon()).add_to(m)"
   ]
  },
  {
   "cell_type": "code",
   "execution_count": 12,
   "metadata": {},
   "outputs": [
    {
     "data": {
      "text/html": [
       "<div style=\"width:100%;\"><div style=\"position:relative;width:100%;height:0;padding-bottom:60%;\"><span style=\"color:#565656\">Make this Notebook Trusted to load map: File -> Trust Notebook</span><iframe src=\"about:blank\" style=\"position:absolute;width:100%;height:100%;left:0;top:0;border:none !important;\" data-html=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 onload=\"this.contentDocument.open();this.contentDocument.write(atob(this.getAttribute('data-html')));this.contentDocument.close();\" allowfullscreen webkitallowfullscreen mozallowfullscreen></iframe></div></div>"
      ],
      "text/plain": [
       "<folium.folium.Map at 0x1c40f04d048>"
      ]
     },
     "execution_count": 12,
     "metadata": {},
     "output_type": "execute_result"
    }
   ],
   "source": [
    "m"
   ]
  },
  {
   "cell_type": "markdown",
   "metadata": {},
   "source": [
    "---\n",
    "# Web Scraping - BeautifulSoup\n",
    "En muchas oportunidades, no se tiene un archivo de base de datos o un REST API JSON o no es posible descargar información como XLM, CSV o JSON file: la información esta en la misma página web. Por lo tanto, será necesario leer y análizar el contenido de la web, \"escarbando\" el código HTML en busqueda de patrones de búsqueda, basado en las etiquetas HTML. A esta proceso se le conoce como Web Scraping"
   ]
  },
  {
   "cell_type": "code",
   "execution_count": 2,
   "metadata": {},
   "outputs": [],
   "source": [
    "# pip install bs4\n",
    "# pip install lxml\n",
    "from bs4 import BeautifulSoup\n",
    "import requests"
   ]
  },
  {
   "cell_type": "markdown",
   "metadata": {},
   "source": [
    "Considere la siguiente pagina web de referencia (*main.html*, haga click en las lineas abajo para ver el código):"
   ]
  },
  {
   "cell_type": "markdown",
   "metadata": {},
   "source": [
    "<!DOCTYPE html>\n",
    "<html class=\"no-js\" lang=\"\">\n",
    " <head>\n",
    "  <title>\n",
    "   Test - Pagina Web\n",
    "  </title>\n",
    "  <meta charset=\"utf-8\"/>\n",
    "  <link href=\"css/normalize.css\" rel=\"stylesheet\"/>\n",
    "  <link href=\"css/main.css\" rel=\"stylesheet\"/>\n",
    " </head>\n",
    " <body>\n",
    "  <h1 id=\"site_title\">\n",
    "   Test Website\n",
    "  </h1>\n",
    "  <hr/>\n",
    "  <div class=\"article\">\n",
    "   <h2>\n",
    "    <a href=\"article_1.html\">\n",
    "     Articulo 1 Encabezado\n",
    "    </a>\n",
    "   </h2>\n",
    "   <p>\n",
    "    Este es el resumen del articulo 1\n",
    "   </p>\n",
    "  </div>\n",
    "  <hr/>\n",
    "  <div class=\"article\">\n",
    "   <h2>\n",
    "    <a href=\"article_2.html\">\n",
    "     Articulo 2 Encabezado\n",
    "    </a>\n",
    "   </h2>\n",
    "   <p>\n",
    "    Este es del resumen del articulo 2\n",
    "   </p>\n",
    "  </div>\n",
    "  <hr/>\n",
    "  <div class=\"footer\">\n",
    "   <p>\n",
    "    Informacion de pie de pagina\n",
    "   </p>\n",
    "  </div>\n",
    "  <script src=\"js/vendor/modernizr-3.5.0.min.js\">\n",
    "  </script>\n",
    "  <script src=\"js/plugins.js\">\n",
    "  </script>\n",
    "  <script src=\"js/main.js\">\n",
    "  </script>\n",
    " </body>\n",
    "</html>"
   ]
  },
  {
   "cell_type": "markdown",
   "metadata": {},
   "source": [
    "Para poder hacer un scrapping de una página web, lo primero que debemos hacer es obtener el código HTML de la página. En este caso, como tenemos el archivo, lo abriremos directamente y generaremos un objeto `BeautifulSoup` con el parser `lxml`:"
   ]
  },
  {
   "cell_type": "code",
   "execution_count": 3,
   "metadata": {
    "scrolled": true
   },
   "outputs": [
    {
     "name": "stdout",
     "output_type": "stream",
     "text": [
      "<!DOCTYPE html>\n",
      "<html class=\"no-js\" lang=\"\">\n",
      " <head>\n",
      "  <title>\n",
      "   Test - Pagina Web\n",
      "  </title>\n",
      "  <meta charset=\"utf-8\"/>\n",
      "  <link href=\"css/normalize.css\" rel=\"stylesheet\"/>\n",
      "  <link href=\"css/main.css\" rel=\"stylesheet\"/>\n",
      " </head>\n",
      " <body>\n",
      "  <h1 id=\"site_title\">\n",
      "   Test Website\n",
      "  </h1>\n",
      "  <hr/>\n",
      "  <div class=\"article\">\n",
      "   <h2>\n",
      "    <a href=\"article_1.html\">\n",
      "     Articulo 1 Encabezado\n",
      "    </a>\n",
      "   </h2>\n",
      "   <p>\n",
      "    Este es el resumen del articulo 1\n",
      "   </p>\n",
      "  </div>\n",
      "  <hr/>\n",
      "  <div class=\"article\">\n",
      "   <h2>\n",
      "    <a href=\"article_2.html\">\n",
      "     Articulo 2 Encabezado\n",
      "    </a>\n",
      "   </h2>\n",
      "   <p>\n",
      "    Este es del resumen del articulo 2\n",
      "   </p>\n",
      "  </div>\n",
      "  <hr/>\n",
      "  <div class=\"footer\">\n",
      "   <p>\n",
      "    Informacion de pie de pagina\n",
      "   </p>\n",
      "  </div>\n",
      "  <script src=\"js/vendor/modernizr-3.5.0.min.js\">\n",
      "  </script>\n",
      "  <script src=\"js/plugins.js\">\n",
      "  </script>\n",
      "  <script src=\"js/main.js\">\n",
      "  </script>\n",
      " </body>\n",
      "</html>\n"
     ]
    }
   ],
   "source": [
    "with open(\"main.html\") as html_file:\n",
    "    soup = BeautifulSoup(html_file, 'lxml')\n",
    "    \n",
    "#print(soup)\n",
    "print(soup.prettify())"
   ]
  },
  {
   "cell_type": "markdown",
   "metadata": {},
   "source": [
    "La propiedad `title.text` permite ver todo el título que tenga la página:"
   ]
  },
  {
   "cell_type": "code",
   "execution_count": 15,
   "metadata": {},
   "outputs": [
    {
     "data": {
      "text/plain": [
       "'Test - Pagina Web'"
      ]
     },
     "execution_count": 15,
     "metadata": {},
     "output_type": "execute_result"
    }
   ],
   "source": [
    "soup.title.text"
   ]
  },
  {
   "cell_type": "markdown",
   "metadata": {},
   "source": [
    "La propiedad `body.text` permite obtener todo el contenido de texto (sin etiquetas HTML) del cuerpo de la página:"
   ]
  },
  {
   "cell_type": "code",
   "execution_count": 16,
   "metadata": {},
   "outputs": [
    {
     "data": {
      "text/plain": [
       "'\\nTest Website\\n\\n\\nArticulo 1 Encabezado\\nEste es el resumen del articulo 1\\n\\n\\n\\nArticulo 2 Encabezado\\nEste es del resumen del articulo 2\\n\\n\\n\\nInformacion de pie de pagina\\n\\n\\n\\n\\n'"
      ]
     },
     "execution_count": 16,
     "metadata": {},
     "output_type": "execute_result"
    }
   ],
   "source": [
    "soup.body.text"
   ]
  },
  {
   "cell_type": "markdown",
   "metadata": {},
   "source": [
    "La propiedad `body.p` permite obtener el primer parrafo de la página. Esto porque extrae la infomación encerrada en la etiqueta \\<p> \\</p> que encierra un parrafo en HTML:"
   ]
  },
  {
   "cell_type": "code",
   "execution_count": 17,
   "metadata": {},
   "outputs": [
    {
     "data": {
      "text/plain": [
       "<p>Este es el resumen del articulo 1</p>"
      ]
     },
     "execution_count": 17,
     "metadata": {},
     "output_type": "execute_result"
    }
   ],
   "source": [
    "soup.body.p"
   ]
  },
  {
   "cell_type": "markdown",
   "metadata": {},
   "source": [
    "Existen etiquetas como \\<a> \\</a> que especifican un link (*anchor*) hacia otra página. Tienen asociado un atributo `href` con la información de link. Se puede especificar este atributo como la llave de la propiedad `a`:"
   ]
  },
  {
   "cell_type": "code",
   "execution_count": 18,
   "metadata": {},
   "outputs": [
    {
     "data": {
      "text/plain": [
       "'article_1.html'"
      ]
     },
     "execution_count": 18,
     "metadata": {},
     "output_type": "execute_result"
    }
   ],
   "source": [
    "soup.a['href']"
   ]
  },
  {
   "cell_type": "markdown",
   "metadata": {},
   "source": [
    "Observe que hay un patrón en la forma como BeautifulSoup extrae los datos: las etiquetas HTML se convierten en propiedades. Por ejemplo, la etiqueta \\<div> (que marca una sección o división en el diseño de un archivo HTML) se especifica:"
   ]
  },
  {
   "cell_type": "code",
   "execution_count": 19,
   "metadata": {},
   "outputs": [
    {
     "data": {
      "text/plain": [
       "<div class=\"article\">\n",
       "<h2><a href=\"article_1.html\">Articulo 1 Encabezado</a></h2>\n",
       "<p>Este es el resumen del articulo 1</p>\n",
       "</div>"
      ]
     },
     "execution_count": 19,
     "metadata": {},
     "output_type": "execute_result"
    }
   ],
   "source": [
    "soup.div"
   ]
  },
  {
   "cell_type": "markdown",
   "metadata": {},
   "source": [
    "Todos los casos anteriores extraen la primera ocurrencia de una etiqueta, cuando en una página HTML pueden haber muchas ocurrencias, solo que estas se diferenciarán porque tendrán difentes atributos (por ejemplo, puede haber muchos links \\<a> pero con atributos `href` diferentes. Para esto utilizaremos el método `find()` para buscar una etiqueta y el atributo asociado con la propiedad `attr={nombre_atributo: valor}`:"
   ]
  },
  {
   "cell_type": "code",
   "execution_count": 20,
   "metadata": {},
   "outputs": [
    {
     "name": "stdout",
     "output_type": "stream",
     "text": [
      "Este es el resumen del articulo 1\n"
     ]
    }
   ],
   "source": [
    "article = soup.find('div', attrs={'class':'article'})\n",
    "print(article.p.text)"
   ]
  },
  {
   "cell_type": "markdown",
   "metadata": {},
   "source": [
    "Para obtener todas las ocurrencias de la misma combinación `attr={nombre_atributo: valor}`, utilizaremos el método `findall()` que nos rertornará una lista con las secciones de la página HTML que podremos iterar para obtener la información que nos interesa."
   ]
  },
  {
   "cell_type": "code",
   "execution_count": 21,
   "metadata": {},
   "outputs": [
    {
     "name": "stdout",
     "output_type": "stream",
     "text": [
      "Este es el resumen del articulo 1\n",
      "Este es del resumen del articulo 2\n"
     ]
    }
   ],
   "source": [
    "for article in soup.find_all('div', {'class':'article'}):\n",
    "    print(article.p.text)"
   ]
  },
  {
   "cell_type": "markdown",
   "metadata": {},
   "source": [
    "Lo mismo se puede obtener con el método `select()`, que permite seleccionar una etiqueta o un selector CSS:"
   ]
  },
  {
   "cell_type": "code",
   "execution_count": 32,
   "metadata": {},
   "outputs": [
    {
     "name": "stdout",
     "output_type": "stream",
     "text": [
      "Este es el resumen del articulo 1\n",
      "Este es del resumen del articulo 2\n"
     ]
    }
   ],
   "source": [
    "for article in soup.select('div[class=\"article\"]'):\n",
    "    print(article.p.text)"
   ]
  },
  {
   "cell_type": "markdown",
   "metadata": {},
   "source": [
    "Aunque una discusión completa de los selectores de CSS escapa del alcance de este curso, se muestran algunos patrones típicos a utilizar en un archivo HTML:"
   ]
  },
  {
   "cell_type": "markdown",
   "metadata": {},
   "source": [
    "| Selector pasado al método select()  | Busca...                                                                                                                              |\n",
    "|-------------------------------------|---------------------------------------------------------------------------------------------------------------------------------------|\n",
    "| `soup.select('div')`                  | Todos los elementos llamados 'div'                                                                                                    |\n",
    "| `soup.select('#author')`              | Todos los elementos con el atributo id='author'                                                                                       |\n",
    "| `soup.select('.notice')`              | Todos los elementos que utilizan un atributo CSS  class llamado notice                                                                |\n",
    "| `soup.select('div span')`             | Todos los elementos llamados \\<span> que estan dentro  de un elemento llamado \\<div>                                                  |\n",
    "| `soup.select('div > span')`           | Todos los elementos llamados \\<span> que estan directamente dentro de un elemento llamado \\<div> sin ningún otro elemento entre ellos |\n",
    "| `soup.select('input[name]')          | Todos los elementos \\<input> que tiene un atributo nombre con algun valor                                                             |\n",
    "| `soup.select('input[type=\"button\"]')` | Todos los elementos llamados \\<input> que tengan un atributo  llamado type con el valor button                                        |"
   ]
  },
  {
   "cell_type": "code",
   "execution_count": null,
   "metadata": {},
   "outputs": [],
   "source": []
  }
 ],
 "metadata": {
  "kernelspec": {
   "display_name": "Python 3",
   "language": "python",
   "name": "python3"
  },
  "language_info": {
   "codemirror_mode": {
    "name": "ipython",
    "version": 3
   },
   "file_extension": ".py",
   "mimetype": "text/x-python",
   "name": "python",
   "nbconvert_exporter": "python",
   "pygments_lexer": "ipython3",
   "version": "3.6.8"
  }
 },
 "nbformat": 4,
 "nbformat_minor": 4
}
