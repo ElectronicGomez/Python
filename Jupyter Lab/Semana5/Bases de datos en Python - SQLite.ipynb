{
 "cells": [
  {
   "cell_type": "markdown",
   "metadata": {},
   "source": [
    "# Python / SQLite\n",
    "\n",
    "SQLite es una librería escrita en C, que implementa un motor de base de datos SQL completo, pequeño, rápido, autocontenido y de alta confiabilidad. SQLite es el motor de base de datos más utilizado a nivel mundial. SQLite esta disponible en todos los teléfonos móviles del mundo y muchas computadoras y se encuentra embebido en incontables aplicaciones de uso frecuente. Para mas datos se puede consutar [la pagina oficial](https://www.sqlite.org/about.html)\n",
    "\n",
    "![](https://www.sqlite.org/images/sqlite370_banner.gif)\n",
    "\n",
    "El formato de un archivo SQLite es estable, de intercambio libre entre plataformas y es compatible con versiones anteriores y los desarrolladores quieren mantener esto hasta el año 2050. Los archivos de bases de datos SQLite con comunmente utilizados como contenedores para trasferir contenido entre sistemas y como un formato de almacenamiento a largo plazo. Existen alrededor de 1 trillon de bases de datos SQLite activas.\n",
    "\n",
    "El código fuente de SQLite es de dominio público y se puede utilizar de forma libre para cualquier propósito.\n",
    "\n",
    "## Base de datos\n",
    "Una base de datos es una colección organizada de datos. Abreviado como DB, es básicamente una forma organizada de información con el propósito de que un sistema informático pueda acceder a esta información de manera rápiday eficiente.\n",
    "\n",
    "El esquema de organización de una base de datos consiste en un repositorio de información al que se accede por medio de un Gestor de Bases de Datos (DBM, Database Management). Este sistema es quien se encarga de trasladar las consultas a la base de datos al archivo con la información. Dependiendo del tipo de base de datos es que el DBM será de un tipo diferente. \n",
    "\n",
    "![](https://blogs.bmc.com/wp-content/uploads/2018/07/dbms-database-management-systems-1024x463.jpg)\n",
    "\n",
    "## Base de datos relacional\n",
    "Una base de datos relacional es un modelo de base de datos que establece relaciones entre la información alamcenada para una mejor gestión. Se basa en un modelo teórico propuesto por Edgar Frank Codd en 1970 y es el modelo más utilizado en la actualidad.\n",
    "\n",
    "La teoría de base de datos es amplia y compleja, pero podemos resumir el modelo relacional considerando las siguientes ideas claves:\n",
    "\n",
    "* Una base de datos se compone de varias tablas o relaciones.\n",
    "* No pueden existir dos tablas con el mismo nombre ni registro.\n",
    "* Cada tabla es a su vez un conjunto de campos (columnas) y registros (filas).\n",
    "* La relación entre una tabla padre y un hijo se lleva a cabo por medio de las claves primarias y claves foráneas (o ajenas).\n",
    "* Las claves primarias son la clave principal de un registro dentro de una tabla y estas deben cumplir con la integridad de datos.\n",
    "* Las claves ajenas se colocan en la tabla hija, contienen el mismo valor que la clave primaria del registro padre; por medio de estas se hacen las formas relacionales.\n",
    "\n",
    "![](https://finanzastics2.files.wordpress.com/2016/07/aaaa.jpg?w=620)\n",
    "\n",
    "El lenguaje que se utiliza para acceder a los datos de un sistema de base de datos relacional es SQL\n",
    "\n",
    "## SQL (Structured Query Languaje)\n",
    "SQL (por sus siglas en inglés Structured Query Language; en español lenguaje de consulta estructurada) es un lenguaje de dominio específico utilizado en programación, diseñado para administrar, y recuperar información de sistemas de gestión de bases de datos relacionales (RDBM), en este caso el RDBM será SQLite.\n",
    "\n",
    "SQLite soporta casi todas las instrucciones de SQL estándar. En términos generales, SQL tiene una estructura logica gramatical basada en el inglés. Las palabras reservadas se suelen escribir el MAYUSCULAS y reservar las minusculas para el nombre de las tablas y campos. En el curso no vamos a limitar a utilizar SQL dentro de un ámbito específico, aunque es bueno conocer los detalles del lenguaje, para lo que se puede consultar [un tutorial de SQL en linea](https://www.1keydata.com/es/sql/) o alguna otra fuente de información al respecto."
   ]
  },
  {
   "cell_type": "markdown",
   "metadata": {},
   "source": [
    "## Python y SQLite\n",
    "Para agregar capacidades de gestión de una base de datos a un programa escrito en Python, será necesario importar la libreria `sqlite3`. Esta libreria es parte de la biblioteca estándar de Python, por lo que no será necesario instalar algun archivo adicional."
   ]
  },
  {
   "cell_type": "code",
   "execution_count": null,
   "metadata": {},
   "outputs": [],
   "source": [
    "import sqlite3"
   ]
  },
  {
   "cell_type": "markdown",
   "metadata": {},
   "source": [
    "De forma general, los pasos para poder trabajar con una base de datos siempre son los mismos:\n",
    "    \n",
    "1. Conectarse a una base de datos\n",
    "1. Crear un cursor\n",
    "1. Realizar alguna acción sobre la base de datos\n",
    "    1. Crear una tabla (CREATE)\n",
    "    1. Borrar una tabla (DELETE)\n",
    "    1. Insertar un registro (INSERT)\n",
    "    1. Consultar información (SELECT, FROM, WHERE, *)\n",
    "    1. Modificar información (UPDATE)\n",
    "1. Conformar la acción anterior (COMMIT)\n",
    "1. Cerrar la conección con la base datos (CLOSE)"
   ]
  },
  {
   "cell_type": "markdown",
   "metadata": {},
   "source": [
    "## Crear una tabla en una base de datos"
   ]
  },
  {
   "cell_type": "code",
   "execution_count": null,
   "metadata": {},
   "outputs": [],
   "source": [
    "# Se abre el archivo contactos.db que contiene la base datos\n",
    "# Si el archivo no existe se creara un archivo nuevo\n",
    "conn = sqlite3.connect(\"database.db\")\n",
    "\n",
    "# Se crea un cursor para poder acceder a la informacion\n",
    "cur = conn.cursor()\n",
    "\n",
    "# Se ejecuta una accion sobre la base de datos (opcional IF NOT EXISTS)\n",
    "cur.execute(\"CREATE TABLE IF NOT EXISTS tabla (id INTEGER unique, \\\n",
    "                                               nombre TEXT, \\\n",
    "                                               peso INTEGER, \\\n",
    "                                               altura REAL)\")\n",
    "\n",
    "# Se confirma la accion anterior\n",
    "conn.commit()\n",
    "\n",
    "# Se cierra la conexion con la base de datos\n",
    "conn.close()"
   ]
  },
  {
   "cell_type": "markdown",
   "metadata": {},
   "source": [
    "## Borrar una tabla en una base de datos"
   ]
  },
  {
   "cell_type": "code",
   "execution_count": null,
   "metadata": {},
   "outputs": [],
   "source": [
    "# Se abre el archivo contactos.db que contiene la base datos\n",
    "# Si el archivo no existe se creara un archivo nuevo\n",
    "conn = sqlite3.connect(\"database.db\")\n",
    "\n",
    "# Se crea un cursor para poder acceder a la informacion\n",
    "cur = conn.cursor()\n",
    "\n",
    "# Se ejecuta una accion sobre la base de datos\n",
    "cur.execute(\"DROP TABLE tabla\")\n",
    "\n",
    "# Se cierra la conexion con la base de datos\n",
    "conn.close()"
   ]
  },
  {
   "cell_type": "markdown",
   "metadata": {},
   "source": [
    "## Insertar datos en una base de datos"
   ]
  },
  {
   "cell_type": "code",
   "execution_count": null,
   "metadata": {},
   "outputs": [],
   "source": [
    "# Se abre el archivo contactos.db que contiene la base datos\n",
    "# Si el archivo no existe se creara un archivo nuevo\n",
    "conn = sqlite3.connect(\"database.db\")\n",
    "\n",
    "# Se crea un cursor para poder acceder a la informacion\n",
    "cur = conn.cursor()\n",
    "\n",
    "# Se ejecuta una accion sobre la base de datos\n",
    "cur.execute(\"INSERT INTO tabla (id, nombre, peso, altura) VALUES (?, ?, ?, ?)\", (1, \"Elvio Lado\", 80, 1.72))\n",
    "\n",
    "personas = [(2, \"Elsa Payo\", 54, 1.65),\n",
    "            (3, \"Armando Paredes\", 88, 1.75),\n",
    "            (4, \"Susana Oria\", 48, 1.60),\n",
    "            (5, \"Estaban Dido\", 110, 1.68),\n",
    "           ]\n",
    "\n",
    "cur.executemany(\"INSERT INTO tabla (id, nombre, peso, altura) VALUES (?, ?, ?, ?)\", personas)\n",
    "\n",
    "# Se confirma la accion anterior\n",
    "conn.commit()\n",
    "\n",
    "# Se cierra la conexion con la base de datos\n",
    "conn.close()"
   ]
  },
  {
   "cell_type": "markdown",
   "metadata": {},
   "source": [
    "## Consultar informacion en una base de datos"
   ]
  },
  {
   "cell_type": "code",
   "execution_count": null,
   "metadata": {},
   "outputs": [],
   "source": [
    "# Se abre el archivo contactos.db que contiene la base datos\n",
    "# Si el archivo no existe se creara un archivo nuevo\n",
    "conn = sqlite3.connect(\"database.db\")\n",
    "\n",
    "# Se crea un cursor para poder acceder a la informacion\n",
    "cur = conn.cursor()\n",
    "\n",
    "# Se ejecuta una accion sobre la base de datos\n",
    "# SELECT y fetchone() sobre el cursor\n",
    "cur.execute(\"SELECT * FROM tabla\")\n",
    "data = cur.fetchone()\n",
    "print(type(data))\n",
    "print(data)\n",
    "print()\n",
    "\n",
    "# SELECT y fetchall sobre el cursor\n",
    "cur.execute(\"SELECT * FROM tabla\")\n",
    "data = cur.fetchall()\n",
    "print(type(data))\n",
    "print(data)\n",
    "print()\n",
    "\n",
    "# SELECT y cursor como iterable\n",
    "cur.execute(\"SELECT * FROM tabla\")\n",
    "for data in cur:\n",
    "    print(\"ID: {}    Nombre: {:16} Peso: {:3}kg      Altura:{:.2f}m\".format(data[0], data[1], data[2], data[3]))\n",
    "\n",
    "# Se cierra la conexion con la base de datos\n",
    "conn.close()"
   ]
  },
  {
   "cell_type": "code",
   "execution_count": null,
   "metadata": {},
   "outputs": [],
   "source": [
    "# Se abre el archivo contactos.db que contiene la base datos\n",
    "# Si el archivo no existe se creara un archivo nuevo\n",
    "conn = sqlite3.connect(\"database.db\")\n",
    "\n",
    "# Se crea un cursor para poder acceder a la informacion\n",
    "cur = conn.cursor()\n",
    "\n",
    "# Se ejecuta una accion sobre la base de datos\n",
    "# Consulta con condiciones\n",
    "cur.execute(\"SELECT * FROM tabla WHERE peso < 60 AND altura > 1.60\")\n",
    "data = cur.fetchall()\n",
    "print(data)\n",
    "\n",
    "# Uso de LIKE para encontrar conicidencias\n",
    "cur.execute(\"SELECT nombre, peso, altura FROM tabla WHERE nombre LIKE '%el%'\")\n",
    "data = cur.fetchall()\n",
    "print(data)\n",
    "\n",
    "# Uso del comodin \"?\" para incluir campos externos\n",
    "cur.execute(\"SELECT * FROM tabla WHERE altura > ?\", (1.70,))\n",
    "data = cur.fetchall()\n",
    "print(data)\n",
    "\n",
    "# Se cierra la conexion con la base de datos\n",
    "conn.close()"
   ]
  },
  {
   "cell_type": "markdown",
   "metadata": {},
   "source": [
    "## Actualizar informacion en una base de datos"
   ]
  },
  {
   "cell_type": "code",
   "execution_count": null,
   "metadata": {},
   "outputs": [],
   "source": [
    "# Se abre el archivo contactos.db que contiene la base datos\n",
    "# Si el archivo no existe se creara un archivo nuevo\n",
    "conn = sqlite3.connect(\"database.db\")\n",
    "\n",
    "# Se crea un cursor para poder acceder a la informacion\n",
    "cur = conn.cursor()\n",
    "\n",
    "# Se ejecuta una accion sobre la base de datos\n",
    "cur.execute(\"UPDATE tabla SET peso = ? WHERE id = ?\", (88, 1))\n",
    "\n",
    "# Se confirma la accion anterior\n",
    "conn.commit()\n",
    "\n",
    "# Consulta\n",
    "cur.execute(\"SELECT * FROM tabla\")\n",
    "for data in cur:\n",
    "    print(\"ID: {}   Nombre: {:16}   Peso: {:3}kg      Altura:{:.2f}m\".format(data[0], data[1], data[2], data[3]))\n",
    "\n",
    "# Se cierra la conexion con la base de datos\n",
    "conn.close()"
   ]
  },
  {
   "cell_type": "markdown",
   "metadata": {},
   "source": [
    "## Borrar un registro de la base de datos"
   ]
  },
  {
   "cell_type": "code",
   "execution_count": null,
   "metadata": {},
   "outputs": [],
   "source": [
    "# Se abre el archivo contactos.db que contiene la base datos\n",
    "# Si el archivo no existe se creara un archivo nuevo\n",
    "conn = sqlite3.connect(\"database.db\")\n",
    "\n",
    "# Se crea un cursor para poder acceder a la informacion\n",
    "cur = conn.cursor()\n",
    "\n",
    "# Se ejecuta una accion sobre la base de datos\n",
    "cur.execute(\"DELETE FROM tabla WHERE id = ?\", (5,))\n",
    "\n",
    "# Se confirma la accion anterior\n",
    "conn.commit()\n",
    "\n",
    "# Consulta\n",
    "cur.execute(\"SELECT * FROM tabla\")\n",
    "for data in cur:\n",
    "    print(\"ID: {}    Nombre: {:16} Peso: {:3}kg      Altura:{:.2f}m\".format(data[0], data[1], data[2], data[3]))\n",
    "\n",
    "# Se cierra la conexion con la base de datos\n",
    "conn.close()"
   ]
  },
  {
   "cell_type": "markdown",
   "metadata": {},
   "source": [
    "## Recuperar registros en una base de datos"
   ]
  },
  {
   "cell_type": "code",
   "execution_count": null,
   "metadata": {},
   "outputs": [],
   "source": [
    "# Se abre el archivo contactos.db que contiene la base datos\n",
    "# Si el archivo no existe se creara un archivo nuevo\n",
    "conn = sqlite3.connect(\"database.db\")\n",
    "\n",
    "# Se crea un cursor para poder acceder a la informacion\n",
    "cur = conn.cursor()\n",
    "\n",
    "# Se ejecuta una accion sobre la base de datos\n",
    "cur.execute(\"DELETE FROM tabla WHERE id = ?\", (4,))\n",
    "cur.execute(\"UPDATE tabla SET peso = ? WHERE id = ?\", (0, 1))\n",
    "\n",
    "# Consulta\n",
    "cur.execute(\"SELECT * FROM tabla\")\n",
    "for data in cur:\n",
    "    print(\"ID: {}    Nombre: {:16} Peso: {:3}kg      Altura:{:.2f}m\".format(data[0], data[1], data[2], data[3]))\n",
    "\n",
    "print()\n",
    "    \n",
    "# Se deshacela ultima transaccion\n",
    "conn.rollback()\n",
    "\n",
    "# Consulta\n",
    "cur.execute(\"SELECT * FROM tabla\")\n",
    "for data in cur:\n",
    "    print(\"ID: {}    Nombre: {:16} Peso: {:3}kg      Altura:{:.2f}m\".format(data[0], data[1], data[2], data[3]))\n",
    "\n",
    "    \n",
    "# Se cierra la conexion con la base de datos\n",
    "conn.close()"
   ]
  },
  {
   "cell_type": "markdown",
   "metadata": {},
   "source": [
    "## Excepciones\n",
    "Se pude incorporar el manejo de excepciones en las consultas a base de datos para tener un mejor control de los eventos a realizar."
   ]
  },
  {
   "cell_type": "code",
   "execution_count": null,
   "metadata": {},
   "outputs": [],
   "source": [
    "try:\n",
    "    # Conectar a la base de datos\n",
    "    conn = sqlite3.connect(\"database.db\")\n",
    "    cur = conn.cursor()\n",
    "    \n",
    "    # Ejecutar la accion sobre la base de datos\n",
    "    cur.execute(\"INSERT INTO tabla (id, nombre, peso, altura) VALUES (?, ?, ?, ?)\", (1, \"Dina Mita\", 120, 1.55))\n",
    "    \n",
    "    # Confirmar la consulta\n",
    "    conn.commit()\n",
    "    \n",
    "except sqlite3.IntegrityError:\n",
    "    conn.rollback()\n",
    "    print(\"ERROR: El 'id' ya existe en el registro. Los cambios no se guardan\")\n",
    "    \n",
    "finally:\n",
    "    # Cerrar la conexion\n",
    "    conn.close()"
   ]
  },
  {
   "cell_type": "markdown",
   "metadata": {},
   "source": [
    "# Uso de Context Manager (with) con sqlite3\n",
    "Una forma mas \"pythonica\" de escribir un código sin tener que recordar todos los detalles de funcionamiento de unabase de datos es utilizar las instrucciones de SQL dentro de un bloque with, contextualizado alrededor del objeto sqlite.connect()"
   ]
  },
  {
   "cell_type": "code",
   "execution_count": null,
   "metadata": {},
   "outputs": [],
   "source": [
    "conn = sqlite3.connect(\"database.db\")\n",
    "\n",
    "with conn:\n",
    "    cur = conn.cursor()\n",
    "    query = cur.execute(\"SELECT * FROM tabla WHERE altura > 1.70\")\n",
    "    rows = query.fetchall()\n",
    "    for data in rows:\n",
    "        print(data)\n",
    "    \n",
    "conn.close()"
   ]
  }
 ],
 "metadata": {
  "kernelspec": {
   "display_name": "Python 3",
   "language": "python",
   "name": "python3"
  },
  "language_info": {
   "codemirror_mode": {
    "name": "ipython",
    "version": 3
   },
   "file_extension": ".py",
   "mimetype": "text/x-python",
   "name": "python",
   "nbconvert_exporter": "python",
   "pygments_lexer": "ipython3",
   "version": "3.6.8"
  }
 },
 "nbformat": 4,
 "nbformat_minor": 2
}
