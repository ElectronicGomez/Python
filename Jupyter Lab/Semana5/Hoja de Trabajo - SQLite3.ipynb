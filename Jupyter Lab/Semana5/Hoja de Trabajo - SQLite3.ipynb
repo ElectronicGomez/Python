{
 "cells": [
  {
   "cell_type": "markdown",
   "metadata": {},
   "source": [
    "# Hoja de Trabajo: Aplicación de Consulta de Coleccion de Libros\n",
    "## Primera parte\n",
    "Se abre un archivo de base de datos donde se crea la tabla `libros` con la siguiente informacion:\n",
    "\n",
    "* ISBN\n",
    "* AUTOR\n",
    "* TITULO\n",
    "* AÑO DE PUBLICACION"
   ]
  },
  {
   "cell_type": "markdown",
   "metadata": {},
   "source": [
    "## Primera parte\n",
    "Creacion de un arhivo de base de datos y de la tabla"
   ]
  },
  {
   "cell_type": "code",
   "execution_count": null,
   "metadata": {},
   "outputs": [],
   "source": []
  },
  {
   "cell_type": "markdown",
   "metadata": {},
   "source": [
    "## Segunda parte\n",
    "Archivos que conforman el backend con las clases, funciones y wrapper de base de datos"
   ]
  },
  {
   "cell_type": "code",
   "execution_count": null,
   "metadata": {},
   "outputs": [],
   "source": []
  },
  {
   "cell_type": "markdown",
   "metadata": {},
   "source": [
    "## Tercera parte\n",
    "Archivo con el GUI de al aplicación"
   ]
  },
  {
   "cell_type": "code",
   "execution_count": null,
   "metadata": {},
   "outputs": [],
   "source": []
  }
 ],
 "metadata": {
  "kernelspec": {
   "display_name": "Python 3",
   "language": "python",
   "name": "python3"
  },
  "language_info": {
   "codemirror_mode": {
    "name": "ipython",
    "version": 3
   },
   "file_extension": ".py",
   "mimetype": "text/x-python",
   "name": "python",
   "nbconvert_exporter": "python",
   "pygments_lexer": "ipython3",
   "version": "3.7.0"
  }
 },
 "nbformat": 4,
 "nbformat_minor": 2
}
