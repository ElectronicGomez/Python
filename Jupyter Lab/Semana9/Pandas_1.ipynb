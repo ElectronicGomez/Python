{
 "cells": [
  {
   "cell_type": "code",
   "execution_count": 6,
   "metadata": {},
   "outputs": [],
   "source": [
    "import pandas as pd"
   ]
  },
  {
   "cell_type": "code",
   "execution_count": 7,
   "metadata": {},
   "outputs": [
    {
     "name": "stdout",
     "output_type": "stream",
     "text": [
      "<class 'pandas.core.series.Series'>\n",
      "0    data1\n",
      "1    data2\n",
      "2    data3\n",
      "dtype: object\n",
      "==============\n",
      "A    data1\n",
      "B    data2\n",
      "C    data3\n",
      "dtype: object\n",
      "data2\n",
      "data2\n",
      "data1\n",
      "data2\n"
     ]
    }
   ],
   "source": [
    "data = pd.Series([\"data1\",\"data2\",\"data3\"])\n",
    "print(type(data))\n",
    "print(data)\n",
    "print(\"==============\")\n",
    "data.index = ['A','B','C'] #Cambia el indice de cada valor de data\n",
    "print(data)\n",
    "print(data[1])\n",
    "print(data[-2])\n",
    "print(data['A'])\n",
    "print(data['B'])"
   ]
  },
  {
   "cell_type": "code",
   "execution_count": 8,
   "metadata": {},
   "outputs": [
    {
     "name": "stdout",
     "output_type": "stream",
     "text": [
      "[2, 3, 4]\n",
      "6\n"
     ]
    }
   ],
   "source": [
    "a = [1, 2, 3]\n",
    "b =map(lambda x: x+1,a)\n",
    "print(list(b))\n",
    "\n",
    "y = lambda x:2*x+2\n",
    "print(y(2))"
   ]
  },
  {
   "cell_type": "code",
   "execution_count": 9,
   "metadata": {},
   "outputs": [],
   "source": [
    "import random\n",
    "import numpy as np"
   ]
  },
  {
   "cell_type": "code",
   "execution_count": 10,
   "metadata": {},
   "outputs": [
    {
     "name": "stdout",
     "output_type": "stream",
     "text": [
      "[58, 74, 83, 11, 34, 62, 84, 89, 89, 56, 57, 31, 73, 40, 61, 13, 56, 97, 98, 69, 50, 76, 74, 91, 94, 81, 76, 71, 62, 81, 59, 75, 88, 59, 40, 62, 16, 27, 72, 71, 26, 37, 54, 79, 98, 87, 20, 83, 36, 90, 61, 72, 96, 41, 67, 98, 21, 75, 50, 39, 67, 45, 13, 44, 94, 78, 98, 26, 88, 74, 44, 76, 15, 74, 68, 63, 35, 25, 66, 73, 83, 86, 74, 90, 45, 98, 48, 29, 10, 16, 13, 26, 37, 29, 68, 62, 24, 42, 92, 66]\n",
      "\n",
      " 100\n",
      "[1, 2, 3] \n",
      "\n",
      "[58, 74, 83, 11, 34, 62, 84, 89, 89, nan, nan, 31, 73, 40, 61, 13, 56, 97, 98, 69, nan, 76, 74, 91, 94, 'NULL', 76, 71, 62, 81, 59, 75, 88, 59, 40, 62, 16, 27, 72, 71, 26, 37, 54, 79, 98, 87, 20, 83, 36, nan, 61, 72, 96, 41, 67, 98, 21, 75, 50, 39, 67, nan, 13, 44, 94, nan, 98, 26, 88, 74, 44, 76, 15, 74, 68, 63, 35, 25, 66, 73, 83, 86, 74, 90, nan, 98, 48, 29, nan, nan, 13, 26, 37, 29, nan, 62, 24, 42, 92, 66]\n"
     ]
    }
   ],
   "source": [
    "#Crear una lista de datos aleatorios con NaNs\n",
    "valores = [random.randrange(10,100) for _ in range(100)]\n",
    "print(valores)\n",
    "print(\"\\n\",len(valores))\n",
    "lista = [x for x in [1, 2, 3]]\n",
    "print(lista, \"\\n\")\n",
    "\n",
    "for _ in range(10):\n",
    "    valores[random.randrange(100)] = np.nan\n",
    "\n",
    "valores[25] = \"NULL\"\n",
    "print(valores)\n"
   ]
  },
  {
   "cell_type": "code",
   "execution_count": 11,
   "metadata": {},
   "outputs": [
    {
     "name": "stdout",
     "output_type": "stream",
     "text": [
      "0       58\n",
      "1       74\n",
      "2       83\n",
      "3       11\n",
      "4       34\n",
      "5       62\n",
      "6       84\n",
      "7       89\n",
      "8       89\n",
      "9      NaN\n",
      "10     NaN\n",
      "11      31\n",
      "12      73\n",
      "13      40\n",
      "14      61\n",
      "15      13\n",
      "16      56\n",
      "17      97\n",
      "18      98\n",
      "19      69\n",
      "20     NaN\n",
      "21      76\n",
      "22      74\n",
      "23      91\n",
      "24      94\n",
      "25    NULL\n",
      "26      76\n",
      "27      71\n",
      "28      62\n",
      "29      81\n",
      "      ... \n",
      "70      44\n",
      "71      76\n",
      "72      15\n",
      "73      74\n",
      "74      68\n",
      "75      63\n",
      "76      35\n",
      "77      25\n",
      "78      66\n",
      "79      73\n",
      "80      83\n",
      "81      86\n",
      "82      74\n",
      "83      90\n",
      "84     NaN\n",
      "85      98\n",
      "86      48\n",
      "87      29\n",
      "88     NaN\n",
      "89     NaN\n",
      "90      13\n",
      "91      26\n",
      "92      37\n",
      "93      29\n",
      "94     NaN\n",
      "95      62\n",
      "96      24\n",
      "97      42\n",
      "98      92\n",
      "99      66\n",
      "Length: 100, dtype: object\n"
     ]
    }
   ],
   "source": [
    "ser =pd.Series(data=valores)\n",
    "print(ser)\n"
   ]
  },
  {
   "cell_type": "code",
   "execution_count": 12,
   "metadata": {},
   "outputs": [],
   "source": [
    "ser.dropna(inplace=True)\n",
    "\n"
   ]
  },
  {
   "cell_type": "code",
   "execution_count": 114,
   "metadata": {},
   "outputs": [
    {
     "data": {
      "text/plain": [
       "0       70\n",
       "1       77\n",
       "2       41\n",
       "3       37\n",
       "4       82\n",
       "6       29\n",
       "7       68\n",
       "8       24\n",
       "9       97\n",
       "10      19\n",
       "11      50\n",
       "12      14\n",
       "13      14\n",
       "14      75\n",
       "15      68\n",
       "16      79\n",
       "17      49\n",
       "18      54\n",
       "19      48\n",
       "20      36\n",
       "21      83\n",
       "23      72\n",
       "24      60\n",
       "25    NULL\n",
       "28      28\n",
       "29      32\n",
       "30      85\n",
       "31      60\n",
       "32      21\n",
       "33      99\n",
       "35      14\n",
       "36      34\n",
       "37      70\n",
       "38      93\n",
       "39      85\n",
       "40      75\n",
       "41      96\n",
       "42      68\n",
       "43      47\n",
       "44      84\n",
       "45      29\n",
       "46      36\n",
       "47      96\n",
       "49      90\n",
       "50      83\n",
       "51      75\n",
       "52      50\n",
       "53      39\n",
       "54      84\n",
       "55      30\n",
       "dtype: object"
      ]
     },
     "execution_count": 114,
     "metadata": {},
     "output_type": "execute_result"
    }
   ],
   "source": [
    "ser.iloc[:50]"
   ]
  },
  {
   "cell_type": "code",
   "execution_count": 14,
   "metadata": {},
   "outputs": [],
   "source": [
    "# for item in range(ser.size):\n",
    "#     if ser.iloc[item] == \"NULL\":\n",
    "#         ser.iloc[item]= np.nan\n",
    "# print(ser)\n",
    "\n",
    "\n",
    "ser[ser == \"NULL\"]\n",
    "def drop_NULL(x):\n",
    "    if(x):\n",
    "        return np.nan"
   ]
  },
  {
   "cell_type": "code",
   "execution_count": 13,
   "metadata": {},
   "outputs": [
    {
     "data": {
      "text/plain": [
       "Int64Index([25], dtype='int64')"
      ]
     },
     "execution_count": 13,
     "metadata": {},
     "output_type": "execute_result"
    }
   ],
   "source": [
    "ser[ser == \"NULL\"].index"
   ]
  },
  {
   "cell_type": "code",
   "execution_count": 15,
   "metadata": {},
   "outputs": [
    {
     "data": {
      "text/plain": [
       "0     58\n",
       "1     74\n",
       "2     83\n",
       "3     11\n",
       "4     34\n",
       "5     62\n",
       "6     84\n",
       "7     89\n",
       "8     89\n",
       "11    31\n",
       "12    73\n",
       "13    40\n",
       "14    61\n",
       "15    13\n",
       "16    56\n",
       "17    97\n",
       "18    98\n",
       "19    69\n",
       "21    76\n",
       "22    74\n",
       "23    91\n",
       "24    94\n",
       "26    76\n",
       "27    71\n",
       "28    62\n",
       "29    81\n",
       "30    59\n",
       "31    75\n",
       "32    88\n",
       "33    59\n",
       "      ..\n",
       "66    98\n",
       "67    26\n",
       "68    88\n",
       "69    74\n",
       "70    44\n",
       "71    76\n",
       "72    15\n",
       "73    74\n",
       "74    68\n",
       "75    63\n",
       "76    35\n",
       "77    25\n",
       "78    66\n",
       "79    73\n",
       "80    83\n",
       "81    86\n",
       "82    74\n",
       "83    90\n",
       "85    98\n",
       "86    48\n",
       "87    29\n",
       "90    13\n",
       "91    26\n",
       "92    37\n",
       "93    29\n",
       "95    62\n",
       "96    24\n",
       "97    42\n",
       "98    92\n",
       "99    66\n",
       "Length: 89, dtype: object"
      ]
     },
     "execution_count": 15,
     "metadata": {},
     "output_type": "execute_result"
    }
   ],
   "source": [
    "ser.drop(ser[ser == \"NULL\"].index, inplace=True)\n",
    "#print(ser)\n",
    "ser"
   ]
  },
  {
   "cell_type": "code",
   "execution_count": 20,
   "metadata": {},
   "outputs": [
    {
     "data": {
      "text/plain": [
       "53.62921348314607"
      ]
     },
     "execution_count": 20,
     "metadata": {},
     "output_type": "execute_result"
    }
   ],
   "source": [
    "ser.mean()"
   ]
  },
  {
   "cell_type": "code",
   "execution_count": 22,
   "metadata": {},
   "outputs": [],
   "source": [
    "#Qué indices están por encima de la muestra\n",
    "filt = ser > ser.mean()"
   ]
  },
  {
   "cell_type": "code",
   "execution_count": 23,
   "metadata": {},
   "outputs": [
    {
     "data": {
      "text/plain": [
       "44"
      ]
     },
     "execution_count": 23,
     "metadata": {},
     "output_type": "execute_result"
    }
   ],
   "source": [
    "ser[filt].count()"
   ]
  },
  {
   "cell_type": "code",
   "execution_count": 151,
   "metadata": {},
   "outputs": [
    {
     "data": {
      "text/plain": [
       "Int64Index([ 0,  1,  4,  7,  9, 14, 15, 16, 21, 23, 24, 30, 31, 33, 37, 38, 39,\n",
       "            40, 41, 42, 44, 47, 49, 50, 51, 54, 56, 59, 60, 61, 62, 64, 65, 66,\n",
       "            68, 71, 72, 74, 75, 76, 84, 86, 88, 91, 93, 94, 97, 99],\n",
       "           dtype='int64')"
      ]
     },
     "execution_count": 151,
     "metadata": {},
     "output_type": "execute_result"
    }
   ],
   "source": [
    "ser[filt].index"
   ]
  },
  {
   "cell_type": "code",
   "execution_count": 34,
   "metadata": {},
   "outputs": [
    {
     "data": {
      "text/plain": [
       "99"
      ]
     },
     "execution_count": 34,
     "metadata": {},
     "output_type": "execute_result"
    }
   ],
   "source": [
    "ser.max()"
   ]
  },
  {
   "cell_type": "code",
   "execution_count": 37,
   "metadata": {},
   "outputs": [
    {
     "data": {
      "text/plain": [
       "10"
      ]
     },
     "execution_count": 37,
     "metadata": {},
     "output_type": "execute_result"
    }
   ],
   "source": [
    "#ser.to_numeric()\n",
    "ser.min()\n"
   ]
  },
  {
   "cell_type": "code",
   "execution_count": 63,
   "metadata": {},
   "outputs": [
    {
     "data": {
      "text/plain": [
       "35    77\n",
       "36    66\n",
       "37    65\n",
       "38    81\n",
       "39    89\n",
       "40    76\n",
       "41    61\n",
       "43    48\n",
       "44    29\n",
       "45    44\n",
       "dtype: object"
      ]
     },
     "execution_count": 63,
     "metadata": {},
     "output_type": "execute_result"
    }
   ],
   "source": [
    "ser.iloc[30:40:1]"
   ]
  },
  {
   "cell_type": "code",
   "execution_count": 172,
   "metadata": {},
   "outputs": [
    {
     "name": "stderr",
     "output_type": "stream",
     "text": [
      "C:\\Users\\ASUS\\Anaconda3\\lib\\site-packages\\ipykernel_launcher.py:1: FutureWarning: The signature of `Series.to_csv` was aligned to that of `DataFrame.to_csv`, and argument 'header' will change its default value from False to True: please pass an explicit value to suppress this warning.\n",
      "  \"\"\"Entry point for launching an IPython kernel.\n"
     ]
    }
   ],
   "source": [
    "ser.to_csv(\"Data_series.csv\", index=False) "
   ]
  }
 ],
 "metadata": {
  "kernelspec": {
   "display_name": "Python 3",
   "language": "python",
   "name": "python3"
  },
  "language_info": {
   "codemirror_mode": {
    "name": "ipython",
    "version": 3
   },
   "file_extension": ".py",
   "mimetype": "text/x-python",
   "name": "python",
   "nbconvert_exporter": "python",
   "pygments_lexer": "ipython3",
   "version": "3.6.8"
  }
 },
 "nbformat": 4,
 "nbformat_minor": 2
}
