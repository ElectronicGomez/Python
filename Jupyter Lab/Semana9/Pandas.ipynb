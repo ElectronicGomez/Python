{
 "cells": [
  {
   "cell_type": "markdown",
   "metadata": {},
   "source": [
    "# Pandas\n",
    "\n",
    "![](https://miro.medium.com/max/481/1*cxfqR8NAj8HGal8CVOZ7hg.png)\n",
    "\n",
    "Pandas es una herramienta de manipulación de datos de alto nivel desarrollada por Wes McKinney. Esta desarrollado sobre el paquete Numpy y su estructura de datos clave es llamada el DataFrame. El DataFrame permite almacenar y manipular datos tabulados en filas de observaciones y columnas de variables. Se puede conceptualizar como una hoja de cálculo, pero con esteroides.\n",
    "\n",
    "La [documentación de pandas](https://pandas.pydata.org/pandas-docs/stable/index.html) es muy extensa y muy bien redactada (con ejemplos, inclusive), por lo que vale la pena tenerla a la mano.\n",
    "\n",
    "Luis A. Muñoz"
   ]
  },
  {
   "cell_type": "code",
   "execution_count": 3,
   "metadata": {},
   "outputs": [],
   "source": [
    "import pandas as pd"
   ]
  },
  {
   "cell_type": "markdown",
   "metadata": {},
   "source": [
    "## Series\n",
    "Las series son estructuras unidimensionales de datos etiquetados con valores numéricos (como una lista) o etiquetas (como un diccionario). Es básicamente una columna en una hoja de cálculo."
   ]
  },
  {
   "cell_type": "code",
   "execution_count": 4,
   "metadata": {},
   "outputs": [
    {
     "name": "stdout",
     "output_type": "stream",
     "text": [
      "<class 'pandas.core.series.Series'>\n",
      "0    Data1\n",
      "1    Data2\n",
      "2    Data3\n",
      "dtype: object\n"
     ]
    }
   ],
   "source": [
    "data = pd.Series(['Data1', 'Data2', 'Data3'])\n",
    "print(type(data))\n",
    "print(data)"
   ]
  },
  {
   "cell_type": "markdown",
   "metadata": {},
   "source": [
    "Como se observa, se ha creado una Serie de datos a partir de una lista. Cada uno de los datos (`object` signfica que son `str`) esta etiquetado con un número a lo largo del `index`. La indexación puede consistir en etiquetas:"
   ]
  },
  {
   "cell_type": "code",
   "execution_count": 5,
   "metadata": {},
   "outputs": [
    {
     "name": "stdout",
     "output_type": "stream",
     "text": [
      "A    Data1\n",
      "B    Data2\n",
      "C    Data3\n",
      "dtype: object\n"
     ]
    }
   ],
   "source": [
    "data.index = ['A', 'B', 'C']\n",
    "print(data)"
   ]
  },
  {
   "cell_type": "markdown",
   "metadata": {},
   "source": [
    "Se puede acceder a cada uno de los valores por medio de la notación `[]` utilizando indices númericos de posición o el índice actual, o utilizando el método `at` solamente con los indices actuales:"
   ]
  },
  {
   "cell_type": "code",
   "execution_count": 6,
   "metadata": {},
   "outputs": [
    {
     "name": "stdout",
     "output_type": "stream",
     "text": [
      "data[0] = Data1\n",
      "data[-1] = Data3\n",
      "data['A'] = Data1\n",
      "data.at['B'] = Data2\n"
     ]
    }
   ],
   "source": [
    "print(\"data[0] =\", data[0])\n",
    "print(\"data[-1] =\", data[-1])\n",
    "print(\"data['A'] =\", data['A'])\n",
    "print(\"data.at['B'] =\", data.at['B'])"
   ]
  },
  {
   "cell_type": "markdown",
   "metadata": {},
   "source": [
    "Se pueden especificar tanto los datos como los índices al momento de generar la Serie:"
   ]
  },
  {
   "cell_type": "code",
   "execution_count": null,
   "metadata": {},
   "outputs": [],
   "source": []
  },
  {
   "cell_type": "code",
   "execution_count": 7,
   "metadata": {},
   "outputs": [
    {
     "name": "stdout",
     "output_type": "stream",
     "text": [
      "C1       Audi\n",
      "C2    Porsche\n",
      "C3    Bugatti\n",
      "C4      Lotus\n",
      "Name: Autos, dtype: object\n"
     ]
    }
   ],
   "source": [
    "valores = pd.Series(data=['Audi', 'Porsche', 'Bugatti', 'Lotus'], \n",
    "                 index=['C1', 'C2', 'C3', 'C4'], \n",
    "                 name='Autos')\n",
    "print(valores)"
   ]
  },
  {
   "cell_type": "markdown",
   "metadata": {},
   "source": [
    "Los datos asociados a una serie se pueden obtener con las propiedades `index`, `data` y `name`:"
   ]
  },
  {
   "cell_type": "code",
   "execution_count": 8,
   "metadata": {},
   "outputs": [
    {
     "name": "stdout",
     "output_type": "stream",
     "text": [
      "Index(['C1', 'C2', 'C3', 'C4'], dtype='object')\n",
      "['Audi' 'Porsche' 'Bugatti' 'Lotus']\n",
      "Autos\n"
     ]
    }
   ],
   "source": [
    "print(valores.index)\n",
    "print(valores.values)    # Por qué 'values' en lugar de 'data'???\n",
    "print(valores.name)"
   ]
  },
  {
   "cell_type": "markdown",
   "metadata": {},
   "source": [
    "Una de las cosas a notar es que los índices están emparejados a los datos (como sucede con el par llave-valor en un diccionario). Por ejemplo, si se aplica el método `sort_values` sobre una Serie:"
   ]
  },
  {
   "cell_type": "code",
   "execution_count": 9,
   "metadata": {},
   "outputs": [
    {
     "name": "stdout",
     "output_type": "stream",
     "text": [
      "C1       Audi\n",
      "C3    Bugatti\n",
      "C4      Lotus\n",
      "C2    Porsche\n",
      "Name: Autos, dtype: object\n",
      "C1       Audi\n",
      "C2    Porsche\n",
      "C3    Bugatti\n",
      "C4      Lotus\n",
      "Name: Autos, dtype: object\n",
      "Audi\n",
      "Porsche\n",
      "Audi\n",
      "Porsche\n"
     ]
    }
   ],
   "source": [
    "a=valores.sort_values() #Se ordena en forma albafetia los values\n",
    "#sort_values() crea una serie nueva, no modifica  la original\n",
    "print(a)\n",
    "print(valores)\n",
    "print(valores[0])\n",
    "print(valores[1])\n",
    "print(a['C1'])\n",
    "print(a['C2'])"
   ]
  },
  {
   "cell_type": "markdown",
   "metadata": {},
   "source": [
    "Se observa que los valores se ordenan alfabéticamante, llevandose a sus índices consigo (así estos no se hayan especificado y sean valores numéricos). Por lo tanto, el dato `data['C3']` sigue siendo *Bugatti*.\n",
    "\n",
    "¿Qué sucede si se ingresa una Serie a un iterador como `for`?"
   ]
  },
  {
   "cell_type": "code",
   "execution_count": 10,
   "metadata": {},
   "outputs": [
    {
     "name": "stdout",
     "output_type": "stream",
     "text": [
      "Audi\n",
      "Porsche\n",
      "Bugatti\n",
      "Lotus\n",
      "==========\n",
      "Audi\n",
      "Bugatti\n",
      "Lotus\n",
      "Porsche\n"
     ]
    }
   ],
   "source": [
    "for item in valores:\n",
    "    print(item)\n",
    "print(\"==========\")\n",
    "for item in a:\n",
    "    print(item)"
   ]
  },
  {
   "cell_type": "markdown",
   "metadata": {},
   "source": [
    "Obtendermos los valores (y no lo índices, como sucedía con un diccionario). Esto es una característica de las Series a recordar."
   ]
  },
  {
   "cell_type": "markdown",
   "metadata": {},
   "source": [
    "### pandas y operaciones `inplace`\n",
    "Otra cosa que debe de observar que escapa a la vista: ¡los datos que han sido iterados de la Serie `data` ya no están ordenados! ¿Esto quiere decir que la operación anterior `data.sort_values()` se deshizo? La explicación a esto esta ascociada al hecho de que cuando se ejecuto esta instrucción en una celda se observó una serie ordenada por sus valores. Esto sólo es posible si `data.sort_values()` retornase una Serie nueva (si ordenara la Serie misma no se vería ninguna impresión). Esta es la forma como casi todos los métodos en una Serie y un Dataframe operan: generan nuevos objetos (como sucede con los `str`). Así que, si se quiere que los cambios se realicen sobre la Serie misma se puede hacer: `data = data.sort_values()`, aunque lo común es especificar la propiedad `inplace=True`:"
   ]
  },
  {
   "cell_type": "code",
   "execution_count": 11,
   "metadata": {},
   "outputs": [],
   "source": [
    "data.sort_values(inplace=True)"
   ]
  },
  {
   "cell_type": "code",
   "execution_count": 12,
   "metadata": {},
   "outputs": [
    {
     "name": "stdout",
     "output_type": "stream",
     "text": [
      "A    Data1\n",
      "B    Data2\n",
      "C    Data3\n",
      "dtype: object\n"
     ]
    }
   ],
   "source": [
    "print(data)"
   ]
  },
  {
   "cell_type": "markdown",
   "metadata": {},
   "source": [
    "### `loc` y `iloc`\n",
    "Retornemos a los índices. Una Serie soporta *index-slicing*?"
   ]
  },
  {
   "cell_type": "code",
   "execution_count": 13,
   "metadata": {},
   "outputs": [
    {
     "name": "stdout",
     "output_type": "stream",
     "text": [
      "C4      Lotus\n",
      "C3    Bugatti\n",
      "C2    Porsche\n",
      "C1       Audi\n",
      "Name: Autos, dtype: object\n",
      "C1       Audi\n",
      "C2    Porsche\n",
      "C3    Bugatti\n",
      "C4      Lotus\n",
      "Name: Autos, dtype: object\n",
      "C1       Audi\n",
      "C3    Bugatti\n",
      "Name: Autos, dtype: object\n"
     ]
    }
   ],
   "source": [
    "print(valores[::-1])\n",
    "print(valores[::1])\n",
    "print(valores[::2])"
   ]
  },
  {
   "cell_type": "markdown",
   "metadata": {},
   "source": [
    "Uno de los inconvenientes de pandas es que hay muchas formas de hacer las mismas cosas, por lo que lo mejor es tener una metodología para realizar algunas acciones que se podrían realizar de varias maneras. Por ejemplo, respecto a la indexación no se suele utilizar directamente la notación `[]` ya que genera confusión en el código al sugerír que se esta frente a una lista. En lugar de esto se utiliza con los atributos `loc` y `iloc`:"
   ]
  },
  {
   "cell_type": "code",
   "execution_count": 14,
   "metadata": {},
   "outputs": [
    {
     "name": "stdout",
     "output_type": "stream",
     "text": [
      "valores.loc['C1'] = Audi\n",
      "valores.iloc[0] = Audi\n",
      "valores.iloc[1] = Porsche\n",
      "valores.iloc['C2'] = Porsche\n",
      "valores.iloc['C2'] = Porsche\n"
     ]
    }
   ],
   "source": [
    "print(\"valores.loc['C1'] =\", valores.loc['C1'])\n",
    "print(\"valores.iloc[0] =\", valores.iloc[0])\n",
    "print(\"valores.iloc[1] =\", valores[1])\n",
    "print(\"valores.iloc['C2'] =\", valores.at['C2'])\n",
    "print(\"valores.iloc['C2'] =\", valores['C2'])"
   ]
  },
  {
   "cell_type": "markdown",
   "metadata": {},
   "source": [
    "Como se observa, `loc` especifica que se quiere el dato en una *localización* según la etiqueta del índice, miestras que `iloc` especifica que se quiere el dato en una *localización* según el índice de posición. (Si no se ha especificado valores para los índices se tendrá la misma información para ambos casos). Respecto al *index-slicing*:"
   ]
  },
  {
   "cell_type": "code",
   "execution_count": 15,
   "metadata": {},
   "outputs": [
    {
     "name": "stdout",
     "output_type": "stream",
     "text": [
      "valores.loc['C1'::2] = C2    Porsche\n",
      "C3    Bugatti\n",
      "C4      Lotus\n",
      "Name: Autos, dtype: object\n",
      "\n",
      "valores.iloc[::-2] = C4      Lotus\n",
      "C2    Porsche\n",
      "Name: Autos, dtype: object\n",
      "C2    Porsche\n",
      "C3    Bugatti\n",
      "C4      Lotus\n",
      "Name: Autos, dtype: object\n",
      "C2    Porsche\n",
      "Name: Autos, dtype: object\n"
     ]
    }
   ],
   "source": [
    "print(\"valores.loc['C1'::2] =\", valores.loc['C2'::1])\n",
    "print(\"\\nvalores.iloc[::-2] =\", valores.iloc[::-2])\n",
    "print(valores.loc['C2'::1])\n",
    "print(valores.loc['C2'::-2])"
   ]
  },
  {
   "cell_type": "markdown",
   "metadata": {},
   "source": [
    "Como se observa, se soporta *index-slicing* tanto con índices de posicion como con las etiquetas. Así que seguiremos la buena costumbre de utilizar `loc` y `iloc` cuando utilicemos pandas."
   ]
  },
  {
   "cell_type": "markdown",
   "metadata": {},
   "source": [
    "### Operaciones con Series\n",
    "Las Series también soportan operaciones que dependerán del tipo de datos:"
   ]
  },
  {
   "cell_type": "code",
   "execution_count": 16,
   "metadata": {},
   "outputs": [
    {
     "name": "stdout",
     "output_type": "stream",
     "text": [
      "0    1\n",
      "1    2\n",
      "2    3\n",
      "dtype: int64\n",
      "0    2\n",
      "1    4\n",
      "2    6\n",
      "dtype: int64\n"
     ]
    }
   ],
   "source": [
    "data = pd.Series([1, 2, 3])\n",
    "data2 = pd.Series([4, 5, 6])\n",
    "print(data)\n",
    "print(data * 2)\n"
   ]
  },
  {
   "cell_type": "code",
   "execution_count": 17,
   "metadata": {},
   "outputs": [
    {
     "name": "stdout",
     "output_type": "stream",
     "text": [
      "0    5\n",
      "1    7\n",
      "2    9\n",
      "dtype: int64\n",
      "0    2\n",
      "1    4\n",
      "2    6\n",
      "dtype: int64\n"
     ]
    }
   ],
   "source": [
    "print(data + data2)\n",
    "print(data+data)"
   ]
  },
  {
   "cell_type": "code",
   "execution_count": 18,
   "metadata": {},
   "outputs": [
    {
     "data": {
      "text/plain": [
       "0    A0\n",
       "1    B0\n",
       "2    C0\n",
       "dtype: object"
      ]
     },
     "execution_count": 18,
     "metadata": {},
     "output_type": "execute_result"
    }
   ],
   "source": [
    "data = pd.Series(['A', 'B', 'C'])\n",
    "data + '0'"
   ]
  },
  {
   "cell_type": "markdown",
   "metadata": {},
   "source": [
    "### Indexación booleana\n",
    "Los Series también soportan indexación booleana:"
   ]
  },
  {
   "cell_type": "code",
   "execution_count": 19,
   "metadata": {},
   "outputs": [
    {
     "name": "stdout",
     "output_type": "stream",
     "text": [
      "0      1\n",
      "1      3\n",
      "2     12\n",
      "3     15\n",
      "4     20\n",
      "5     25\n",
      "6     30\n",
      "7     16\n",
      "8     21\n",
      "9      7\n",
      "10    33\n",
      "dtype: int64\n"
     ]
    }
   ],
   "source": [
    "data = pd.Series([1, 3, 12, 15, 20, 25, 30, 16, 21, 7, 33])\n",
    "print(data)"
   ]
  },
  {
   "cell_type": "code",
   "execution_count": 20,
   "metadata": {},
   "outputs": [
    {
     "data": {
      "text/plain": [
       "0     False\n",
       "1     False\n",
       "2      True\n",
       "3     False\n",
       "4      True\n",
       "5     False\n",
       "6      True\n",
       "7      True\n",
       "8     False\n",
       "9     False\n",
       "10    False\n",
       "dtype: bool"
      ]
     },
     "execution_count": 20,
     "metadata": {},
     "output_type": "execute_result"
    }
   ],
   "source": [
    "data % 2 == 0"
   ]
  },
  {
   "cell_type": "markdown",
   "metadata": {},
   "source": [
    "La operación anterior (una Serie con una operación relacional) retorna una Serie con datos booleanos. Una Serie Booleana se puede utilizar como \"máscara\" para seleccionar los datos de un Serie que cumplen con la condición de la máscara:"
   ]
  },
  {
   "cell_type": "code",
   "execution_count": 21,
   "metadata": {},
   "outputs": [
    {
     "data": {
      "text/plain": [
       "2    12\n",
       "4    20\n",
       "6    30\n",
       "7    16\n",
       "dtype: int64"
      ]
     },
     "execution_count": 21,
     "metadata": {},
     "output_type": "execute_result"
    }
   ],
   "source": [
    "data[data % 2 == 0]"
   ]
  },
  {
   "cell_type": "code",
   "execution_count": null,
   "metadata": {},
   "outputs": [],
   "source": []
  },
  {
   "cell_type": "markdown",
   "metadata": {},
   "source": [
    "### Gestión de índices\n",
    "Los índices también se pueden manipular en una Serie:"
   ]
  },
  {
   "cell_type": "code",
   "execution_count": 22,
   "metadata": {},
   "outputs": [
    {
     "data": {
      "text/plain": [
       "Elvio    80\n",
       "Dina     76\n",
       "Elmer    66\n",
       "dtype: int64"
      ]
     },
     "execution_count": 22,
     "metadata": {},
     "output_type": "execute_result"
    }
   ],
   "source": [
    "data = pd.Series([80, 76, 66])\n",
    "data.index = ['Elvio', 'Dina', 'Elmer']\n",
    "data"
   ]
  },
  {
   "cell_type": "code",
   "execution_count": 23,
   "metadata": {},
   "outputs": [
    {
     "name": "stdout",
     "output_type": "stream",
     "text": [
      "Dina     76\n",
      "Elmer    66\n",
      "Elvio    80\n",
      "dtype: int64\n",
      "Elvio    80\n",
      "Dina     76\n",
      "Elmer    66\n",
      "dtype: int64\n"
     ]
    }
   ],
   "source": [
    "print(data.sort_index())\n",
    "print(data)"
   ]
  },
  {
   "cell_type": "markdown",
   "metadata": {},
   "source": [
    "Se puede renombrar los índices utiliando `Series.rename`, utilizando ya sea un diccionario de la forma *{indice_antiguo: indice_nuevo}*, o con una función que tome como argumento de entrada el índice actual:"
   ]
  },
  {
   "cell_type": "code",
   "execution_count": 24,
   "metadata": {},
   "outputs": [
    {
     "data": {
      "text/plain": [
       "Elvio Lado     80\n",
       "Dina Mita      76\n",
       "Elmer Curio    66\n",
       "dtype: int64"
      ]
     },
     "execution_count": 24,
     "metadata": {},
     "output_type": "execute_result"
    }
   ],
   "source": [
    "data.rename({'Dina': 'Dina Mita', 'Elmer': 'Elmer Curio', 'Elvio': 'Elvio Lado'})"
   ]
  },
  {
   "cell_type": "code",
   "execution_count": 25,
   "metadata": {},
   "outputs": [
    {
     "data": {
      "text/plain": [
       "Dr. Elvio    80\n",
       "Dr. Dina     76\n",
       "Dr. Elmer    66\n",
       "dtype: int64"
      ]
     },
     "execution_count": 25,
     "metadata": {},
     "output_type": "execute_result"
    }
   ],
   "source": [
    "data.rename(lambda x: \"Dr. \" + x)"
   ]
  },
  {
   "cell_type": "markdown",
   "metadata": {},
   "source": [
    "### Gestion de los valores NaN\n",
    "Al momento de importar valores a una Serie o un Dataframe, es común que algunos factores no puedan interpretarse correctamente. Ante esta circunstancia, pandas convierte estos valores en NaN (Not a Number)."
   ]
  },
  {
   "cell_type": "code",
   "execution_count": 26,
   "metadata": {},
   "outputs": [
    {
     "name": "stdout",
     "output_type": "stream",
     "text": [
      "0     1.0\n",
      "1    10.0\n",
      "2     NaN\n",
      "3    12.0\n",
      "4    22.0\n",
      "5     NaN\n",
      "dtype: float64\n"
     ]
    }
   ],
   "source": [
    "import numpy as np\n",
    "\n",
    "data = pd.Series([1, 10, np.nan, 12, 22, np.nan])\n",
    "print(data)\n"
   ]
  },
  {
   "cell_type": "markdown",
   "metadata": {},
   "source": [
    "Una de las primeras tareas al momento de trabajar con los datos es saber si existen valores NaN, ya que estos pueden afectar los calculos a realizar. Una vez detectados, se pueden reemplazar o eliminar de la Serie:"
   ]
  },
  {
   "cell_type": "code",
   "execution_count": 27,
   "metadata": {},
   "outputs": [
    {
     "data": {
      "text/plain": [
       "True"
      ]
     },
     "execution_count": 27,
     "metadata": {},
     "output_type": "execute_result"
    }
   ],
   "source": [
    "# Hay valores NaN en la Serie?\n",
    "any(data.isna())\n"
   ]
  },
  {
   "cell_type": "code",
   "execution_count": 28,
   "metadata": {},
   "outputs": [
    {
     "name": "stdout",
     "output_type": "stream",
     "text": [
      "0     1.0\n",
      "1    10.0\n",
      "2     NaN\n",
      "3    12.0\n",
      "4    22.0\n",
      "5     NaN\n",
      "dtype: float64\n"
     ]
    }
   ],
   "source": [
    "# Reemplazar estos valores con 0 (\"inplace=True\" si se quiere fijar!)\n",
    "data.fillna(0) # data.fillna(0, inplace=True)\n",
    "print(data)\n"
   ]
  },
  {
   "cell_type": "code",
   "execution_count": 29,
   "metadata": {},
   "outputs": [
    {
     "data": {
      "text/plain": [
       "0     1.0\n",
       "1    10.0\n",
       "3    12.0\n",
       "4    22.0\n",
       "dtype: float64"
      ]
     },
     "execution_count": 29,
     "metadata": {},
     "output_type": "execute_result"
    }
   ],
   "source": [
    "# Eliminar los valores que sean NaN con todo y sus indices\n",
    "data.dropna()"
   ]
  },
  {
   "cell_type": "markdown",
   "metadata": {},
   "source": [
    "### Algunos métodos de una Serie\n",
    "Existe una gran cantidad de métodos para realizar operaciones sobre una Serie (o un Dataframe). Es preferible usar siempre los métodos del objeto de pandas en lugar de las BIFs de Python. Por ejemplo, se puede utilizar el BIF `len` tanto como consultar la propiedad `Series.size` para conocer el número de elementos de una Serie:"
   ]
  },
  {
   "cell_type": "code",
   "execution_count": 30,
   "metadata": {},
   "outputs": [
    {
     "name": "stdout",
     "output_type": "stream",
     "text": [
      "6\n",
      "6\n",
      "4\n"
     ]
    }
   ],
   "source": [
    "data = pd.Series([1, 10, np.nan, 12, 22, np.nan])\n",
    "print(len(data))\n",
    "print(data.size)\n",
    "print(data.count()) #Retorna el tamañado de data sin los NaN"
   ]
  },
  {
   "cell_type": "markdown",
   "metadata": {},
   "source": [
    "Pero no puede decirse o mismo del BIF `sum` y el método `Series.sum()`:"
   ]
  },
  {
   "cell_type": "code",
   "execution_count": 31,
   "metadata": {},
   "outputs": [
    {
     "name": "stdout",
     "output_type": "stream",
     "text": [
      "nan\n",
      "45.0\n"
     ]
    }
   ],
   "source": [
    "print(sum(data))\n",
    "print(data.sum())"
   ]
  },
  {
   "cell_type": "markdown",
   "metadata": {},
   "source": [
    "Con esta aclaración, se presentan algunos métodos útiles:"
   ]
  },
  {
   "cell_type": "code",
   "execution_count": 32,
   "metadata": {},
   "outputs": [
    {
     "data": {
      "text/plain": [
       "0    30\n",
       "1    13\n",
       "2    16\n",
       "3    20\n",
       "4    39\n",
       "5    22\n",
       "6    16\n",
       "7    17\n",
       "dtype: int64"
      ]
     },
     "execution_count": 32,
     "metadata": {},
     "output_type": "execute_result"
    }
   ],
   "source": [
    "data = pd.Series([30, 13, 16, 20, 39, 22, 16, 17])\n",
    "data"
   ]
  },
  {
   "cell_type": "code",
   "execution_count": 33,
   "metadata": {},
   "outputs": [
    {
     "name": "stdout",
     "output_type": "stream",
     "text": [
      "0    30\n",
      "1    13\n",
      "2    16\n",
      "3    20\n",
      "4    39\n",
      "5    22\n",
      "6    16\n",
      "7    17\n",
      "dtype: int64\n",
      "Numero de elementos: 8\n",
      "Suma de los elementos: 173\n",
      "Promedio de los elementos: 21.625\n",
      "Valor medio de los elementos: 18.5\n",
      "Valor mínimo: 13\n",
      "Valor máximo: 39\n",
      "Indice valor mínimo: 1\n",
      "Indice valor máximo: 4\n",
      "13\n"
     ]
    }
   ],
   "source": [
    "# Todos los métodos no consideran los valores NaN en sus operaciones\n",
    "print(data)\n",
    "print(\"Numero de elementos:\", data.count())\n",
    "print(\"Suma de los elementos:\", data.sum())\n",
    "print(\"Promedio de los elementos:\", data.mean()) #Promedio\n",
    "print(\"Valor medio de los elementos:\", data.median()) \n",
    "print(\"Valor mínimo:\", data.min())\n",
    "print(\"Valor máximo:\", data.max())\n",
    "print(\"Indice valor mínimo:\", data.idxmin()) #Puede usar tambien argmin() pero en un futuro se usara solo idxmin() \n",
    "print(\"Indice valor máximo:\", data.idxmax()) #Puede usar tambien argmax() pero en un futuro se usara solo idxmax()\n",
    "print(data.min())"
   ]
  },
  {
   "cell_type": "markdown",
   "metadata": {},
   "source": [
    "Cuando se quiere cambiar los datos de una serie por una operación, se puede utilizar el método `Series.apply()` para aplicar una función sobre los valores:"
   ]
  },
  {
   "cell_type": "code",
   "execution_count": 34,
   "metadata": {},
   "outputs": [
    {
     "data": {
      "text/plain": [
       "0    30.0\n",
       "1    13.0\n",
       "2    16.0\n",
       "3    20.0\n",
       "4    39.0\n",
       "5    22.0\n",
       "6    16.0\n",
       "7    17.0\n",
       "dtype: float64"
      ]
     },
     "execution_count": 34,
     "metadata": {},
     "output_type": "execute_result"
    }
   ],
   "source": [
    "data.apply(lambda x: float(x))"
   ]
  },
  {
   "cell_type": "markdown",
   "metadata": {},
   "source": [
    "Esto es más que suficiente con las Series de pandas. Ayudará mucho a entender con mayor facilidad lo que es un DataFrame, el tipo de datos más común en pandas. Asi que antes de continuar, hay que procesar la información...\n",
    "\n",
    "![](https://1.bp.blogspot.com/-GskJF4leDDM/U2fqYXRZa2I/AAAAAAAADu8/XJMQskW6rvs/s1600/bb.png)"
   ]
  },
  {
   "cell_type": "markdown",
   "metadata": {},
   "source": [
    "## DataFrame\n",
    "Un Dataframe es una estructura tabular bidimensional: una hoja de cálculo, con filas y columnas. Si se consideraba una Serie como una columna en una hoja de cálculo, un DataFrame será una colección de Series."
   ]
  },
  {
   "cell_type": "code",
   "execution_count": 35,
   "metadata": {},
   "outputs": [
    {
     "data": {
      "text/html": [
       "<div>\n",
       "<style scoped>\n",
       "    .dataframe tbody tr th:only-of-type {\n",
       "        vertical-align: middle;\n",
       "    }\n",
       "\n",
       "    .dataframe tbody tr th {\n",
       "        vertical-align: top;\n",
       "    }\n",
       "\n",
       "    .dataframe thead th {\n",
       "        text-align: right;\n",
       "    }\n",
       "</style>\n",
       "<table border=\"1\" class=\"dataframe\">\n",
       "  <thead>\n",
       "    <tr style=\"text-align: right;\">\n",
       "      <th></th>\n",
       "      <th>0</th>\n",
       "    </tr>\n",
       "  </thead>\n",
       "  <tbody>\n",
       "    <tr>\n",
       "      <th>0</th>\n",
       "      <td>A</td>\n",
       "    </tr>\n",
       "    <tr>\n",
       "      <th>1</th>\n",
       "      <td>B</td>\n",
       "    </tr>\n",
       "    <tr>\n",
       "      <th>2</th>\n",
       "      <td>C</td>\n",
       "    </tr>\n",
       "  </tbody>\n",
       "</table>\n",
       "</div>"
      ],
      "text/plain": [
       "   0\n",
       "0  A\n",
       "1  B\n",
       "2  C"
      ]
     },
     "execution_count": 35,
     "metadata": {},
     "output_type": "execute_result"
    }
   ],
   "source": [
    "df = pd.DataFrame(['A', 'B', 'C'])\n",
    "df"
   ]
  },
  {
   "cell_type": "markdown",
   "metadata": {},
   "source": [
    "Como se puede observar, un DataFrame consiste en una coleccion de Series, donde cada uno de estas tiene una etiqueta, es decir el nombre de la columna (aqui es donde tiene sentido que una Serie tenga un nombre entre sus propiedades y un DataFrame no).\n",
    "\n",
    "Definamos un DataFrame como una lista de listas:"
   ]
  },
  {
   "cell_type": "code",
   "execution_count": 36,
   "metadata": {},
   "outputs": [
    {
     "data": {
      "text/html": [
       "<div>\n",
       "<style scoped>\n",
       "    .dataframe tbody tr th:only-of-type {\n",
       "        vertical-align: middle;\n",
       "    }\n",
       "\n",
       "    .dataframe tbody tr th {\n",
       "        vertical-align: top;\n",
       "    }\n",
       "\n",
       "    .dataframe thead th {\n",
       "        text-align: right;\n",
       "    }\n",
       "</style>\n",
       "<table border=\"1\" class=\"dataframe\">\n",
       "  <thead>\n",
       "    <tr style=\"text-align: right;\">\n",
       "      <th></th>\n",
       "      <th>0</th>\n",
       "      <th>1</th>\n",
       "      <th>2</th>\n",
       "    </tr>\n",
       "  </thead>\n",
       "  <tbody>\n",
       "    <tr>\n",
       "      <th>0</th>\n",
       "      <td>A</td>\n",
       "      <td>B</td>\n",
       "      <td>C</td>\n",
       "    </tr>\n",
       "    <tr>\n",
       "      <th>1</th>\n",
       "      <td>D</td>\n",
       "      <td>E</td>\n",
       "      <td>F</td>\n",
       "    </tr>\n",
       "    <tr>\n",
       "      <th>2</th>\n",
       "      <td>G</td>\n",
       "      <td>H</td>\n",
       "      <td>I</td>\n",
       "    </tr>\n",
       "  </tbody>\n",
       "</table>\n",
       "</div>"
      ],
      "text/plain": [
       "   0  1  2\n",
       "0  A  B  C\n",
       "1  D  E  F\n",
       "2  G  H  I"
      ]
     },
     "execution_count": 36,
     "metadata": {},
     "output_type": "execute_result"
    }
   ],
   "source": [
    "df = pd.DataFrame([['A', 'B', 'C'], ['D', 'E', 'F'], ['G', 'H', 'I']])\n",
    "df"
   ]
  },
  {
   "cell_type": "markdown",
   "metadata": {},
   "source": [
    "Aquí se ve con mayor claridad que un DataFrame es una tabla. Se suele definir un DataFrame siendo más explicito con los nombres de las propiedades:"
   ]
  },
  {
   "cell_type": "code",
   "execution_count": 37,
   "metadata": {},
   "outputs": [
    {
     "data": {
      "text/html": [
       "<div>\n",
       "<style scoped>\n",
       "    .dataframe tbody tr th:only-of-type {\n",
       "        vertical-align: middle;\n",
       "    }\n",
       "\n",
       "    .dataframe tbody tr th {\n",
       "        vertical-align: top;\n",
       "    }\n",
       "\n",
       "    .dataframe thead th {\n",
       "        text-align: right;\n",
       "    }\n",
       "</style>\n",
       "<table border=\"1\" class=\"dataframe\">\n",
       "  <thead>\n",
       "    <tr style=\"text-align: right;\">\n",
       "      <th></th>\n",
       "      <th>C1</th>\n",
       "      <th>C2</th>\n",
       "      <th>C3</th>\n",
       "    </tr>\n",
       "  </thead>\n",
       "  <tbody>\n",
       "    <tr>\n",
       "      <th>I1</th>\n",
       "      <td>A</td>\n",
       "      <td>B</td>\n",
       "      <td>C</td>\n",
       "    </tr>\n",
       "    <tr>\n",
       "      <th>I2</th>\n",
       "      <td>D</td>\n",
       "      <td>E</td>\n",
       "      <td>F</td>\n",
       "    </tr>\n",
       "    <tr>\n",
       "      <th>I3</th>\n",
       "      <td>G</td>\n",
       "      <td>H</td>\n",
       "      <td>I</td>\n",
       "    </tr>\n",
       "  </tbody>\n",
       "</table>\n",
       "</div>"
      ],
      "text/plain": [
       "   C1 C2 C3\n",
       "I1  A  B  C\n",
       "I2  D  E  F\n",
       "I3  G  H  I"
      ]
     },
     "execution_count": 37,
     "metadata": {},
     "output_type": "execute_result"
    }
   ],
   "source": [
    "df = pd.DataFrame(data=[['A', 'B', 'C'], ['D', 'E', 'F'], ['G', 'H', 'I']], \n",
    "                  columns=['C1', 'C2', 'C3'], \n",
    "                  index=['I1', 'I2', 'I3'])\n",
    "df"
   ]
  },
  {
   "cell_type": "markdown",
   "metadata": {},
   "source": [
    "### Indexación\n",
    "Como sucede con las listas de listas, en un DataFrame la indexación puede ser más complicada... pero si utilizamos `loc` y `iloc` todo se vuelve mucho más sencillo. Si se utiliza `loc` con la etiqueta de un índice, retornará la fila asociada a ese índice:"
   ]
  },
  {
   "cell_type": "code",
   "execution_count": 38,
   "metadata": {},
   "outputs": [
    {
     "data": {
      "text/plain": [
       "C1    A\n",
       "C2    B\n",
       "C3    C\n",
       "Name: I1, dtype: object"
      ]
     },
     "execution_count": 38,
     "metadata": {},
     "output_type": "execute_result"
    }
   ],
   "source": [
    "df.loc['I1']"
   ]
  },
  {
   "cell_type": "code",
   "execution_count": 54,
   "metadata": {},
   "outputs": [
    {
     "data": {
      "text/html": [
       "<div>\n",
       "<style scoped>\n",
       "    .dataframe tbody tr th:only-of-type {\n",
       "        vertical-align: middle;\n",
       "    }\n",
       "\n",
       "    .dataframe tbody tr th {\n",
       "        vertical-align: top;\n",
       "    }\n",
       "\n",
       "    .dataframe thead th {\n",
       "        text-align: right;\n",
       "    }\n",
       "</style>\n",
       "<table border=\"1\" class=\"dataframe\">\n",
       "  <thead>\n",
       "    <tr style=\"text-align: right;\">\n",
       "      <th></th>\n",
       "      <th>C1</th>\n",
       "      <th>C2</th>\n",
       "      <th>C3</th>\n",
       "    </tr>\n",
       "  </thead>\n",
       "  <tbody>\n",
       "    <tr>\n",
       "      <th>I3</th>\n",
       "      <td>G</td>\n",
       "      <td>H</td>\n",
       "      <td>I</td>\n",
       "    </tr>\n",
       "    <tr>\n",
       "      <th>I2</th>\n",
       "      <td>D</td>\n",
       "      <td>E</td>\n",
       "      <td>F</td>\n",
       "    </tr>\n",
       "    <tr>\n",
       "      <th>I1</th>\n",
       "      <td>A</td>\n",
       "      <td>B</td>\n",
       "      <td>C</td>\n",
       "    </tr>\n",
       "  </tbody>\n",
       "</table>\n",
       "</div>"
      ],
      "text/plain": [
       "   C1 C2 C3\n",
       "I3  G  H  I\n",
       "I2  D  E  F\n",
       "I1  A  B  C"
      ]
     },
     "execution_count": 54,
     "metadata": {},
     "output_type": "execute_result"
    }
   ],
   "source": [
    "df.loc['I3'::-1]\n"
   ]
  },
  {
   "cell_type": "markdown",
   "metadata": {},
   "source": [
    "Por otro lado, con `iloc` puede especificar los indices de los datos de forma bidimensional (como si fuera un `array`):"
   ]
  },
  {
   "cell_type": "code",
   "execution_count": 57,
   "metadata": {},
   "outputs": [
    {
     "data": {
      "text/plain": [
       "C1    A\n",
       "C2    B\n",
       "C3    C\n",
       "Name: I1, dtype: object"
      ]
     },
     "execution_count": 57,
     "metadata": {},
     "output_type": "execute_result"
    }
   ],
   "source": [
    "df.iloc[0]"
   ]
  },
  {
   "cell_type": "code",
   "execution_count": 58,
   "metadata": {},
   "outputs": [
    {
     "data": {
      "text/html": [
       "<div>\n",
       "<style scoped>\n",
       "    .dataframe tbody tr th:only-of-type {\n",
       "        vertical-align: middle;\n",
       "    }\n",
       "\n",
       "    .dataframe tbody tr th {\n",
       "        vertical-align: top;\n",
       "    }\n",
       "\n",
       "    .dataframe thead th {\n",
       "        text-align: right;\n",
       "    }\n",
       "</style>\n",
       "<table border=\"1\" class=\"dataframe\">\n",
       "  <thead>\n",
       "    <tr style=\"text-align: right;\">\n",
       "      <th></th>\n",
       "      <th>C1</th>\n",
       "      <th>C2</th>\n",
       "      <th>C3</th>\n",
       "    </tr>\n",
       "  </thead>\n",
       "  <tbody>\n",
       "    <tr>\n",
       "      <th>I1</th>\n",
       "      <td>A</td>\n",
       "      <td>B</td>\n",
       "      <td>C</td>\n",
       "    </tr>\n",
       "  </tbody>\n",
       "</table>\n",
       "</div>"
      ],
      "text/plain": [
       "   C1 C2 C3\n",
       "I1  A  B  C"
      ]
     },
     "execution_count": 58,
     "metadata": {},
     "output_type": "execute_result"
    }
   ],
   "source": [
    "df.iloc[0::3]"
   ]
  },
  {
   "cell_type": "code",
   "execution_count": 55,
   "metadata": {},
   "outputs": [
    {
     "data": {
      "text/plain": [
       "C2    B\n",
       "C3    C\n",
       "Name: I1, dtype: object"
      ]
     },
     "execution_count": 55,
     "metadata": {},
     "output_type": "execute_result"
    }
   ],
   "source": [
    "df.iloc[0, 1:] #Fila, columna"
   ]
  },
  {
   "cell_type": "markdown",
   "metadata": {},
   "source": [
    "Considerando que un DataFrame es una colección de Series, es decir de columnas, utilizar directamente la indexación con `[]` da acceso a las columnas. En este formato no tenemos *index-slicing*, por lo que deberémos esoecificar una lista de etiquetas de columnas para obtener un sub DataFrame:"
   ]
  },
  {
   "cell_type": "code",
   "execution_count": 69,
   "metadata": {},
   "outputs": [
    {
     "data": {
      "text/plain": [
       "I1    B\n",
       "I2    E\n",
       "I3    H\n",
       "Name: C2, dtype: object"
      ]
     },
     "execution_count": 69,
     "metadata": {},
     "output_type": "execute_result"
    }
   ],
   "source": [
    "df['C2']"
   ]
  },
  {
   "cell_type": "code",
   "execution_count": 13,
   "metadata": {},
   "outputs": [
    {
     "data": {
      "text/html": [
       "<div>\n",
       "<style scoped>\n",
       "    .dataframe tbody tr th:only-of-type {\n",
       "        vertical-align: middle;\n",
       "    }\n",
       "\n",
       "    .dataframe tbody tr th {\n",
       "        vertical-align: top;\n",
       "    }\n",
       "\n",
       "    .dataframe thead th {\n",
       "        text-align: right;\n",
       "    }\n",
       "</style>\n",
       "<table border=\"1\" class=\"dataframe\">\n",
       "  <thead>\n",
       "    <tr style=\"text-align: right;\">\n",
       "      <th></th>\n",
       "      <th>C2</th>\n",
       "      <th>C3</th>\n",
       "    </tr>\n",
       "  </thead>\n",
       "  <tbody>\n",
       "    <tr>\n",
       "      <th>I1</th>\n",
       "      <td>B</td>\n",
       "      <td>C</td>\n",
       "    </tr>\n",
       "    <tr>\n",
       "      <th>I2</th>\n",
       "      <td>E</td>\n",
       "      <td>F</td>\n",
       "    </tr>\n",
       "    <tr>\n",
       "      <th>I3</th>\n",
       "      <td>H</td>\n",
       "      <td>I</td>\n",
       "    </tr>\n",
       "  </tbody>\n",
       "</table>\n",
       "</div>"
      ],
      "text/plain": [
       "   C2 C3\n",
       "I1  B  C\n",
       "I2  E  F\n",
       "I3  H  I"
      ]
     },
     "execution_count": 13,
     "metadata": {},
     "output_type": "execute_result"
    }
   ],
   "source": [
    "df[['C2', 'C3']]"
   ]
  },
  {
   "cell_type": "markdown",
   "metadata": {},
   "source": [
    "Pero esto mismo se puede realizar con `loc`, si se considerán dos etiquetas de índices de la forma `[fila, columna]`:"
   ]
  },
  {
   "cell_type": "code",
   "execution_count": 88,
   "metadata": {},
   "outputs": [
    {
     "data": {
      "text/html": [
       "<div>\n",
       "<style scoped>\n",
       "    .dataframe tbody tr th:only-of-type {\n",
       "        vertical-align: middle;\n",
       "    }\n",
       "\n",
       "    .dataframe tbody tr th {\n",
       "        vertical-align: top;\n",
       "    }\n",
       "\n",
       "    .dataframe thead th {\n",
       "        text-align: right;\n",
       "    }\n",
       "</style>\n",
       "<table border=\"1\" class=\"dataframe\">\n",
       "  <thead>\n",
       "    <tr style=\"text-align: right;\">\n",
       "      <th></th>\n",
       "      <th>C2</th>\n",
       "      <th>C3</th>\n",
       "    </tr>\n",
       "  </thead>\n",
       "  <tbody>\n",
       "    <tr>\n",
       "      <th>I1</th>\n",
       "      <td>B</td>\n",
       "      <td>C</td>\n",
       "    </tr>\n",
       "    <tr>\n",
       "      <th>I2</th>\n",
       "      <td>E</td>\n",
       "      <td>F</td>\n",
       "    </tr>\n",
       "    <tr>\n",
       "      <th>I3</th>\n",
       "      <td>H</td>\n",
       "      <td>I</td>\n",
       "    </tr>\n",
       "  </tbody>\n",
       "</table>\n",
       "</div>"
      ],
      "text/plain": [
       "   C2 C3\n",
       "I1  B  C\n",
       "I2  E  F\n",
       "I3  H  I"
      ]
     },
     "execution_count": 88,
     "metadata": {},
     "output_type": "execute_result"
    }
   ],
   "source": [
    "df.loc[:, 'C2':]"
   ]
  },
  {
   "cell_type": "code",
   "execution_count": 99,
   "metadata": {},
   "outputs": [
    {
     "data": {
      "text/html": [
       "<div>\n",
       "<style scoped>\n",
       "    .dataframe tbody tr th:only-of-type {\n",
       "        vertical-align: middle;\n",
       "    }\n",
       "\n",
       "    .dataframe tbody tr th {\n",
       "        vertical-align: top;\n",
       "    }\n",
       "\n",
       "    .dataframe thead th {\n",
       "        text-align: right;\n",
       "    }\n",
       "</style>\n",
       "<table border=\"1\" class=\"dataframe\">\n",
       "  <thead>\n",
       "    <tr style=\"text-align: right;\">\n",
       "      <th></th>\n",
       "      <th>C2</th>\n",
       "      <th>C3</th>\n",
       "    </tr>\n",
       "  </thead>\n",
       "  <tbody>\n",
       "    <tr>\n",
       "      <th>I1</th>\n",
       "      <td>B</td>\n",
       "      <td>C</td>\n",
       "    </tr>\n",
       "  </tbody>\n",
       "</table>\n",
       "</div>"
      ],
      "text/plain": [
       "   C2 C3\n",
       "I1  B  C"
      ]
     },
     "execution_count": 99,
     "metadata": {},
     "output_type": "execute_result"
    }
   ],
   "source": [
    "df.loc[::3, 'C2':]"
   ]
  },
  {
   "cell_type": "markdown",
   "metadata": {},
   "source": [
    "Así que sigue siendo una buena regla utilizar `loc` y `iloc`: el primero con índices de posición, y el segundo con etiquetas de filas y columnas con soporte de *index-slicing*."
   ]
  },
  {
   "cell_type": "markdown",
   "metadata": {},
   "source": [
    "### DataFrame como iterable\n",
    "¿Y qué pasará si se ingresa un DataFrame a un iterador como un lazo for?:"
   ]
  },
  {
   "cell_type": "code",
   "execution_count": 2,
   "metadata": {},
   "outputs": [
    {
     "ename": "NameError",
     "evalue": "name 'df' is not defined",
     "output_type": "error",
     "traceback": [
      "\u001b[1;31m---------------------------------------------------------------------------\u001b[0m",
      "\u001b[1;31mNameError\u001b[0m                                 Traceback (most recent call last)",
      "\u001b[1;32m<ipython-input-2-fcd58c50546f>\u001b[0m in \u001b[0;36m<module>\u001b[1;34m\u001b[0m\n\u001b[1;32m----> 1\u001b[1;33m \u001b[1;32mfor\u001b[0m \u001b[0mitem\u001b[0m \u001b[1;32min\u001b[0m \u001b[0mdf\u001b[0m\u001b[1;33m:\u001b[0m\u001b[1;33m\u001b[0m\u001b[1;33m\u001b[0m\u001b[0m\n\u001b[0m\u001b[0;32m      2\u001b[0m     \u001b[0mprint\u001b[0m\u001b[1;33m(\u001b[0m\u001b[0mitem\u001b[0m\u001b[1;33m)\u001b[0m\u001b[1;33m\u001b[0m\u001b[1;33m\u001b[0m\u001b[0m\n",
      "\u001b[1;31mNameError\u001b[0m: name 'df' is not defined"
     ]
    }
   ],
   "source": [
    "for item in df:\n",
    "    print(item)"
   ]
  },
  {
   "cell_type": "markdown",
   "metadata": {},
   "source": [
    "Solo devolverá las columnas. ¿Tiene sentido? Si se considera que un DataFrame es una coleccion de columnas, si. Se puede utilizar la siguiente contrucción de código con el metodo `DataFrame.get()` (homólogo de `Series.at()` para una serie), por ejemplo:"
   ]
  },
  {
   "cell_type": "code",
   "execution_count": 33,
   "metadata": {},
   "outputs": [
    {
     "name": "stdout",
     "output_type": "stream",
     "text": [
      "I1    A\n",
      "I2    D\n",
      "I3    G\n",
      "Name: C1, dtype: object\n",
      "I1    B\n",
      "I2    E\n",
      "I3    H\n",
      "Name: C2, dtype: object\n",
      "I1    C\n",
      "I2    F\n",
      "I3    I\n",
      "Name: C3, dtype: object\n"
     ]
    }
   ],
   "source": [
    "for col in df:\n",
    "    print(df.get(col))"
   ]
  },
  {
   "cell_type": "markdown",
   "metadata": {},
   "source": [
    "### Eliminar datos en un DataFrame\n",
    "En una estructura bidimensional, al momento de eliminar valores, se debe de eliminar filas o columnas completas. Para esto utilizamos el método `DataFrame.drop()`:"
   ]
  },
  {
   "cell_type": "code",
   "execution_count": 29,
   "metadata": {},
   "outputs": [
    {
     "data": {
      "text/html": [
       "<div>\n",
       "<style scoped>\n",
       "    .dataframe tbody tr th:only-of-type {\n",
       "        vertical-align: middle;\n",
       "    }\n",
       "\n",
       "    .dataframe tbody tr th {\n",
       "        vertical-align: top;\n",
       "    }\n",
       "\n",
       "    .dataframe thead th {\n",
       "        text-align: right;\n",
       "    }\n",
       "</style>\n",
       "<table border=\"1\" class=\"dataframe\">\n",
       "  <thead>\n",
       "    <tr style=\"text-align: right;\">\n",
       "      <th></th>\n",
       "      <th>C1</th>\n",
       "      <th>C2</th>\n",
       "      <th>C3</th>\n",
       "    </tr>\n",
       "  </thead>\n",
       "  <tbody>\n",
       "    <tr>\n",
       "      <th>I1</th>\n",
       "      <td>A</td>\n",
       "      <td>B</td>\n",
       "      <td>C</td>\n",
       "    </tr>\n",
       "    <tr>\n",
       "      <th>I2</th>\n",
       "      <td>D</td>\n",
       "      <td>E</td>\n",
       "      <td>F</td>\n",
       "    </tr>\n",
       "    <tr>\n",
       "      <th>I3</th>\n",
       "      <td>G</td>\n",
       "      <td>H</td>\n",
       "      <td>I</td>\n",
       "    </tr>\n",
       "  </tbody>\n",
       "</table>\n",
       "</div>"
      ],
      "text/plain": [
       "   C1 C2 C3\n",
       "I1  A  B  C\n",
       "I2  D  E  F\n",
       "I3  G  H  I"
      ]
     },
     "execution_count": 29,
     "metadata": {},
     "output_type": "execute_result"
    }
   ],
   "source": [
    "df = pd.DataFrame(data=[['A', 'B', 'C'], ['D', 'E', 'F'], ['G', 'H', 'I']], \n",
    "                  columns=['C1', 'C2', 'C3'], \n",
    "                  index=['I1', 'I2', 'I3'])\n",
    "df"
   ]
  },
  {
   "cell_type": "code",
   "execution_count": 172,
   "metadata": {},
   "outputs": [
    {
     "data": {
      "text/html": [
       "<div>\n",
       "<style scoped>\n",
       "    .dataframe tbody tr th:only-of-type {\n",
       "        vertical-align: middle;\n",
       "    }\n",
       "\n",
       "    .dataframe tbody tr th {\n",
       "        vertical-align: top;\n",
       "    }\n",
       "\n",
       "    .dataframe thead th {\n",
       "        text-align: right;\n",
       "    }\n",
       "</style>\n",
       "<table border=\"1\" class=\"dataframe\">\n",
       "  <thead>\n",
       "    <tr style=\"text-align: right;\">\n",
       "      <th></th>\n",
       "      <th>C1</th>\n",
       "      <th>C2</th>\n",
       "      <th>C3</th>\n",
       "    </tr>\n",
       "  </thead>\n",
       "  <tbody>\n",
       "    <tr>\n",
       "      <th>I1</th>\n",
       "      <td>A</td>\n",
       "      <td>B</td>\n",
       "      <td>C</td>\n",
       "    </tr>\n",
       "    <tr>\n",
       "      <th>I3</th>\n",
       "      <td>G</td>\n",
       "      <td>H</td>\n",
       "      <td>I</td>\n",
       "    </tr>\n",
       "  </tbody>\n",
       "</table>\n",
       "</div>"
      ],
      "text/plain": [
       "   C1 C2 C3\n",
       "I1  A  B  C\n",
       "I3  G  H  I"
      ]
     },
     "execution_count": 172,
     "metadata": {},
     "output_type": "execute_result"
    }
   ],
   "source": [
    "df.drop(index='I2')"
   ]
  },
  {
   "cell_type": "code",
   "execution_count": 175,
   "metadata": {},
   "outputs": [
    {
     "data": {
      "text/html": [
       "<div>\n",
       "<style scoped>\n",
       "    .dataframe tbody tr th:only-of-type {\n",
       "        vertical-align: middle;\n",
       "    }\n",
       "\n",
       "    .dataframe tbody tr th {\n",
       "        vertical-align: top;\n",
       "    }\n",
       "\n",
       "    .dataframe thead th {\n",
       "        text-align: right;\n",
       "    }\n",
       "</style>\n",
       "<table border=\"1\" class=\"dataframe\">\n",
       "  <thead>\n",
       "    <tr style=\"text-align: right;\">\n",
       "      <th></th>\n",
       "      <th>C1</th>\n",
       "      <th>C3</th>\n",
       "    </tr>\n",
       "  </thead>\n",
       "  <tbody>\n",
       "    <tr>\n",
       "      <th>I1</th>\n",
       "      <td>A</td>\n",
       "      <td>C</td>\n",
       "    </tr>\n",
       "    <tr>\n",
       "      <th>I2</th>\n",
       "      <td>D</td>\n",
       "      <td>F</td>\n",
       "    </tr>\n",
       "    <tr>\n",
       "      <th>I3</th>\n",
       "      <td>G</td>\n",
       "      <td>I</td>\n",
       "    </tr>\n",
       "  </tbody>\n",
       "</table>\n",
       "</div>"
      ],
      "text/plain": [
       "   C1 C3\n",
       "I1  A  C\n",
       "I2  D  F\n",
       "I3  G  I"
      ]
     },
     "execution_count": 175,
     "metadata": {},
     "output_type": "execute_result"
    }
   ],
   "source": [
    "df.drop(columns='C2')"
   ]
  },
  {
   "cell_type": "code",
   "execution_count": 176,
   "metadata": {},
   "outputs": [
    {
     "data": {
      "text/html": [
       "<div>\n",
       "<style scoped>\n",
       "    .dataframe tbody tr th:only-of-type {\n",
       "        vertical-align: middle;\n",
       "    }\n",
       "\n",
       "    .dataframe tbody tr th {\n",
       "        vertical-align: top;\n",
       "    }\n",
       "\n",
       "    .dataframe thead th {\n",
       "        text-align: right;\n",
       "    }\n",
       "</style>\n",
       "<table border=\"1\" class=\"dataframe\">\n",
       "  <thead>\n",
       "    <tr style=\"text-align: right;\">\n",
       "      <th></th>\n",
       "      <th>C2</th>\n",
       "    </tr>\n",
       "  </thead>\n",
       "  <tbody>\n",
       "    <tr>\n",
       "      <th>I1</th>\n",
       "      <td>B</td>\n",
       "    </tr>\n",
       "    <tr>\n",
       "      <th>I2</th>\n",
       "      <td>E</td>\n",
       "    </tr>\n",
       "    <tr>\n",
       "      <th>I3</th>\n",
       "      <td>H</td>\n",
       "    </tr>\n",
       "  </tbody>\n",
       "</table>\n",
       "</div>"
      ],
      "text/plain": [
       "   C2\n",
       "I1  B\n",
       "I2  E\n",
       "I3  H"
      ]
     },
     "execution_count": 176,
     "metadata": {},
     "output_type": "execute_result"
    }
   ],
   "source": [
    "df.drop(columns=['C1', 'C3'])"
   ]
  },
  {
   "cell_type": "markdown",
   "metadata": {},
   "source": [
    "Al igual que en las Series, estas operaciones retornan un nuevo DataFrame, por lo que si se quiere modificar el mismo DataFrame será necesario especificar el atributo `inplace=True`.\n",
    "\n",
    "Existe una excepción a esto: `DataFrame.pop()`, que extrae una columna de un DataFrame, lo que resulta lógico ya que al extraer la columna y retornarla como resutado, la elimina del DataFrame."
   ]
  },
  {
   "cell_type": "code",
   "execution_count": 34,
   "metadata": {},
   "outputs": [
    {
     "name": "stdout",
     "output_type": "stream",
     "text": [
      "I1    B\n",
      "I2    E\n",
      "I3    H\n",
      "Name: C2, dtype: object\n",
      "   C1 C3\n",
      "I1  A  C\n",
      "I2  D  F\n",
      "I3  G  I\n"
     ]
    }
   ],
   "source": [
    "fil = df.pop('C2')\n",
    "print(fil)\n",
    "print(df)"
   ]
  },
  {
   "cell_type": "markdown",
   "metadata": {},
   "source": [
    "## Importación de datos\n",
    "Una de las grandes ventajas de la librería pandas es la capacidad de importación de datos desde diversas fuentes. Vamos a trabajar con algunas fuentes de datos:"
   ]
  },
  {
   "cell_type": "markdown",
   "metadata": {},
   "source": [
    "### CSV"
   ]
  },
  {
   "cell_type": "code",
   "execution_count": 56,
   "metadata": {},
   "outputs": [],
   "source": [
    "df = pd.read_csv(\"dataset_la_liga.csv\")"
   ]
  },
  {
   "cell_type": "code",
   "execution_count": 57,
   "metadata": {},
   "outputs": [
    {
     "data": {
      "text/html": [
       "<div>\n",
       "<style scoped>\n",
       "    .dataframe tbody tr th:only-of-type {\n",
       "        vertical-align: middle;\n",
       "    }\n",
       "\n",
       "    .dataframe tbody tr th {\n",
       "        vertical-align: top;\n",
       "    }\n",
       "\n",
       "    .dataframe thead th {\n",
       "        text-align: right;\n",
       "    }\n",
       "</style>\n",
       "<table border=\"1\" class=\"dataframe\">\n",
       "  <thead>\n",
       "    <tr style=\"text-align: right;\">\n",
       "      <th></th>\n",
       "      <th>season</th>\n",
       "      <th>club</th>\n",
       "      <th>home_win</th>\n",
       "      <th>away_win</th>\n",
       "      <th>home_loss</th>\n",
       "      <th>away_loss</th>\n",
       "      <th>matches_won</th>\n",
       "      <th>matches_lost</th>\n",
       "      <th>matches_drawn</th>\n",
       "      <th>total_matches</th>\n",
       "      <th>points</th>\n",
       "      <th>home_goals</th>\n",
       "      <th>away_goals</th>\n",
       "      <th>goals_scored</th>\n",
       "      <th>goals_conceded</th>\n",
       "      <th>goal_difference</th>\n",
       "    </tr>\n",
       "  </thead>\n",
       "  <tbody>\n",
       "    <tr>\n",
       "      <th>0</th>\n",
       "      <td>1970-71</td>\n",
       "      <td>Real Zaragoza</td>\n",
       "      <td>3</td>\n",
       "      <td>0</td>\n",
       "      <td>5</td>\n",
       "      <td>13</td>\n",
       "      <td>3</td>\n",
       "      <td>18</td>\n",
       "      <td>9</td>\n",
       "      <td>30</td>\n",
       "      <td>18</td>\n",
       "      <td>14</td>\n",
       "      <td>8</td>\n",
       "      <td>22</td>\n",
       "      <td>54</td>\n",
       "      <td>-32</td>\n",
       "    </tr>\n",
       "    <tr>\n",
       "      <th>1</th>\n",
       "      <td>1970-71</td>\n",
       "      <td>Elche</td>\n",
       "      <td>4</td>\n",
       "      <td>0</td>\n",
       "      <td>5</td>\n",
       "      <td>11</td>\n",
       "      <td>4</td>\n",
       "      <td>16</td>\n",
       "      <td>10</td>\n",
       "      <td>30</td>\n",
       "      <td>22</td>\n",
       "      <td>17</td>\n",
       "      <td>8</td>\n",
       "      <td>25</td>\n",
       "      <td>46</td>\n",
       "      <td>-21</td>\n",
       "    </tr>\n",
       "    <tr>\n",
       "      <th>2</th>\n",
       "      <td>1970-71</td>\n",
       "      <td>Las Palmas</td>\n",
       "      <td>5</td>\n",
       "      <td>0</td>\n",
       "      <td>3</td>\n",
       "      <td>12</td>\n",
       "      <td>5</td>\n",
       "      <td>15</td>\n",
       "      <td>10</td>\n",
       "      <td>30</td>\n",
       "      <td>25</td>\n",
       "      <td>25</td>\n",
       "      <td>8</td>\n",
       "      <td>33</td>\n",
       "      <td>42</td>\n",
       "      <td>-9</td>\n",
       "    </tr>\n",
       "    <tr>\n",
       "      <th>3</th>\n",
       "      <td>1970-71</td>\n",
       "      <td>Sabadell</td>\n",
       "      <td>8</td>\n",
       "      <td>0</td>\n",
       "      <td>3</td>\n",
       "      <td>14</td>\n",
       "      <td>8</td>\n",
       "      <td>17</td>\n",
       "      <td>5</td>\n",
       "      <td>30</td>\n",
       "      <td>29</td>\n",
       "      <td>19</td>\n",
       "      <td>9</td>\n",
       "      <td>28</td>\n",
       "      <td>49</td>\n",
       "      <td>-21</td>\n",
       "    </tr>\n",
       "    <tr>\n",
       "      <th>4</th>\n",
       "      <td>1970-71</td>\n",
       "      <td>Espanyol</td>\n",
       "      <td>7</td>\n",
       "      <td>1</td>\n",
       "      <td>4</td>\n",
       "      <td>9</td>\n",
       "      <td>8</td>\n",
       "      <td>13</td>\n",
       "      <td>9</td>\n",
       "      <td>30</td>\n",
       "      <td>33</td>\n",
       "      <td>13</td>\n",
       "      <td>5</td>\n",
       "      <td>18</td>\n",
       "      <td>25</td>\n",
       "      <td>-7</td>\n",
       "    </tr>\n",
       "  </tbody>\n",
       "</table>\n",
       "</div>"
      ],
      "text/plain": [
       "    season           club  home_win  away_win  home_loss  away_loss  \\\n",
       "0  1970-71  Real Zaragoza         3         0          5         13   \n",
       "1  1970-71          Elche         4         0          5         11   \n",
       "2  1970-71     Las Palmas         5         0          3         12   \n",
       "3  1970-71       Sabadell         8         0          3         14   \n",
       "4  1970-71       Espanyol         7         1          4          9   \n",
       "\n",
       "   matches_won  matches_lost  matches_drawn  total_matches  points  \\\n",
       "0            3            18              9             30      18   \n",
       "1            4            16             10             30      22   \n",
       "2            5            15             10             30      25   \n",
       "3            8            17              5             30      29   \n",
       "4            8            13              9             30      33   \n",
       "\n",
       "   home_goals  away_goals  goals_scored  goals_conceded  goal_difference  \n",
       "0          14           8            22              54              -32  \n",
       "1          17           8            25              46              -21  \n",
       "2          25           8            33              42               -9  \n",
       "3          19           9            28              49              -21  \n",
       "4          13           5            18              25               -7  "
      ]
     },
     "execution_count": 57,
     "metadata": {},
     "output_type": "execute_result"
    }
   ],
   "source": [
    "df.head()    # Se muestran las primeras filas (por defecto, 5)"
   ]
  },
  {
   "cell_type": "code",
   "execution_count": 191,
   "metadata": {},
   "outputs": [
    {
     "data": {
      "text/html": [
       "<div>\n",
       "<style scoped>\n",
       "    .dataframe tbody tr th:only-of-type {\n",
       "        vertical-align: middle;\n",
       "    }\n",
       "\n",
       "    .dataframe tbody tr th {\n",
       "        vertical-align: top;\n",
       "    }\n",
       "\n",
       "    .dataframe thead th {\n",
       "        text-align: right;\n",
       "    }\n",
       "</style>\n",
       "<table border=\"1\" class=\"dataframe\">\n",
       "  <thead>\n",
       "    <tr style=\"text-align: right;\">\n",
       "      <th></th>\n",
       "      <th>season</th>\n",
       "      <th>club</th>\n",
       "      <th>home_win</th>\n",
       "      <th>away_win</th>\n",
       "      <th>home_loss</th>\n",
       "      <th>away_loss</th>\n",
       "      <th>matches_won</th>\n",
       "      <th>matches_lost</th>\n",
       "      <th>matches_drawn</th>\n",
       "      <th>total_matches</th>\n",
       "      <th>points</th>\n",
       "      <th>home_goals</th>\n",
       "      <th>away_goals</th>\n",
       "      <th>goals_scored</th>\n",
       "      <th>goals_conceded</th>\n",
       "      <th>goal_difference</th>\n",
       "    </tr>\n",
       "  </thead>\n",
       "  <tbody>\n",
       "    <tr>\n",
       "      <th>903</th>\n",
       "      <td>2016-17</td>\n",
       "      <td>Villarreal</td>\n",
       "      <td>11</td>\n",
       "      <td>8</td>\n",
       "      <td>4</td>\n",
       "      <td>5</td>\n",
       "      <td>19</td>\n",
       "      <td>9</td>\n",
       "      <td>10</td>\n",
       "      <td>38</td>\n",
       "      <td>67</td>\n",
       "      <td>35</td>\n",
       "      <td>21</td>\n",
       "      <td>56</td>\n",
       "      <td>33</td>\n",
       "      <td>23</td>\n",
       "    </tr>\n",
       "    <tr>\n",
       "      <th>904</th>\n",
       "      <td>2016-17</td>\n",
       "      <td>Sevilla</td>\n",
       "      <td>14</td>\n",
       "      <td>7</td>\n",
       "      <td>1</td>\n",
       "      <td>7</td>\n",
       "      <td>21</td>\n",
       "      <td>8</td>\n",
       "      <td>9</td>\n",
       "      <td>38</td>\n",
       "      <td>72</td>\n",
       "      <td>39</td>\n",
       "      <td>30</td>\n",
       "      <td>69</td>\n",
       "      <td>49</td>\n",
       "      <td>20</td>\n",
       "    </tr>\n",
       "    <tr>\n",
       "      <th>905</th>\n",
       "      <td>2016-17</td>\n",
       "      <td>Atletico de Madrid</td>\n",
       "      <td>14</td>\n",
       "      <td>9</td>\n",
       "      <td>3</td>\n",
       "      <td>3</td>\n",
       "      <td>23</td>\n",
       "      <td>6</td>\n",
       "      <td>9</td>\n",
       "      <td>38</td>\n",
       "      <td>78</td>\n",
       "      <td>40</td>\n",
       "      <td>30</td>\n",
       "      <td>70</td>\n",
       "      <td>27</td>\n",
       "      <td>43</td>\n",
       "    </tr>\n",
       "    <tr>\n",
       "      <th>906</th>\n",
       "      <td>2016-17</td>\n",
       "      <td>Barcelona</td>\n",
       "      <td>15</td>\n",
       "      <td>13</td>\n",
       "      <td>1</td>\n",
       "      <td>3</td>\n",
       "      <td>28</td>\n",
       "      <td>4</td>\n",
       "      <td>6</td>\n",
       "      <td>38</td>\n",
       "      <td>90</td>\n",
       "      <td>64</td>\n",
       "      <td>52</td>\n",
       "      <td>116</td>\n",
       "      <td>37</td>\n",
       "      <td>79</td>\n",
       "    </tr>\n",
       "    <tr>\n",
       "      <th>907</th>\n",
       "      <td>2016-17</td>\n",
       "      <td>Real Madrid</td>\n",
       "      <td>14</td>\n",
       "      <td>15</td>\n",
       "      <td>1</td>\n",
       "      <td>2</td>\n",
       "      <td>29</td>\n",
       "      <td>3</td>\n",
       "      <td>6</td>\n",
       "      <td>38</td>\n",
       "      <td>93</td>\n",
       "      <td>48</td>\n",
       "      <td>58</td>\n",
       "      <td>106</td>\n",
       "      <td>41</td>\n",
       "      <td>65</td>\n",
       "    </tr>\n",
       "  </tbody>\n",
       "</table>\n",
       "</div>"
      ],
      "text/plain": [
       "      season                club  home_win  away_win  home_loss  away_loss  \\\n",
       "903  2016-17          Villarreal        11         8          4          5   \n",
       "904  2016-17             Sevilla        14         7          1          7   \n",
       "905  2016-17  Atletico de Madrid        14         9          3          3   \n",
       "906  2016-17           Barcelona        15        13          1          3   \n",
       "907  2016-17         Real Madrid        14        15          1          2   \n",
       "\n",
       "     matches_won  matches_lost  matches_drawn  total_matches  points  \\\n",
       "903           19             9             10             38      67   \n",
       "904           21             8              9             38      72   \n",
       "905           23             6              9             38      78   \n",
       "906           28             4              6             38      90   \n",
       "907           29             3              6             38      93   \n",
       "\n",
       "     home_goals  away_goals  goals_scored  goals_conceded  goal_difference  \n",
       "903          35          21            56              33               23  \n",
       "904          39          30            69              49               20  \n",
       "905          40          30            70              27               43  \n",
       "906          64          52           116              37               79  \n",
       "907          48          58           106              41               65  "
      ]
     },
     "execution_count": 191,
     "metadata": {},
     "output_type": "execute_result"
    }
   ],
   "source": [
    "df.tail()     # Se muestras las últimas filas (por defecto, 5)"
   ]
  },
  {
   "cell_type": "markdown",
   "metadata": {},
   "source": [
    "### JSON\n",
    "Un archivo JSON se puede importar hacia un DataFrame utilizando el método `DataFrame.read_json(json_file)` siempre y cuando tenga la siguiente estructura:\n",
    "    \n",
    "    {columna1: \n",
    "        {\n",
    "            fila1: data, \n",
    "            fila2, data, ...\n",
    "        }, \n",
    "     columna2: \n",
    "        {\n",
    "            fila1: data, \n",
    "            fila2: data, ...\n",
    "        }, ...\n",
    "    }\n",
    "    \n",
    "De lo contrario, se se podrá \"aplanar\" los datos en una tabla.\n",
    "\n",
    "Si se quieren leer los datos de un archivo JSON con una estrutura anidada, se debe de navegar por la estructura del archivo para extraer estructuras aplanadas que puedan ser trasladadas a una estructura tabular, y utilizar el método `DataFrame.from_dict()` ya que se tendrá un diccionario:"
   ]
  },
  {
   "cell_type": "code",
   "execution_count": 59,
   "metadata": {},
   "outputs": [],
   "source": [
    "import json\n",
    "\n",
    "with open(\"covid_data.json\") as file:\n",
    "    data = json.load(file)\n",
    "\n",
    "df = pd.DataFrame.from_dict(data['Peru'])     # tambien se puede utilizar from_records"
   ]
  },
  {
   "cell_type": "code",
   "execution_count": 60,
   "metadata": {},
   "outputs": [
    {
     "data": {
      "text/html": [
       "<div>\n",
       "<style scoped>\n",
       "    .dataframe tbody tr th:only-of-type {\n",
       "        vertical-align: middle;\n",
       "    }\n",
       "\n",
       "    .dataframe tbody tr th {\n",
       "        vertical-align: top;\n",
       "    }\n",
       "\n",
       "    .dataframe thead th {\n",
       "        text-align: right;\n",
       "    }\n",
       "</style>\n",
       "<table border=\"1\" class=\"dataframe\">\n",
       "  <thead>\n",
       "    <tr style=\"text-align: right;\">\n",
       "      <th></th>\n",
       "      <th>confirmed</th>\n",
       "      <th>date</th>\n",
       "      <th>deaths</th>\n",
       "      <th>recovered</th>\n",
       "    </tr>\n",
       "  </thead>\n",
       "  <tbody>\n",
       "    <tr>\n",
       "      <th>0</th>\n",
       "      <td>0</td>\n",
       "      <td>2020-1-22</td>\n",
       "      <td>0</td>\n",
       "      <td>0</td>\n",
       "    </tr>\n",
       "    <tr>\n",
       "      <th>1</th>\n",
       "      <td>0</td>\n",
       "      <td>2020-1-23</td>\n",
       "      <td>0</td>\n",
       "      <td>0</td>\n",
       "    </tr>\n",
       "    <tr>\n",
       "      <th>2</th>\n",
       "      <td>0</td>\n",
       "      <td>2020-1-24</td>\n",
       "      <td>0</td>\n",
       "      <td>0</td>\n",
       "    </tr>\n",
       "    <tr>\n",
       "      <th>3</th>\n",
       "      <td>0</td>\n",
       "      <td>2020-1-25</td>\n",
       "      <td>0</td>\n",
       "      <td>0</td>\n",
       "    </tr>\n",
       "    <tr>\n",
       "      <th>4</th>\n",
       "      <td>0</td>\n",
       "      <td>2020-1-26</td>\n",
       "      <td>0</td>\n",
       "      <td>0</td>\n",
       "    </tr>\n",
       "  </tbody>\n",
       "</table>\n",
       "</div>"
      ],
      "text/plain": [
       "   confirmed       date  deaths  recovered\n",
       "0          0  2020-1-22       0          0\n",
       "1          0  2020-1-23       0          0\n",
       "2          0  2020-1-24       0          0\n",
       "3          0  2020-1-25       0          0\n",
       "4          0  2020-1-26       0          0"
      ]
     },
     "execution_count": 60,
     "metadata": {},
     "output_type": "execute_result"
    }
   ],
   "source": [
    "df.head()"
   ]
  },
  {
   "cell_type": "code",
   "execution_count": 61,
   "metadata": {},
   "outputs": [
    {
     "data": {
      "text/html": [
       "<div>\n",
       "<style scoped>\n",
       "    .dataframe tbody tr th:only-of-type {\n",
       "        vertical-align: middle;\n",
       "    }\n",
       "\n",
       "    .dataframe tbody tr th {\n",
       "        vertical-align: top;\n",
       "    }\n",
       "\n",
       "    .dataframe thead th {\n",
       "        text-align: right;\n",
       "    }\n",
       "</style>\n",
       "<table border=\"1\" class=\"dataframe\">\n",
       "  <thead>\n",
       "    <tr style=\"text-align: right;\">\n",
       "      <th></th>\n",
       "      <th>confirmed</th>\n",
       "      <th>date</th>\n",
       "      <th>deaths</th>\n",
       "      <th>recovered</th>\n",
       "    </tr>\n",
       "  </thead>\n",
       "  <tbody>\n",
       "    <tr>\n",
       "      <th>260</th>\n",
       "      <td>835662</td>\n",
       "      <td>2020-10-8</td>\n",
       "      <td>33009</td>\n",
       "      <td>728216</td>\n",
       "    </tr>\n",
       "    <tr>\n",
       "      <th>261</th>\n",
       "      <td>838614</td>\n",
       "      <td>2020-10-9</td>\n",
       "      <td>33098</td>\n",
       "      <td>728216</td>\n",
       "    </tr>\n",
       "    <tr>\n",
       "      <th>262</th>\n",
       "      <td>846088</td>\n",
       "      <td>2020-10-10</td>\n",
       "      <td>33223</td>\n",
       "      <td>733000</td>\n",
       "    </tr>\n",
       "    <tr>\n",
       "      <th>263</th>\n",
       "      <td>849371</td>\n",
       "      <td>2020-10-11</td>\n",
       "      <td>33305</td>\n",
       "      <td>738189</td>\n",
       "    </tr>\n",
       "    <tr>\n",
       "      <th>264</th>\n",
       "      <td>851171</td>\n",
       "      <td>2020-10-12</td>\n",
       "      <td>33357</td>\n",
       "      <td>743969</td>\n",
       "    </tr>\n",
       "  </tbody>\n",
       "</table>\n",
       "</div>"
      ],
      "text/plain": [
       "     confirmed        date  deaths  recovered\n",
       "260     835662   2020-10-8   33009     728216\n",
       "261     838614   2020-10-9   33098     728216\n",
       "262     846088  2020-10-10   33223     733000\n",
       "263     849371  2020-10-11   33305     738189\n",
       "264     851171  2020-10-12   33357     743969"
      ]
     },
     "execution_count": 61,
     "metadata": {},
     "output_type": "execute_result"
    }
   ],
   "source": [
    "df.tail()"
   ]
  },
  {
   "cell_type": "markdown",
   "metadata": {},
   "source": [
    "### Excel\n",
    "Se pueden importar datos de un archivo Excel hacia un DataFrame:"
   ]
  },
  {
   "cell_type": "code",
   "execution_count": 62,
   "metadata": {},
   "outputs": [],
   "source": [
    "df = pd.read_excel(\"SampleData.xlsx\", sheet_name=\"SalesOrders\")"
   ]
  },
  {
   "cell_type": "code",
   "execution_count": 63,
   "metadata": {},
   "outputs": [
    {
     "data": {
      "text/html": [
       "<div>\n",
       "<style scoped>\n",
       "    .dataframe tbody tr th:only-of-type {\n",
       "        vertical-align: middle;\n",
       "    }\n",
       "\n",
       "    .dataframe tbody tr th {\n",
       "        vertical-align: top;\n",
       "    }\n",
       "\n",
       "    .dataframe thead th {\n",
       "        text-align: right;\n",
       "    }\n",
       "</style>\n",
       "<table border=\"1\" class=\"dataframe\">\n",
       "  <thead>\n",
       "    <tr style=\"text-align: right;\">\n",
       "      <th></th>\n",
       "      <th>OrderDate</th>\n",
       "      <th>Region</th>\n",
       "      <th>Rep</th>\n",
       "      <th>Item</th>\n",
       "      <th>Units</th>\n",
       "      <th>Unit Cost</th>\n",
       "      <th>Total</th>\n",
       "    </tr>\n",
       "  </thead>\n",
       "  <tbody>\n",
       "    <tr>\n",
       "      <th>0</th>\n",
       "      <td>2019-01-06</td>\n",
       "      <td>East</td>\n",
       "      <td>Jones</td>\n",
       "      <td>Pencil</td>\n",
       "      <td>95</td>\n",
       "      <td>1.99</td>\n",
       "      <td>189.05</td>\n",
       "    </tr>\n",
       "    <tr>\n",
       "      <th>1</th>\n",
       "      <td>2019-01-23</td>\n",
       "      <td>Central</td>\n",
       "      <td>Kivell</td>\n",
       "      <td>Binder</td>\n",
       "      <td>50</td>\n",
       "      <td>19.99</td>\n",
       "      <td>999.50</td>\n",
       "    </tr>\n",
       "    <tr>\n",
       "      <th>2</th>\n",
       "      <td>2019-02-09</td>\n",
       "      <td>Central</td>\n",
       "      <td>Jardine</td>\n",
       "      <td>Pencil</td>\n",
       "      <td>36</td>\n",
       "      <td>4.99</td>\n",
       "      <td>179.64</td>\n",
       "    </tr>\n",
       "    <tr>\n",
       "      <th>3</th>\n",
       "      <td>2019-02-26</td>\n",
       "      <td>Central</td>\n",
       "      <td>Gill</td>\n",
       "      <td>Pen</td>\n",
       "      <td>27</td>\n",
       "      <td>19.99</td>\n",
       "      <td>539.73</td>\n",
       "    </tr>\n",
       "    <tr>\n",
       "      <th>4</th>\n",
       "      <td>2019-03-15</td>\n",
       "      <td>West</td>\n",
       "      <td>Sorvino</td>\n",
       "      <td>Pencil</td>\n",
       "      <td>56</td>\n",
       "      <td>2.99</td>\n",
       "      <td>167.44</td>\n",
       "    </tr>\n",
       "  </tbody>\n",
       "</table>\n",
       "</div>"
      ],
      "text/plain": [
       "   OrderDate   Region      Rep    Item  Units  Unit Cost   Total\n",
       "0 2019-01-06     East    Jones  Pencil     95       1.99  189.05\n",
       "1 2019-01-23  Central   Kivell  Binder     50      19.99  999.50\n",
       "2 2019-02-09  Central  Jardine  Pencil     36       4.99  179.64\n",
       "3 2019-02-26  Central     Gill     Pen     27      19.99  539.73\n",
       "4 2019-03-15     West  Sorvino  Pencil     56       2.99  167.44"
      ]
     },
     "execution_count": 63,
     "metadata": {},
     "output_type": "execute_result"
    }
   ],
   "source": [
    "df.head()"
   ]
  },
  {
   "cell_type": "code",
   "execution_count": 64,
   "metadata": {},
   "outputs": [
    {
     "data": {
      "text/html": [
       "<div>\n",
       "<style scoped>\n",
       "    .dataframe tbody tr th:only-of-type {\n",
       "        vertical-align: middle;\n",
       "    }\n",
       "\n",
       "    .dataframe tbody tr th {\n",
       "        vertical-align: top;\n",
       "    }\n",
       "\n",
       "    .dataframe thead th {\n",
       "        text-align: right;\n",
       "    }\n",
       "</style>\n",
       "<table border=\"1\" class=\"dataframe\">\n",
       "  <thead>\n",
       "    <tr style=\"text-align: right;\">\n",
       "      <th></th>\n",
       "      <th>OrderDate</th>\n",
       "      <th>Region</th>\n",
       "      <th>Rep</th>\n",
       "      <th>Item</th>\n",
       "      <th>Units</th>\n",
       "      <th>Unit Cost</th>\n",
       "      <th>Total</th>\n",
       "    </tr>\n",
       "  </thead>\n",
       "  <tbody>\n",
       "    <tr>\n",
       "      <th>38</th>\n",
       "      <td>2020-10-14</td>\n",
       "      <td>West</td>\n",
       "      <td>Thompson</td>\n",
       "      <td>Binder</td>\n",
       "      <td>57</td>\n",
       "      <td>19.99</td>\n",
       "      <td>1139.43</td>\n",
       "    </tr>\n",
       "    <tr>\n",
       "      <th>39</th>\n",
       "      <td>2020-10-31</td>\n",
       "      <td>Central</td>\n",
       "      <td>Andrews</td>\n",
       "      <td>Pencil</td>\n",
       "      <td>14</td>\n",
       "      <td>1.29</td>\n",
       "      <td>18.06</td>\n",
       "    </tr>\n",
       "    <tr>\n",
       "      <th>40</th>\n",
       "      <td>2020-11-17</td>\n",
       "      <td>Central</td>\n",
       "      <td>Jardine</td>\n",
       "      <td>Binder</td>\n",
       "      <td>11</td>\n",
       "      <td>4.99</td>\n",
       "      <td>54.89</td>\n",
       "    </tr>\n",
       "    <tr>\n",
       "      <th>41</th>\n",
       "      <td>2020-12-04</td>\n",
       "      <td>Central</td>\n",
       "      <td>Jardine</td>\n",
       "      <td>Binder</td>\n",
       "      <td>94</td>\n",
       "      <td>19.99</td>\n",
       "      <td>1879.06</td>\n",
       "    </tr>\n",
       "    <tr>\n",
       "      <th>42</th>\n",
       "      <td>2020-12-21</td>\n",
       "      <td>Central</td>\n",
       "      <td>Andrews</td>\n",
       "      <td>Binder</td>\n",
       "      <td>28</td>\n",
       "      <td>4.99</td>\n",
       "      <td>139.72</td>\n",
       "    </tr>\n",
       "  </tbody>\n",
       "</table>\n",
       "</div>"
      ],
      "text/plain": [
       "    OrderDate   Region       Rep    Item  Units  Unit Cost    Total\n",
       "38 2020-10-14     West  Thompson  Binder     57      19.99  1139.43\n",
       "39 2020-10-31  Central   Andrews  Pencil     14       1.29    18.06\n",
       "40 2020-11-17  Central   Jardine  Binder     11       4.99    54.89\n",
       "41 2020-12-04  Central   Jardine  Binder     94      19.99  1879.06\n",
       "42 2020-12-21  Central   Andrews  Binder     28       4.99   139.72"
      ]
     },
     "execution_count": 64,
     "metadata": {},
     "output_type": "execute_result"
    }
   ],
   "source": [
    "df.tail()"
   ]
  },
  {
   "cell_type": "markdown",
   "metadata": {},
   "source": [
    "### HTML\n",
    "Si se tiene una fuente web con una tabla incrustada (es decir, con etiquetas <tb>, <tr>, <td>), pandas puede importar los datos hacia un DataFrame:"
   ]
  },
  {
   "cell_type": "code",
   "execution_count": 66,
   "metadata": {},
   "outputs": [],
   "source": [
    "URL = \"https://coinmarketcap.com/currencies/bitcoin/historical-data/\"\n",
    "data = pd.read_html(URL)"
   ]
  },
  {
   "cell_type": "markdown",
   "metadata": {},
   "source": [
    "Si se observa el resultado obtenido se verá que es una lista que contendrá todos los bloques del recurso web con información relevante."
   ]
  },
  {
   "cell_type": "code",
   "execution_count": 67,
   "metadata": {},
   "outputs": [
    {
     "name": "stdout",
     "output_type": "stream",
     "text": [
      "<class 'list'>\n",
      "4\n"
     ]
    }
   ],
   "source": [
    "print(type(data))\n",
    "print(len(data))"
   ]
  },
  {
   "cell_type": "markdown",
   "metadata": {},
   "source": [
    "Para este caso, el elemento de índice 3 es el que tiene la información relevante, por lo que ajustamos nuestra instrucción:"
   ]
  },
  {
   "cell_type": "code",
   "execution_count": 68,
   "metadata": {},
   "outputs": [
    {
     "data": {
      "text/html": [
       "<div>\n",
       "<style scoped>\n",
       "    .dataframe tbody tr th:only-of-type {\n",
       "        vertical-align: middle;\n",
       "    }\n",
       "\n",
       "    .dataframe tbody tr th {\n",
       "        vertical-align: top;\n",
       "    }\n",
       "\n",
       "    .dataframe thead th {\n",
       "        text-align: right;\n",
       "    }\n",
       "</style>\n",
       "<table border=\"1\" class=\"dataframe\">\n",
       "  <thead>\n",
       "    <tr style=\"text-align: right;\">\n",
       "      <th></th>\n",
       "      <th>Date</th>\n",
       "      <th>Open*</th>\n",
       "      <th>High</th>\n",
       "      <th>Low</th>\n",
       "      <th>Close**</th>\n",
       "      <th>Volume</th>\n",
       "      <th>Market Cap</th>\n",
       "    </tr>\n",
       "  </thead>\n",
       "  <tbody>\n",
       "    <tr>\n",
       "      <th>0</th>\n",
       "      <td>Oct 15, 2020</td>\n",
       "      <td>11426.60</td>\n",
       "      <td>11569.91</td>\n",
       "      <td>11303.60</td>\n",
       "      <td>11495.35</td>\n",
       "      <td>24487233058</td>\n",
       "      <td>212873103428</td>\n",
       "    </tr>\n",
       "    <tr>\n",
       "      <th>1</th>\n",
       "      <td>Oct 14, 2020</td>\n",
       "      <td>11429.05</td>\n",
       "      <td>11539.98</td>\n",
       "      <td>11307.83</td>\n",
       "      <td>11429.51</td>\n",
       "      <td>24103426719</td>\n",
       "      <td>211643390713</td>\n",
       "    </tr>\n",
       "    <tr>\n",
       "      <th>2</th>\n",
       "      <td>Oct 13, 2020</td>\n",
       "      <td>11548.72</td>\n",
       "      <td>11548.98</td>\n",
       "      <td>11321.22</td>\n",
       "      <td>11425.90</td>\n",
       "      <td>24241420251</td>\n",
       "      <td>211565586739</td>\n",
       "    </tr>\n",
       "    <tr>\n",
       "      <th>3</th>\n",
       "      <td>Oct 12, 2020</td>\n",
       "      <td>11392.64</td>\n",
       "      <td>11698.47</td>\n",
       "      <td>11240.69</td>\n",
       "      <td>11555.36</td>\n",
       "      <td>26163972642</td>\n",
       "      <td>213950143824</td>\n",
       "    </tr>\n",
       "    <tr>\n",
       "      <th>4</th>\n",
       "      <td>Oct 11, 2020</td>\n",
       "      <td>11296.08</td>\n",
       "      <td>11428.81</td>\n",
       "      <td>11288.63</td>\n",
       "      <td>11384.18</td>\n",
       "      <td>19968627060</td>\n",
       "      <td>210766812992</td>\n",
       "    </tr>\n",
       "  </tbody>\n",
       "</table>\n",
       "</div>"
      ],
      "text/plain": [
       "           Date     Open*      High       Low   Close**       Volume  \\\n",
       "0  Oct 15, 2020  11426.60  11569.91  11303.60  11495.35  24487233058   \n",
       "1  Oct 14, 2020  11429.05  11539.98  11307.83  11429.51  24103426719   \n",
       "2  Oct 13, 2020  11548.72  11548.98  11321.22  11425.90  24241420251   \n",
       "3  Oct 12, 2020  11392.64  11698.47  11240.69  11555.36  26163972642   \n",
       "4  Oct 11, 2020  11296.08  11428.81  11288.63  11384.18  19968627060   \n",
       "\n",
       "     Market Cap  \n",
       "0  212873103428  \n",
       "1  211643390713  \n",
       "2  211565586739  \n",
       "3  213950143824  \n",
       "4  210766812992  "
      ]
     },
     "execution_count": 68,
     "metadata": {},
     "output_type": "execute_result"
    }
   ],
   "source": [
    "df = data[2]\n",
    "df.head()"
   ]
  },
  {
   "cell_type": "code",
   "execution_count": 69,
   "metadata": {},
   "outputs": [
    {
     "data": {
      "text/html": [
       "<div>\n",
       "<style scoped>\n",
       "    .dataframe tbody tr th:only-of-type {\n",
       "        vertical-align: middle;\n",
       "    }\n",
       "\n",
       "    .dataframe tbody tr th {\n",
       "        vertical-align: top;\n",
       "    }\n",
       "\n",
       "    .dataframe thead th {\n",
       "        text-align: right;\n",
       "    }\n",
       "</style>\n",
       "<table border=\"1\" class=\"dataframe\">\n",
       "  <thead>\n",
       "    <tr style=\"text-align: right;\">\n",
       "      <th></th>\n",
       "      <th>Date</th>\n",
       "      <th>Open*</th>\n",
       "      <th>High</th>\n",
       "      <th>Low</th>\n",
       "      <th>Close**</th>\n",
       "      <th>Volume</th>\n",
       "      <th>Market Cap</th>\n",
       "    </tr>\n",
       "  </thead>\n",
       "  <tbody>\n",
       "    <tr>\n",
       "      <th>25</th>\n",
       "      <td>Sep 20, 2020</td>\n",
       "      <td>11095.87</td>\n",
       "      <td>11095.87</td>\n",
       "      <td>10814.48</td>\n",
       "      <td>10938.27</td>\n",
       "      <td>24699523788</td>\n",
       "      <td>202308927892</td>\n",
       "    </tr>\n",
       "    <tr>\n",
       "      <th>26</th>\n",
       "      <td>Sep 19, 2020</td>\n",
       "      <td>10933.75</td>\n",
       "      <td>11134.09</td>\n",
       "      <td>10909.62</td>\n",
       "      <td>11094.35</td>\n",
       "      <td>22764204008</td>\n",
       "      <td>205185696336</td>\n",
       "    </tr>\n",
       "    <tr>\n",
       "      <th>27</th>\n",
       "      <td>Sep 18, 2020</td>\n",
       "      <td>10951.82</td>\n",
       "      <td>11034.91</td>\n",
       "      <td>10829.66</td>\n",
       "      <td>10944.59</td>\n",
       "      <td>26341903912</td>\n",
       "      <td>202405809881</td>\n",
       "    </tr>\n",
       "    <tr>\n",
       "      <th>28</th>\n",
       "      <td>Sep 17, 2020</td>\n",
       "      <td>10973.25</td>\n",
       "      <td>11037.42</td>\n",
       "      <td>10774.63</td>\n",
       "      <td>10948.99</td>\n",
       "      <td>38151810523</td>\n",
       "      <td>202475761712</td>\n",
       "    </tr>\n",
       "    <tr>\n",
       "      <th>29</th>\n",
       "      <td>Sep 16, 2020</td>\n",
       "      <td>10797.76</td>\n",
       "      <td>11100.12</td>\n",
       "      <td>10704.88</td>\n",
       "      <td>10974.90</td>\n",
       "      <td>30769986455</td>\n",
       "      <td>202942925722</td>\n",
       "    </tr>\n",
       "  </tbody>\n",
       "</table>\n",
       "</div>"
      ],
      "text/plain": [
       "            Date     Open*      High       Low   Close**       Volume  \\\n",
       "25  Sep 20, 2020  11095.87  11095.87  10814.48  10938.27  24699523788   \n",
       "26  Sep 19, 2020  10933.75  11134.09  10909.62  11094.35  22764204008   \n",
       "27  Sep 18, 2020  10951.82  11034.91  10829.66  10944.59  26341903912   \n",
       "28  Sep 17, 2020  10973.25  11037.42  10774.63  10948.99  38151810523   \n",
       "29  Sep 16, 2020  10797.76  11100.12  10704.88  10974.90  30769986455   \n",
       "\n",
       "      Market Cap  \n",
       "25  202308927892  \n",
       "26  205185696336  \n",
       "27  202405809881  \n",
       "28  202475761712  \n",
       "29  202942925722  "
      ]
     },
     "execution_count": 69,
     "metadata": {},
     "output_type": "execute_result"
    }
   ],
   "source": [
    "df.tail()"
   ]
  },
  {
   "cell_type": "markdown",
   "metadata": {},
   "source": [
    "## Exportar datos\n",
    "Un DataFrame se puede exportar a una de las fuentes anteriores. Los detalles de estas operaciones escapan al alcance de este curso y lo mejor es consultar la documentación de pandas.\n",
    "\n",
    "- DataFrame.to_csv()\n",
    "- DataFrame.to_json()\n",
    "- DataFrame.to_excel()\n",
    "- DataFrame.to_html()"
   ]
  },
  {
   "cell_type": "markdown",
   "metadata": {},
   "source": [
    "## `DataFrame.to_datetime` y `DatetimeIndex`\n",
    "En muchas ocasiones, la columnas que contienen fechas son importadas como texto (`object`) y lo que se requiere es tenerlas como objetos datetime."
   ]
  },
  {
   "cell_type": "code",
   "execution_count": 71,
   "metadata": {},
   "outputs": [
    {
     "data": {
      "text/html": [
       "<div>\n",
       "<style scoped>\n",
       "    .dataframe tbody tr th:only-of-type {\n",
       "        vertical-align: middle;\n",
       "    }\n",
       "\n",
       "    .dataframe tbody tr th {\n",
       "        vertical-align: top;\n",
       "    }\n",
       "\n",
       "    .dataframe thead th {\n",
       "        text-align: right;\n",
       "    }\n",
       "</style>\n",
       "<table border=\"1\" class=\"dataframe\">\n",
       "  <thead>\n",
       "    <tr style=\"text-align: right;\">\n",
       "      <th></th>\n",
       "      <th>Date</th>\n",
       "      <th>Open*</th>\n",
       "      <th>High</th>\n",
       "      <th>Low</th>\n",
       "      <th>Close**</th>\n",
       "      <th>Volume</th>\n",
       "      <th>Market Cap</th>\n",
       "    </tr>\n",
       "  </thead>\n",
       "  <tbody>\n",
       "    <tr>\n",
       "      <th>0</th>\n",
       "      <td>2020-10-15</td>\n",
       "      <td>11426.60</td>\n",
       "      <td>11569.91</td>\n",
       "      <td>11303.60</td>\n",
       "      <td>11495.35</td>\n",
       "      <td>24487233058</td>\n",
       "      <td>212873103428</td>\n",
       "    </tr>\n",
       "    <tr>\n",
       "      <th>1</th>\n",
       "      <td>2020-10-14</td>\n",
       "      <td>11429.05</td>\n",
       "      <td>11539.98</td>\n",
       "      <td>11307.83</td>\n",
       "      <td>11429.51</td>\n",
       "      <td>24103426719</td>\n",
       "      <td>211643390713</td>\n",
       "    </tr>\n",
       "    <tr>\n",
       "      <th>2</th>\n",
       "      <td>2020-10-13</td>\n",
       "      <td>11548.72</td>\n",
       "      <td>11548.98</td>\n",
       "      <td>11321.22</td>\n",
       "      <td>11425.90</td>\n",
       "      <td>24241420251</td>\n",
       "      <td>211565586739</td>\n",
       "    </tr>\n",
       "    <tr>\n",
       "      <th>3</th>\n",
       "      <td>2020-10-12</td>\n",
       "      <td>11392.64</td>\n",
       "      <td>11698.47</td>\n",
       "      <td>11240.69</td>\n",
       "      <td>11555.36</td>\n",
       "      <td>26163972642</td>\n",
       "      <td>213950143824</td>\n",
       "    </tr>\n",
       "    <tr>\n",
       "      <th>4</th>\n",
       "      <td>2020-10-11</td>\n",
       "      <td>11296.08</td>\n",
       "      <td>11428.81</td>\n",
       "      <td>11288.63</td>\n",
       "      <td>11384.18</td>\n",
       "      <td>19968627060</td>\n",
       "      <td>210766812992</td>\n",
       "    </tr>\n",
       "  </tbody>\n",
       "</table>\n",
       "</div>"
      ],
      "text/plain": [
       "        Date     Open*      High       Low   Close**       Volume  \\\n",
       "0 2020-10-15  11426.60  11569.91  11303.60  11495.35  24487233058   \n",
       "1 2020-10-14  11429.05  11539.98  11307.83  11429.51  24103426719   \n",
       "2 2020-10-13  11548.72  11548.98  11321.22  11425.90  24241420251   \n",
       "3 2020-10-12  11392.64  11698.47  11240.69  11555.36  26163972642   \n",
       "4 2020-10-11  11296.08  11428.81  11288.63  11384.18  19968627060   \n",
       "\n",
       "     Market Cap  \n",
       "0  212873103428  \n",
       "1  211643390713  \n",
       "2  211565586739  \n",
       "3  213950143824  \n",
       "4  210766812992  "
      ]
     },
     "execution_count": 71,
     "metadata": {},
     "output_type": "execute_result"
    }
   ],
   "source": [
    "df['Date'] = pd.to_datetime(df['Date'])\n",
    "df.head()"
   ]
  },
  {
   "cell_type": "markdown",
   "metadata": {},
   "source": [
    "Por otro lado, en otras ocasiones se requiere que las etiquetas de los índices de las columnas sean objetos datetime. Para esto se utiliza `DataFrame.DatetimeIndex(Serie)`. La Serie o columna que se convertirá en un índice tipo datetime puede contener objetos datetime o ser `str` con un formato que pueda ser convertido a un datetime."
   ]
  },
  {
   "cell_type": "code",
   "execution_count": 72,
   "metadata": {},
   "outputs": [],
   "source": [
    "df.index = pd.DatetimeIndex(df['Date'])"
   ]
  },
  {
   "cell_type": "code",
   "execution_count": 73,
   "metadata": {},
   "outputs": [
    {
     "data": {
      "text/html": [
       "<div>\n",
       "<style scoped>\n",
       "    .dataframe tbody tr th:only-of-type {\n",
       "        vertical-align: middle;\n",
       "    }\n",
       "\n",
       "    .dataframe tbody tr th {\n",
       "        vertical-align: top;\n",
       "    }\n",
       "\n",
       "    .dataframe thead th {\n",
       "        text-align: right;\n",
       "    }\n",
       "</style>\n",
       "<table border=\"1\" class=\"dataframe\">\n",
       "  <thead>\n",
       "    <tr style=\"text-align: right;\">\n",
       "      <th></th>\n",
       "      <th>Open*</th>\n",
       "      <th>High</th>\n",
       "      <th>Low</th>\n",
       "      <th>Close**</th>\n",
       "      <th>Volume</th>\n",
       "      <th>Market Cap</th>\n",
       "    </tr>\n",
       "    <tr>\n",
       "      <th>Date</th>\n",
       "      <th></th>\n",
       "      <th></th>\n",
       "      <th></th>\n",
       "      <th></th>\n",
       "      <th></th>\n",
       "      <th></th>\n",
       "    </tr>\n",
       "  </thead>\n",
       "  <tbody>\n",
       "    <tr>\n",
       "      <th>2020-10-15</th>\n",
       "      <td>11426.60</td>\n",
       "      <td>11569.91</td>\n",
       "      <td>11303.60</td>\n",
       "      <td>11495.35</td>\n",
       "      <td>24487233058</td>\n",
       "      <td>212873103428</td>\n",
       "    </tr>\n",
       "    <tr>\n",
       "      <th>2020-10-14</th>\n",
       "      <td>11429.05</td>\n",
       "      <td>11539.98</td>\n",
       "      <td>11307.83</td>\n",
       "      <td>11429.51</td>\n",
       "      <td>24103426719</td>\n",
       "      <td>211643390713</td>\n",
       "    </tr>\n",
       "    <tr>\n",
       "      <th>2020-10-13</th>\n",
       "      <td>11548.72</td>\n",
       "      <td>11548.98</td>\n",
       "      <td>11321.22</td>\n",
       "      <td>11425.90</td>\n",
       "      <td>24241420251</td>\n",
       "      <td>211565586739</td>\n",
       "    </tr>\n",
       "    <tr>\n",
       "      <th>2020-10-12</th>\n",
       "      <td>11392.64</td>\n",
       "      <td>11698.47</td>\n",
       "      <td>11240.69</td>\n",
       "      <td>11555.36</td>\n",
       "      <td>26163972642</td>\n",
       "      <td>213950143824</td>\n",
       "    </tr>\n",
       "    <tr>\n",
       "      <th>2020-10-11</th>\n",
       "      <td>11296.08</td>\n",
       "      <td>11428.81</td>\n",
       "      <td>11288.63</td>\n",
       "      <td>11384.18</td>\n",
       "      <td>19968627060</td>\n",
       "      <td>210766812992</td>\n",
       "    </tr>\n",
       "    <tr>\n",
       "      <th>2020-10-10</th>\n",
       "      <td>11059.14</td>\n",
       "      <td>11442.21</td>\n",
       "      <td>11056.94</td>\n",
       "      <td>11296.36</td>\n",
       "      <td>22877978588</td>\n",
       "      <td>209130239495</td>\n",
       "    </tr>\n",
       "    <tr>\n",
       "      <th>2020-10-09</th>\n",
       "      <td>10925.44</td>\n",
       "      <td>11105.85</td>\n",
       "      <td>10862.97</td>\n",
       "      <td>11079.47</td>\n",
       "      <td>22593173917</td>\n",
       "      <td>205110190021</td>\n",
       "    </tr>\n",
       "    <tr>\n",
       "      <th>2020-10-08</th>\n",
       "      <td>10677.63</td>\n",
       "      <td>10939.80</td>\n",
       "      <td>10569.82</td>\n",
       "      <td>10923.63</td>\n",
       "      <td>21962121001</td>\n",
       "      <td>202215604969</td>\n",
       "    </tr>\n",
       "    <tr>\n",
       "      <th>2020-10-07</th>\n",
       "      <td>10619.80</td>\n",
       "      <td>10687.27</td>\n",
       "      <td>10591.96</td>\n",
       "      <td>10679.14</td>\n",
       "      <td>17634388529</td>\n",
       "      <td>197678953704</td>\n",
       "    </tr>\n",
       "    <tr>\n",
       "      <th>2020-10-06</th>\n",
       "      <td>10799.78</td>\n",
       "      <td>10803.46</td>\n",
       "      <td>10565.20</td>\n",
       "      <td>10621.66</td>\n",
       "      <td>22264958686</td>\n",
       "      <td>196604996202</td>\n",
       "    </tr>\n",
       "    <tr>\n",
       "      <th>2020-10-05</th>\n",
       "      <td>10688.03</td>\n",
       "      <td>10804.00</td>\n",
       "      <td>10646.44</td>\n",
       "      <td>10804.00</td>\n",
       "      <td>19385191766</td>\n",
       "      <td>199971325817</td>\n",
       "    </tr>\n",
       "    <tr>\n",
       "      <th>2020-10-04</th>\n",
       "      <td>10567.92</td>\n",
       "      <td>10700.79</td>\n",
       "      <td>10531.34</td>\n",
       "      <td>10684.43</td>\n",
       "      <td>17546792792</td>\n",
       "      <td>197748815075</td>\n",
       "    </tr>\n",
       "    <tr>\n",
       "      <th>2020-10-03</th>\n",
       "      <td>10583.81</td>\n",
       "      <td>10614.09</td>\n",
       "      <td>10527.98</td>\n",
       "      <td>10565.49</td>\n",
       "      <td>17094010304</td>\n",
       "      <td>195537099461</td>\n",
       "    </tr>\n",
       "    <tr>\n",
       "      <th>2020-10-02</th>\n",
       "      <td>10624.39</td>\n",
       "      <td>10662.81</td>\n",
       "      <td>10440.31</td>\n",
       "      <td>10585.16</td>\n",
       "      <td>23127839259</td>\n",
       "      <td>195891161608</td>\n",
       "    </tr>\n",
       "    <tr>\n",
       "      <th>2020-10-01</th>\n",
       "      <td>10785.01</td>\n",
       "      <td>10915.84</td>\n",
       "      <td>10493.55</td>\n",
       "      <td>10623.33</td>\n",
       "      <td>27178227816</td>\n",
       "      <td>196588367760</td>\n",
       "    </tr>\n",
       "    <tr>\n",
       "      <th>2020-09-30</th>\n",
       "      <td>10845.41</td>\n",
       "      <td>10856.53</td>\n",
       "      <td>10689.67</td>\n",
       "      <td>10787.62</td>\n",
       "      <td>20759622010</td>\n",
       "      <td>199620143649</td>\n",
       "    </tr>\n",
       "    <tr>\n",
       "      <th>2020-09-29</th>\n",
       "      <td>10712.46</td>\n",
       "      <td>10858.94</td>\n",
       "      <td>10665.34</td>\n",
       "      <td>10848.83</td>\n",
       "      <td>20459870042</td>\n",
       "      <td>200742343863</td>\n",
       "    </tr>\n",
       "    <tr>\n",
       "      <th>2020-09-28</th>\n",
       "      <td>10771.64</td>\n",
       "      <td>10949.12</td>\n",
       "      <td>10716.68</td>\n",
       "      <td>10721.33</td>\n",
       "      <td>22720365389</td>\n",
       "      <td>198373626496</td>\n",
       "    </tr>\n",
       "    <tr>\n",
       "      <th>2020-09-27</th>\n",
       "      <td>10752.94</td>\n",
       "      <td>10804.73</td>\n",
       "      <td>10643.46</td>\n",
       "      <td>10774.43</td>\n",
       "      <td>18016880214</td>\n",
       "      <td>199347495686</td>\n",
       "    </tr>\n",
       "    <tr>\n",
       "      <th>2020-09-26</th>\n",
       "      <td>10702.24</td>\n",
       "      <td>10778.50</td>\n",
       "      <td>10682.08</td>\n",
       "      <td>10754.44</td>\n",
       "      <td>18105012128</td>\n",
       "      <td>198967310682</td>\n",
       "    </tr>\n",
       "    <tr>\n",
       "      <th>2020-09-25</th>\n",
       "      <td>10747.47</td>\n",
       "      <td>10757.55</td>\n",
       "      <td>10594.05</td>\n",
       "      <td>10702.29</td>\n",
       "      <td>21232549821</td>\n",
       "      <td>197992438297</td>\n",
       "    </tr>\n",
       "    <tr>\n",
       "      <th>2020-09-24</th>\n",
       "      <td>10227.48</td>\n",
       "      <td>10765.79</td>\n",
       "      <td>10215.21</td>\n",
       "      <td>10745.55</td>\n",
       "      <td>23017536742</td>\n",
       "      <td>198781560095</td>\n",
       "    </tr>\n",
       "    <tr>\n",
       "      <th>2020-09-23</th>\n",
       "      <td>10539.46</td>\n",
       "      <td>10637.85</td>\n",
       "      <td>10185.77</td>\n",
       "      <td>10225.86</td>\n",
       "      <td>22986733997</td>\n",
       "      <td>189159114865</td>\n",
       "    </tr>\n",
       "    <tr>\n",
       "      <th>2020-09-22</th>\n",
       "      <td>10459.62</td>\n",
       "      <td>10568.08</td>\n",
       "      <td>10382.73</td>\n",
       "      <td>10538.46</td>\n",
       "      <td>23621787804</td>\n",
       "      <td>194932197947</td>\n",
       "    </tr>\n",
       "    <tr>\n",
       "      <th>2020-09-21</th>\n",
       "      <td>10934.93</td>\n",
       "      <td>10988.30</td>\n",
       "      <td>10380.26</td>\n",
       "      <td>10462.26</td>\n",
       "      <td>28884999244</td>\n",
       "      <td>193514327128</td>\n",
       "    </tr>\n",
       "    <tr>\n",
       "      <th>2020-09-20</th>\n",
       "      <td>11095.87</td>\n",
       "      <td>11095.87</td>\n",
       "      <td>10814.48</td>\n",
       "      <td>10938.27</td>\n",
       "      <td>24699523788</td>\n",
       "      <td>202308927892</td>\n",
       "    </tr>\n",
       "    <tr>\n",
       "      <th>2020-09-19</th>\n",
       "      <td>10933.75</td>\n",
       "      <td>11134.09</td>\n",
       "      <td>10909.62</td>\n",
       "      <td>11094.35</td>\n",
       "      <td>22764204008</td>\n",
       "      <td>205185696336</td>\n",
       "    </tr>\n",
       "    <tr>\n",
       "      <th>2020-09-18</th>\n",
       "      <td>10951.82</td>\n",
       "      <td>11034.91</td>\n",
       "      <td>10829.66</td>\n",
       "      <td>10944.59</td>\n",
       "      <td>26341903912</td>\n",
       "      <td>202405809881</td>\n",
       "    </tr>\n",
       "    <tr>\n",
       "      <th>2020-09-17</th>\n",
       "      <td>10973.25</td>\n",
       "      <td>11037.42</td>\n",
       "      <td>10774.63</td>\n",
       "      <td>10948.99</td>\n",
       "      <td>38151810523</td>\n",
       "      <td>202475761712</td>\n",
       "    </tr>\n",
       "    <tr>\n",
       "      <th>2020-09-16</th>\n",
       "      <td>10797.76</td>\n",
       "      <td>11100.12</td>\n",
       "      <td>10704.88</td>\n",
       "      <td>10974.90</td>\n",
       "      <td>30769986455</td>\n",
       "      <td>202942925722</td>\n",
       "    </tr>\n",
       "  </tbody>\n",
       "</table>\n",
       "</div>"
      ],
      "text/plain": [
       "               Open*      High       Low   Close**       Volume    Market Cap\n",
       "Date                                                                         \n",
       "2020-10-15  11426.60  11569.91  11303.60  11495.35  24487233058  212873103428\n",
       "2020-10-14  11429.05  11539.98  11307.83  11429.51  24103426719  211643390713\n",
       "2020-10-13  11548.72  11548.98  11321.22  11425.90  24241420251  211565586739\n",
       "2020-10-12  11392.64  11698.47  11240.69  11555.36  26163972642  213950143824\n",
       "2020-10-11  11296.08  11428.81  11288.63  11384.18  19968627060  210766812992\n",
       "2020-10-10  11059.14  11442.21  11056.94  11296.36  22877978588  209130239495\n",
       "2020-10-09  10925.44  11105.85  10862.97  11079.47  22593173917  205110190021\n",
       "2020-10-08  10677.63  10939.80  10569.82  10923.63  21962121001  202215604969\n",
       "2020-10-07  10619.80  10687.27  10591.96  10679.14  17634388529  197678953704\n",
       "2020-10-06  10799.78  10803.46  10565.20  10621.66  22264958686  196604996202\n",
       "2020-10-05  10688.03  10804.00  10646.44  10804.00  19385191766  199971325817\n",
       "2020-10-04  10567.92  10700.79  10531.34  10684.43  17546792792  197748815075\n",
       "2020-10-03  10583.81  10614.09  10527.98  10565.49  17094010304  195537099461\n",
       "2020-10-02  10624.39  10662.81  10440.31  10585.16  23127839259  195891161608\n",
       "2020-10-01  10785.01  10915.84  10493.55  10623.33  27178227816  196588367760\n",
       "2020-09-30  10845.41  10856.53  10689.67  10787.62  20759622010  199620143649\n",
       "2020-09-29  10712.46  10858.94  10665.34  10848.83  20459870042  200742343863\n",
       "2020-09-28  10771.64  10949.12  10716.68  10721.33  22720365389  198373626496\n",
       "2020-09-27  10752.94  10804.73  10643.46  10774.43  18016880214  199347495686\n",
       "2020-09-26  10702.24  10778.50  10682.08  10754.44  18105012128  198967310682\n",
       "2020-09-25  10747.47  10757.55  10594.05  10702.29  21232549821  197992438297\n",
       "2020-09-24  10227.48  10765.79  10215.21  10745.55  23017536742  198781560095\n",
       "2020-09-23  10539.46  10637.85  10185.77  10225.86  22986733997  189159114865\n",
       "2020-09-22  10459.62  10568.08  10382.73  10538.46  23621787804  194932197947\n",
       "2020-09-21  10934.93  10988.30  10380.26  10462.26  28884999244  193514327128\n",
       "2020-09-20  11095.87  11095.87  10814.48  10938.27  24699523788  202308927892\n",
       "2020-09-19  10933.75  11134.09  10909.62  11094.35  22764204008  205185696336\n",
       "2020-09-18  10951.82  11034.91  10829.66  10944.59  26341903912  202405809881\n",
       "2020-09-17  10973.25  11037.42  10774.63  10948.99  38151810523  202475761712\n",
       "2020-09-16  10797.76  11100.12  10704.88  10974.90  30769986455  202942925722"
      ]
     },
     "execution_count": 73,
     "metadata": {},
     "output_type": "execute_result"
    }
   ],
   "source": [
    "df.drop(columns='Date')"
   ]
  }
 ],
 "metadata": {
  "kernelspec": {
   "display_name": "Python 3",
   "language": "python",
   "name": "python3"
  },
  "language_info": {
   "codemirror_mode": {
    "name": "ipython",
    "version": 3
   },
   "file_extension": ".py",
   "mimetype": "text/x-python",
   "name": "python",
   "nbconvert_exporter": "python",
   "pygments_lexer": "ipython3",
   "version": "3.6.8"
  }
 },
 "nbformat": 4,
 "nbformat_minor": 4
}
