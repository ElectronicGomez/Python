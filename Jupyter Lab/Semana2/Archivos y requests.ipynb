{
 "cells": [
  {
   "cell_type": "markdown",
   "metadata": {},
   "source": [
    "# Archivos e información de la web con `requests`\n",
    "\n",
    "<img src=\"https://vivaldi.com/wp-content/uploads/Quickly-search-for-information-online.png\" alt=\"Hello Python!\" style=\"width:600px;height:300px;\">\n",
    "\n",
    "Fuente: [Vivaldi browser](https://vivaldi.com/wp-content/uploads/Quickly-search-for-information-online.png)\n",
    "\n",
    "El insumo de todo sistema informático son los datos. Transformar los datos (es decir, indicadores cuantitativos o cualitativos) en información (es decir, elementos para la toma de decisiones) es el resultado de procesar los datos or un algoritmo. El corazon de este curso es el análisis de los datos y debemos partir de las fuentes: en este caso, los archivos con información útil y donde encontrarlos: la Web.\n",
    "\n",
    "<div style=\"text-align: right\"> Luis A. Muñoz </div>\n",
    "\n",
    "---"
   ]
  },
  {
   "cell_type": "markdown",
   "metadata": {},
   "source": [
    "## Tipos de archivos\n",
    "De distinguen dos tipos de archivos:\n",
    "    \n",
    "* Archivos de texto\n",
    "* Archivos binarios\n",
    "\n",
    "Los primeros son una colección de datos con un formato específico: caracteres codificados según un estándar (actualmente, UTF-8 para soportar todos los caracteres internacionales). Los últmos son datos bianrios con un formato propietario. Por ejemplo, el código Python es un archivo de texto, mientras que un documento en Word es un archivo binario.\n",
    "\n",
    "En los usuarios de Windows suele haber mucha confusión al momento de entender que un archivo de texto es un archivo con información en forma de caracteres de texto y nada más, sin ninguna relación con la extensión que tenga el archivo. Un archivo que tenga la extensión `.txt` no es un archivo de texto: es un archivo que Windows lo intentará abrir con el Bloc de Notas y si es un archivo de texto se abrirá sin inconvenientes.\n",
    "\n",
    "En Linux, los archivos no tienen extensiones y es más fácil evitar estas confusiones...\n",
    "\n",
    "Por lo tanto, la diferencia entre ambos tipos de archivos es una cuestión de formato. En Python, esto se especifica según el modo de lectura:\n",
    "\n",
    "* Archivos de texto: mode='r'    (lectura)\n",
    "* Archivos de datos: mode='rb'   (lectura binaria)"
   ]
  },
  {
   "cell_type": "markdown",
   "metadata": {},
   "source": [
    "## Filesystem\n",
    "El *filesystem* es la organización de los datos en el medio de almacenamiento por parte del sistema operativo. Para trabajar con soltura con archivos y hay manejarse tambien así con el *filesystem*. En Windows, Linux y OS X, los archivos se organizan en un árbol de directorios que cuelgan de un nodo principal o archivo *root* (*C:\\* en Windows en caso del disco con esta etiqueta, o */.* en el caso de OSX o Linux). Todos los archivos estan ubicados en un sitio especifico dentro del *filesystem* y la forma de especificar esta dirección es con una ruta o *path*.\n",
    "\n",
    "Por ejemplo, el archivo *proyecto1.py* puede estar alojado en la ruta *C:\\Usuarios\\elvio\\Documentos*\n",
    "\n",
    "NOTA: Los ejemplos de este documento estan hechos para ser ejecutdos en un equipo con Windows. Si tiene un sistema operativo diferente, reemplace \"C:\\\" por \"/\""
   ]
  },
  {
   "cell_type": "markdown",
   "metadata": {},
   "source": [
    "## La librería `os`\n",
    "Una complicación con los sistemas operativos es que para especificar el path Windows utiliza \"\\\\\" y Linux y OS X utilizan \"/\". Afortunadamente, la librería `os` viene a solucionarnos este y otros problemas:"
   ]
  },
  {
   "cell_type": "code",
   "execution_count": 1,
   "metadata": {},
   "outputs": [
    {
     "data": {
      "text/plain": [
       "'Usuarios\\\\elvio\\\\Documentos'"
      ]
     },
     "execution_count": 1,
     "metadata": {},
     "output_type": "execute_result"
    }
   ],
   "source": [
    "import os\n",
    "\n",
    "os.path.join(\"Usuarios\", \"elvio\", \"Documentos\")"
   ]
  },
  {
   "cell_type": "markdown",
   "metadata": {},
   "source": [
    "En diferentes SO el resultado será compatible con el sistema (note que Windows utiliza \"\\\\\\\\\" para especificar que el caracter \"\\\" no es parte de un caracter de escape como \"\\n\"). Esto resulta util para crear rutas sobre los archivos en los que se quiere trabajar:"
   ]
  },
  {
   "cell_type": "code",
   "execution_count": 26,
   "metadata": {},
   "outputs": [],
   "source": [
    "files = ['proyecto1.py', 'proyecto2.py', 'proyecto3.py']\n",
    "\n",
    "for filename in files:\n",
    "    print(os.path.join(\"C:\\\\test\\\\elvio\\\\Documents\", filename))"
   ]
  },
  {
   "cell_type": "markdown",
   "metadata": {},
   "source": [
    "Otra información útil es saber en que parte del filesystem nos encontramos. Esto es, cual es el directorio actual de trabajo (o *current working directory*) con `getcwd`:"
   ]
  },
  {
   "cell_type": "code",
   "execution_count": 5,
   "metadata": {},
   "outputs": [
    {
     "name": "stdout",
     "output_type": "stream",
     "text": [
      "C:\\Windows\\System32\n"
     ]
    }
   ],
   "source": [
    "ruta_home = os.getcwd()\n",
    "print(ruta_home)"
   ]
  },
  {
   "cell_type": "markdown",
   "metadata": {},
   "source": [
    "Podemos movernos a otra ubicación en el filesystem con `chdir`:"
   ]
  },
  {
   "cell_type": "code",
   "execution_count": 4,
   "metadata": {},
   "outputs": [
    {
     "name": "stdout",
     "output_type": "stream",
     "text": [
      "C:\\Windows\\System32\n"
     ]
    }
   ],
   "source": [
    "os.chdir(\"C:\\\\Windows\\\\System32\")\n",
    "print(os.getcwd())"
   ]
  },
  {
   "cell_type": "markdown",
   "metadata": {},
   "source": [
    "Existen dos formas de especificar una ruta: *ruta relativa* y *ruta absoluta*. La primera especifica la ubicación de un archivo respecto a la ubicación actual, mientras que la última especifica la ubicación de un archivo respecto del directorio *root*.\n",
    "\n",
    "* Ruta relativa: *.\\\\proyecto1.py*\n",
    "* Ruta absoluta: *C:\\\\Usuarios\\\\elvio\\\\Documentos\\\\proyecto1.py\"*\n",
    "\n",
    "Por otro lado, tambien se tienen los archivos \".\" y \"..\" en un directorio. Estas son etiquetas del directorio actual y del directorio padre. Por ejemplo:"
   ]
  },
  {
   "cell_type": "code",
   "execution_count": 8,
   "metadata": {},
   "outputs": [
    {
     "name": "stdout",
     "output_type": "stream",
     "text": [
      "C:\\Windows\\System32\n"
     ]
    }
   ],
   "source": [
    "os.chdir(\".\")\n",
    "print(os.getcwd())"
   ]
  },
  {
   "cell_type": "code",
   "execution_count": 9,
   "metadata": {},
   "outputs": [
    {
     "name": "stdout",
     "output_type": "stream",
     "text": [
      "C:\\Windows\n"
     ]
    }
   ],
   "source": [
    "os.chdir(\"..\")\n",
    "print(os.getcwd())"
   ]
  },
  {
   "cell_type": "markdown",
   "metadata": {},
   "source": [
    "### Creando directorios\n",
    "Vamos a alejarnos de todo lo que diga \"Windows\" si no queremos borrar nada... vamos a crear un directorio de prueba en C: con `os.makedirs`. Este método puede crear todos los directorios de una ruta específica. Vamos a utilizar `os.path.exists` para validar si el directorio existe o no antes de crear uno nuevo"
   ]
  },
  {
   "cell_type": "code",
   "execution_count": 7,
   "metadata": {},
   "outputs": [],
   "source": [
    "for i in range(12):\n",
    "    if not os.path.exists(f\"C:\\\\test\\\\test{i+1}\"): \n",
    "        os.makedirs(f\"C:\\\\test\\\\test{i+1}\")\n"
   ]
  },
  {
   "cell_type": "markdown",
   "metadata": {},
   "source": [
    "Ubiquemonos en el directorio `test`"
   ]
  },
  {
   "cell_type": "code",
   "execution_count": 10,
   "metadata": {},
   "outputs": [
    {
     "name": "stdout",
     "output_type": "stream",
     "text": [
      "C:\\test\n"
     ]
    }
   ],
   "source": [
    "os.chdir(\"C:\\\\test\")\n",
    "print(os.getcwd())"
   ]
  },
  {
   "cell_type": "markdown",
   "metadata": {},
   "source": [
    "Veamos el contenido del directorio \"C:\\\\test\":"
   ]
  },
  {
   "cell_type": "code",
   "execution_count": 11,
   "metadata": {},
   "outputs": [
    {
     "name": "stdout",
     "output_type": "stream",
     "text": [
      "['test1', 'test10', 'test11', 'test12', 'test2', 'test3', 'test4', 'test5', 'test6', 'test7', 'test8', 'test9']\n"
     ]
    }
   ],
   "source": [
    "print(os.listdir(\".\"))"
   ]
  },
  {
   "cell_type": "markdown",
   "metadata": {},
   "source": [
    "## Archivos de texto\n",
    "La forma más sencilla de crear un archivo de texto es abriendo un archivo con el Context Manager `with`:"
   ]
  },
  {
   "cell_type": "code",
   "execution_count": 49,
   "metadata": {},
   "outputs": [],
   "source": [
    "with open(\"readme.txt\", mode='w', encoding='utf-8') as file:\n",
    "    file.write(\"INSTRUCCIONES\\n\")\n",
    "    file.write(\"=============\\n\\n\")\n",
    "    file.write(\"En los directorios se tienen diferentes test a ser distribuidos\\n\")\n",
    "    file.write(\"entre los diferentes alumnos\")"
   ]
  },
  {
   "cell_type": "markdown",
   "metadata": {},
   "source": [
    "Esto debe de generar un archivo de texto. Haciendo un listado del direcorio se debe de observar el resultado:"
   ]
  },
  {
   "cell_type": "code",
   "execution_count": 12,
   "metadata": {},
   "outputs": [
    {
     "name": "stdout",
     "output_type": "stream",
     "text": [
      "readme.txt      126 bytes\n",
      "test1\n",
      "test10\n",
      "test11\n",
      "test12\n",
      "test2\n",
      "test3\n",
      "test4\n",
      "test5\n",
      "test6\n",
      "test7\n",
      "test8\n",
      "test9\n"
     ]
    }
   ],
   "source": [
    "for item in os.listdir(\".\"):\n",
    "    # Si la ruta es un direcotrio se muestra el nombre\n",
    "    if os.path.isdir(item):\n",
    "        print(item)\n",
    "    #Si la ruta es un archivo muestra su nombre y tu tamaño en bytes\n",
    "    elif os.path.isfile(item):\n",
    "        print(item, \"    \", os.path.getsize(item), \"bytes\")"
   ]
  },
  {
   "cell_type": "markdown",
   "metadata": {},
   "source": [
    "Para leer un archivo de texto, lo más conveniente es abrir un archivo en un bloque `with` y tratar el archivo como un iterable:"
   ]
  },
  {
   "cell_type": "code",
   "execution_count": 13,
   "metadata": {},
   "outputs": [
    {
     "name": "stdout",
     "output_type": "stream",
     "text": [
      "INSTRUCCIONES\n",
      "==============\n",
      "\n",
      "En los directorios se tienen diferentes test a ser distribuidos\n",
      "entre los diferentes alumnos\n"
     ]
    }
   ],
   "source": [
    "with open(\"readme.txt\", mode='r', encoding='utf-8') as file:\n",
    "    for line in file: # Todo lo que hay en el archivo se pone en lazo for\n",
    "        print(line.strip())    #Se imprime cada linea, No olvidar strip() para eliminar \"\\n\""
   ]
  },
  {
   "cell_type": "markdown",
   "metadata": {},
   "source": [
    "Los archivos de texto no resultan ser muy utiles porque no tienen un formato que pueda ser interpretado por una computadora. Es basicamente información legible para una persona, por lo que su uso será la de guardar información simple o tabulada. Sin embargo, si podemos hacer scripts que generen documentos a partir de información. Por ejemplo, generemos unos tests para unos doce alumnos que guardaremos en las diferentes carpetas que hemos creado de forma automática:"
   ]
  },
  {
   "cell_type": "code",
   "execution_count": 77,
   "metadata": {},
   "outputs": [],
   "source": [
    "# GENERADOR DE ARCHIVOS DE PREGUNTAS PARA UN CUESTIONARIO\n",
    "import random\n",
    "\n",
    "capitales = {\"Amazonas\": \"Chachapoyas\", \n",
    "             \"Áncash\": \"Huaraz\",\n",
    "             \"Apurímac\": \"Abancay\",\n",
    "             \"Arequipa\": \"Arequipa\",\n",
    "             \"Ayacucho\": \"Ayacucho\",\n",
    "             \"Cajamarca\": \"Cajamarca\",\n",
    "             \"Cusco\": \"Cusco\",\n",
    "             \"Huancavelica\": \"Huancavelica\",\n",
    "             \"Huánuco\": \"Huánuco\",\n",
    "             \"Ica\": \"Ica\",\n",
    "             \"Junín\": \"Huancayo\",\n",
    "             \"La Libertad\": \"Trujillo\",\n",
    "             \"Lambayeque\": \"Chiclayo\",\n",
    "             \"Lima\": \"Lima\",\n",
    "             \"Loreto\": \"Iquitos\",\n",
    "             \"Madre de Dios\": \"Puerto Maldonado\",\n",
    "             \"Moquegua\": \"Moquegua\",\n",
    "             \"Pasco\": \"Cerro de Pasco\",\n",
    "             \"Piura\": \"Piura\",\n",
    "             \"Puno\": \"Puno\",\n",
    "             \"San Martín\": \"Moyobamba\",\n",
    "             \"Tacna\": \"Tacna\",\n",
    "             \"Tumbes\": \"Tumbes\",\n",
    "             \"Ucayali\": \"Pucallpa\"}\n",
    "\n",
    "# Se generan los 12 archivos de examenes\n",
    "for quizNum in range(1, 13):\n",
    "    # Se generan los nombres de los arvhivos de test en cada directorio y el de respuestas correctas\n",
    "    quizFileName = os.path.join(f\"C:\\\\test\\\\test{quizNum}\", f\"text{quizNum}.txt\")\n",
    "    answerKeyFileName = os.path.join(f\"C:\\\\test\\\\test{quizNum}\", f\"test{quizNum}_answers.txt\")\n",
    "    \n",
    "    # Se abren ambos archivos para su generación\n",
    "    with open(quizFileName, mode='w', encoding='utf-8') as quizFile:\n",
    "        with open(answerKeyFileName, mode='w', encoding='utf-8') as answerKeyFile:\n",
    "            # Se crea un encabezado en el archivo de test\n",
    "            quizFile.write(\"Nombre:\\n\\nFecha:\\n\\nPeriodo:\\n\\n\")\n",
    "            quizFile.write(' ' * 20 + f\"Capitales por departamento - Test {quizNum}\\n\\n\")\n",
    "\n",
    "            # Se obtiene una lista con las capitales por departamento\n",
    "            # y se desordena la muestra\n",
    "            departamentos = list(capitales.keys())\n",
    "            random.shuffle(departamentos)\n",
    "\n",
    "            # Para cada uno de los departamentos...\n",
    "            for idx, departamento in enumerate(departamentos, start=1):\n",
    "                # Se guarda la respuesta correcta (capital del departamento)\n",
    "                correctAnswer = capitales.get(departamento)\n",
    "                # Se guarda una lista con todas las capitales y se elimina la correcta\n",
    "                wrongAnswers = list(capitales.values())\n",
    "                del wrongAnswers[wrongAnswers.index(correctAnswer)]\n",
    "                # Se obtiene una muestra aleatoria de 3 respuestas aleatorias + la correcta\n",
    "                wrongAnswers = random.sample(wrongAnswers, 3)\n",
    "                answerOptions = wrongAnswers + [correctAnswer]\n",
    "                # Se desordenan las opciones de respuesta\n",
    "                random.shuffle(answerOptions)\n",
    "\n",
    "                # Escribimos la pregunta en el test\n",
    "                quizFile.write(f\"{idx}. ¿Cuál es la capital de {departamento}?:\\n\")\n",
    "\n",
    "                for letter, answer in zip('ABCD', answerOptions):\n",
    "                    quizFile.write(f\"\\t{letter}. {answer}\\n\")\n",
    "                else:\n",
    "                    quizFile.write('\\n')\n",
    "\n",
    "                # Escribirmos la respuesta en el archivo de respuestas\n",
    "                answerKeyFile.write(f\"{idx}. {'ABCD'[answerOptions.index(correctAnswer)]}\\n\")\n"
   ]
  },
  {
   "cell_type": "markdown",
   "metadata": {},
   "source": [
    "## Tip: librería `shelve`\n",
    "Si lo que se quiere es guardar las variables de una programa de forma rápida existe una forma de hacerlo sin tener que generar archivos con todas las complejidades de saber la ruta y el formato: la librería `shelve`."
   ]
  },
  {
   "cell_type": "code",
   "execution_count": 38,
   "metadata": {},
   "outputs": [
    {
     "name": "stdout",
     "output_type": "stream",
     "text": [
      "[1, 2, 3, 4, 5]\n"
     ]
    }
   ],
   "source": [
    "import shelve\n",
    "\n",
    "# Guardando datos en un archivo shelve\n",
    "datos = [1, 2, 3, 4, 5]\n",
    "\n",
    "with shelve.open('mis_datos') as shelve_file:\n",
    "    shelve_file['datos'] = datos\n",
    "print(datos)"
   ]
  },
  {
   "cell_type": "markdown",
   "metadata": {},
   "source": [
    "Para guardar datos utilizando `shelve` se abre un archivo al que llamaremos `mis_datos` en un bloque `with` con la instrucción `shelve.open`. Una vez abierto, se trata este archivo como un diccionario, donde la llave será un `str` con el nombre de la variable a almacenar y el valor será la variable misma. Si revisa le ruta actual, vera que hay unos archivos con el nombre `mis_datos` con extensión `bak`, `dat` y `dir`. Intente abrirlos con un editor... no va a encontrar registros de la información. Pero podemos traerla de vuelta."
   ]
  },
  {
   "cell_type": "code",
   "execution_count": 90,
   "metadata": {},
   "outputs": [
    {
     "name": "stdout",
     "output_type": "stream",
     "text": [
      "[1, 2, 3, 4, 5]\n"
     ]
    }
   ],
   "source": [
    "# Borremos la variable datos...\n",
    "del datos\n",
    "\n",
    "# ...y la recuperamos del archivo \n",
    "with shelve.open(\"mis_datos\") as shelve_file:\n",
    "    datos = shelve_file['datos']\n",
    "    \n",
    "print(datos)"
   ]
  },
  {
   "cell_type": "markdown",
   "metadata": {},
   "source": [
    "¡Facil, sencillo y seguro!"
   ]
  },
  {
   "cell_type": "markdown",
   "metadata": {},
   "source": [
    "## Archivos CSV\n",
    "Un archivo CSV es un archivo de texto con un formato estándar. En este, los valores se guardan como valores de texto, separados por algun separador, usualmente una coma (\",\") de donde viene el nombre Comma Separated Value, aunque puede ser un espacio en blanco, un tabulador (\"\\t\") o un punto y coma (\";\").\n",
    "\n",
    "Los archivos CSV son reconocidos por las Hojas de Cálculo como Excel y ordena los datos por columnas utilizando el caracter de separación. Hay que tomar en consideración que en los países donde se utiliza la \",\" como separador de miles, se debe de utilizar el \";\" para un archivo CSV que sea reconocido por Excel. Al final, un archivo CSV es una Hoja de Cálculo simplificada, sin pestañas ni fórmulas.\n",
    "\n",
    "Hay otro detalle a considerar: un CSV no se puede manipular como un archivo de texto al que lo podemos seprar utilizando `split(',')` ya que no todas las comas son separadores. Un CSV también tiene sus propios caracteres de escape, lo que permite que una coma pueda ser parte de los valores (como en el caso de un número escrito con la forma 1,200). Esa es la razón por la que siempre hay que usar la librería `csv`.\n",
    "\n",
    "Los marcadores de personal suelen generar archivos CSV diarios. Vamos a generar una simulación de esto:"
   ]
  },
  {
   "cell_type": "code",
   "execution_count": 44,
   "metadata": {},
   "outputs": [
    {
     "name": "stdout",
     "output_type": "stream",
     "text": [
      "C:\\Windows\\System32\n"
     ]
    }
   ],
   "source": [
    "empleados = [[\"6/6/2020 07:20\", \"Elvio Lado\"], \n",
    "             [\"6/6/2020 07:22\", \"Elmer Curio\"], \n",
    "             [\"6/6/2020 07:30\", \"Elba Lazo\"], \n",
    "             [\"6/6/2020 07:36\", \"Susana Oria\"], \n",
    "             [\"6/6/2020 07:49\", \"Armando Paredes\"]]\n",
    "\n",
    "# Regresemos a la ruta de este documento\n",
    "os.chdir(ruta_home)\n",
    "print(os.getcwd())\n"
   ]
  },
  {
   "cell_type": "markdown",
   "metadata": {},
   "source": [
    "Para almacenar estos datos como un archivo CSV en Windows (y solo en Windows) hay un recordar establecer el parametro `newline=''` para evitar que se generen líneas en blanco entre los registros (esto por razones técnicas que estan detalladas [aqui](https://docs.python.org/3/library/csv.html#id3))."
   ]
  },
  {
   "cell_type": "code",
   "execution_count": 61,
   "metadata": {},
   "outputs": [
    {
     "name": "stdout",
     "output_type": "stream",
     "text": [
      "4\n"
     ]
    },
    {
     "ename": "PermissionError",
     "evalue": "[Errno 13] Permission denied: 'entrada.csv'",
     "output_type": "error",
     "traceback": [
      "\u001b[1;31m---------------------------------------------------------------------------\u001b[0m",
      "\u001b[1;31mPermissionError\u001b[0m                           Traceback (most recent call last)",
      "\u001b[1;32m<ipython-input-61-9b22d2a21ca6>\u001b[0m in \u001b[0;36m<module>\u001b[1;34m\u001b[0m\n\u001b[0;32m      2\u001b[0m \u001b[0mmai\u001b[0m\u001b[1;33m=\u001b[0m\u001b[1;36m4\u001b[0m\u001b[1;33m\u001b[0m\u001b[1;33m\u001b[0m\u001b[0m\n\u001b[0;32m      3\u001b[0m \u001b[0mprint\u001b[0m\u001b[1;33m(\u001b[0m\u001b[0mmai\u001b[0m\u001b[1;33m)\u001b[0m\u001b[1;33m\u001b[0m\u001b[1;33m\u001b[0m\u001b[0m\n\u001b[1;32m----> 4\u001b[1;33m \u001b[1;32mwith\u001b[0m \u001b[0mopen\u001b[0m\u001b[1;33m(\u001b[0m\u001b[1;34m\"entrada.csv\"\u001b[0m\u001b[1;33m,\u001b[0m \u001b[0mmode\u001b[0m\u001b[1;33m=\u001b[0m\u001b[1;34m'w'\u001b[0m\u001b[1;33m,\u001b[0m \u001b[0mnewline\u001b[0m\u001b[1;33m=\u001b[0m\u001b[1;34m''\u001b[0m\u001b[1;33m)\u001b[0m \u001b[1;32mas\u001b[0m \u001b[0mcsv_file\u001b[0m\u001b[1;33m:\u001b[0m\u001b[1;33m\u001b[0m\u001b[1;33m\u001b[0m\u001b[0m\n\u001b[0m\u001b[0;32m      5\u001b[0m     \u001b[0mwriter\u001b[0m \u001b[1;33m=\u001b[0m \u001b[0mcsv\u001b[0m\u001b[1;33m.\u001b[0m\u001b[0mwriter\u001b[0m\u001b[1;33m(\u001b[0m\u001b[0mcsv_file\u001b[0m\u001b[1;33m,\u001b[0m \u001b[0mdelimiter\u001b[0m\u001b[1;33m=\u001b[0m\u001b[1;34m';'\u001b[0m\u001b[1;33m)\u001b[0m\u001b[1;33m\u001b[0m\u001b[1;33m\u001b[0m\u001b[0m\n\u001b[0;32m      6\u001b[0m     \u001b[0mwriter\u001b[0m\u001b[1;33m.\u001b[0m\u001b[0mwriterow\u001b[0m\u001b[1;33m(\u001b[0m\u001b[1;33m[\u001b[0m\u001b[1;34m\"HORA\"\u001b[0m\u001b[1;33m,\u001b[0m \u001b[1;34m\"EMPLEADO\"\u001b[0m\u001b[1;33m]\u001b[0m\u001b[1;33m)\u001b[0m\u001b[1;33m\u001b[0m\u001b[1;33m\u001b[0m\u001b[0m\n",
      "\u001b[1;31mPermissionError\u001b[0m: [Errno 13] Permission denied: 'entrada.csv'"
     ]
    }
   ],
   "source": [
    "import csv\n",
    "\n",
    "with open(\"entrada.csv\", mode='w', newline='') as csv_file:\n",
    "    writer = csv.writer(csv_file, delimiter=';')\n",
    "    writer.writerow([\"HORA\", \"EMPLEADO\"])\n",
    "    \n",
    "    for registro in empleados:\n",
    "        writer.writerow(registro)\n",
    "        \n",
    "print(\"Archivo generado:\", os.path.abspath(\"entrada.csv\"))"
   ]
  },
  {
   "cell_type": "markdown",
   "metadata": {},
   "source": [
    "En el código anterior hay algunos detalles a considerar:\n",
    "    \n",
    "* Se utiliza el parametro `newline=''` por ser Windows. En otro sistema operativo esta opción no se coloca\n",
    "* Se establece un objeto `csv.writer` sobre el archivo abierto para escribir sobre este.\n",
    "* En el writer se define el tipo de separador como \";\" para que sea compatible con Excel (por defecto es \",\")\n",
    "* Se esta utilizando el método `writerow(registro)` para escribir los registros. También se pudo haber llamado al método `writerows(empleados)`\n",
    "* Se escribe una lista con los nombres de las columnas de los datos. Esto es el encabezado\n",
    "* Se esta obteniendo la ruta absoluta del archivo generado con `os.path.abspath` para saber donde esta ubicado el archivo generado\n",
    "\n",
    "Si todo esta bien, podrá abrir el archivo desde Excel."
   ]
  },
  {
   "cell_type": "markdown",
   "metadata": {},
   "source": [
    "JupyterLab tiene un visor de archivos CSV. Pruebe abrir el archivo desde el navegador de archivos a la izquierda para ver la información tabulada y podrá seleccionar el tipo de delimitador."
   ]
  },
  {
   "cell_type": "markdown",
   "metadata": {},
   "source": [
    "Ahora, leamos el archivo:"
   ]
  },
  {
   "cell_type": "code",
   "execution_count": 116,
   "metadata": {},
   "outputs": [
    {
     "name": "stdout",
     "output_type": "stream",
     "text": [
      "* Nombre: Elmer Curio          Hora de ingreso: 6/6/2020 07:22\n",
      "* Nombre: Elba Lazo            Hora de ingreso: 6/6/2020 07:30\n",
      "* Nombre: Susana Oria          Hora de ingreso: 6/6/2020 07:36\n",
      "* Nombre: Armando Paredes      Hora de ingreso: 6/6/2020 07:49\n"
     ]
    }
   ],
   "source": [
    "import csv\n",
    "\n",
    "with open(\"C:\\\\test\\\\entrada.csv\") as file:\n",
    "    reader = csv.reader(file, delimiter=';')\n",
    "    next(reader)      # Con esto pasamos a la siguiente linea: eliminamos el encabezado\n",
    "    \n",
    "    for line in reader:\n",
    "        print(f\"* Nombre: {line[1]:20} Hora de ingreso: {line[0]}\")"
   ]
  },
  {
   "cell_type": "markdown",
   "metadata": {},
   "source": [
    "Detalles a considerar del código anterior:\n",
    "\n",
    "* No es necesario especificar `newline=''`. Esto es solo para escirbir un archivo CSV\n",
    "* No se especifica el modo al momento de abrir el archivo. El modo por defecto es lectura\n",
    "* Se especifica un `csv.reader` para retornar una lista de datos a partir de cada línea de texto\n",
    "* Se especifica el tipo de separador en el reader.\n",
    "* Se estan utilizando los indices de la lista (en este caso, `line`) para mostrar los resultados.\n"
   ]
  },
  {
   "cell_type": "markdown",
   "metadata": {},
   "source": [
    "## Archivos JSON\n",
    "Un archivo JSON (nadie sabe a ciencia cierta como se pronuncia eso pero esta generalizado utilizar \"Jason\") es un archivo con un formato más complejo. Es, al final, un diccionario almacenado. Para gestionar este tipo de archivos utilizaremos el módulo `json`. \n",
    "\n",
    "Ampliemos el caso del registro de entrada con más datos, esta vez estructurados como un diccionario:"
   ]
  },
  {
   "cell_type": "code",
   "execution_count": 2,
   "metadata": {},
   "outputs": [],
   "source": [
    "empleados = [{\"ingreso\": \"6/6/2020 07:20\", \"salida\": \"6/6/2020 19:30\", \"nombre\": \"Elvio Lado\"}, \n",
    "             {\"ingreso\": \"6/6/2020 07:22\", \"salida\": \"6/6/2020 18:50\", \"nombre\": \"Elmer Curio\"}, \n",
    "             {\"ingreso\": \"6/6/2020 07:30\", \"salida\": \"6/6/2020 19:10\", \"nombre\": \"Elba Lazo\"}, \n",
    "             {\"ingreso\": \"6/6/2020 07:36\", \"salida\": \"6/6/2020 20:10\", \"nombre\": \"Susana Oria\"}, \n",
    "             {\"ingreso\": \"6/6/2020 07:49\", \"salida\": \"6/6/2020 17:59\", \"nombre\": \"Armando Paredes\"}]"
   ]
  },
  {
   "cell_type": "markdown",
   "metadata": {},
   "source": [
    "Esta vez tenemos una lista de registros, donde cada registro es un diccionario. Esta estructura la podemos almacenar tal cual en formato JSON. Para volcar los datos a un archivo JSON se utiliza el método `json.dump(data, file)`:"
   ]
  },
  {
   "cell_type": "code",
   "execution_count": null,
   "metadata": {},
   "outputs": [],
   "source": [
    "import json\n",
    "\n",
    "with open(\"marca_dia.json\", mode='w') as json_file:\n",
    "    json.dump(empleados, json_file)"
   ]
  },
  {
   "cell_type": "markdown",
   "metadata": {},
   "source": [
    "Si se abre un archvio JSON en un Bloc de Notas verá una lista con diccionarios escrita como un texto. Pero un visualizador de archvios JSON mostrará un resultado diferente. Pruebe abriendo el archivo en JupyterLab y verá la estructura de la información."
   ]
  },
  {
   "cell_type": "markdown",
   "metadata": {},
   "source": [
    "La lectura de un archivo JSON utiliza el método `json.load(file)`:"
   ]
  },
  {
   "cell_type": "code",
   "execution_count": 7,
   "metadata": {},
   "outputs": [
    {
     "name": "stdout",
     "output_type": "stream",
     "text": [
      "[{'ingreso': '6/6/2020 07:20', 'salida': '6/6/2020 19:30', 'nombre': 'Elvio Lado'}, {'ingreso': '6/6/2020 07:22', 'salida': '6/6/2020 18:50', 'nombre': 'Elmer Curio'}, {'ingreso': '6/6/2020 07:30', 'salida': '6/6/2020 19:10', 'nombre': 'Elba Lazo'}, {'ingreso': '6/6/2020 07:36', 'salida': '6/6/2020 20:10', 'nombre': 'Susana Oria'}, {'ingreso': '6/6/2020 07:49', 'salida': '6/6/2020 17:59', 'nombre': 'Armando Paredes'}]\n"
     ]
    }
   ],
   "source": [
    "with open(\"marca_dia.json\") as json_file:\n",
    "    data = json.load(json_file)\n",
    "    \n",
    "print(data)"
   ]
  },
  {
   "cell_type": "markdown",
   "metadata": {},
   "source": [
    "## Tip: Como imprimir un diccionario bien\n",
    "El resultado anterior es, por decir algo, bastante feo. Hay una forma de imprimir un diccionario de forma estética valiéndose del módulo `json`, en este caso del método `json.dumps(data)` (la 's' en dump*s* es por 'string'), que toma un diccionario (o una estructura JSON que viene a ser lo mismo) y hace un volcado sobre un string que puede tener un fomato:"
   ]
  },
  {
   "cell_type": "code",
   "execution_count": 8,
   "metadata": {},
   "outputs": [
    {
     "name": "stdout",
     "output_type": "stream",
     "text": [
      "[\n",
      "    {\n",
      "        \"ingreso\": \"6/6/2020 07:20\",\n",
      "        \"salida\": \"6/6/2020 19:30\",\n",
      "        \"nombre\": \"Elvio Lado\"\n",
      "    },\n",
      "    {\n",
      "        \"ingreso\": \"6/6/2020 07:22\",\n",
      "        \"salida\": \"6/6/2020 18:50\",\n",
      "        \"nombre\": \"Elmer Curio\"\n",
      "    },\n",
      "    {\n",
      "        \"ingreso\": \"6/6/2020 07:30\",\n",
      "        \"salida\": \"6/6/2020 19:10\",\n",
      "        \"nombre\": \"Elba Lazo\"\n",
      "    },\n",
      "    {\n",
      "        \"ingreso\": \"6/6/2020 07:36\",\n",
      "        \"salida\": \"6/6/2020 20:10\",\n",
      "        \"nombre\": \"Susana Oria\"\n",
      "    },\n",
      "    {\n",
      "        \"ingreso\": \"6/6/2020 07:49\",\n",
      "        \"salida\": \"6/6/2020 17:59\",\n",
      "        \"nombre\": \"Armando Paredes\"\n",
      "    }\n",
      "]\n"
     ]
    }
   ],
   "source": [
    "print(json.dumps(data, indent=4))    # indent es el número de espacios para la sangría de niveles"
   ]
  },
  {
   "cell_type": "markdown",
   "metadata": {},
   "source": [
    "Armando Paredes en quien llega último y se va primero..."
   ]
  },
  {
   "cell_type": "markdown",
   "metadata": {},
   "source": [
    "## `requests` o como obtener información de la web (JSON)\n",
    "Python tiene una librería en la Biblioteca Estándar llamada `urllib` que pemite hacer consultas html que es mejor olvidar que existe. Es de esas cosas que se colocan debajo de la alformbra. Kenneth Reitz le hizo un favor a la comunidad de Python desarrollando la librería `requests` que es hoy la forma más sencilla de realizar requerimientos a un recursos web.\n",
    "\n",
    "Esta libreria debe de instalarse por medio del gestor de paquetes pip, que descarga e instala packetes disponibles en el Python Packages Index (PyPI). Se puede utilizar el caracter \"!\" en una celda en un documento Jupyter para ejecutar comandos de consola."
   ]
  },
  {
   "cell_type": "code",
   "execution_count": 5,
   "metadata": {},
   "outputs": [
    {
     "name": "stdout",
     "output_type": "stream",
     "text": [
      "Requirement already satisfied: requests in c:\\users\\asus\\anaconda3\\lib\\site-packages (2.22.0)\n",
      "Requirement already satisfied: certifi>=2017.4.17 in c:\\users\\asus\\anaconda3\\lib\\site-packages (from requests) (2019.6.16)\n",
      "Requirement already satisfied: idna<2.9,>=2.5 in c:\\users\\asus\\anaconda3\\lib\\site-packages (from requests) (2.8)\n",
      "Requirement already satisfied: urllib3!=1.25.0,!=1.25.1,<1.26,>=1.21.1 in c:\\users\\asus\\anaconda3\\lib\\site-packages (from requests) (1.24.2)\n",
      "Requirement already satisfied: chardet<3.1.0,>=3.0.2 in c:\\users\\asus\\anaconda3\\lib\\site-packages (from requests) (3.0.4)\n"
     ]
    }
   ],
   "source": [
    "!pip install requests"
   ]
  },
  {
   "cell_type": "markdown",
   "metadata": {},
   "source": [
    "Utilicemos las instrucciones de prueba [de la página oficinal en github del proyecto](https://github.com/psf/requests):"
   ]
  },
  {
   "cell_type": "code",
   "execution_count": 17,
   "metadata": {},
   "outputs": [],
   "source": [
    "import requests\n",
    "\n",
    "r = requests.get('https://api.github.com/repos/psf/requests')\n",
    "#r.json()[\"description\"]\n",
    "info = r.json()\n",
    "with open(\"archi.json\", mode = 'w') as file_archi:\n",
    "    json.dump(info, file_archi)"
   ]
  },
  {
   "cell_type": "markdown",
   "metadata": {},
   "source": [
    "Para entender lo que sucede en estas líneas de código, hay que tener una idea del modelo HTTP y en concreto, que cosa es un request:\n",
    "\n",
    "![](https://i1.wp.com/shvetsgroup.com/files/images/HTTP_request.png)\n",
    "\n",
    "El protocolo que hace que la Web funcione es HTTP. En este se define que existen dos nodos: cliente y servidor. El cliente hace un pedido de información (un \"requests\" con una ruta) y el servidor retorna un código de respuesta (un \"response\") así como la información requerida (si la información existe, para lo que responderá con el código 200; en caso contrario responderá con un código 404). En el código anterior, todos los detalles de señalización y flujo de control de información estan resueltos en la librería `requests`.\n",
    "\n",
    "El método `get` es la instrucción HTTP que se utiliza para hacer una petición en un mensaje que es formateado por la librería. En este caso, el requerimiento apunta a un archivo JSON y `requests` puede gestionar archivos JSON de forma nativa con el método `json` sobre la respuesta del requerimiento (el objeto `r`). En este caso, estamos viendo el valor de la llave `description`.\n",
    "\n",
    "Veamos una estructura más compleja: La URL https://deperu.com/api/rest/noticias.json apunta a un servicio que retorna noticias en formato JSON. ¿Cómo podemos obtener un listado de los titulares? Guardemos este información en un archivo JSON para poder verlo en el visualizador:"
   ]
  },
  {
   "cell_type": "code",
   "execution_count": 13,
   "metadata": {},
   "outputs": [],
   "source": [
    "url = \"https://deperu.com/api/rest/noticias.json\"\n",
    "r = requests.get(url)\n",
    "data = r.json() #Guardar en formato json el contenido de la url\n",
    "\n",
    "with open(\"noticias.json\", mode='w') as json_file:\n",
    "    json.dump(data, json_file)"
   ]
  },
  {
   "cell_type": "markdown",
   "metadata": {},
   "source": [
    "Revisando la estructura se observa que es una lista de diccionarios, donde las llaves 'fecha', 'titulo' y 'url' nos dan la información que queremos para presentar la información:"
   ]
  },
  {
   "cell_type": "code",
   "execution_count": 22,
   "metadata": {},
   "outputs": [
    {
     "name": "stdout",
     "output_type": "stream",
     "text": [
      "LAS NOTICIAS DE LA HORA\n",
      "=======================\n",
      "\n",
      "  Fecha: Mon, 31 Aug 2020 22:22:42 -0500\n",
      "  Titular: Tiburón ballena, esperanza de una idílica isla mexicana golpeada por la pandemia\n",
      "  Referencia: https://www.deperu.com/noticias/tiburon-ballena-esperanza-de-una-idilica-isla-mexicana-golpeada-por-la-pandemia-106047.html\n",
      "============\n",
      "Resumen:  El tiburón ballena, un enorme pez en peligro de extinción que visita cada año el Caribe mexicano, es la esperanza de habitantes de Isla Holbox que ansían el retorno de turistas ahuyentados por la pandemia de covid-19.\n",
      "============\n",
      "  Fecha: Mon, 31 Aug 2020 18:52:29 -0500\n",
      "  Titular: Expertos canadienses prueban baya de açaí como tratamiento contra covid-19\n",
      "  Referencia: https://www.deperu.com/noticias/expertos-canadienses-prueban-baya-de-acai-como-tratamiento-contra-covid-19-106046.html\n",
      "============\n",
      "Resumen:  Investigadores canadienses están analizando un alimento, el fruto de la palma de açaí, en su búsqueda de un tratamiento para los síntomas más graves del coronavirus, anunció uno de ellos el lunes.\n",
      "============\n",
      "  Fecha: Mon, 31 Aug 2020 15:52:31 -0500\n",
      "  Titular: Martín Guzmán, el discípulo de Stiglitz que logró reestructurar la deuda argentina\n",
      "  Referencia: https://www.deperu.com/noticias/martin-guzman-el-discipulo-de-stiglitz-que-logro-reestructurar-la-deuda-argentina-106044.html\n",
      "============\n",
      "Resumen:  None\n",
      "============\n",
      "  Fecha: Mon, 31 Aug 2020 14:37:48 -0500\n",
      "  Titular: Acuerdo Mercosur-UE avanza más lento de lo esperado, afirma presidente uruguayo\n",
      "  Referencia: https://www.deperu.com/noticias/acuerdo-mercosur-ue-avanza-mas-lento-de-lo-esperado-afirma-presidente-uruguayo-106042.html\n",
      "============\n",
      "Resumen:  El acuerdo comercial entre el Mercosur y la Unión Europea (UE) \"avanza, aunque no con la velocidad esperada\", dijo este lunes el presidente de Uruguay, Luis Lacalle Pou, tras contactarse vía telefónica con la canciller alemana, Angela Merkel.\n",
      "============\n",
      "  Fecha: Mon, 31 Aug 2020 14:13:30 -0500\n",
      "  Titular: EEUU autoriza a Amazon a utilizar drones para entregar productos\n",
      "  Referencia: https://www.deperu.com/noticias/eeuu-autoriza-a-amazon-a-utilizar-drones-para-entregar-productos-106041.html\n",
      "============\n",
      "Resumen:  La gigante del comercio en línea Amazon dijo el lunes que la Administración Federal de Aviación (FAA) de Estados Unidos le emitió la autorización para utilizar drones en la entrega de productos.\n",
      "============\n"
     ]
    }
   ],
   "source": [
    "with open(\"noticias.json\") as json_file:\n",
    "    data_noticias = json.load(json_file)\n",
    "    \n",
    "print(\"LAS NOTICIAS DE LA HORA\")\n",
    "print(\"=======================\\n\")\n",
    "for noticia in data_noticias[:5]:           # [:5] => Las cinco noticias mas recientes\n",
    "    print(\"  Fecha:\", noticia['fecha'])\n",
    "    print(\"  Titular:\", noticia['titulo'])\n",
    "    print(\"  Referencia:\", noticia['url'])\n",
    "    print(\"============\")\n",
    "    print(\"Resumen: \",noticia[\"resumen\"]) #Obtiene el value de cada llave\n",
    "                                #Diccionario -> {llave: value}\n",
    "                                #nombre[\"llave\"] -> retorna el value\n",
    "    print(\"============\")"
   ]
  },
  {
   "cell_type": "markdown",
   "metadata": {},
   "source": [
    "¡Hemos construido un *newsletter* con muy pocas lineas de código!"
   ]
  },
  {
   "cell_type": "code",
   "execution_count": null,
   "metadata": {},
   "outputs": [],
   "source": []
  }
 ],
 "metadata": {
  "kernelspec": {
   "display_name": "Python 3",
   "language": "python",
   "name": "python3"
  },
  "language_info": {
   "codemirror_mode": {
    "name": "ipython",
    "version": 3
   },
   "file_extension": ".py",
   "mimetype": "text/x-python",
   "name": "python",
   "nbconvert_exporter": "python",
   "pygments_lexer": "ipython3",
   "version": "3.6.8"
  }
 },
 "nbformat": 4,
 "nbformat_minor": 4
}
