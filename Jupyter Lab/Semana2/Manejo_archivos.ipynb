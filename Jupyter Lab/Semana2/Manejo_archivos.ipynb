{
 "cells": [
  {
   "cell_type": "code",
   "execution_count": 2,
   "metadata": {},
   "outputs": [],
   "source": [
    "import os"
   ]
  },
  {
   "cell_type": "code",
   "execution_count": 9,
   "metadata": {},
   "outputs": [
    {
     "name": "stdout",
     "output_type": "stream",
     "text": [
      "D:\\CICLO_2020_2\\PROGRA AVANZADA\\Semana2\n"
     ]
    }
   ],
   "source": [
    "print(os.getcwd())"
   ]
  },
  {
   "cell_type": "code",
   "execution_count": 15,
   "metadata": {},
   "outputs": [
    {
     "name": "stdout",
     "output_type": "stream",
     "text": [
      "C:\\test\n",
      "['test1', 'test10', 'test11', 'test12', 'test2', 'test3', 'test4', 'test5', 'test6', 'test7', 'test8', 'test9']\n"
     ]
    }
   ],
   "source": [
    "os.chdir(\"C:\\\\test\")\n",
    "print(os.getcwd())\n",
    "print(os.listdir(\".\"))"
   ]
  },
  {
   "cell_type": "code",
   "execution_count": 17,
   "metadata": {},
   "outputs": [],
   "source": [
    "with open(\"readme.txt\", mode='w', encoding='utf-8') as file:\n",
    "    file.write(\"INSTRUCCIONES\\n\")\n",
    "    file.write(\"==============\\n\\n\")\n",
    "    file.write(\"En los directorios se tienen diferentes test a ser distribuidos\\n\")\n",
    "    file.write(\"entre los diferentes alumnos\")"
   ]
  },
  {
   "cell_type": "code",
   "execution_count": 22,
   "metadata": {},
   "outputs": [],
   "source": [
    "for i in range(12):\n",
    "    if not os.path.exists(f\"D:\\\\CICLO_2020_2\\\\PROGRA AVANZADA\\\\Semana2\\\\test\\\\test{i+1}\"): \n",
    "        os.makedirs(f\"D:\\\\CICLO_2020_2\\\\PROGRA AVANZADA\\\\Semana2\\\\test\\\\test{i+1}\")\n"
   ]
  },
  {
   "cell_type": "code",
   "execution_count": 25,
   "metadata": {},
   "outputs": [
    {
     "name": "stdout",
     "output_type": "stream",
     "text": [
      "D:\\CICLO_2020_2\\PROGRA AVANZADA\\Semana2\\test\n"
     ]
    }
   ],
   "source": [
    "os.chdir(\"D:\\\\CICLO_2020_2\\\\PROGRA AVANZADA\\\\Semana2\\\\test\")\n",
    "print(os.getcwd())"
   ]
  },
  {
   "cell_type": "code",
   "execution_count": 142,
   "metadata": {},
   "outputs": [],
   "source": [
    "# GENERADOR DE ARCHIVOS DE PREGUNTAS PARA UN CUESTIONARIO\n",
    "import os\n",
    "import random\n",
    "\n",
    "PATH = \"D:\\\\CICLO_2020_2\\\\PROGRA AVANZADA\\\\Semana2\"\n",
    "\n",
    "capitales = {\"Amazonas\": \"Chachapoyas\", \n",
    "             \"Áncash\": \"Huaraz\",\n",
    "             \"Apurímac\": \"Abancay\",\n",
    "             \"Arequipa\": \"Arequipa\",\n",
    "             \"Ayacucho\": \"Ayacucho\",\n",
    "             \"Cajamarca\": \"Cajamarca\",\n",
    "             \"Cusco\": \"Cusco\",\n",
    "             \"Huancavelica\": \"Huancavelica\",\n",
    "             \"Huánuco\": \"Huánuco\",\n",
    "             \"Ica\": \"Ica\",\n",
    "             \"Junín\": \"Huancayo\",\n",
    "             \"La Libertad\": \"Trujillo\",\n",
    "             \"Lambayeque\": \"Chiclayo\",\n",
    "             \"Lima\": \"Lima\",\n",
    "             \"Loreto\": \"Iquitos\",\n",
    "             \"Madre de Dios\": \"Puerto Maldonado\",\n",
    "             \"Moquegua\": \"Moquegua\",\n",
    "             \"Pasco\": \"Cerro de Pasco\",\n",
    "             \"Piura\": \"Piura\",\n",
    "             \"Puno\": \"Puno\",\n",
    "             \"San Martín\": \"Moyobamba\",\n",
    "             \"Tacna\": \"Tacna\",\n",
    "             \"Tumbes\": \"Tumbes\",\n",
    "             \"Ucayali\": \"Pucallpa\"}\n",
    "\n",
    "# Se generan los 12 archivos de examenes\n",
    "for quizNum in range(1, 13):\n",
    "    # Se generan los nombres de los arvhivos de test en cada directorio y el de respuestas correctas\n",
    "    quizFileName = os.path.join(f\"{PATH}\\\\test\\\\test{quizNum}\", f\"text{quizNum}.txt\")\n",
    "    answerKeyFileName = os.path.join(f\"{PATH}\\\\test\\\\test{quizNum}\", f\"test{quizNum}_answers.txt\")\n",
    "    \n",
    "    # Se abren ambos archivos para su generación\n",
    "    with open(quizFileName, mode='w', encoding='utf-8') as quizFile:\n",
    "        with open(answerKeyFileName, mode='w', encoding='utf-8') as answerKeyFile:\n",
    "            # Se crea un encabezado en el archivo de test\n",
    "            quizFile.write(\"Nombre:\\n\\nFecha:\\n\\nPeriodo:\\n\\n\")\n",
    "            quizFile.write(' ' * 20 + f\"Capitales por departamento - Test {quizNum}\\n\\n\")\n",
    "\n",
    "            # Se obtiene una lista con las capitales por departamento\n",
    "            # y se desordena la muestra\n",
    "            departamentos = list(capitales.keys())\n",
    "            random.shuffle(departamentos)\n",
    "\n",
    "            # Para cada uno de los departamentos...\n",
    "            for idx, departamento in enumerate(departamentos, start=1):\n",
    "                # Se guarda la respuesta correcta (capital del departamento)\n",
    "                correctAnswer = capitales.get(departamento)\n",
    "                # Se guarda una lista con todas las capitales y se elimina la correcta\n",
    "                wrongAnswers = list(capitales.values())\n",
    "                del wrongAnswers[wrongAnswers.index(correctAnswer)]\n",
    "                # Se obtiene una muestra aleatoria de 3 respuestas aleatorias + la correcta\n",
    "                wrongAnswers = random.sample(wrongAnswers, 3)\n",
    "                answerOptions = wrongAnswers + [correctAnswer]\n",
    "                # Se desordenan las opciones de respuesta\n",
    "                random.shuffle(answerOptions)\n",
    "\n",
    "                # Escribimos la pregunta en el test\n",
    "                quizFile.write(f\"{idx}. ¿Cuál es la capital de {departamento}?:\\n\")\n",
    "\n",
    "                for letter, answer in zip('ABCD', answerOptions):\n",
    "                    quizFile.write(f\"\\t{letter}. {answer}\\n\")\n",
    "                else:\n",
    "                    quizFile.write('\\n')\n",
    "\n",
    "                # Escribirmos la respuesta en el archivo de respuestas\n",
    "                answerKeyFile.write(f\"{idx}. {'ABCD'[answerOptions.index(correctAnswer)]}\\n\")\n"
   ]
  },
  {
   "cell_type": "code",
   "execution_count": 47,
   "metadata": {},
   "outputs": [
    {
     "name": "stdout",
     "output_type": "stream",
     "text": [
      "['Amazonas', 'Áncash', 'Apurímac', 'Arequipa', 'Ayacucho', 'Cajamarca', 'Cusco', 'Huancavelica', 'Huánuco', 'Ica', 'Junín', 'La Libertad', 'Lambayeque', 'Lima', 'Loreto', 'Madre de Dios', 'Moquegua', 'Pasco', 'Piura', 'Puno', 'San Martín', 'Tacna', 'Tumbes', 'Ucayali']\n",
      "========\n",
      "Pucallpa\n",
      "Tumbes\n",
      "['Chachapoyas', 'Huaraz', 'Abancay', 'Arequipa', 'Ayacucho', 'Cajamarca', 'Cusco', 'Huancavelica', 'Huánuco', 'Ica', 'Huancayo', 'Trujillo', 'Chiclayo', 'Lima', 'Iquitos', 'Puerto Maldonado', 'Moquegua', 'Cerro de Pasco', 'Piura', 'Puno', 'Moyobamba', 'Tacna', 'Tumbes', 'Pucallpa']\n"
     ]
    }
   ],
   "source": [
    "\n",
    "capitales = {\"Amazonas\": \"Chachapoyas\", \n",
    "             \"Áncash\": \"Huaraz\",\n",
    "             \"Apurímac\": \"Abancay\",\n",
    "             \"Arequipa\": \"Arequipa\",\n",
    "             \"Ayacucho\": \"Ayacucho\",\n",
    "             \"Cajamarca\": \"Cajamarca\",\n",
    "             \"Cusco\": \"Cusco\",\n",
    "             \"Huancavelica\": \"Huancavelica\",\n",
    "             \"Huánuco\": \"Huánuco\",\n",
    "             \"Ica\": \"Ica\",\n",
    "             \"Junín\": \"Huancayo\",\n",
    "             \"La Libertad\": \"Trujillo\",\n",
    "             \"Lambayeque\": \"Chiclayo\",\n",
    "             \"Lima\": \"Lima\",\n",
    "             \"Loreto\": \"Iquitos\",\n",
    "             \"Madre de Dios\": \"Puerto Maldonado\",\n",
    "             \"Moquegua\": \"Moquegua\",\n",
    "             \"Pasco\": \"Cerro de Pasco\",\n",
    "             \"Piura\": \"Piura\",\n",
    "             \"Puno\": \"Puno\",\n",
    "             \"San Martín\": \"Moyobamba\",\n",
    "             \"Tacna\": \"Tacna\",\n",
    "             \"Tumbes\": \"Tumbes\",\n",
    "             \"Ucayali\": \"Pucallpa\"}\n",
    "dep = list(capitales.keys())\n",
    "print(dep)\n",
    "print(\"========\")\n",
    "a=capitales.get(\"Ucayali\")\n",
    "print(a)\n",
    "a=capitales.get(\"Tumbes\")\n",
    "print(a)\n",
    "print(list(capitales.values()))"
   ]
  },
  {
   "cell_type": "code",
   "execution_count": 121,
   "metadata": {},
   "outputs": [
    {
     "name": "stdout",
     "output_type": "stream",
     "text": [
      "['Ica', 'Loreto', 'Lima', 'Ucayali', 'Pasco', 'Huancavelica', 'Moquegua', 'Lambayeque', 'Tumbes', 'Ayacucho', 'Madre de Dios', 'Amazonas', 'Áncash', 'Junín', 'Huánuco', 'Cusco', 'La Libertad', 'Arequipa', 'Puno', 'Apurímac', 'Tacna', 'San Martín', 'Cajamarca', 'Piura']\n",
      "===\n",
      "Ica\n",
      "====\n",
      "['Chachapoyas', 'Huaraz', 'Abancay', 'Arequipa', 'Ayacucho', 'Cajamarca', 'Cusco', 'Huancavelica', 'Huánuco', 'Ica', 'Huancayo', 'Trujillo', 'Chiclayo', 'Lima', 'Iquitos', 'Puerto Maldonado', 'Moquegua', 'Cerro de Pasco', 'Piura', 'Puno', 'Moyobamba', 'Tacna', 'Tumbes', 'Pucallpa']\n",
      "=====HHH\n",
      "9\n",
      "====\n",
      "['Chachapoyas', 'Huaraz', 'Abancay', 'Arequipa', 'Ayacucho', 'Cajamarca', 'Cusco', 'Huancavelica', 'Huánuco', 'Huancayo', 'Trujillo', 'Chiclayo', 'Lima', 'Iquitos', 'Puerto Maldonado', 'Moquegua', 'Cerro de Pasco', 'Piura', 'Puno', 'Moyobamba', 'Tacna', 'Tumbes', 'Pucallpa']\n"
     ]
    }
   ],
   "source": [
    "random.shuffle(dep) #Desordenar la lista\n",
    "print(dep)\n",
    "correct=capitales.get(dep[0])\n",
    "print(\"===\")\n",
    "print(correct)\n",
    "wrong = list(capitales.values())\n",
    "print(\"====\")\n",
    "print(wrong)\n",
    "print(\"=====HHH\")\n",
    "m=wrong.index(correct)\n",
    "print(m)\n",
    "del wrong[wrong.index(correct)] #Elimina correct de wron\n",
    "\n",
    "print(\"====\")\n",
    "print(wrong)"
   ]
  },
  {
   "cell_type": "code",
   "execution_count": 139,
   "metadata": {},
   "outputs": [
    {
     "name": "stdout",
     "output_type": "stream",
     "text": [
      "['Tacna', 'Lima', 'Puerto Maldonado']\n",
      "['Tacna', 'Lima', 'Puerto Maldonado', 'Ica']\n",
      "A\n"
     ]
    }
   ],
   "source": [
    "wrong = random.sample(wrong,3)\n",
    "print(wrong)\n",
    "answeropt = wrong + [correct] #Sumas correct a la lista wrong\n",
    "print(answeropt)\n",
    "random.shuffle(answeropt)\n",
    "print(f\"{'ABCD'[answeropt.index(correct)]}\")"
   ]
  },
  {
   "cell_type": "code",
   "execution_count": 93,
   "metadata": {},
   "outputs": [
    {
     "name": "stdout",
     "output_type": "stream",
     "text": [
      "Nombre:\n",
      "\n",
      "Fecha:\n",
      "\n",
      "Periodo:\n",
      "\n",
      "\n",
      "\th. 1\n",
      "\n",
      "\to. 2\n",
      "\n",
      "\tl. 3\n",
      "\n",
      "\ta. 4\n",
      "\n",
      "hola\n",
      "como\testas\n"
     ]
    }
   ],
   "source": [
    "print(\"Nombre:\\n\\nFecha:\\n\\nPeriodo:\\n\\n\")\n",
    "for letter, answer in zip(\"hola\", [1,2,3,4]):\n",
    "    print(f\"\\t{letter}. {answer}\\n\")\n",
    "print(\"hola\\ncomo\\testas\")"
   ]
  },
  {
   "cell_type": "code",
   "execution_count": 122,
   "metadata": {},
   "outputs": [
    {
     "name": "stdout",
     "output_type": "stream",
     "text": [
      "127.0.0.1\n",
      "5432\n",
      "root\n",
      "nomina\n",
      "El comando PostgreSQL es: $ psql -h 127.0.0.1 -p 5432 -U root -d nomina\n"
     ]
    }
   ],
   "source": [
    "db_connection = [\"127.0.0.1\",\"5432\",\"root\",\"nomina\"]\n",
    "for parametro in db_connection:\n",
    "    print (parametro)\n",
    "else:\n",
    "     print (\"El comando PostgreSQL es: $ psql -h {server} -p {port} -U {user} -d {db_name}\".format(server=db_connection[0], port=db_connection[1],user=db_connection[2], db_name=db_connection[3]))\n",
    "        "
   ]
  },
  {
   "cell_type": "code",
   "execution_count": 143,
   "metadata": {},
   "outputs": [
    {
     "name": "stdout",
     "output_type": "stream",
     "text": [
      "E\n"
     ]
    }
   ],
   "source": [
    "print(f\"{'AEA'[1]}\")"
   ]
  },
  {
   "cell_type": "code",
   "execution_count": 189,
   "metadata": {},
   "outputs": [
    {
     "name": "stdout",
     "output_type": "stream",
     "text": [
      "D:\\CICLO_2020_2\\PROGRA AVANZADA\\Semana2\\test\n"
     ]
    }
   ],
   "source": [
    "print(os.getcwd())"
   ]
  },
  {
   "cell_type": "code",
   "execution_count": 190,
   "metadata": {},
   "outputs": [
    {
     "name": "stdout",
     "output_type": "stream",
     "text": [
      "[1, 2, 3, 4, 5]\n"
     ]
    }
   ],
   "source": [
    "import shelve\n",
    "\n",
    "# Guardando datos en un archivo shelve\n",
    "datos = [1, 2, 3, 4, 5]\n",
    "\n",
    "with shelve.open('mis_datos') as shelve_file:\n",
    "    shelve_file['datos'] = datos\n",
    "print(datos)"
   ]
  },
  {
   "cell_type": "code",
   "execution_count": 218,
   "metadata": {},
   "outputs": [
    {
     "name": "stdout",
     "output_type": "stream",
     "text": [
      "D:\\CICLO_2020_2\\PROGRA AVANZADA\\Semana2\\test\n"
     ]
    }
   ],
   "source": [
    "with shelve.open('mis_datos') as shelve_file:\n",
    "    datos = shelve_file['datos']\n",
    "\n",
    "os.chdir(f\"{PATH}\\\\test\")\n",
    "print(os.getcwd())\n"
   ]
  },
  {
   "cell_type": "code",
   "execution_count": 207,
   "metadata": {},
   "outputs": [
    {
     "name": "stdout",
     "output_type": "stream",
     "text": [
      "['6/6/2020 07:20', 'Elvio Lado']\n"
     ]
    }
   ],
   "source": [
    "empleados = [[\"6/6/2020 07:20\", \"Elvio Lado\"], \n",
    "             [\"6/6/2020 07:22\", \"Elmer Curio\"], \n",
    "             [\"6/6/2020 07:30\", \"Elba Lazo\"], \n",
    "             [\"6/6/2020 07:36\", \"Susana Oria\"], \n",
    "             [\"6/6/2020 07:49\", \"Armando Paredes\"]]\n",
    "print(empleados[0])"
   ]
  },
  {
   "cell_type": "code",
   "execution_count": 3,
   "metadata": {},
   "outputs": [
    {
     "ename": "NameError",
     "evalue": "name 'empleados' is not defined",
     "output_type": "error",
     "traceback": [
      "\u001b[1;31m---------------------------------------------------------------------------\u001b[0m",
      "\u001b[1;31mNameError\u001b[0m                                 Traceback (most recent call last)",
      "\u001b[1;32m<ipython-input-3-970972694a8b>\u001b[0m in \u001b[0;36m<module>\u001b[1;34m\u001b[0m\n\u001b[0;32m      5\u001b[0m     \u001b[0mwriter\u001b[0m\u001b[1;33m.\u001b[0m\u001b[0mwriterow\u001b[0m\u001b[1;33m(\u001b[0m\u001b[1;33m[\u001b[0m\u001b[1;34m\"HORA\"\u001b[0m\u001b[1;33m,\u001b[0m \u001b[1;34m\"EMPLEADO\"\u001b[0m\u001b[1;33m]\u001b[0m\u001b[1;33m)\u001b[0m\u001b[1;33m\u001b[0m\u001b[1;33m\u001b[0m\u001b[0m\n\u001b[0;32m      6\u001b[0m \u001b[1;33m\u001b[0m\u001b[0m\n\u001b[1;32m----> 7\u001b[1;33m     \u001b[1;32mfor\u001b[0m \u001b[0mregistro\u001b[0m \u001b[1;32min\u001b[0m \u001b[0mempleados\u001b[0m\u001b[1;33m:\u001b[0m\u001b[1;33m\u001b[0m\u001b[1;33m\u001b[0m\u001b[0m\n\u001b[0m\u001b[0;32m      8\u001b[0m         \u001b[0mwriter\u001b[0m\u001b[1;33m.\u001b[0m\u001b[0mwriterow\u001b[0m\u001b[1;33m(\u001b[0m\u001b[0mregistro\u001b[0m\u001b[1;33m)\u001b[0m\u001b[1;33m\u001b[0m\u001b[1;33m\u001b[0m\u001b[0m\n\u001b[0;32m      9\u001b[0m \u001b[1;33m\u001b[0m\u001b[0m\n",
      "\u001b[1;31mNameError\u001b[0m: name 'empleados' is not defined"
     ]
    }
   ],
   "source": [
    "import csv\n",
    "\n",
    "with open(\"entrada.csv\", mode='w', newline='') as csv_file:\n",
    "    writer = csv.writer(csv_file, delimiter=';') #Writer será un puntero el \";\" será el limitador\n",
    "    writer.writerow([\"HORA\", \"EMPLEADO\"])\n",
    "    \n",
    "    for registro in empleados:\n",
    "        writer.writerow(registro)\n",
    "        \n",
    "#print(\"Archivo generado:\", os.path.abspath(\"text1.txt\"))\n",
    "print(\"Archivo generado:\", os.path.abspath(\"entrada.csv\"))\n",
    "\n",
    "with open(\"entrada.csv\") as file:\n",
    "    reader = csv.reader(file, delimiter = \";\")\n",
    "    next(reader) #Eliminas el encabezado\n",
    "    \n",
    "    for line in reader :\n",
    "        print(f\"Nombre:{line[1]:20} Hora de ingreso: {line[0]}\") #line[columna de excel: espacio]\n",
    "        "
   ]
  },
  {
   "cell_type": "code",
   "execution_count": 7,
   "metadata": {},
   "outputs": [
    {
     "name": "stdout",
     "output_type": "stream",
     "text": [
      "Hoy\n",
      "Maikol\n"
     ]
    }
   ],
   "source": [
    "A = {\"Fecha\": \"Hoy\", \"nombre\":\"Maikol\", \"Apellido\":\"Sanchez\"}\n",
    "print(A[\"Fecha\"])\n",
    "print(A[\"nombre\"])"
   ]
  },
  {
   "cell_type": "code",
   "execution_count": 12,
   "metadata": {},
   "outputs": [],
   "source": [
    "import json\n",
    "import requests\n",
    "\n",
    "r = requests.get('https://deperu.com/api/rest/cotizaciondolar.json')\n",
    "#r.json()[\"description\"]\n",
    "info = r.json()\n",
    "with open(\"cotizacion.json\", mode = 'w') as file_archi:\n",
    "    json.dump(info, file_archi)\n",
    "    "
   ]
  },
  {
   "cell_type": "code",
   "execution_count": 19,
   "metadata": {},
   "outputs": [],
   "source": [
    "r = requests.get(' https://deperu.com/api/rest/temperaturaAhora.json')\n",
    "#r.json()[\"description\"]\n",
    "info = r.json()\n",
    "with open(\"temperatura.json\", mode = 'w') as file_archi:\n",
    "    json.dump(info, file_archi)\n"
   ]
  },
  {
   "cell_type": "code",
   "execution_count": 21,
   "metadata": {},
   "outputs": [],
   "source": [
    "r = requests.get('https://deperu.com/api/rest/noticias.json')\n",
    "#r.json()[\"description\"]\n",
    "info = r.json()\n",
    "with open(\"noticias_2.json\", mode = 'w') as file_archi:\n",
    "    json.dump(info, file_archi)\n"
   ]
  }
 ],
 "metadata": {
  "kernelspec": {
   "display_name": "Python 3",
   "language": "python",
   "name": "python3"
  },
  "language_info": {
   "codemirror_mode": {
    "name": "ipython",
    "version": 3
   },
   "file_extension": ".py",
   "mimetype": "text/x-python",
   "name": "python",
   "nbconvert_exporter": "python",
   "pygments_lexer": "ipython3",
   "version": "3.6.8"
  }
 },
 "nbformat": 4,
 "nbformat_minor": 2
}
