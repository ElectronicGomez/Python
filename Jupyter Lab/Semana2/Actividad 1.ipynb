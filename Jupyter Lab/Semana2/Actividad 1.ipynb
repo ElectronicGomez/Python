{
 "cells": [
  {
   "cell_type": "markdown",
   "metadata": {},
   "source": [
    "# Actividad 1\n",
    "Escribir un programa que genere un archivo de texto llamado `Today.txt` y lo guarde en el Escritorio (Desktop) de su computadora, que contenga la siguiente información (los datos son de prueba):"
   ]
  },
  {
   "cell_type": "markdown",
   "metadata": {},
   "source": [
    "    Lima, 28 de Agosto de 2020\n",
    "    \n",
    "    Buenos dias:\n",
    "    \n",
    "    Este es el resumen del dia:\n",
    "    \n",
    "    - Temperatura: 16°C\n",
    "    \n",
    "    - Tipo de cambio: \n",
    "        * Venta: 3.56\n",
    "        * Compra: 3.65\n",
    "        \n",
    "    - Noticias mas recientes:\n",
    "        * 05:31:16  Argentina llega al final de la reestructuración de su deuda\n",
    "        * 22:13:14 Trump promete \"aplastar\" la covid-19 con una vacuna \"este año\"\n",
    "        "
   ]
  },
  {
   "cell_type": "markdown",
   "metadata": {},
   "source": [
    "---\n",
    "Requisitos:\n",
    "    \n",
    "1. La fecha debe de ser extraida de la hora del sistema o de un API\n",
    "2. El saludo (Buenos dias | Buenas tardes | Buenas noches) dependerá de la hora de ejecución\n",
    "3. La información de temperatura, tipo de cambio y noticias se obtendrá de las siguientes fuentes:\n",
    "\n",
    "        https://deperu.com/api/rest/noticias.json\n",
    "        https://deperu.com/api/rest/cotizaciondolar.json\n",
    "        https://deperu.com/api/rest/temperaturaAhora.json\n",
    "        https://deperu.com/api/rest/fechaHoyDia.json\n",
    "\n",
    "\n",
    "4. Muestre las 7 noticias más recientes."
   ]
  },
  {
   "cell_type": "code",
   "execution_count": null,
   "metadata": {},
   "outputs": [],
   "source": [
    "%%file script1.py\n"
   ]
  },
  {
   "cell_type": "code",
   "execution_count": null,
   "metadata": {},
   "outputs": [],
   "source": []
  }
 ],
 "metadata": {
  "kernelspec": {
   "display_name": "Python 3",
   "language": "python",
   "name": "python3"
  },
  "language_info": {
   "codemirror_mode": {
    "name": "ipython",
    "version": 3
   },
   "file_extension": ".py",
   "mimetype": "text/x-python",
   "name": "python",
   "nbconvert_exporter": "python",
   "pygments_lexer": "ipython3",
   "version": "3.6.8"
  }
 },
 "nbformat": 4,
 "nbformat_minor": 4
}
