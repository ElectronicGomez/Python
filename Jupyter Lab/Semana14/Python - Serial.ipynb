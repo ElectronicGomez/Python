{
 "cells": [
  {
   "cell_type": "markdown",
   "metadata": {},
   "source": [
    "# Comunicacion de datos\n",
    "\n",
    "**NOTA: El ambiente de Jupyter Notebook no es el espacio ideal de programación donde codificar programas de comunicación. Esta guía es más un documento de referencia con los códigos a ser probados en un ambiente como Spyder o la consola de comandos.**\n",
    "\n",
    "Se puede establecer comunicación de datos entre perifericos utilizando diferentes medios y tecnologías. Python tiene diferentes librerias para poder intercambiar datos con otros elementos, utilizando dos tecnologías de transmisión de datos:\n",
    "\n",
    "* Serial (COM, UART, USB)\n",
    "* Sockets (Ethernet, WiFi)"
   ]
  },
  {
   "cell_type": "markdown",
   "metadata": {},
   "source": [
    "## Serial\n",
    "La coumunicación serial de datos (COM) utiliza un modo de transmisión bit a bit de forma asíncrona, full-duplex. Es muy utilizada en entornos industriales (bajo estandar RS-232 o RS-485) y en camaras y dispositivos externos de aplicaciones especiales. También como puertos de servicio y monitoreo en equipos de comunicaciones.\n",
    "\n",
    "![](https://www.technologyuk.net/telecommunications/communication-technologies/images/rs-232_03.gif)\n",
    "\n",
    "Los equipos que se conectan por medio de una interface serial requieren puertos fisicos que son conectados por medio de un cable y equipos de interconexión. Originalmente, utilizaban la red telefonica para establecer comunicación entre nodos remotos, por lo que la comunicación requerian de MODEMs (MOdulator/DEModulator) en ambos extremos. Si se unes dos puertos fisicos por un cable, suprimiendo los MODEMs, se tendrá un NULL MODEM.\n",
    "\n",
    "![](https://panamahitek.com/wp-content/uploads/2016/01/device5.gif)\n",
    "\n",
    "Una forma de poder simular una comunicación entre equipos utilizando interfases seriales es estableciendo una infraestructura virtual, en donde se tendrán dos puertos seriales conectados por un cable NULL MODEM a los que se podrá acceder para intercambiar información. Se puede utilizar un software para habilitar puertos seriales virtuales. En Windows, se puede utilizar la aplicacion [Free Virtual Serial Ports](https://freevirtualserialports.com/) para simular la infraestructura.\n",
    "\n",
    "![](https://cartoonheavy.weebly.com/uploads/1/2/3/7/123781900/771890375.png)\n",
    "\n",
    "En Python se necesita instalar una libreria que pueda gestionar el protocolo serial: `PySerial`. La [documentación de PySerial](https://pythonhosted.org/pyserial/) es breve e indica que un objeto Serial tiene los siguientes metodos básicos:\n",
    "\n",
    "* open()\n",
    "* close()\n",
    "* readline()\n",
    "* read(buffer)\n",
    "* write(data)\n",
    "\n",
    "Adicionalmente tiene los getters:\n",
    "\n",
    "* in_waiting\n",
    "* is_open\n",
    "\n",
    "La libreria `PySerial` incluye un monitor serial para poder realizar pruebas, disponible desde terminal con la instrucción `python -m serial.tools.miniterm <port name>`, por ejemplo:\n",
    "\n",
    "    python -m serial.tools.miniterm COM2"
   ]
  },
  {
   "cell_type": "markdown",
   "metadata": {},
   "source": [
    "## Instalacion (pip / conda)\n",
    "    python -m pip install pyserial\n",
    "    conda install -c conda-forge pyserial\n",
    "    \n",
    "    The following packages will be downloaded:\n",
    "\n",
    "    package                    |            build\n",
    "    ---------------------------|-----------------\n",
    "    pyserial-3.4               |             py_2          61 KB  conda-forge\n",
    "    ------------------------------------------------------------\n",
    "                                           Total:          61 KB\n"
   ]
  },
  {
   "cell_type": "code",
   "execution_count": 1,
   "metadata": {},
   "outputs": [],
   "source": [
    "# Las siguientes pruebas se basan en la habilitación de una infraestructura serial virtual\n",
    "# utilizando un puerto serial espcificado en PORT. Debe de modificar esta variable para\n",
    "# que se ajuste a su ambiente virtual (Crear un Bridge COM - COM)\n",
    "import serial.tools.list_ports\n",
    "\n",
    "ports = serial.tools.list_ports.comports()\n",
    "\n",
    "for port in ports:\n",
    "    print(port)"
   ]
  },
  {
   "cell_type": "markdown",
   "metadata": {},
   "source": [
    "## Recepcion de datos (El script recibe datos de un dispositivo conectado al COM)"
   ]
  },
  {
   "cell_type": "code",
   "execution_count": 2,
   "metadata": {},
   "outputs": [
    {
     "name": "stdout",
     "output_type": "stream",
     "text": [
      "Estableciendo comunicación con puerto serial COM1...\n",
      "Puerto COM1 no disponible\n"
     ]
    }
   ],
   "source": [
    "# Asi tambien, debe de instalar pip install PySerial\n",
    "import serial\n",
    "\n",
    "PORT = \"COM1\"\n",
    "\n",
    "try:\n",
    "    print(f\"Estableciendo comunicación con puerto serial {PORT}...\")\n",
    "    ser = serial.Serial(port=PORT, \n",
    "                        baudrate=9600, \n",
    "                        bytesize=8, \n",
    "                        timeout=2, \n",
    "                        stopbits=serial.STOPBITS_ONE)\n",
    "    print(\"Conexión extablecida\")\n",
    "\n",
    "    while True:\n",
    "        try:\n",
    "            # Si hay datos en el butffer de entrada... \n",
    "            if ser.in_waiting > 0:\n",
    "                # Se leen los datos y se espera el caracter EOL\n",
    "                data = ser.readline()\n",
    "                # Los datos recibidos son bytes. Para verlos es necesarios decodificarlos\n",
    "                string = data.decode('utf-8')\n",
    "                print(f\"Rx: {string}\")\n",
    "        # Se calcela el programa con CTRL-C desde el terminal\n",
    "        except KeyboardInterrupt:\n",
    "            print(\"Conexion cerrada\")\n",
    "            ser.close()\n",
    "            break\n",
    "except:\n",
    "    print(f\"Puerto {PORT} no disponible\")\n"
   ]
  },
  {
   "cell_type": "code",
   "execution_count": null,
   "metadata": {},
   "outputs": [],
   "source": [
    "# Cierra el puerto en caso se quede abierto en las pruebas\n",
    "ser.close()"
   ]
  },
  {
   "cell_type": "markdown",
   "metadata": {},
   "source": [
    "## Envío de datos (El script envia datos al dispositivo conectado al COM)"
   ]
  },
  {
   "cell_type": "code",
   "execution_count": 5,
   "metadata": {},
   "outputs": [
    {
     "name": "stdout",
     "output_type": "stream",
     "text": [
      "Estableciendo comunicación con puerto serial COM1...\n",
      "Puerto COM1 no disponible\n"
     ]
    }
   ],
   "source": [
    "# La siguiente prueba se basa en la habilitación de una infraestructura serial virtual\n",
    "# utilizando un puerto serial espcificado en PORT. Debe de modificar esta variable para\n",
    "# que se ajuste a su ambiente virtual (Crear un Bridge COM - COM)\n",
    "\n",
    "# Asi tambien, debe de instalar pip install PySerial\n",
    "import serial\n",
    "\n",
    "PORT = \"COM1\"\n",
    "\n",
    "try:\n",
    "    print(f\"Estableciendo comunicación con puerto serial {PORT}...\")\n",
    "    ser = serial.Serial(port=PORT, \n",
    "                        baudrate=9600, \n",
    "                        bytesize=8, \n",
    "                        timeout=2, \n",
    "                        stopbits=serial.STOPBITS_ONE)\n",
    "    print(\"Conexión extablecida\")\n",
    "\n",
    "    while True:\n",
    "        # Se ingresa el texto a enviar por el puerto\n",
    "        string = input(\"Datos a enviar:\")\n",
    "        # Se define una palabra para cerrar el puerto\n",
    "        if string == \"END\":\n",
    "            break\n",
    "        else:\n",
    "            # Se codifica como bytes el texto a enviar y se envia por el puerto\n",
    "            data = string.encode(\"utf-8\")\n",
    "            ser.write(data)\n",
    "    \n",
    "    print(\"Conexion cerrada\")\n",
    "    ser.close()\n",
    "except:\n",
    "    print(f\"Puerto {PORT} no disponible\")\n"
   ]
  },
  {
   "cell_type": "code",
   "execution_count": 6,
   "metadata": {},
   "outputs": [
    {
     "ename": "NameError",
     "evalue": "name 'ser' is not defined",
     "output_type": "error",
     "traceback": [
      "\u001b[1;31m---------------------------------------------------------------------------\u001b[0m",
      "\u001b[1;31mNameError\u001b[0m                                 Traceback (most recent call last)",
      "\u001b[1;32m<ipython-input-6-f1ecd032587b>\u001b[0m in \u001b[0;36m<module>\u001b[1;34m\u001b[0m\n\u001b[0;32m      1\u001b[0m \u001b[1;31m# Cierra el puerto en caso se quede abierto en las pruebas\u001b[0m\u001b[1;33m\u001b[0m\u001b[1;33m\u001b[0m\u001b[1;33m\u001b[0m\u001b[0m\n\u001b[1;32m----> 2\u001b[1;33m \u001b[0mser\u001b[0m\u001b[1;33m.\u001b[0m\u001b[0mclose\u001b[0m\u001b[1;33m(\u001b[0m\u001b[1;33m)\u001b[0m\u001b[1;33m\u001b[0m\u001b[1;33m\u001b[0m\u001b[0m\n\u001b[0m",
      "\u001b[1;31mNameError\u001b[0m: name 'ser' is not defined"
     ]
    }
   ],
   "source": [
    "# Cierra el puerto en caso se quede abierto en las pruebas\n",
    "ser.close()"
   ]
  },
  {
   "cell_type": "markdown",
   "metadata": {},
   "source": [
    "## Projecto Final - Parte 1\n",
    "Escriba un programa en tkinter de Chat Serial. Este debe de permitir establecer comunicación entre dos equipos utilizando un NULL MODEM, o con dos aplicaciones ejeuctadas de forma simultanea y conectadas a un Serial Bridge habilitado con elemulador de puerto serial Virtual Serial Ports.\n",
    "\n",
    "### CONDICIONES DE OPERACION:\n",
    "* Al escribir o recibir se debe de mostar justificados a la izquierda con el formato ajustado al ancho de la ventana:\n",
    "    \n",
    "        {PORT}: {MENSAJE}\n",
    "      \n",
    "* Adicionalmente, los mensaje enviados y recibidos deben de tener colores diferentes.\n",
    "   \n",
    "* La barra de estatus debe de mostrar los siguientes mensajes:\n",
    "    \n",
    "        \"Conectando al {PORT} a 9600\" (Mensaje al establecer la conexion)\n",
    "        \"Error al conectarse a {PORT}\" (Mensaje en caso de error con el COM)\n",
    "        \"Recibiendo mensaje...\" (1 seg)\n",
    "        \"Enviando mensaje...\" (1 seg)\n",
    "   \n",
    "* Si se realiza la conexion debe de bloquearse el Combobox y el boton de \"Conectar\" debe pasar a mostrar \"Desconectar\" y en caso se le haga click liberará la conexión y los controles retornaran a sus estado normal.\n",
    "* Si la App esta conectada al puerto serial, los controles del frm3 deben de habilitarse. De lo contrario, estarán deshabilitados.\n",
    "* El Combobox debe de mostrar los puertos COM instalados en el sistema\n",
    "\n",
    "Se muestra un prototipo de aplicación que deberá completar con todas las funcionalidades requeridas."
   ]
  },
  {
   "cell_type": "code",
   "execution_count": null,
   "metadata": {},
   "outputs": [],
   "source": [
    "import tkinter as tk\n",
    "import tkinter.ttk as ttk\n",
    "from tkinter.scrolledtext import ScrolledText\n",
    "import serial\n",
    "\n",
    "class SerialChat:\n",
    "    def __init__(self, master):\n",
    "        self.master = master\n",
    "        self.PORT = \"COM1\"\n",
    "        \n",
    "        self.master.title(f\"Serial Chat\")\n",
    "        self.master.geometry(\"+50+50\")\n",
    "        self.master.resizable(0, 0)\n",
    "        \n",
    "        # ---------------------- SERIAL PORT --------------------------\n",
    "        self.serial = None\n",
    "        \n",
    "        # ------------------------ FRAMES -----------------------------\n",
    "        frm1 = tk.LabelFrame(self.master, text=\"Conexion\")\n",
    "        frm2 = tk.Frame(self.master)\n",
    "        frm3 = tk.LabelFrame(self.master, text=\"Enviar mensaje\")\n",
    "        frm1.pack(padx=5, pady=5, anchor=tk.W)\n",
    "        frm2.pack(padx=5, pady=5, fill='y', expand=True)\n",
    "        frm3.pack(padx=5, pady=5)\n",
    "        \n",
    "        # ------------------------ FRAME 1 ----------------------------\n",
    "        self.lblCOM = tk.Label(frm1, text=\"Puerto COM:\") \n",
    "        self.cboPort = ttk.Combobox(frm1, values=['COM1', 'COM2'])\n",
    "        self.lblSpace = tk.Label(frm1, text=\"\")\n",
    "        self.btnConnect = ttk.Button(frm1, text=\"Conectar\", width=16)\n",
    "        self.lblCOM.grid(row=0, column=0, padx=5, pady=5)\n",
    "        self.cboPort.grid(row=0, column=1, padx=5, pady=5)\n",
    "        self.lblSpace.grid(row=0,column=2, padx=30, pady=5)\n",
    "        self.btnConnect.grid(row=0, column=3, padx=5, pady=5)\n",
    "        \n",
    "        # ------------------------ FRAME 2 ---------------------------\n",
    "        self.txtChat = ScrolledText(frm2, height=25, width=50, wrap=tk.WORD, state='disable')\n",
    "        self.txtChat.grid(row=0, column=0, columnspan=3, padx=5, pady=5)\n",
    "                \n",
    "        # ------------------------ FRAME 3 --------------------------\n",
    "        self.lblText = tk.Label(frm3, text=\"Texto:\")\n",
    "        self.inText = tk.Entry(frm3, width=45, state='disable')\n",
    "        self.btnSend = ttk.Button(frm3, text=\"Enviar\", width=12, state='disable')\n",
    "        self.lblText.grid(row=0, column=0, padx=5, pady=5)\n",
    "        self.inText.grid(row=0, column=1, padx=5, pady=5)\n",
    "        self.btnSend.grid(row=0, column=2, padx=5, pady=5)\n",
    "               \n",
    "        # --------------------------- StatusBar -----------------------\n",
    "        self.statusBar = tk.Label(self.master, bd=1, relief=tk.SUNKEN, anchor=tk.W)\n",
    "        self.statusBar.pack(side=tk.BOTTOM, fill=tk.X)\n",
    "            \n",
    "        # ------------- Control del boton \"X\" de la ventana -----------\n",
    "        self.master.protocol(\"WM_DELETE_WINDOW\", self.cerrar_puertos)\n",
    "    \n",
    "    \n",
    "    def cerrar_puertos(self):\n",
    "        # Se cierran los puertos COM y la ventana de tkinter\n",
    "        try:\n",
    "            pass\n",
    "            #self.serial.close()\n",
    "        except:\n",
    "            pass\n",
    "\n",
    "        self.master.destroy()\n",
    "    \n",
    "    \n",
    "root = tk.Tk()\n",
    "app = SerialChat(root)\n",
    "root.mainloop()"
   ]
  },
  {
   "cell_type": "markdown",
   "metadata": {},
   "source": [
    "### Nota: threading\n",
    "`threading` hace referencia a la capacidad de poder ejecutar códigos de forma concurrente, esto es de forma simultánea (pero no al mismo tiempo). De esta forma, podemos tener una operacion corriendo en paralelo a alguna otra.\n",
    "\n",
    "Advertencia: Dependiendo del proceso que realice una función en un hilo, es posible que tenga problemas con la librería tkinter. Esto, sobretodo, si es que la función modifica los widgets del GUI."
   ]
  },
  {
   "cell_type": "code",
   "execution_count": 23,
   "metadata": {},
   "outputs": [
    {
     "name": "stdout",
     "output_type": "stream",
     "text": [
      "*+"
     ]
    }
   ],
   "source": [
    "import threading\n",
    "import time\n",
    "\n",
    "def func1(delay):\n",
    "    for _ in range(25):\n",
    "        print(\"*\", end='')\n",
    "        time.sleep(delay)\n",
    "\n",
    "def func2(delay):\n",
    "    for _ in range(25):\n",
    "        print(\"+\", end='')\n",
    "        time.sleep(delay)      \n",
    "        \n",
    "# El keyword daemon=True permite eliminar el thread si es que el programa principal se cierra.        \n",
    "th1 = threading.Thread(target=func1, args=(0.25,), daemon=True)\n",
    "th1.start()\n",
    "\n",
    "th2 = threading.Thread(target=func2, args=(0.25,), daemon=True)\n",
    "th2.start()"
   ]
  },
  {
   "cell_type": "markdown",
   "metadata": {},
   "source": [
    "### Nota: ScrolledText\n",
    "`ScrolledText` es un widget especial de tkinter (disponible en el módulo `tkinter.scrolledtext`) que instancia un objeto gráfico para en ingreso de texto que ya incluye una barra de arrastre (scrollbar) lateral y controla los saltos de línea de forma automática (con el parametro `warp=tk.WORD`). Es una forma más sencilla de tener un widget `Text` con un  `Scrollbar` combinado con control de formato y de acciones como Copai, Pegar y Cortar.\n",
    "\n",
    "Muchos métodos y propiedades estan disponibles en este widget. Puede encontrar [algunos codigos de muestra aqui](https://www.geeksforgeeks.org/python-tkinter-scrolledtext-widget/)."
   ]
  },
  {
   "cell_type": "code",
   "execution_count": 24,
   "metadata": {},
   "outputs": [],
   "source": [
    "import tkinter as tk\n",
    "from tkinter.scrolledtext import ScrolledText\n",
    "\n",
    "mensaje1 = \"Este es un mensaje de prueba\"\n",
    "mensaje2 = \"Este mensaje esta en la segunda linea\"\n",
    "mensaje3 = \"Esta linea sera de color rojo\"\n",
    "mensaje4 = \"Esta linea sera de color verde\"\n",
    "\n",
    "root = tk.Tk()\n",
    "\n",
    "text_area = ScrolledText(root, state='normal')\n",
    "text_area.pack()\n",
    "\n",
    "text_area.insert(tk.INSERT, mensaje1 + '\\n')\n",
    "text_area.insert(tk.INSERT, mensaje2 + '\\n')\n",
    "text_area.insert(tk.INSERT, mensaje3 + '\\n', 'rojo')  # tag: rojo\n",
    "text_area.insert(tk.INSERT, mensaje4 + '\\n', 'verde')  # tag: rojo\n",
    "\n",
    "# EL color del texto esta asociado al tag y no al orden de ejecucion de la instruccion\n",
    "text_area.tag_config('verde', foreground='green')\n",
    "text_area.tag_config('rojo', foreground='red')\n",
    "\n",
    "root.mainloop()"
   ]
  },
  {
   "cell_type": "code",
   "execution_count": null,
   "metadata": {},
   "outputs": [],
   "source": []
  }
 ],
 "metadata": {
  "kernelspec": {
   "display_name": "Python 3",
   "language": "python",
   "name": "python3"
  },
  "language_info": {
   "codemirror_mode": {
    "name": "ipython",
    "version": 3
   },
   "file_extension": ".py",
   "mimetype": "text/x-python",
   "name": "python",
   "nbconvert_exporter": "python",
   "pygments_lexer": "ipython3",
   "version": "3.6.8"
  }
 },
 "nbformat": 4,
 "nbformat_minor": 4
}
