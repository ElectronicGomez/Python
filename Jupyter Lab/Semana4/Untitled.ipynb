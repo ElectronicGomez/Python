{
 "cells": [
  {
   "cell_type": "code",
   "execution_count": 8,
   "metadata": {},
   "outputs": [],
   "source": [
    "import tkinter as tk\n",
    "import tkinter.ttk as ttk\n",
    "\n",
    "class App:\n",
    "    def __init__(self, master):\n",
    "        self.master = master\n",
    "        self.master.title(\"Código de colores - Bandas\")\n",
    "        \n",
    "        Colores = ['Negro', 'Marrón', 'Rojo', 'Naranja', 'Amarillo', 'Verde', 'Azul', 'Violeta', 'Gris', 'Blanco']\n",
    "    \n",
    "        frm = tk.Frame(self.master)\n",
    "        frm.pack(padx=10, pady=10)\n",
    "        \n",
    "        frm1 = tk.Frame(frm)\n",
    "        frm2 = tk.Frame(frm)\n",
    "        \n",
    "        frm1.pack(padx=10, pady=10)\n",
    "        frm2.pack(padx=10, pady=10)\n",
    "        \n",
    "        frmBanda = tk.LabelFrame(frm1, text=\"Bandas de colores\")\n",
    "        frmBanda.pack()\n",
    "        \n",
    "        self.cboBanda1 = ttk.Combobox(frmBanda, values=Colores[1:])\n",
    "        self.cboBanda2 = ttk.Combobox(frmBanda, values=Colores)\n",
    "        self.cboBanda3 = ttk.Combobox(frmBanda, values=Colores[:7])\n",
    "        \n",
    "        self.cboBanda1.grid(row=0, column=0, padx=5, pady=5)\n",
    "        self.cboBanda2.grid(row=0, column=1, padx=5, pady=5)\n",
    "        self.cboBanda3.grid(row=0, column=2, padx=5, pady=5)\n",
    "        \n",
    "        self.lblValor = tk.Label(frm2, text='15', font='Arial 20 bold')\n",
    "        self.lblValor.grid(row=0, column=0, padx=5, pady=5)\n",
    "        \n",
    "root = tk.Tk()\n",
    "app = App(root)\n",
    "root.mainloop()"
   ]
  }
 ],
 "metadata": {
  "kernelspec": {
   "display_name": "Python 3",
   "language": "python",
   "name": "python3"
  },
  "language_info": {
   "codemirror_mode": {
    "name": "ipython",
    "version": 3
   },
   "file_extension": ".py",
   "mimetype": "text/x-python",
   "name": "python",
   "nbconvert_exporter": "python",
   "pygments_lexer": "ipython3",
   "version": "3.6.8"
  }
 },
 "nbformat": 4,
 "nbformat_minor": 2
}
