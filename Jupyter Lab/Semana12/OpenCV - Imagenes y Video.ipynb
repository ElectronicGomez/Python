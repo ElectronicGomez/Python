{
 "cells": [
  {
   "cell_type": "markdown",
   "metadata": {},
   "source": [
    "# Open CV - Imagenes y Video\n",
    "![](https://4.bp.blogspot.com/-Q0XriPVi_KQ/VG9LQyFIy3I/AAAAAAAADVE/pIGGVP3Ft_g/s1600/opencv-python.png)\n",
    "\n",
    "OpenCV (Open Source Computer Vision Library: https://opencv-python-tutroals.readthedocs.io/en/latest/py_tutorials/py_tutorials.html) es una librería de código abierto que incluye varios cientos de algoritmos de computer vision. OpenCV2 4.x API esta basado en código escrito y compilado en C++.\n",
    "\n",
    "Luis A. Muñoz\n",
    "\n",
    "---"
   ]
  },
  {
   "cell_type": "markdown",
   "metadata": {},
   "source": [
    "### *Nota sobre la instalación*\n",
    "\n",
    "La versión estable para el ecosistema de Anaconda Prompt de OpenCV se puede instalar con la instrucción `conda install -c conda-forge opencv`:\n",
    "\n",
    "    The following NEW packages will be INSTALLED:\n",
    "\n",
    "      libopencv          pkgs/main/win-64::libopencv-4.0.1-hbb9e17c_0\n",
    "      opencv             pkgs/main/win-64::opencv-4.0.1-py38h2a7c758_0\n",
    "      py-opencv          pkgs/main/win-64::py-opencv-4.0.1-py38he44ac1e_0\n",
    "      python_abi         conda-forge/win-64::python_abi-3.8-1_cp38\n"
   ]
  },
  {
   "cell_type": "code",
   "execution_count": null,
   "metadata": {},
   "outputs": [],
   "source": [
    "import cv2"
   ]
  },
  {
   "cell_type": "markdown",
   "metadata": {},
   "source": [
    "## Abrir una imagen\n",
    "OpenCV es una librería que permite importar imagenes de diferentes formatos. Una imagen se importa como un array n-dimensional. Una imagen en tonos de gris será un arreglo de *n x m*, según las dimensiones de la imagen. Una imagen en color será un arreglo de *n x m x c*, donde *c* será el número de canales de color. Esto quiere decír que cada uno de los tres arreglos contiene la información de la intensidad de los colores Rojos, Verde y Azul (la imagen puede tener un cuarto canal llamado *alpha-channel* que controla la transparencia de la imagen). \n",
    "\n",
    "OpenCV utiliza un mapa de colores diferentes al RGB: BGR (Blue, Green, Red)."
   ]
  },
  {
   "cell_type": "code",
   "execution_count": null,
   "metadata": {},
   "outputs": [],
   "source": [
    "# Open CV utiliza el mapa de colores BGR (no RGB)\n",
    "img = cv2.imread(\"img\\\\img1.jpg\", 0)  # 0 : Gray Scale (cv2.IMREAD_GRAYSCALE)\n",
    "                                    # >0: Return a 3-color image (cv2.IMREAD_COLOR)\n",
    "                                    # <0: Return the loaded image with alpha channel (cv2.IMREAD_UNCHANGED)\n",
    "print(type(img))"
   ]
  },
  {
   "cell_type": "markdown",
   "metadata": {},
   "source": [
    "Como se observa, la imagen importada es un ndarray cuyas dimensiones dependerán de la imagen y de la forma como se ha interpretado la imagen. Aunque no hemos importado la librería *numpy*, tenemos acceso al arreglo y a sus propiedades y métodos."
   ]
  },
  {
   "cell_type": "code",
   "execution_count": null,
   "metadata": {},
   "outputs": [],
   "source": [
    "print(img)\n",
    "print(\"Size:\", img.shape)    # Forma del arreglo numpy\n",
    "print(\"Dim:\", img.ndim)      # Numero de dimensiones"
   ]
  },
  {
   "cell_type": "markdown",
   "metadata": {},
   "source": [
    "## Ventana de visualización de una imagen\n",
    "Para mostrar una imagen es necesario no solo adjuntar la imagen a una ventana con `cv2.imshow`, sino que debe declararse la forma de cerrar esta ventana"
   ]
  },
  {
   "cell_type": "code",
   "execution_count": null,
   "metadata": {},
   "outputs": [],
   "source": [
    "cv2.imshow(\"Sample Img\", img)\n",
    "cv2.waitKey(0)        # ms or 0 for close window\n",
    "cv2.destroyAllWindows()"
   ]
  },
  {
   "cell_type": "markdown",
   "metadata": {},
   "source": [
    "Para probar un método sobre el arrglo imagen, podemos llamar a `resize` para ajustar las dimensiones del arreglo (y de la imagen), por medio de un proceso de interpolación."
   ]
  },
  {
   "cell_type": "code",
   "execution_count": null,
   "metadata": {},
   "outputs": [],
   "source": [
    "resized_image = cv2.resize(img, (300, 100))"
   ]
  },
  {
   "cell_type": "code",
   "execution_count": null,
   "metadata": {},
   "outputs": [],
   "source": [
    "cv2.imshow(\"Resize Img\", resized_image)\n",
    "cv2.waitKey(0)        # ms or 0 for close window\n",
    "cv2.destroyAllWindows()"
   ]
  },
  {
   "cell_type": "markdown",
   "metadata": {},
   "source": [
    "Para ajustar el tamaño de una imagen suele ser común mantener la relación de aspecto (la proporción entre alto y ancho de una imagen). Para esto se puede extraer el tamaño original y operar dirctamente con estos valores. Hay que tener especial cuidado con el hecho de que las dimensiones de un arreglo se especifican como (filas, columnas), mientras que en el caso de una imagen se especifica como (ancho, alto), por lo que hay que invertír la asignación *(fila:alto, columna:ancho)*."
   ]
  },
  {
   "cell_type": "code",
   "execution_count": null,
   "metadata": {},
   "outputs": [],
   "source": [
    "resized_image = cv2.resize(img, (int(img.shape[1]/1.5), int(img.shape[0]/1.5)))\n",
    "print(\"Shape:\", resized_image.shape)"
   ]
  },
  {
   "cell_type": "code",
   "execution_count": null,
   "metadata": {},
   "outputs": [],
   "source": [
    "cv2.imshow(\"Resize Img\", resized_image)\n",
    "cv2.waitKey(0)        # ms or 0 for close window\n",
    "cv2.destroyAllWindows()"
   ]
  },
  {
   "cell_type": "markdown",
   "metadata": {},
   "source": [
    "## Guardar una imagen\n",
    "Podemos guardar una imagen utilizando el método `cv2.imwrite`. Este método retorna un valor booleano para confirmar el proceso"
   ]
  },
  {
   "cell_type": "code",
   "execution_count": null,
   "metadata": {},
   "outputs": [],
   "source": [
    "cv2.imwrite(\"img\\\\res_img1.jpg\", resized_image)"
   ]
  },
  {
   "cell_type": "markdown",
   "metadata": {},
   "source": [
    "## OpenCV y matplotlib\n",
    "Por incompatibilidad con el modelo BGR (OpenCV) y RGB (matplotlib) se suelen visualizar las imagenes en escala de grises, aunque se puede hacer una conversion de un modelo a otro utilizando el método `cv2.cvtColor(img, FILTER)` a RGB."
   ]
  },
  {
   "cell_type": "code",
   "execution_count": null,
   "metadata": {},
   "outputs": [],
   "source": [
    "import matplotlib.pyplot as plt\n",
    "import cv2\n",
    "\n",
    "#cv_img = cv2.imread(\"sample1.jpg\", cv2.IMREAD_GRAYSCALE)\n",
    "cv_img = cv2.imread(\"img\\\\img1.jpg\")\n",
    "cv_img_rgb = cv2.cvtColor(cv_img, cv2.COLOR_BGR2RGB)\n",
    "\n",
    "#plt.imshow(cv_img_rgb, cmap='gray', interpolation='bicubic')\n",
    "plt.imshow(cv_img_rgb, interpolation='bicubic')\n",
    "plt.xticks([]), plt.yticks([])\n",
    "plt.show()"
   ]
  },
  {
   "cell_type": "markdown",
   "metadata": {},
   "source": [
    "## OpenCV y tkinter\n",
    "Insertar una imagen en una aplicación gráfica hecha con tkinter requiere ciertas adecuaciones en la imagen leída utilizando cv2:\n",
    "\n",
    "* Convertir la imagen de BGR a RGB (colores o escala de grises) con los filtros de `cv2.cvtColor`\n",
    "* Crear un objeto PIL.Photoimage del arreglo numpy de la imagen\n",
    "* Convertir el objeto PIL.Photoimage en un objeto PIL.ImageTk.PhotoImage para poder insertarlo en un widget\n",
    "* Insertar la imagen en un Canvas o en un Label y mantener la referencia con *widget.image = imagen insertada*\n",
    "\n",
    "Este ultimo paso es un detalle técnico que evita que la imagen sea trasparente (y no se vea) por un problema de referencias entre archivos y los objetos Tk (garbage collector)"
   ]
  },
  {
   "cell_type": "code",
   "execution_count": null,
   "metadata": {},
   "outputs": [],
   "source": [
    "from tkinter import Tk, Canvas\n",
    "from PIL import Image, ImageTk\n",
    "import cv2\n",
    "\n",
    "class App:\n",
    "    def __init__(self, master):\n",
    "        width, height = 600, 400\n",
    "        master.title(\"Image Viewer\")\n",
    "        master.resizable(0, 0)\n",
    "        \n",
    "        self.canvas = Canvas(master, width=width, height=height, borderwidth=1, relief='sunken')\n",
    "        self.canvas.pack()\n",
    "    \n",
    "        cv_img = cv2.imread(\"img\\\\img1.jpg\")\n",
    "        cv_img_rgb = cv2.cvtColor(cv_img, cv2.COLOR_BGR2RGB)\n",
    "        cv_img_re = cv2.resize(cv_img_rgb, (width, height))\n",
    "        \n",
    "        try:\n",
    "            photo = ImageTk.PhotoImage(image=Image.fromarray(cv_img_re))\n",
    "            self.canvas.create_image(0, 0, image=photo, anchor='nw')\n",
    "            self.canvas.image = photo    # REFERENCIA - (garbage collector)\n",
    "        except:\n",
    "            pass\n",
    "\n",
    "        \n",
    "root = Tk()\n",
    "app = App(root)\n",
    "root.mainloop()"
   ]
  },
  {
   "cell_type": "markdown",
   "metadata": {},
   "source": [
    "## Captura de una cámara\n",
    "OpenCV puede tener acceso a una camara web."
   ]
  },
  {
   "cell_type": "code",
   "execution_count": null,
   "metadata": {},
   "outputs": [],
   "source": [
    "import cv2\n",
    "\n",
    "cap = cv2.VideoCapture(0)\n",
    "\n",
    "# Se abre una ventana de video con opciones (formato antiguo)\n",
    "cv2.namedWindow('WebCam Color', flags=cv2.WINDOW_GUI_NORMAL)\n",
    "\n",
    "while True:\n",
    "    ret, frame = cap.read()\n",
    "    gray = cv2.cvtColor(frame, cv2.COLOR_BGR2GRAY)\n",
    "    \n",
    "    cv2.imshow('WebCam Color', frame)\n",
    "    cv2.imshow('WebCam Gray', gray)\n",
    "    \n",
    "    if cv2.waitKey(1) & 0xFF == ord('q'):\n",
    "        break\n",
    "        \n",
    "cap.release()\n",
    "cv2.destroyAllWindows()"
   ]
  },
  {
   "cell_type": "markdown",
   "metadata": {},
   "source": [
    "### TIP: DroidCam\n",
    "En caso de no tener un cámara web, se puede utilizar la cámara de un teléfono móvil por medio de una aplicación que permita registrar el dispositivo como una cámara web. Se sugiere utiliza la aplicación [DroidCam](https://play.google.com/store/apps/details?id=com.dev47apps.droidcam&hl=es_PE) en equipos Android, e [ivCam](https://apps.apple.com/us/app/ivcam-webcam/id1164464478) en equipos Apple.\n",
    "\n",
    "Para el caso de DroidCam, se debe de modificar el código para lograr la conexión. Una vez instalada la aplicación, esta mostrará una pantalla donde mostrará la IP del teléfono en la red por la que podremos realizar la conexión. Hay que realizar la captura de la ruta `http://<direccion_ip>/mjpegfeed?640x480`. Esta dirección captura un fotograma que es procesado por OpenCV."
   ]
  },
  {
   "cell_type": "code",
   "execution_count": null,
   "metadata": {},
   "outputs": [],
   "source": [
    "import cv2\n",
    "\n",
    "cap = cv2.VideoCapture('http://0.0.0.0:4747/mjpegfeed?640x480')  # Reemplazar por la IP del telefono\n",
    "\n",
    "while True:\n",
    "    ret, frame = cap.read()\n",
    "    gray = cv2.cvtColor(frame, cv2.COLOR_BGR2GRAY)\n",
    "    \n",
    "    cv2.imshow('WebCam Color', frame)\n",
    "    cv2.imshow('WebCam Gray', gray)\n",
    "    \n",
    "    if cv2.waitKey(1) & 0xFF == ord('q'):\n",
    "        break\n",
    "        \n",
    "cap.release()\n",
    "cv2.destroyAllWindows()"
   ]
  },
  {
   "cell_type": "markdown",
   "metadata": {},
   "source": [
    "## Guardar un video capturado"
   ]
  },
  {
   "cell_type": "code",
   "execution_count": null,
   "metadata": {},
   "outputs": [],
   "source": [
    "import cv2\n",
    "\n",
    "cap = cv2.VideoCapture(0)\n",
    "codec = cv2.VideoWriter_fourcc(*'XVID')\n",
    "out = cv2.VideoWriter('img\\\\cam_out.avi', codec, 20.0, (640, 480))\n",
    "\n",
    "while True:\n",
    "    ret, frame = cap.read()\n",
    "    out.write(frame)\n",
    "    \n",
    "    cv2.imshow('WebCam Color', frame)\n",
    "    \n",
    "    if cv2.waitKey(1) & 0xFF == ord('q'):\n",
    "        break\n",
    "        \n",
    "cap.release()\n",
    "out.release()\n",
    "cv2.destroyAllWindows()"
   ]
  },
  {
   "cell_type": "markdown",
   "metadata": {},
   "source": [
    "## Insertar un video en tkinter"
   ]
  },
  {
   "cell_type": "code",
   "execution_count": null,
   "metadata": {},
   "outputs": [],
   "source": [
    "from tkinter import Tk, Frame, Canvas, Button\n",
    "from PIL import Image, ImageTk\n",
    "import cv2\n",
    "\n",
    "class App:\n",
    "    def __init__(self, master):\n",
    "        self.master = master\n",
    "        self.master.title(\"Video Feed\")\n",
    "        self.master.resizable(0, 0)\n",
    "        \n",
    "        self.cap = cv2.VideoCapture(0)\n",
    "        self.width = int(self.cap.get(cv2.CAP_PROP_FRAME_WIDTH))\n",
    "        self.height = int(self.cap.get(cv2.CAP_PROP_FRAME_HEIGHT))\n",
    "        \n",
    "        frm1 = Frame(self.master)\n",
    "        frm1.pack()\n",
    "        \n",
    "        self.canvas = Canvas(frm1, width=self.width, height=self.height, borderwidth=1, relief='sunken')\n",
    "        self.canvas.pack()\n",
    "        \n",
    "        ret, frame = self.cap.read()\n",
    "        photo = ImageTk.PhotoImage(image=Image.fromarray(frame))\n",
    "        self.canvas.create_image(0, 0, image=photo, anchor='nw')\n",
    "        self.canvas.image = photo\n",
    "                \n",
    "        self.cam_loop()\n",
    "        \n",
    "        # Manejo del boton \"X\" de la ventana en Windows\n",
    "        self.master.protocol(\"WM_DELETE_WINDOW\", self.closing)\n",
    "        \n",
    "    def cam_loop(self):\n",
    "        ret, frame = self.cap.read()\n",
    "        if ret:\n",
    "            frame = cv2.cvtColor(frame, cv2.COLOR_BGR2RGB)\n",
    "            try:\n",
    "                photo = ImageTk.PhotoImage(image=Image.fromarray(frame))\n",
    "                self.canvas.create_image(0, 0, image=photo, anchor='nw')\n",
    "                self.canvas.image = photo\n",
    "            except:\n",
    "                pass\n",
    "            \n",
    "        self.master.after(20, self.cam_loop)    \n",
    "        \n",
    "    def closing(self):\n",
    "        if self.cap.isOpened():\n",
    "            self.cap.release()\n",
    "        self.master.destroy()\n",
    "        \n",
    "        \n",
    "root = Tk()\n",
    "app = App(root)\n",
    "root.mainloop()"
   ]
  },
  {
   "cell_type": "markdown",
   "metadata": {},
   "source": [
    "## Insertar figuras en un imagen"
   ]
  },
  {
   "cell_type": "code",
   "execution_count": null,
   "metadata": {},
   "outputs": [],
   "source": [
    "import cv2\n",
    "\n",
    "cv2.namedWindow(\"Image\")\n",
    "img = cv2.imread(\"img\\\\img2.jpg\")\n",
    "\n",
    "lin = cv2.line(img, pt1=(100, 550), pt2=(600, 550), color=(255, 0, 0), thickness=3)\n",
    "rec = cv2.rectangle(img, pt1=(240, 360), pt2=(300, 450), color=(0, 255, 0), thickness=2)\n",
    "cir = cv2.circle(img, center=(800, 100), radius=60, color=(0, 0, 255), thickness=-1)\n",
    "\n",
    "cv2.imshow(\"Image\", img)\n",
    "cv2.waitKey(0)\n",
    "cv2.destroyAllWindows()"
   ]
  },
  {
   "cell_type": "markdown",
   "metadata": {},
   "source": [
    "## Insertar figuras en un video\n",
    "Este script se basa en la gestion de eventos del mouse por parte de OpenCV. Para esto es necesario crear una función que maneje el evento generado por el mouse que estará asociado a un evento gracias a la función cv2.setMouseCallback(window, func), donde func tiene una secuencia de parámetros fija y definida: lo único que cambia es lo que la función hace."
   ]
  },
  {
   "cell_type": "code",
   "execution_count": null,
   "metadata": {},
   "outputs": [],
   "source": [
    "import cv2\n",
    "\n",
    "COLOR = (0, 0, 255)\n",
    "pt1 = (0, 0)\n",
    "pt2 = (0, 0)\n",
    "topLeft_clicked = False\n",
    "botRight_clicked = False\n",
    "\n",
    "def set_figure(event, x, y, flags, param):\n",
    "    global pt1, pt2, topLeft_clicked, botRight_clicked\n",
    "    \n",
    "    if event == cv2.EVENT_LBUTTONDOWN:\n",
    "        if topLeft_clicked and botRight_clicked:\n",
    "            pt1 = (0, 0)\n",
    "            pt2 = (0, 0)\n",
    "            topLeft_clicked = False\n",
    "            botRight_clicked = False\n",
    "            \n",
    "        if topLeft_clicked == False:\n",
    "            pt1 = (x, y)\n",
    "            topLeft_clicked = True\n",
    "        elif botRight_clicked == False:\n",
    "            pt2 = (x, y)\n",
    "            botRight_clicked = True\n",
    "\n",
    "# Se abre una ventana de video con opciones\n",
    "cv2.namedWindow('WebCam')\n",
    "# Se asocia un callback a la ventana (funcion)\n",
    "cv2.setMouseCallback('WebCam', set_figure)\n",
    "\n",
    "cap = cv2.VideoCapture(0)\n",
    "\n",
    "while True:\n",
    "    ret, frame = cap.read()\n",
    "    \n",
    "    # Dibujar una figura en funcion de los parametros\n",
    "    if topLeft_clicked:\n",
    "        cv2.circle(frame, center=pt1, radius=1, color=COLOR, thickness=-1)\n",
    "        \n",
    "    if topLeft_clicked and botRight_clicked:\n",
    "        cv2.circle(frame, center=pt2, radius=1, color=COLOR, thickness=-1)\n",
    "        cv2.rectangle(frame, pt1, pt2, color=COLOR, thickness=3)\n",
    "    \n",
    "    cv2.imshow('WebCam', frame)\n",
    "    \n",
    "    if cv2.waitKey(1) & 0xFF == ord('q'):\n",
    "        break\n",
    "        \n",
    "cap.release()\n",
    "cv2.destroyAllWindows()"
   ]
  },
  {
   "cell_type": "markdown",
   "metadata": {},
   "source": [
    "### TIP: Listado de MouseEvents en OpenCV"
   ]
  },
  {
   "cell_type": "code",
   "execution_count": null,
   "metadata": {},
   "outputs": [],
   "source": [
    "events = [i for i in dir(cv2) if 'EVENT' in i]\n",
    "for event in events: print(event)"
   ]
  },
  {
   "cell_type": "code",
   "execution_count": null,
   "metadata": {},
   "outputs": [],
   "source": []
  }
 ],
 "metadata": {
  "kernelspec": {
   "display_name": "Python 3",
   "language": "python",
   "name": "python3"
  },
  "language_info": {
   "codemirror_mode": {
    "name": "ipython",
    "version": 3
   },
   "file_extension": ".py",
   "mimetype": "text/x-python",
   "name": "python",
   "nbconvert_exporter": "python",
   "pygments_lexer": "ipython3",
   "version": "3.8.3"
  }
 },
 "nbformat": 4,
 "nbformat_minor": 4
}
