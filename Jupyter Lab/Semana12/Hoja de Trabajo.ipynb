{
 "cells": [
  {
   "cell_type": "markdown",
   "metadata": {},
   "source": [
    "# Hoja de Trabajo"
   ]
  },
  {
   "cell_type": "markdown",
   "metadata": {},
   "source": [
    "## Ejercicio\n",
    "Crear una aplicación que abra una ventana de dialogo que permita seleccionar un archivo gráfico del sistema para mostrarlo en el visor gráfico."
   ]
  },
  {
   "cell_type": "code",
   "execution_count": null,
   "metadata": {},
   "outputs": [],
   "source": [
    "from tkinter import Tk, Frame, Canvas, Button\n",
    "from tkinter.filedialog import askopenfile\n",
    "from PIL import Image, ImageTk\n",
    "import cv2\n",
    "\n",
    "class App:\n",
    "    def __init__(self, master):\n",
    "        pass\n",
    "        \n",
    "root = Tk()\n",
    "app = App(root)\n",
    "root.mainloop()"
   ]
  },
  {
   "cell_type": "markdown",
   "metadata": {},
   "source": [
    "## Ejercicio\n",
    "Hacer una aplicación de un Kiosko de fotos en tkinter. Agregar un boton a la aplicación que permita tomar fotos de una captura de videos y guarde las fotos con el nombre \"pic-HH-MM-SS.jpg\"), donde HH y MM es la información de Hora, Minuto y Segundo que la foto fue capturada."
   ]
  },
  {
   "cell_type": "code",
   "execution_count": null,
   "metadata": {},
   "outputs": [],
   "source": [
    "from tkinter import Tk, Canvas, Frame, Button\n",
    "from PIL import Image, ImageTk\n",
    "import threading\n",
    "import cv2\n",
    "import time\n",
    "\n",
    "class App:\n",
    "    def __init__(self, master):\n",
    "        pass\n",
    "        \n",
    "root = Tk()\n",
    "app = App(root)\n",
    "root.mainloop()"
   ]
  }
 ],
 "metadata": {
  "kernelspec": {
   "display_name": "Python 3",
   "language": "python",
   "name": "python3"
  },
  "language_info": {
   "codemirror_mode": {
    "name": "ipython",
    "version": 3
   },
   "file_extension": ".py",
   "mimetype": "text/x-python",
   "name": "python",
   "nbconvert_exporter": "python",
   "pygments_lexer": "ipython3",
   "version": "3.8.3"
  }
 },
 "nbformat": 4,
 "nbformat_minor": 4
}
